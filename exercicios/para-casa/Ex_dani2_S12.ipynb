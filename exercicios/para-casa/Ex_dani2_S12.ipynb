{
 "cells": [
  {
   "cell_type": "code",
   "execution_count": null,
   "metadata": {},
   "outputs": [],
   "source": []
  },
  {
   "cell_type": "code",
   "execution_count": 95,
   "metadata": {},
   "outputs": [],
   "source": [
    "import pandas as pd\n",
    "import numpy as np\n",
    "import matplotlib.pyplot as plt"
   ]
  },
  {
   "cell_type": "markdown",
   "metadata": {},
   "source": [
    "Este banco de dados se refere ao controle da COVID-19 no estado de São Paulo durante Março de 2020 a Abril de 2021. Ele inclui informações vitais, tais como:\n",
    "\n",
    "1. **Data do Boletim:** A data em que os dados foram registrados.\n",
    "2. **Número de Casos Suspeitos:** Total de casos suspeitos de COVID-19.\n",
    "3. **Número de Casos Confirmados:** Total de casos confirmados de COVID-19.\n",
    "4. **Mortes pelo SIVEP-Gripe:** Dados de mortalidade fornecidos pelo Sistema de Vigilância Epidemiológica da Gripe (SIVEP-Gripe).\n",
    "5. **Mortes pelo SIM:** Dados de mortalidade fornecidos pelo Sistema de Informação sobre Mortalidade (SIM) do Ministério da Saúde.\n",
    "6. **Percentual de UTI Utilizada em Hospitais Públicos:** A porcentagem de leitos de UTI ocupados nos hospitais públicos.\n",
    "7. **Estimativa de Casos Recuperados:** Número estimado de casos que resultaram em recuperação.\n",
    "8. **Cidade ou Local dos Dados:** O nome da cidade ou local a que os dados se referem.\n",
    "\n",
    "Essas informações essenciais fornecem uma visão abrangente da situação da COVID-19 no estado de São Paulo durante o ano de 2020."
   ]
  },
  {
   "cell_type": "code",
   "execution_count": 96,
   "metadata": {},
   "outputs": [
    {
     "data": {
      "text/html": [
       "<div>\n",
       "<style scoped>\n",
       "    .dataframe tbody tr th:only-of-type {\n",
       "        vertical-align: middle;\n",
       "    }\n",
       "\n",
       "    .dataframe tbody tr th {\n",
       "        vertical-align: top;\n",
       "    }\n",
       "\n",
       "    .dataframe thead th {\n",
       "        text-align: right;\n",
       "    }\n",
       "</style>\n",
       "<table border=\"1\" class=\"dataframe\">\n",
       "  <thead>\n",
       "    <tr style=\"text-align: right;\">\n",
       "      <th></th>\n",
       "      <th>Date</th>\n",
       "      <th>Suspects</th>\n",
       "      <th>ConfirmedCases</th>\n",
       "      <th>DeathsSivep</th>\n",
       "      <th>DeathsProAim</th>\n",
       "      <th>CtiUsage</th>\n",
       "      <th>Recovered</th>\n",
       "      <th>Location</th>\n",
       "    </tr>\n",
       "  </thead>\n",
       "  <tbody>\n",
       "    <tr>\n",
       "      <th>0</th>\n",
       "      <td>2020-03-23</td>\n",
       "      <td>4743</td>\n",
       "      <td>477</td>\n",
       "      <td>30</td>\n",
       "      <td>30</td>\n",
       "      <td>67</td>\n",
       "      <td>0</td>\n",
       "      <td>sao paulo</td>\n",
       "    </tr>\n",
       "    <tr>\n",
       "      <th>1</th>\n",
       "      <td>2020-03-24</td>\n",
       "      <td>4572</td>\n",
       "      <td>484</td>\n",
       "      <td>36</td>\n",
       "      <td>36</td>\n",
       "      <td>67</td>\n",
       "      <td>0</td>\n",
       "      <td>sao paulo</td>\n",
       "    </tr>\n",
       "    <tr>\n",
       "      <th>2</th>\n",
       "      <td>2020-03-25</td>\n",
       "      <td>4300</td>\n",
       "      <td>537</td>\n",
       "      <td>41</td>\n",
       "      <td>41</td>\n",
       "      <td>67</td>\n",
       "      <td>0</td>\n",
       "      <td>sao paulo</td>\n",
       "    </tr>\n",
       "    <tr>\n",
       "      <th>3</th>\n",
       "      <td>2020-03-26</td>\n",
       "      <td>4621</td>\n",
       "      <td>565</td>\n",
       "      <td>50</td>\n",
       "      <td>50</td>\n",
       "      <td>67</td>\n",
       "      <td>0</td>\n",
       "      <td>sao paulo</td>\n",
       "    </tr>\n",
       "    <tr>\n",
       "      <th>4</th>\n",
       "      <td>2020-03-27</td>\n",
       "      <td>4621</td>\n",
       "      <td>572</td>\n",
       "      <td>62</td>\n",
       "      <td>62</td>\n",
       "      <td>67</td>\n",
       "      <td>0</td>\n",
       "      <td>sao paulo</td>\n",
       "    </tr>\n",
       "    <tr>\n",
       "      <th>...</th>\n",
       "      <td>...</td>\n",
       "      <td>...</td>\n",
       "      <td>...</td>\n",
       "      <td>...</td>\n",
       "      <td>...</td>\n",
       "      <td>...</td>\n",
       "      <td>...</td>\n",
       "      <td>...</td>\n",
       "    </tr>\n",
       "    <tr>\n",
       "      <th>399</th>\n",
       "      <td>2021-04-26</td>\n",
       "      <td>0</td>\n",
       "      <td>799094</td>\n",
       "      <td>26600</td>\n",
       "      <td>26600</td>\n",
       "      <td>81</td>\n",
       "      <td>742116</td>\n",
       "      <td>sao paulo</td>\n",
       "    </tr>\n",
       "    <tr>\n",
       "      <th>400</th>\n",
       "      <td>2021-04-27</td>\n",
       "      <td>0</td>\n",
       "      <td>803849</td>\n",
       "      <td>26844</td>\n",
       "      <td>26844</td>\n",
       "      <td>79</td>\n",
       "      <td>744410</td>\n",
       "      <td>sao paulo</td>\n",
       "    </tr>\n",
       "    <tr>\n",
       "      <th>401</th>\n",
       "      <td>2021-04-28</td>\n",
       "      <td>0</td>\n",
       "      <td>808863</td>\n",
       "      <td>27027</td>\n",
       "      <td>27027</td>\n",
       "      <td>80</td>\n",
       "      <td>746368</td>\n",
       "      <td>sao paulo</td>\n",
       "    </tr>\n",
       "    <tr>\n",
       "      <th>402</th>\n",
       "      <td>2021-04-29</td>\n",
       "      <td>0</td>\n",
       "      <td>840834</td>\n",
       "      <td>27194</td>\n",
       "      <td>27194</td>\n",
       "      <td>80</td>\n",
       "      <td>746855</td>\n",
       "      <td>sao paulo</td>\n",
       "    </tr>\n",
       "    <tr>\n",
       "      <th>403</th>\n",
       "      <td>2021-04-30</td>\n",
       "      <td>0</td>\n",
       "      <td>844334</td>\n",
       "      <td>27329</td>\n",
       "      <td>27329</td>\n",
       "      <td>77</td>\n",
       "      <td>751622</td>\n",
       "      <td>sao paulo</td>\n",
       "    </tr>\n",
       "  </tbody>\n",
       "</table>\n",
       "<p>404 rows × 8 columns</p>\n",
       "</div>"
      ],
      "text/plain": [
       "           Date  Suspects  ConfirmedCases  DeathsSivep  DeathsProAim  \\\n",
       "0    2020-03-23      4743             477           30            30   \n",
       "1    2020-03-24      4572             484           36            36   \n",
       "2    2020-03-25      4300             537           41            41   \n",
       "3    2020-03-26      4621             565           50            50   \n",
       "4    2020-03-27      4621             572           62            62   \n",
       "..          ...       ...             ...          ...           ...   \n",
       "399  2021-04-26         0          799094        26600         26600   \n",
       "400  2021-04-27         0          803849        26844         26844   \n",
       "401  2021-04-28         0          808863        27027         27027   \n",
       "402  2021-04-29         0          840834        27194         27194   \n",
       "403  2021-04-30         0          844334        27329         27329   \n",
       "\n",
       "     CtiUsage  Recovered   Location  \n",
       "0          67          0  sao paulo  \n",
       "1          67          0  sao paulo  \n",
       "2          67          0  sao paulo  \n",
       "3          67          0  sao paulo  \n",
       "4          67          0  sao paulo  \n",
       "..        ...        ...        ...  \n",
       "399        81     742116  sao paulo  \n",
       "400        79     744410  sao paulo  \n",
       "401        80     746368  sao paulo  \n",
       "402        80     746855  sao paulo  \n",
       "403        77     751622  sao paulo  \n",
       "\n",
       "[404 rows x 8 columns]"
      ]
     },
     "execution_count": 96,
     "metadata": {},
     "output_type": "execute_result"
    }
   ],
   "source": [
    "df_dan_cd = pd.read_csv(\"covidsp.csv\")\n",
    "df_dan_cd"
   ]
  },
  {
   "cell_type": "code",
   "execution_count": 97,
   "metadata": {},
   "outputs": [
    {
     "data": {
      "text/plain": [
       "Index(['Date', 'Suspects', 'ConfirmedCases', 'DeathsSivep', 'DeathsProAim',\n",
       "       'CtiUsage', 'Recovered', 'Location'],\n",
       "      dtype='object')"
      ]
     },
     "execution_count": 97,
     "metadata": {},
     "output_type": "execute_result"
    }
   ],
   "source": [
    "df_dan_cd.columns"
   ]
  },
  {
   "cell_type": "code",
   "execution_count": 98,
   "metadata": {},
   "outputs": [
    {
     "data": {
      "text/html": [
       "<div>\n",
       "<style scoped>\n",
       "    .dataframe tbody tr th:only-of-type {\n",
       "        vertical-align: middle;\n",
       "    }\n",
       "\n",
       "    .dataframe tbody tr th {\n",
       "        vertical-align: top;\n",
       "    }\n",
       "\n",
       "    .dataframe thead th {\n",
       "        text-align: right;\n",
       "    }\n",
       "</style>\n",
       "<table border=\"1\" class=\"dataframe\">\n",
       "  <thead>\n",
       "    <tr style=\"text-align: right;\">\n",
       "      <th></th>\n",
       "      <th>Data</th>\n",
       "      <th>Suspeitos</th>\n",
       "      <th>CasosConfirmados</th>\n",
       "      <th>MortesSivep</th>\n",
       "      <th>MortesSIM</th>\n",
       "      <th>UTI</th>\n",
       "      <th>Recuperados</th>\n",
       "      <th>Localizacao</th>\n",
       "    </tr>\n",
       "  </thead>\n",
       "  <tbody>\n",
       "    <tr>\n",
       "      <th>0</th>\n",
       "      <td>2020-03-23</td>\n",
       "      <td>4743</td>\n",
       "      <td>477</td>\n",
       "      <td>30</td>\n",
       "      <td>30</td>\n",
       "      <td>67</td>\n",
       "      <td>0</td>\n",
       "      <td>sao paulo</td>\n",
       "    </tr>\n",
       "    <tr>\n",
       "      <th>1</th>\n",
       "      <td>2020-03-24</td>\n",
       "      <td>4572</td>\n",
       "      <td>484</td>\n",
       "      <td>36</td>\n",
       "      <td>36</td>\n",
       "      <td>67</td>\n",
       "      <td>0</td>\n",
       "      <td>sao paulo</td>\n",
       "    </tr>\n",
       "    <tr>\n",
       "      <th>2</th>\n",
       "      <td>2020-03-25</td>\n",
       "      <td>4300</td>\n",
       "      <td>537</td>\n",
       "      <td>41</td>\n",
       "      <td>41</td>\n",
       "      <td>67</td>\n",
       "      <td>0</td>\n",
       "      <td>sao paulo</td>\n",
       "    </tr>\n",
       "    <tr>\n",
       "      <th>3</th>\n",
       "      <td>2020-03-26</td>\n",
       "      <td>4621</td>\n",
       "      <td>565</td>\n",
       "      <td>50</td>\n",
       "      <td>50</td>\n",
       "      <td>67</td>\n",
       "      <td>0</td>\n",
       "      <td>sao paulo</td>\n",
       "    </tr>\n",
       "    <tr>\n",
       "      <th>4</th>\n",
       "      <td>2020-03-27</td>\n",
       "      <td>4621</td>\n",
       "      <td>572</td>\n",
       "      <td>62</td>\n",
       "      <td>62</td>\n",
       "      <td>67</td>\n",
       "      <td>0</td>\n",
       "      <td>sao paulo</td>\n",
       "    </tr>\n",
       "    <tr>\n",
       "      <th>...</th>\n",
       "      <td>...</td>\n",
       "      <td>...</td>\n",
       "      <td>...</td>\n",
       "      <td>...</td>\n",
       "      <td>...</td>\n",
       "      <td>...</td>\n",
       "      <td>...</td>\n",
       "      <td>...</td>\n",
       "    </tr>\n",
       "    <tr>\n",
       "      <th>399</th>\n",
       "      <td>2021-04-26</td>\n",
       "      <td>0</td>\n",
       "      <td>799094</td>\n",
       "      <td>26600</td>\n",
       "      <td>26600</td>\n",
       "      <td>81</td>\n",
       "      <td>742116</td>\n",
       "      <td>sao paulo</td>\n",
       "    </tr>\n",
       "    <tr>\n",
       "      <th>400</th>\n",
       "      <td>2021-04-27</td>\n",
       "      <td>0</td>\n",
       "      <td>803849</td>\n",
       "      <td>26844</td>\n",
       "      <td>26844</td>\n",
       "      <td>79</td>\n",
       "      <td>744410</td>\n",
       "      <td>sao paulo</td>\n",
       "    </tr>\n",
       "    <tr>\n",
       "      <th>401</th>\n",
       "      <td>2021-04-28</td>\n",
       "      <td>0</td>\n",
       "      <td>808863</td>\n",
       "      <td>27027</td>\n",
       "      <td>27027</td>\n",
       "      <td>80</td>\n",
       "      <td>746368</td>\n",
       "      <td>sao paulo</td>\n",
       "    </tr>\n",
       "    <tr>\n",
       "      <th>402</th>\n",
       "      <td>2021-04-29</td>\n",
       "      <td>0</td>\n",
       "      <td>840834</td>\n",
       "      <td>27194</td>\n",
       "      <td>27194</td>\n",
       "      <td>80</td>\n",
       "      <td>746855</td>\n",
       "      <td>sao paulo</td>\n",
       "    </tr>\n",
       "    <tr>\n",
       "      <th>403</th>\n",
       "      <td>2021-04-30</td>\n",
       "      <td>0</td>\n",
       "      <td>844334</td>\n",
       "      <td>27329</td>\n",
       "      <td>27329</td>\n",
       "      <td>77</td>\n",
       "      <td>751622</td>\n",
       "      <td>sao paulo</td>\n",
       "    </tr>\n",
       "  </tbody>\n",
       "</table>\n",
       "<p>404 rows × 8 columns</p>\n",
       "</div>"
      ],
      "text/plain": [
       "           Data  Suspeitos  CasosConfirmados  MortesSivep  MortesSIM  UTI  \\\n",
       "0    2020-03-23       4743               477           30         30   67   \n",
       "1    2020-03-24       4572               484           36         36   67   \n",
       "2    2020-03-25       4300               537           41         41   67   \n",
       "3    2020-03-26       4621               565           50         50   67   \n",
       "4    2020-03-27       4621               572           62         62   67   \n",
       "..          ...        ...               ...          ...        ...  ...   \n",
       "399  2021-04-26          0            799094        26600      26600   81   \n",
       "400  2021-04-27          0            803849        26844      26844   79   \n",
       "401  2021-04-28          0            808863        27027      27027   80   \n",
       "402  2021-04-29          0            840834        27194      27194   80   \n",
       "403  2021-04-30          0            844334        27329      27329   77   \n",
       "\n",
       "     Recuperados Localizacao  \n",
       "0              0   sao paulo  \n",
       "1              0   sao paulo  \n",
       "2              0   sao paulo  \n",
       "3              0   sao paulo  \n",
       "4              0   sao paulo  \n",
       "..           ...         ...  \n",
       "399       742116   sao paulo  \n",
       "400       744410   sao paulo  \n",
       "401       746368   sao paulo  \n",
       "402       746855   sao paulo  \n",
       "403       751622   sao paulo  \n",
       "\n",
       "[404 rows x 8 columns]"
      ]
     },
     "execution_count": 98,
     "metadata": {},
     "output_type": "execute_result"
    }
   ],
   "source": [
    "traducao = {\n",
    "    'Date': 'Data',\n",
    "    'Suspects': 'Suspeitos',\n",
    "    'ConfirmedCases': 'CasosConfirmados',\n",
    "    'DeathsSivep': 'MortesSivep',\n",
    "    'DeathsProAim': 'MortesSIM',\n",
    "    'CtiUsage': 'UTI',\n",
    "    'Recovered': 'Recuperados',\n",
    "    'Location': 'Localizacao'\n",
    "}\n",
    "\n",
    "# Renomeando as colunas\n",
    "df_dan_cd.rename(columns=traducao, inplace=True)\n",
    "df_dan_cd"
   ]
  },
  {
   "cell_type": "code",
   "execution_count": 99,
   "metadata": {},
   "outputs": [
    {
     "data": {
      "text/plain": [
       "False"
      ]
     },
     "execution_count": 99,
     "metadata": {},
     "output_type": "execute_result"
    }
   ],
   "source": [
    "df_dan_cd.isnull().values.any()"
   ]
  },
  {
   "cell_type": "code",
   "execution_count": 100,
   "metadata": {},
   "outputs": [
    {
     "data": {
      "text/plain": [
       "142122270"
      ]
     },
     "execution_count": 100,
     "metadata": {},
     "output_type": "execute_result"
    }
   ],
   "source": [
    "#Determinando o total de casos confirmados durante o periodo analisado\n",
    "\n",
    "casos_confirmados = df_dan_cd['CasosConfirmados'].values\n",
    "\n",
    "soma_casos_confirmados = np.sum(casos_confirmados)\n",
    "\n",
    "soma_casos_confirmados\n"
   ]
  },
  {
   "cell_type": "code",
   "execution_count": 101,
   "metadata": {},
   "outputs": [
    {
     "data": {
      "text/plain": [
       "142720302"
      ]
     },
     "execution_count": 101,
     "metadata": {},
     "output_type": "execute_result"
    }
   ],
   "source": [
    "#Determinando o total de casos Suspeitos durante o periodo analisado\n",
    "\n",
    "casos_suspeitos = df_dan_cd['Suspeitos'].values\n",
    "\n",
    "soma_casos_suspeitos = np.sum(casos_suspeitos)\n",
    "\n",
    "soma_casos_suspeitos"
   ]
  },
  {
   "cell_type": "code",
   "execution_count": 120,
   "metadata": {},
   "outputs": [
    {
     "data": {
      "image/png": "[encoded data removed]",
      "text/plain": [
       "<Figure size 640x480 with 1 Axes>"
      ]
     },
     "metadata": {},
     "output_type": "display_data"
    }
   ],
   "source": [
    "\n",
    "categorias = ['Casos Suspeitos', 'Casos Confirmados']\n",
    "\n",
    "valores = [soma_casos_suspeitos, soma_casos_confirmados]\n",
    "\n",
    "plt.bar(categorias, valores, color=['limegreen', 'blue'], edgecolor=['black'])\n",
    "\n",
    "plt.xlabel('Tipo de Casos')\n",
    "plt.ylabel('Número de Casos')\n",
    "\n",
    "for i in range(len(categorias)):\n",
    "    plt.text(i, valores[i] + 20, str(valores[i]), ha='center')\n",
    "\n",
    "plt.title('Total de Casos Suspeitos e Confirmados')\n",
    "\n",
    "plt.show()\n"
   ]
  },
  {
   "cell_type": "code",
   "execution_count": 103,
   "metadata": {},
   "outputs": [
    {
     "data": {
      "image/png": "[encoded data removed]",
      "text/plain": [
       "<Figure size 700x300 with 1 Axes>"
      ]
     },
     "metadata": {},
     "output_type": "display_data"
    }
   ],
   "source": [
    "#Frenquencia de utilização de UTI por semana\n",
    "numeros_de_uti = df_dan_cd['UTI'].values\n",
    "plt.figure(figsize=(7, 3))\n",
    "plt.hist(numeros_de_uti, bins=100, edgecolor='black', color='blue')\n",
    "plt.xlabel('Percentual')\n",
    "plt.ylabel('Frequência')\n",
    "plt.title('Percentual de Uso da UTI em Rede Pública')\n",
    "\n",
    "\n",
    "plt.show()"
   ]
  },
  {
   "cell_type": "code",
   "execution_count": 105,
   "metadata": {},
   "outputs": [
    {
     "data": {
      "text/plain": [
       "4918732"
      ]
     },
     "execution_count": 105,
     "metadata": {},
     "output_type": "execute_result"
    }
   ],
   "source": [
    "#Soma de mortes confirmadas pelo Sistema de Vigilância Epidemiológica da Gripe (SIVEP-Gripe)\n",
    "Mortes_Sivep = df_dan_cd['MortesSivep'].values\n",
    "\n",
    "soma_mortesSivep = np.sum(Mortes_Sivep)\n",
    "\n",
    "soma_mortesSivep"
   ]
  },
  {
   "cell_type": "code",
   "execution_count": 106,
   "metadata": {},
   "outputs": [
    {
     "data": {
      "text/plain": [
       "4912005"
      ]
     },
     "execution_count": 106,
     "metadata": {},
     "output_type": "execute_result"
    }
   ],
   "source": [
    "#Soma de mortes confirmadas pelo Sistema de Informação sobre Mortalidade (SIM)\n",
    "Mortes_Sim = df_dan_cd['MortesSIM'].values\n",
    "\n",
    "soma_mortesSim = np.sum(Mortes_Sim)\n",
    "\n",
    "soma_mortesSim"
   ]
  },
  {
   "cell_type": "code",
   "execution_count": 127,
   "metadata": {},
   "outputs": [
    {
     "name": "stdout",
     "output_type": "stream",
     "text": [
      "O total de mortes confirmadas pela categoria foi de 9830737\n",
      "A diferença de mortes confirmadas por categoria foi de 6727\n"
     ]
    }
   ],
   "source": [
    "#Total e diferença de mortes Confirmadas pelas Categorias\n",
    "Total_de_mortes = soma_mortesSim + soma_mortesSivep\n",
    "print(f'O total de mortes confirmadas pela categoria foi de {Total_de_mortes}')\n",
    "diferenca_pela_categotia = np.subtract(soma_mortesSivep, soma_mortesSim)\n",
    "print(f'A diferença de mortes confirmadas por categoria foi de {diferenca_pela_categotia}')\n"
   ]
  },
  {
   "cell_type": "code",
   "execution_count": 140,
   "metadata": {},
   "outputs": [
    {
     "data": {
      "image/png": "[encoded data removed]",
      "text/plain": [
       "<Figure size 600x600 with 1 Axes>"
      ]
     },
     "metadata": {},
     "output_type": "display_data"
    }
   ],
   "source": [
    "\n",
    "\n",
    "#Cidade onde aconteceu a coleta de dados\n",
    "\n",
    "contagem_cidades = df_dan_cd['Localizacao'].value_counts()\n",
    "\n",
    "\n",
    "plt.figure(figsize=(6, 6))\n",
    "plt.pie(contagem_cidades, labels=contagem_cidades.index, autopct='%1.1f%%', startangle=140)\n",
    "plt.title('Distribuição das Cidades na Coluna \"localizacao\"')\n",
    "plt.show()\n",
    "\n"
   ]
  }
 ],
 "metadata": {
  "kernelspec": {
   "display_name": "Python 3",
   "language": "python",
   "name": "python3"
  },
  "language_info": {
   "codemirror_mode": {
    "name": "ipython",
    "version": 3
   },
   "file_extension": ".py",
   "mimetype": "text/x-python",
   "name": "python",
   "nbconvert_exporter": "python",
   "pygments_lexer": "ipython3",
   "version": "3.11.4"
  }
 },
 "nbformat": 4,
 "nbformat_minor": 2
}

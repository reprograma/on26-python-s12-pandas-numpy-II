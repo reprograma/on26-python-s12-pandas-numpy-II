{
 "cells": [
  {
   "cell_type": "code",
   "execution_count": 1,
   "metadata": {},
   "outputs": [],
   "source": [
    "import pandas as pd\n",
    "import matplotlib.pyplot as plt"
   ]
  },
  {
   "cell_type": "code",
   "execution_count": 2,
   "metadata": {},
   "outputs": [],
   "source": [
    "import numpy as np"
   ]
  },
  {
   "cell_type": "code",
   "execution_count": 4,
   "metadata": {},
   "outputs": [
    {
     "data": {
      "text/html": [
       "<div>\n",
       "<style scoped>\n",
       "    .dataframe tbody tr th:only-of-type {\n",
       "        vertical-align: middle;\n",
       "    }\n",
       "\n",
       "    .dataframe tbody tr th {\n",
       "        vertical-align: top;\n",
       "    }\n",
       "\n",
       "    .dataframe thead th {\n",
       "        text-align: right;\n",
       "    }\n",
       "</style>\n",
       "<table border=\"1\" class=\"dataframe\">\n",
       "  <thead>\n",
       "    <tr style=\"text-align: right;\">\n",
       "      <th></th>\n",
       "      <th>PassengerId</th>\n",
       "      <th>Survived</th>\n",
       "      <th>Pclass</th>\n",
       "      <th>Name</th>\n",
       "      <th>Sex</th>\n",
       "      <th>Age</th>\n",
       "      <th>SibSp</th>\n",
       "      <th>Parch</th>\n",
       "      <th>Ticket</th>\n",
       "      <th>Fare</th>\n",
       "      <th>Cabin</th>\n",
       "      <th>Embarked</th>\n",
       "    </tr>\n",
       "  </thead>\n",
       "  <tbody>\n",
       "    <tr>\n",
       "      <th>0</th>\n",
       "      <td>1</td>\n",
       "      <td>0</td>\n",
       "      <td>3</td>\n",
       "      <td>Braund, Mr. Owen Harris</td>\n",
       "      <td>male</td>\n",
       "      <td>22.0</td>\n",
       "      <td>1</td>\n",
       "      <td>0</td>\n",
       "      <td>A/5 21171</td>\n",
       "      <td>7.2500</td>\n",
       "      <td>NaN</td>\n",
       "      <td>S</td>\n",
       "    </tr>\n",
       "    <tr>\n",
       "      <th>1</th>\n",
       "      <td>2</td>\n",
       "      <td>1</td>\n",
       "      <td>1</td>\n",
       "      <td>Cumings, Mrs. John Bradley (Florence Briggs Th...</td>\n",
       "      <td>female</td>\n",
       "      <td>38.0</td>\n",
       "      <td>1</td>\n",
       "      <td>0</td>\n",
       "      <td>PC 17599</td>\n",
       "      <td>71.2833</td>\n",
       "      <td>C85</td>\n",
       "      <td>C</td>\n",
       "    </tr>\n",
       "    <tr>\n",
       "      <th>2</th>\n",
       "      <td>3</td>\n",
       "      <td>1</td>\n",
       "      <td>3</td>\n",
       "      <td>Heikkinen, Miss. Laina</td>\n",
       "      <td>female</td>\n",
       "      <td>26.0</td>\n",
       "      <td>0</td>\n",
       "      <td>0</td>\n",
       "      <td>STON/O2. 3101282</td>\n",
       "      <td>7.9250</td>\n",
       "      <td>NaN</td>\n",
       "      <td>S</td>\n",
       "    </tr>\n",
       "    <tr>\n",
       "      <th>3</th>\n",
       "      <td>4</td>\n",
       "      <td>1</td>\n",
       "      <td>1</td>\n",
       "      <td>Futrelle, Mrs. Jacques Heath (Lily May Peel)</td>\n",
       "      <td>female</td>\n",
       "      <td>35.0</td>\n",
       "      <td>1</td>\n",
       "      <td>0</td>\n",
       "      <td>113803</td>\n",
       "      <td>53.1000</td>\n",
       "      <td>C123</td>\n",
       "      <td>S</td>\n",
       "    </tr>\n",
       "    <tr>\n",
       "      <th>4</th>\n",
       "      <td>5</td>\n",
       "      <td>0</td>\n",
       "      <td>3</td>\n",
       "      <td>Allen, Mr. William Henry</td>\n",
       "      <td>male</td>\n",
       "      <td>35.0</td>\n",
       "      <td>0</td>\n",
       "      <td>0</td>\n",
       "      <td>373450</td>\n",
       "      <td>8.0500</td>\n",
       "      <td>NaN</td>\n",
       "      <td>S</td>\n",
       "    </tr>\n",
       "    <tr>\n",
       "      <th>...</th>\n",
       "      <td>...</td>\n",
       "      <td>...</td>\n",
       "      <td>...</td>\n",
       "      <td>...</td>\n",
       "      <td>...</td>\n",
       "      <td>...</td>\n",
       "      <td>...</td>\n",
       "      <td>...</td>\n",
       "      <td>...</td>\n",
       "      <td>...</td>\n",
       "      <td>...</td>\n",
       "      <td>...</td>\n",
       "    </tr>\n",
       "    <tr>\n",
       "      <th>886</th>\n",
       "      <td>887</td>\n",
       "      <td>0</td>\n",
       "      <td>2</td>\n",
       "      <td>Montvila, Rev. Juozas</td>\n",
       "      <td>male</td>\n",
       "      <td>27.0</td>\n",
       "      <td>0</td>\n",
       "      <td>0</td>\n",
       "      <td>211536</td>\n",
       "      <td>13.0000</td>\n",
       "      <td>NaN</td>\n",
       "      <td>S</td>\n",
       "    </tr>\n",
       "    <tr>\n",
       "      <th>887</th>\n",
       "      <td>888</td>\n",
       "      <td>1</td>\n",
       "      <td>1</td>\n",
       "      <td>Graham, Miss. Margaret Edith</td>\n",
       "      <td>female</td>\n",
       "      <td>19.0</td>\n",
       "      <td>0</td>\n",
       "      <td>0</td>\n",
       "      <td>112053</td>\n",
       "      <td>30.0000</td>\n",
       "      <td>B42</td>\n",
       "      <td>S</td>\n",
       "    </tr>\n",
       "    <tr>\n",
       "      <th>888</th>\n",
       "      <td>889</td>\n",
       "      <td>0</td>\n",
       "      <td>3</td>\n",
       "      <td>Johnston, Miss. Catherine Helen \"Carrie\"</td>\n",
       "      <td>female</td>\n",
       "      <td>NaN</td>\n",
       "      <td>1</td>\n",
       "      <td>2</td>\n",
       "      <td>W./C. 6607</td>\n",
       "      <td>23.4500</td>\n",
       "      <td>NaN</td>\n",
       "      <td>S</td>\n",
       "    </tr>\n",
       "    <tr>\n",
       "      <th>889</th>\n",
       "      <td>890</td>\n",
       "      <td>1</td>\n",
       "      <td>1</td>\n",
       "      <td>Behr, Mr. Karl Howell</td>\n",
       "      <td>male</td>\n",
       "      <td>26.0</td>\n",
       "      <td>0</td>\n",
       "      <td>0</td>\n",
       "      <td>111369</td>\n",
       "      <td>30.0000</td>\n",
       "      <td>C148</td>\n",
       "      <td>C</td>\n",
       "    </tr>\n",
       "    <tr>\n",
       "      <th>890</th>\n",
       "      <td>891</td>\n",
       "      <td>0</td>\n",
       "      <td>3</td>\n",
       "      <td>Dooley, Mr. Patrick</td>\n",
       "      <td>male</td>\n",
       "      <td>32.0</td>\n",
       "      <td>0</td>\n",
       "      <td>0</td>\n",
       "      <td>370376</td>\n",
       "      <td>7.7500</td>\n",
       "      <td>NaN</td>\n",
       "      <td>Q</td>\n",
       "    </tr>\n",
       "  </tbody>\n",
       "</table>\n",
       "<p>891 rows × 12 columns</p>\n",
       "</div>"
      ],
      "text/plain": [
       "     PassengerId  Survived  Pclass  \\\n",
       "0              1         0       3   \n",
       "1              2         1       1   \n",
       "2              3         1       3   \n",
       "3              4         1       1   \n",
       "4              5         0       3   \n",
       "..           ...       ...     ...   \n",
       "886          887         0       2   \n",
       "887          888         1       1   \n",
       "888          889         0       3   \n",
       "889          890         1       1   \n",
       "890          891         0       3   \n",
       "\n",
       "                                                  Name     Sex   Age  SibSp  \\\n",
       "0                              Braund, Mr. Owen Harris    male  22.0      1   \n",
       "1    Cumings, Mrs. John Bradley (Florence Briggs Th...  female  38.0      1   \n",
       "2                               Heikkinen, Miss. Laina  female  26.0      0   \n",
       "3         Futrelle, Mrs. Jacques Heath (Lily May Peel)  female  35.0      1   \n",
       "4                             Allen, Mr. William Henry    male  35.0      0   \n",
       "..                                                 ...     ...   ...    ...   \n",
       "886                              Montvila, Rev. Juozas    male  27.0      0   \n",
       "887                       Graham, Miss. Margaret Edith  female  19.0      0   \n",
       "888           Johnston, Miss. Catherine Helen \"Carrie\"  female   NaN      1   \n",
       "889                              Behr, Mr. Karl Howell    male  26.0      0   \n",
       "890                                Dooley, Mr. Patrick    male  32.0      0   \n",
       "\n",
       "     Parch            Ticket     Fare Cabin Embarked  \n",
       "0        0         A/5 21171   7.2500   NaN        S  \n",
       "1        0          PC 17599  71.2833   C85        C  \n",
       "2        0  STON/O2. 3101282   7.9250   NaN        S  \n",
       "3        0            113803  53.1000  C123        S  \n",
       "4        0            373450   8.0500   NaN        S  \n",
       "..     ...               ...      ...   ...      ...  \n",
       "886      0            211536  13.0000   NaN        S  \n",
       "887      0            112053  30.0000   B42        S  \n",
       "888      2        W./C. 6607  23.4500   NaN        S  \n",
       "889      0            111369  30.0000  C148        C  \n",
       "890      0            370376   7.7500   NaN        Q  \n",
       "\n",
       "[891 rows x 12 columns]"
      ]
     },
     "execution_count": 4,
     "metadata": {},
     "output_type": "execute_result"
    }
   ],
   "source": [
    "df = pd.read_csv ('titanic.csv')\n",
    "df"
   ]
  },
  {
   "cell_type": "markdown",
   "metadata": {},
   "source": [
    "Projeto semana 12\n",
    "\n",
    "\"Nesta semana iremos trabalhar novamente com os dados do navio \"Titanic\", que contém informações sobre os passageiros que estavam a bordo da viagem. Você deve gerar um notebook em arquivo .ipynb com análises básicas para esse dataset (Titanic) ou para outro dataset (caso desejar) utilizando Pandas, Matplotlib e Numpy.\n",
    "\n",
    "Formato do notebook:\n",
    "\n",
    "●\tIntrodução\n",
    "    ○\tBreve descrição da base de dados\n",
    "\n",
    "●\tProcessamento\n",
    "    ○\tFunção de processamento\n",
    "        ○\tLeitura e tratamento do DF\n",
    "\n",
    "●\tVisualização dos Dados\n",
    "    ○\tgerar gráficos\n",
    "    ○\textrair ideias e conclusões\n",
    "    \n",
    "Atividades obrigatórias no desenvolvimento: ● 3 diferentes gráficos'\n",
    "\n"
   ]
  },
  {
   "cell_type": "markdown",
   "metadata": {},
   "source": [
    "A base de dados do Titanic é um conjunto de informações sobre os passageiros que estavam a bordo do famoso navio Titanic durante sua trágica viagem inaugural. Esta base de dados contém um total de 891 registros (linhas) e 12 colunas, com cada coluna representando diferentes aspectos dos passageiros. Descrição das principais colunas:\n",
    "\n",
    "PassengerId: Número de identificação do passageiro.\n",
    "Survived: Indica se o passageiro sobreviveu (1) ou não (0) ao naufrágio.\n",
    "Pclass: Classe de bilhete do passageiro (1ª, 2ª ou 3ª classe).\n",
    "Name: Nome do passageiro.\n",
    "Sex: Gênero do passageiro (masculino ou feminino).\n",
    "Age: Idade do passageiro.\n",
    "SibSp: Número de irmãos/cônjuges a bordo.\n",
    "Parch: Número de pais/filhos a bordo.\n",
    "Ticket: Número do bilhete.\n",
    "Fare: Tarifa paga pelo passageiro.\n",
    "Cabin: Número da cabine do passageiro (alguns valores ausentes).\n",
    "Embarked: Porto de embarque do passageiro (C = Cherbourg, Q = Queenstown, S = Southampton)."
   ]
  },
  {
   "cell_type": "markdown",
   "metadata": {},
   "source": [
    "Primeiro contamos a quantidade de dados faltantes nas colunas de interesse da nossa análise, \n",
    "para então identificar os tratamentos necessários nesse aspecto."
   ]
  },
  {
   "cell_type": "code",
   "execution_count": 6,
   "metadata": {},
   "outputs": [
    {
     "name": "stdout",
     "output_type": "stream",
     "text": [
      "Valores Ausentes na Coluna 'Embarked': 2\n"
     ]
    }
   ],
   "source": [
    "# Quantidade de valores ausentes na coluna 'Embarked\n",
    "valores_ausentes = df['Embarked'].isnull().sum()\n",
    "print(\"Valores Ausentes na Coluna 'Embarked':\", valores_ausentes)\n"
   ]
  },
  {
   "cell_type": "code",
   "execution_count": 7,
   "metadata": {},
   "outputs": [
    {
     "name": "stdout",
     "output_type": "stream",
     "text": [
      "Valores Ausentes na Coluna 'Survived': 0\n"
     ]
    }
   ],
   "source": [
    "# Quantidade de valores ausentes na coluna 'Survived'\n",
    "valores_ausentes = df['Survived'].isnull().sum()\n",
    "print(\"Valores Ausentes na Coluna 'Survived':\", valores_ausentes)\n"
   ]
  },
  {
   "cell_type": "code",
   "execution_count": 8,
   "metadata": {},
   "outputs": [
    {
     "name": "stdout",
     "output_type": "stream",
     "text": [
      "Valores Ausentes na Coluna 'Fare': 0\n"
     ]
    }
   ],
   "source": [
    "# Quantidade de valores ausentes na coluna 'Fare'\n",
    "valores_ausentes = df['Fare'].isnull().sum()\n",
    "print(\"Valores Ausentes na Coluna 'Fare':\", valores_ausentes)\n"
   ]
  },
  {
   "cell_type": "code",
   "execution_count": 9,
   "metadata": {},
   "outputs": [
    {
     "name": "stdout",
     "output_type": "stream",
     "text": [
      "Valores Ausentes na Coluna 'Sex': 0\n"
     ]
    }
   ],
   "source": [
    "# Quantidade de valores ausentes na coluna 'Sex'\n",
    "valores_ausentes = df['Sex'].isnull().sum()\n",
    "print(\"Valores Ausentes na Coluna 'Sex':\", valores_ausentes)\n"
   ]
  },
  {
   "cell_type": "code",
   "execution_count": 10,
   "metadata": {},
   "outputs": [
    {
     "name": "stdout",
     "output_type": "stream",
     "text": [
      "Valores Ausentes na Coluna 'Pclass': 0\n"
     ]
    }
   ],
   "source": [
    "# Quantidade de valores ausentes na coluna 'Pclass'\n",
    "valores_ausentes = df['Pclass'].isnull().sum()\n",
    "print(\"Valores Ausentes na Coluna 'Pclass':\", valores_ausentes)\n"
   ]
  },
  {
   "cell_type": "markdown",
   "metadata": {},
   "source": [
    "Somente 'Embarked' tem dados ausentes, e ainda assim muito poucos (2). O que significa que calcular a média para substituí-los, não comprometeria a ."
   ]
  },
  {
   "cell_type": "code",
   "execution_count": 14,
   "metadata": {},
   "outputs": [
    {
     "name": "stdout",
     "output_type": "stream",
     "text": [
      "Valores Ausentes na Coluna 'Embarked' após o tratamento: 0\n"
     ]
    }
   ],
   "source": [
    "def tratar_coluna_embarked(df):\n",
    "    # Preencher valores ausentes na coluna 'Embarked' com a moda\n",
    "    embarked_mode = df['Embarked'].mode()[0]\n",
    "    df['Embarked'].fillna(embarked_mode, inplace=True)\n",
    "    \n",
    "# Chame a função para tratar a coluna 'Embarked'\n",
    "tratar_coluna_embarked(df)\n",
    "\n",
    "# Verificar se ainda existem valores ausentes na coluna 'Embarked'\n",
    "valores_ausentes = df['Embarked'].isnull().sum()\n",
    "\n",
    "# Exibir o número de valores ausentes\n",
    "print(\"Valores Ausentes na Coluna 'Embarked' após o tratamento:\", valores_ausentes)\n"
   ]
  },
  {
   "cell_type": "code",
   "execution_count": 17,
   "metadata": {},
   "outputs": [
    {
     "data": {
      "image/png": "[encoded data removed]",
      "text/plain": [
       "<Figure size 800x600 with 1 Axes>"
      ]
     },
     "metadata": {},
     "output_type": "display_data"
    }
   ],
   "source": [
    "# Gráfico 1: Taxa de Sobrevivência por Porto de Embarque\n",
    "plt.figure(figsize=(8, 6))\n",
    "df.groupby('Embarked')['Survived'].mean().plot(kind='bar', color='purple')\n",
    "plt.title('Taxa de Sobrevivência por Porto de Embarque')\n",
    "plt.xlabel('Porto de Embarque')\n",
    "plt.ylabel('Taxa de Sobrevivência')\n",
    "plt.show()\n"
   ]
  },
  {
   "cell_type": "markdown",
   "metadata": {},
   "source": [
    "Insights\n",
    "\n",
    "1-O gráfico revela que as taxas de sobrevivência variam entre os diferentes portos de embarque (C = Cherbourg, Q = Queenstown, S = Southampton). Isso sugere que o local de embarque pode ter tido algum impacto na sobrevivência dos passageiros.\n",
    "\n",
    "2-Cherbourg (C) tem a maior taxa: O porto de Cherbourg (C) apresenta a taxa de sobrevivência mais alta em comparação com os outros portos. Isso indica que, em média, os passageiros que embarcaram em Cherbourg tiveram uma probabilidade maior de sobreviver.\n",
    "\n",
    "3-Queenstown (Q) tem a menor taxa: O porto de Queenstown (Q) apresenta a taxa de sobrevivência mais baixa entre os três portos. Isso sugere que os passageiros que embarcaram em Queenstown tiveram uma taxa de sobrevivência mais baixa em comparação com os outros portos.\n",
    "\n",
    "CONCLUSÃO\n",
    "\n",
    "Com base no gráfico, pode-se concluir que o porto de embarque pode ter desempenhado um papel na sobrevivência dos passageiros a bordo do Titanic. No entanto, é importante notar que a taxa de sobrevivência também foi influenciada por uma série de outros fatores, como classe de bilhete, idade, sexo e disponibilidade de botes salva-vidas. Portanto, a análise da taxa de sobrevivência por porto de embarque é apenas um aspecto de uma análise mais abrangente que considera múltiplos fatores na determinação da sobrevivência dos passageiros.\n",
    "\n",
    "\n",
    "\n",
    "\n"
   ]
  },
  {
   "cell_type": "code",
   "execution_count": 19,
   "metadata": {},
   "outputs": [
    {
     "name": "stdout",
     "output_type": "stream",
     "text": [
      "count    891.000000\n",
      "mean      32.204208\n",
      "std       49.693429\n",
      "min        0.000000\n",
      "25%        7.910400\n",
      "50%       14.454200\n",
      "75%       31.000000\n",
      "max      512.329200\n",
      "Name: Fare, dtype: float64\n"
     ]
    }
   ],
   "source": [
    "# Calculando estatísticas das tarifas para melhor compreenção dos dados\n",
    "tarifas_estatisticas = df['Fare'].describe()\n",
    "print(tarifas_estatisticas)\n"
   ]
  },
  {
   "cell_type": "code",
   "execution_count": 21,
   "metadata": {},
   "outputs": [
    {
     "data": {
      "image/png": "[encoded data removed]",
      "text/plain": [
       "<Figure size 800x600 with 1 Axes>"
      ]
     },
     "metadata": {},
     "output_type": "display_data"
    }
   ],
   "source": [
    "\n",
    "\n",
    "# Gráfico 2: Relação entre Preço do Bilhete (Fare) e Sobrevivência (Survived)\n",
    "plt.figure(figsize=(8, 6))\n",
    "plt.scatter(df[df['Survived'] == 1]['Fare'],df[df['Survived'] == 1]['Survived'], color='purple', alpha=0.5, label='Sobreviveu')\n",
    "plt.scatter(df[df['Survived'] == 0]['Fare'],df[df['Survived'] == 0]['Survived'], color='green', alpha=0.5, label='Não Sobreviveu')\n",
    "plt.title('Relação entre Preço do Bilhete e Sobrevivência')\n",
    "plt.xlabel('Preço do Bilhete (Fare)')\n",
    "plt.ylabel('Sobreviveu (1) / Não Sobreviveu (0)')\n",
    "plt.legend(loc='upper right')\n",
    "plt.show()\n"
   ]
  },
  {
   "cell_type": "markdown",
   "metadata": {},
   "source": [
    "Insights\n",
    "\n",
    "1-Variação nos preços: O gráfico mostra que os preços dos bilhetes variaram amplamente, independentemente da sobrevivência. Há uma grande dispersão nos dados de tarifa, com valores mais baixos e mais altos.\n",
    "\n",
    "2-Sobreposição de dados: Há uma sobreposição significativa entre os passageiros que sobreviveram e os que não sobreviveram em termos de preço do bilhete. Isso significa que não é possível tirar conclusões definitivas com base apenas no preço do bilhete.\n",
    "\n",
    "3-Preços mais baixos: Observa-se que a maioria dos passageiros que não sobreviveram tinha bilhetes com preços mais baixos, mas ainda há uma sobreposição com passageiros que sobreviveram.\n",
    "\n",
    "4-Preços mais altos: Alguns passageiros que sobreviveram também tinham bilhetes com preços mais altos, indicando que a tarifa sozinha não foi o único fator determinante para a sobrevivência.\n",
    "\n",
    "5-Outros fatores: A sobrevivência no Titanic foi influenciada por diversos fatores, como a classe do bilhete, a idade, o sexo e a disponibilidade de botes salva-vidas. Portanto, a relação entre o preço do bilhete e a sobrevivência deve ser vista em conjunto com esses outros fatores.\n",
    "\n",
    "CONCLUSÃO\n",
    "\n",
    "A relação entre o preço da tarifa e a sobrevivência no Titanic é complexa e não pode ser determinada apenas com base no valor da tarifa. Embora exista uma tendência de que passageiros com tarifas mais baixas tenham uma taxa de não sobrevivência maior, a influência do preço do bilhete na sobrevivência é limitada. Outros fatores, como a classe do bilhete, a idade, o sexo e a disponibilidade de botes salva-vidas, desempenharam papéis igualmente importantes ou até mais significativos na determinação da sobrevivência dos passageiros.\n",
    "\n",
    "Portanto, a análise da sobrevivência no Titanic deve considerar uma gama mais ampla de fatores para obter conclusões abrangentes e entender completamente por que alguns passageiros sobreviveram enquanto outros não. A tarifa é apenas um dos muitos elementos que contribuíram para o resultado final.\n",
    "\n",
    "\n",
    "\n",
    "\n",
    "\n"
   ]
  },
  {
   "cell_type": "code",
   "execution_count": 23,
   "metadata": {},
   "outputs": [
    {
     "data": {
      "text/plain": [
       "<Figure size 800x600 with 0 Axes>"
      ]
     },
     "metadata": {},
     "output_type": "display_data"
    },
    {
     "data": {
      "image/png": "[encoded data removed]",
      "text/plain": [
       "<Figure size 640x480 with 1 Axes>"
      ]
     },
     "metadata": {},
     "output_type": "display_data"
    }
   ],
   "source": [
    "# Gráfico 3: Taxa de Sobrevivência por Classe e Sexo\n",
    "survival_by_class_sex = df.groupby(['Pclass', 'Sex'])['Survived'].mean().unstack()\n",
    "\n",
    "plt.figure(figsize=(8, 6))\n",
    "survival_by_class_sex.plot(kind='bar', stacked=True, color=['purple', 'green'])\n",
    "plt.title('Taxa de Sobrevivência por Classe e Sexo')\n",
    "plt.xlabel('Classe')\n",
    "plt.ylabel('Taxa de Sobrevivência')\n",
    "plt.legend(title='Sexo', loc='upper left', labels=['Feminino', 'Masculino'])\n",
    "plt.show()\n"
   ]
  },
  {
   "cell_type": "markdown",
   "metadata": {},
   "source": [
    "Insights:\n",
    "\n",
    "1-Observa-se uma variação significativa na taxa de sobrevivência: O gráfico destaca que a taxa de sobrevivência variou consideravelmente entre diferentes classes e sexos. As diferenças nas taxas de sobrevivência são evidentes.\n",
    "\n",
    "2-Taxa de sobrevivência mais alta para passageiras femininas: Em todas as classes (1ª, 2ª e 3ª classe), as passageiras do sexo feminino tiveram uma taxa de sobrevivência significativamente mais alta do que os passageiros do sexo masculino. Essa diferença é particularmente acentuada na 1ª e 2ª classes.\n",
    "\n",
    "3-Variação nas classes: Observa-se que a 1ª classe teve as taxas de sobrevivência mais altas em geral, independentemente do sexo. A 2ª classe também teve uma taxa de sobrevivência relativamente alta. A 3ª classe teve as taxas de sobrevivência mais baixas, com uma grande diferença entre os sexos.\n",
    "\n",
    "CONCLUSÃO\n",
    "\n",
    "Podemos concluir que a classe social e o sexo desempenharam papéis significativos na sobrevivência no Titanic. Passageiras do sexo feminino, independentemente da classe, tiveram uma taxa de sobrevivência mais alta. A 1ª e 2ª classes tiveram taxas de sobrevivência mais altas em comparação com a 3ª classe. A análise mostra como fatores como classe e gênero influenciaram a probabilidade de sobrevivência dos passageiros no naufrágio do Titanic."
   ]
  }
 ],
 "metadata": {
  "kernelspec": {
   "display_name": "Python 3",
   "language": "python",
   "name": "python3"
  },
  "language_info": {
   "codemirror_mode": {
    "name": "ipython",
    "version": 3
   },
   "file_extension": ".py",
   "mimetype": "text/x-python",
   "name": "python",
   "nbconvert_exporter": "python",
   "pygments_lexer": "ipython3",
   "version": "3.11.4"
  }
 },
 "nbformat": 4,
 "nbformat_minor": 2
}

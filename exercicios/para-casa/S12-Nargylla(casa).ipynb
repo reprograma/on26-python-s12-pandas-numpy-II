{
 "cells": [
  {
   "cell_type": "code",
   "execution_count": 91,
   "metadata": {},
   "outputs": [],
   "source": [
    "import pandas as pd\n",
    "import matplotlib.pyplot as plt\n",
    "import numpy as np"
   ]
  },
  {
   "cell_type": "markdown",
   "metadata": {},
   "source": [
    "**BREVE HISTÓRIA DA ANÁLISE DE DADOS:**\n",
    "\n",
    "O dataframe traz uma análise abrangente de um levantamento sobre os fatores que podem contribuir para o aumento no nível de estresse dos alunos. Fatores sociais, psicológicos, fisiológicos e etc. são trazidos para se compreender como eles se interrelacionam contribuindo agravar ou amenizar problemas de saúde dos estudantes. A análise desses dados, seguirá um foco nos fatores psicológicos: depressão e ansiedade; fatores acadêmicos: tempo de estudo e desempenho acadêmico; fatores fisiológicos: qualidade de sono."
   ]
  },
  {
   "cell_type": "code",
   "execution_count": 92,
   "metadata": {},
   "outputs": [
    {
     "data": {
      "text/html": [
       "<div>\n",
       "<style scoped>\n",
       "    .dataframe tbody tr th:only-of-type {\n",
       "        vertical-align: middle;\n",
       "    }\n",
       "\n",
       "    .dataframe tbody tr th {\n",
       "        vertical-align: top;\n",
       "    }\n",
       "\n",
       "    .dataframe thead th {\n",
       "        text-align: right;\n",
       "    }\n",
       "</style>\n",
       "<table border=\"1\" class=\"dataframe\">\n",
       "  <thead>\n",
       "    <tr style=\"text-align: right;\">\n",
       "      <th></th>\n",
       "      <th>anxiety_level</th>\n",
       "      <th>self_esteem</th>\n",
       "      <th>mental_health_history</th>\n",
       "      <th>depression</th>\n",
       "      <th>headache</th>\n",
       "      <th>blood_pressure</th>\n",
       "      <th>sleep_quality</th>\n",
       "      <th>breathing_problem</th>\n",
       "      <th>noise_level</th>\n",
       "      <th>living_conditions</th>\n",
       "      <th>...</th>\n",
       "      <th>basic_needs</th>\n",
       "      <th>academic_performance</th>\n",
       "      <th>study_load</th>\n",
       "      <th>teacher_student_relationship</th>\n",
       "      <th>future_career_concerns</th>\n",
       "      <th>social_support</th>\n",
       "      <th>peer_pressure</th>\n",
       "      <th>extracurricular_activities</th>\n",
       "      <th>bullying</th>\n",
       "      <th>stress_level</th>\n",
       "    </tr>\n",
       "  </thead>\n",
       "  <tbody>\n",
       "    <tr>\n",
       "      <th>0</th>\n",
       "      <td>14</td>\n",
       "      <td>20</td>\n",
       "      <td>0</td>\n",
       "      <td>11</td>\n",
       "      <td>2</td>\n",
       "      <td>1</td>\n",
       "      <td>2</td>\n",
       "      <td>4</td>\n",
       "      <td>2</td>\n",
       "      <td>3</td>\n",
       "      <td>...</td>\n",
       "      <td>2</td>\n",
       "      <td>3</td>\n",
       "      <td>2</td>\n",
       "      <td>3</td>\n",
       "      <td>3</td>\n",
       "      <td>2</td>\n",
       "      <td>3</td>\n",
       "      <td>3</td>\n",
       "      <td>2</td>\n",
       "      <td>1</td>\n",
       "    </tr>\n",
       "    <tr>\n",
       "      <th>1</th>\n",
       "      <td>15</td>\n",
       "      <td>8</td>\n",
       "      <td>1</td>\n",
       "      <td>15</td>\n",
       "      <td>5</td>\n",
       "      <td>3</td>\n",
       "      <td>1</td>\n",
       "      <td>4</td>\n",
       "      <td>3</td>\n",
       "      <td>1</td>\n",
       "      <td>...</td>\n",
       "      <td>2</td>\n",
       "      <td>1</td>\n",
       "      <td>4</td>\n",
       "      <td>1</td>\n",
       "      <td>5</td>\n",
       "      <td>1</td>\n",
       "      <td>4</td>\n",
       "      <td>5</td>\n",
       "      <td>5</td>\n",
       "      <td>2</td>\n",
       "    </tr>\n",
       "    <tr>\n",
       "      <th>2</th>\n",
       "      <td>12</td>\n",
       "      <td>18</td>\n",
       "      <td>1</td>\n",
       "      <td>14</td>\n",
       "      <td>2</td>\n",
       "      <td>1</td>\n",
       "      <td>2</td>\n",
       "      <td>2</td>\n",
       "      <td>2</td>\n",
       "      <td>2</td>\n",
       "      <td>...</td>\n",
       "      <td>2</td>\n",
       "      <td>2</td>\n",
       "      <td>3</td>\n",
       "      <td>3</td>\n",
       "      <td>2</td>\n",
       "      <td>2</td>\n",
       "      <td>3</td>\n",
       "      <td>2</td>\n",
       "      <td>2</td>\n",
       "      <td>1</td>\n",
       "    </tr>\n",
       "    <tr>\n",
       "      <th>3</th>\n",
       "      <td>16</td>\n",
       "      <td>12</td>\n",
       "      <td>1</td>\n",
       "      <td>15</td>\n",
       "      <td>4</td>\n",
       "      <td>3</td>\n",
       "      <td>1</td>\n",
       "      <td>3</td>\n",
       "      <td>4</td>\n",
       "      <td>2</td>\n",
       "      <td>...</td>\n",
       "      <td>2</td>\n",
       "      <td>2</td>\n",
       "      <td>4</td>\n",
       "      <td>1</td>\n",
       "      <td>4</td>\n",
       "      <td>1</td>\n",
       "      <td>4</td>\n",
       "      <td>4</td>\n",
       "      <td>5</td>\n",
       "      <td>2</td>\n",
       "    </tr>\n",
       "    <tr>\n",
       "      <th>4</th>\n",
       "      <td>16</td>\n",
       "      <td>28</td>\n",
       "      <td>0</td>\n",
       "      <td>7</td>\n",
       "      <td>2</td>\n",
       "      <td>3</td>\n",
       "      <td>5</td>\n",
       "      <td>1</td>\n",
       "      <td>3</td>\n",
       "      <td>2</td>\n",
       "      <td>...</td>\n",
       "      <td>3</td>\n",
       "      <td>4</td>\n",
       "      <td>3</td>\n",
       "      <td>1</td>\n",
       "      <td>2</td>\n",
       "      <td>1</td>\n",
       "      <td>5</td>\n",
       "      <td>0</td>\n",
       "      <td>5</td>\n",
       "      <td>1</td>\n",
       "    </tr>\n",
       "    <tr>\n",
       "      <th>...</th>\n",
       "      <td>...</td>\n",
       "      <td>...</td>\n",
       "      <td>...</td>\n",
       "      <td>...</td>\n",
       "      <td>...</td>\n",
       "      <td>...</td>\n",
       "      <td>...</td>\n",
       "      <td>...</td>\n",
       "      <td>...</td>\n",
       "      <td>...</td>\n",
       "      <td>...</td>\n",
       "      <td>...</td>\n",
       "      <td>...</td>\n",
       "      <td>...</td>\n",
       "      <td>...</td>\n",
       "      <td>...</td>\n",
       "      <td>...</td>\n",
       "      <td>...</td>\n",
       "      <td>...</td>\n",
       "      <td>...</td>\n",
       "      <td>...</td>\n",
       "    </tr>\n",
       "    <tr>\n",
       "      <th>1095</th>\n",
       "      <td>11</td>\n",
       "      <td>17</td>\n",
       "      <td>0</td>\n",
       "      <td>14</td>\n",
       "      <td>3</td>\n",
       "      <td>1</td>\n",
       "      <td>3</td>\n",
       "      <td>2</td>\n",
       "      <td>2</td>\n",
       "      <td>2</td>\n",
       "      <td>...</td>\n",
       "      <td>3</td>\n",
       "      <td>2</td>\n",
       "      <td>2</td>\n",
       "      <td>2</td>\n",
       "      <td>3</td>\n",
       "      <td>3</td>\n",
       "      <td>2</td>\n",
       "      <td>3</td>\n",
       "      <td>3</td>\n",
       "      <td>1</td>\n",
       "    </tr>\n",
       "    <tr>\n",
       "      <th>1096</th>\n",
       "      <td>9</td>\n",
       "      <td>12</td>\n",
       "      <td>0</td>\n",
       "      <td>8</td>\n",
       "      <td>0</td>\n",
       "      <td>3</td>\n",
       "      <td>0</td>\n",
       "      <td>0</td>\n",
       "      <td>0</td>\n",
       "      <td>1</td>\n",
       "      <td>...</td>\n",
       "      <td>4</td>\n",
       "      <td>0</td>\n",
       "      <td>1</td>\n",
       "      <td>1</td>\n",
       "      <td>1</td>\n",
       "      <td>1</td>\n",
       "      <td>3</td>\n",
       "      <td>4</td>\n",
       "      <td>3</td>\n",
       "      <td>2</td>\n",
       "    </tr>\n",
       "    <tr>\n",
       "      <th>1097</th>\n",
       "      <td>4</td>\n",
       "      <td>26</td>\n",
       "      <td>0</td>\n",
       "      <td>3</td>\n",
       "      <td>1</td>\n",
       "      <td>2</td>\n",
       "      <td>5</td>\n",
       "      <td>2</td>\n",
       "      <td>2</td>\n",
       "      <td>3</td>\n",
       "      <td>...</td>\n",
       "      <td>4</td>\n",
       "      <td>5</td>\n",
       "      <td>1</td>\n",
       "      <td>4</td>\n",
       "      <td>1</td>\n",
       "      <td>3</td>\n",
       "      <td>1</td>\n",
       "      <td>2</td>\n",
       "      <td>1</td>\n",
       "      <td>0</td>\n",
       "    </tr>\n",
       "    <tr>\n",
       "      <th>1098</th>\n",
       "      <td>21</td>\n",
       "      <td>0</td>\n",
       "      <td>1</td>\n",
       "      <td>19</td>\n",
       "      <td>5</td>\n",
       "      <td>3</td>\n",
       "      <td>1</td>\n",
       "      <td>4</td>\n",
       "      <td>3</td>\n",
       "      <td>1</td>\n",
       "      <td>...</td>\n",
       "      <td>1</td>\n",
       "      <td>2</td>\n",
       "      <td>5</td>\n",
       "      <td>1</td>\n",
       "      <td>4</td>\n",
       "      <td>1</td>\n",
       "      <td>4</td>\n",
       "      <td>4</td>\n",
       "      <td>4</td>\n",
       "      <td>2</td>\n",
       "    </tr>\n",
       "    <tr>\n",
       "      <th>1099</th>\n",
       "      <td>18</td>\n",
       "      <td>6</td>\n",
       "      <td>1</td>\n",
       "      <td>15</td>\n",
       "      <td>3</td>\n",
       "      <td>3</td>\n",
       "      <td>0</td>\n",
       "      <td>3</td>\n",
       "      <td>3</td>\n",
       "      <td>0</td>\n",
       "      <td>...</td>\n",
       "      <td>3</td>\n",
       "      <td>3</td>\n",
       "      <td>4</td>\n",
       "      <td>3</td>\n",
       "      <td>3</td>\n",
       "      <td>1</td>\n",
       "      <td>5</td>\n",
       "      <td>1</td>\n",
       "      <td>4</td>\n",
       "      <td>2</td>\n",
       "    </tr>\n",
       "  </tbody>\n",
       "</table>\n",
       "<p>1100 rows × 21 columns</p>\n",
       "</div>"
      ],
      "text/plain": [
       "      anxiety_level  self_esteem  mental_health_history  depression  headache  \\\n",
       "0                14           20                      0          11         2   \n",
       "1                15            8                      1          15         5   \n",
       "2                12           18                      1          14         2   \n",
       "3                16           12                      1          15         4   \n",
       "4                16           28                      0           7         2   \n",
       "...             ...          ...                    ...         ...       ...   \n",
       "1095             11           17                      0          14         3   \n",
       "1096              9           12                      0           8         0   \n",
       "1097              4           26                      0           3         1   \n",
       "1098             21            0                      1          19         5   \n",
       "1099             18            6                      1          15         3   \n",
       "\n",
       "      blood_pressure  sleep_quality  breathing_problem  noise_level  \\\n",
       "0                  1              2                  4            2   \n",
       "1                  3              1                  4            3   \n",
       "2                  1              2                  2            2   \n",
       "3                  3              1                  3            4   \n",
       "4                  3              5                  1            3   \n",
       "...              ...            ...                ...          ...   \n",
       "1095               1              3                  2            2   \n",
       "1096               3              0                  0            0   \n",
       "1097               2              5                  2            2   \n",
       "1098               3              1                  4            3   \n",
       "1099               3              0                  3            3   \n",
       "\n",
       "      living_conditions  ...  basic_needs  academic_performance  study_load  \\\n",
       "0                     3  ...            2                     3           2   \n",
       "1                     1  ...            2                     1           4   \n",
       "2                     2  ...            2                     2           3   \n",
       "3                     2  ...            2                     2           4   \n",
       "4                     2  ...            3                     4           3   \n",
       "...                 ...  ...          ...                   ...         ...   \n",
       "1095                  2  ...            3                     2           2   \n",
       "1096                  1  ...            4                     0           1   \n",
       "1097                  3  ...            4                     5           1   \n",
       "1098                  1  ...            1                     2           5   \n",
       "1099                  0  ...            3                     3           4   \n",
       "\n",
       "      teacher_student_relationship  future_career_concerns  social_support  \\\n",
       "0                                3                       3               2   \n",
       "1                                1                       5               1   \n",
       "2                                3                       2               2   \n",
       "3                                1                       4               1   \n",
       "4                                1                       2               1   \n",
       "...                            ...                     ...             ...   \n",
       "1095                             2                       3               3   \n",
       "1096                             1                       1               1   \n",
       "1097                             4                       1               3   \n",
       "1098                             1                       4               1   \n",
       "1099                             3                       3               1   \n",
       "\n",
       "      peer_pressure  extracurricular_activities  bullying  stress_level  \n",
       "0                 3                           3         2             1  \n",
       "1                 4                           5         5             2  \n",
       "2                 3                           2         2             1  \n",
       "3                 4                           4         5             2  \n",
       "4                 5                           0         5             1  \n",
       "...             ...                         ...       ...           ...  \n",
       "1095              2                           3         3             1  \n",
       "1096              3                           4         3             2  \n",
       "1097              1                           2         1             0  \n",
       "1098              4                           4         4             2  \n",
       "1099              5                           1         4             2  \n",
       "\n",
       "[1100 rows x 21 columns]"
      ]
     },
     "execution_count": 92,
     "metadata": {},
     "output_type": "execute_result"
    }
   ],
   "source": [
    "df = pd.read_csv(\"C:\\\\Users\\\\nargy\\\\Documents\\\\Estudos\\\\Semana-12\\\\on26-python-s12-pandas-numpy-II\\\\material\\\\StressLevelDataset.csv\")\n",
    "df"
   ]
  },
  {
   "cell_type": "markdown",
   "metadata": {},
   "source": [
    "<small>perguntas norteadoras:</small>\n",
    "\n",
    "<small>- quantos alunos estão no conjunto de dados?</small>\n",
    "\n",
    "<small>- qual o tempo médio de estudo dos alunos?</small>\n",
    "\n",
    "<small>- o tempo médio de estudo dos alunos está relacionado com a depressão?</small>\n",
    "\n",
    "<small>- o tempo médio de estudo dos alunos está relacionado com a ansiedade?</small>\n",
    "\n",
    "<small>- quantos estudantes classificam a qualidade do sono como ruim e isso se relaciona com a ansiedade?</small>"
   ]
  },
  {
   "cell_type": "code",
   "execution_count": 93,
   "metadata": {},
   "outputs": [
    {
     "data": {
      "text/plain": [
       "(1100, 21)"
      ]
     },
     "execution_count": 93,
     "metadata": {},
     "output_type": "execute_result"
    }
   ],
   "source": [
    "df.shape"
   ]
  },
  {
   "cell_type": "code",
   "execution_count": 94,
   "metadata": {},
   "outputs": [],
   "source": [
    "#selecionando fatores das perguntas norteadoras\n",
    "df_filter = df.loc[:, [\"anxiety_level\", \"depression\", \"sleep_quality\", \"academic_performance\", \"study_load\"]]"
   ]
  },
  {
   "cell_type": "code",
   "execution_count": 95,
   "metadata": {},
   "outputs": [
    {
     "data": {
      "text/html": [
       "<div>\n",
       "<style scoped>\n",
       "    .dataframe tbody tr th:only-of-type {\n",
       "        vertical-align: middle;\n",
       "    }\n",
       "\n",
       "    .dataframe tbody tr th {\n",
       "        vertical-align: top;\n",
       "    }\n",
       "\n",
       "    .dataframe thead th {\n",
       "        text-align: right;\n",
       "    }\n",
       "</style>\n",
       "<table border=\"1\" class=\"dataframe\">\n",
       "  <thead>\n",
       "    <tr style=\"text-align: right;\">\n",
       "      <th></th>\n",
       "      <th>anxiety_level</th>\n",
       "      <th>depression</th>\n",
       "      <th>sleep_quality</th>\n",
       "      <th>academic_performance</th>\n",
       "      <th>study_load</th>\n",
       "    </tr>\n",
       "  </thead>\n",
       "  <tbody>\n",
       "    <tr>\n",
       "      <th>0</th>\n",
       "      <td>14</td>\n",
       "      <td>11</td>\n",
       "      <td>2</td>\n",
       "      <td>3</td>\n",
       "      <td>2</td>\n",
       "    </tr>\n",
       "    <tr>\n",
       "      <th>1</th>\n",
       "      <td>15</td>\n",
       "      <td>15</td>\n",
       "      <td>1</td>\n",
       "      <td>1</td>\n",
       "      <td>4</td>\n",
       "    </tr>\n",
       "    <tr>\n",
       "      <th>2</th>\n",
       "      <td>12</td>\n",
       "      <td>14</td>\n",
       "      <td>2</td>\n",
       "      <td>2</td>\n",
       "      <td>3</td>\n",
       "    </tr>\n",
       "    <tr>\n",
       "      <th>3</th>\n",
       "      <td>16</td>\n",
       "      <td>15</td>\n",
       "      <td>1</td>\n",
       "      <td>2</td>\n",
       "      <td>4</td>\n",
       "    </tr>\n",
       "    <tr>\n",
       "      <th>4</th>\n",
       "      <td>16</td>\n",
       "      <td>7</td>\n",
       "      <td>5</td>\n",
       "      <td>4</td>\n",
       "      <td>3</td>\n",
       "    </tr>\n",
       "    <tr>\n",
       "      <th>...</th>\n",
       "      <td>...</td>\n",
       "      <td>...</td>\n",
       "      <td>...</td>\n",
       "      <td>...</td>\n",
       "      <td>...</td>\n",
       "    </tr>\n",
       "    <tr>\n",
       "      <th>95</th>\n",
       "      <td>19</td>\n",
       "      <td>11</td>\n",
       "      <td>3</td>\n",
       "      <td>5</td>\n",
       "      <td>5</td>\n",
       "    </tr>\n",
       "    <tr>\n",
       "      <th>96</th>\n",
       "      <td>15</td>\n",
       "      <td>19</td>\n",
       "      <td>1</td>\n",
       "      <td>1</td>\n",
       "      <td>4</td>\n",
       "    </tr>\n",
       "    <tr>\n",
       "      <th>97</th>\n",
       "      <td>17</td>\n",
       "      <td>23</td>\n",
       "      <td>1</td>\n",
       "      <td>2</td>\n",
       "      <td>3</td>\n",
       "    </tr>\n",
       "    <tr>\n",
       "      <th>98</th>\n",
       "      <td>6</td>\n",
       "      <td>1</td>\n",
       "      <td>5</td>\n",
       "      <td>5</td>\n",
       "      <td>1</td>\n",
       "    </tr>\n",
       "    <tr>\n",
       "      <th>99</th>\n",
       "      <td>9</td>\n",
       "      <td>13</td>\n",
       "      <td>3</td>\n",
       "      <td>3</td>\n",
       "      <td>3</td>\n",
       "    </tr>\n",
       "  </tbody>\n",
       "</table>\n",
       "<p>100 rows × 5 columns</p>\n",
       "</div>"
      ],
      "text/plain": [
       "    anxiety_level  depression  sleep_quality  academic_performance  study_load\n",
       "0              14          11              2                     3           2\n",
       "1              15          15              1                     1           4\n",
       "2              12          14              2                     2           3\n",
       "3              16          15              1                     2           4\n",
       "4              16           7              5                     4           3\n",
       "..            ...         ...            ...                   ...         ...\n",
       "95             19          11              3                     5           5\n",
       "96             15          19              1                     1           4\n",
       "97             17          23              1                     2           3\n",
       "98              6           1              5                     5           1\n",
       "99              9          13              3                     3           3\n",
       "\n",
       "[100 rows x 5 columns]"
      ]
     },
     "execution_count": 95,
     "metadata": {},
     "output_type": "execute_result"
    }
   ],
   "source": [
    "df_head = df_filter.head(100)\n",
    "df_head"
   ]
  },
  {
   "cell_type": "code",
   "execution_count": 96,
   "metadata": {},
   "outputs": [
    {
     "name": "stdout",
     "output_type": "stream",
     "text": [
      "Ansiedade max 21, min 0\n",
      "Depressão max 27, min 0\n",
      "Sono max 5, min 0\n",
      "Academic max 5, min 0\n",
      "Study max 5, min 0\n"
     ]
    }
   ],
   "source": [
    "#descobrindo os valores máximos e mínimos das colunas:\n",
    "valor_max_anxiety = df_head[\"anxiety_level\"].max()\n",
    "valor_min_anxiety = df_head[\"anxiety_level\"].min()\n",
    "\n",
    "valor_max_depression = df_head[\"depression\"].max()\n",
    "valor_min_depression = df_head[\"depression\"].min()\n",
    "\n",
    "valor_max_sleep = df_head[\"sleep_quality\"].max()\n",
    "valor_min_sleep = df_head[\"sleep_quality\"].min()\n",
    "\n",
    "valor_max_academic = df_head[\"academic_performance\"].max()\n",
    "valor_min_academic = df_head[\"academic_performance\"].min()\n",
    "\n",
    "valor_max_study = df_head[\"study_load\"].max()\n",
    "valor_min_study = df_head[\"study_load\"].min()\n",
    "\n",
    "print(f'Ansiedade max {valor_max_anxiety}, min {valor_min_anxiety}')\n",
    "print(f'Depressão max {valor_max_depression}, min {valor_min_depression}')\n",
    "print(f'Sono max {valor_max_sleep}, min {valor_min_sleep}')\n",
    "print(f'Academic max {valor_max_academic}, min {valor_min_academic}')\n",
    "print(f'Study max {valor_max_study}, min {valor_min_study}')\n"
   ]
  },
  {
   "cell_type": "code",
   "execution_count": 97,
   "metadata": {},
   "outputs": [
    {
     "data": {
      "text/plain": [
       "(100, 5)"
      ]
     },
     "execution_count": 97,
     "metadata": {},
     "output_type": "execute_result"
    }
   ],
   "source": [
    "df_nao_nulos = df_head.dropna()\n",
    "df_nao_nulos.shape"
   ]
  },
  {
   "cell_type": "code",
   "execution_count": 103,
   "metadata": {},
   "outputs": [
    {
     "name": "stdout",
     "output_type": "stream",
     "text": [
      "Possui 100 alunos.\n"
     ]
    }
   ],
   "source": [
    "#Qual o número de alunos do dataset?\n",
    "\n",
    "num_alunos = len(df_head)\n",
    "print(\"Possui\", num_alunos, \"alunos.\")"
   ]
  },
  {
   "cell_type": "code",
   "execution_count": 104,
   "metadata": {},
   "outputs": [
    {
     "name": "stdout",
     "output_type": "stream",
     "text": [
      "O tempo médio de estudo dos alunos é:\n",
      "3 horas\n"
     ]
    }
   ],
   "source": [
    "#Qual o tempo médio de estudo dos alunos?\n",
    "media_estudo = df_head[\"study_load\"].median()\n",
    "print(\"O tempo médio de estudo dos alunos é:\")\n",
    "media_arredondada = print(round(media_estudo), \"horas\")"
   ]
  },
  {
   "cell_type": "code",
   "execution_count": 100,
   "metadata": {},
   "outputs": [
    {
     "data": {
      "text/plain": [
       "study_load\n",
       "0     3\n",
       "1    15\n",
       "2    31\n",
       "3    28\n",
       "4    13\n",
       "5    10\n",
       "Name: count, dtype: int64"
      ]
     },
     "execution_count": 100,
     "metadata": {},
     "output_type": "execute_result"
    }
   ],
   "source": [
    "#contagem de estudos dos alunos\n",
    "cont_estudo = df_head[\"study_load\"].value_counts().sort_index()\n",
    "cont_estudo"
   ]
  },
  {
   "cell_type": "code",
   "execution_count": 101,
   "metadata": {},
   "outputs": [
    {
     "data": {
      "text/plain": [
       "depression\n",
       "0     5\n",
       "1     4\n",
       "2     3\n",
       "3     5\n",
       "4     2\n",
       "5     6\n",
       "6     3\n",
       "7     3\n",
       "8     4\n",
       "9     2\n",
       "10    5\n",
       "11    4\n",
       "12    5\n",
       "13    5\n",
       "14    8\n",
       "15    3\n",
       "16    1\n",
       "17    1\n",
       "18    4\n",
       "19    2\n",
       "20    4\n",
       "21    3\n",
       "22    4\n",
       "23    3\n",
       "24    3\n",
       "25    2\n",
       "26    2\n",
       "27    4\n",
       "Name: count, dtype: int64"
      ]
     },
     "execution_count": 101,
     "metadata": {},
     "output_type": "execute_result"
    }
   ],
   "source": [
    "#contagem dos níveis de depressão\n",
    "media_depressao = df_head[\"depression\"].value_counts().sort_index()\n",
    "media_depressao"
   ]
  },
  {
   "cell_type": "code",
   "execution_count": 123,
   "metadata": {},
   "outputs": [
    {
     "data": {
      "image/png": "[encoded data removed]",
      "text/plain": [
       "<Figure size 640x480 with 1 Axes>"
      ]
     },
     "metadata": {},
     "output_type": "display_data"
    }
   ],
   "source": [
    "\n",
    "cont_estudo = df_head[\"study_load\"].value_counts().sort_index()\n",
    "media_depressao = df_head[\"depression\"].value_counts().sort_index()\n",
    "plt.scatter(data['study_load'], data['depression'], color='pink', label='Relação Tempo de Estudo x Depressão')\n",
    "plt.xlabel('Nível de depressão')\n",
    "plt.ylabel('Tempo de estudo')\n",
    "plt.xticks(np.arange(0, 30, 3))\n",
    "plt.grid()\n",
    "plt.show()\n"
   ]
  },
  {
   "cell_type": "markdown",
   "metadata": {},
   "source": [
    "É possível notar, a partir do gráfico de dispersão, que há uma tendencia de diminuição no tempo de estudo, a medida que o nível de depressão aumenta. "
   ]
  },
  {
   "cell_type": "code",
   "execution_count": 124,
   "metadata": {},
   "outputs": [
    {
     "data": {
      "text/plain": [
       "anxiety_level\n",
       "0     3\n",
       "1     3\n",
       "2     3\n",
       "3     3\n",
       "4     5\n",
       "5     5\n",
       "6     5\n",
       "7     6\n",
       "8     5\n",
       "9     8\n",
       "10    2\n",
       "11    5\n",
       "12    5\n",
       "13    7\n",
       "14    1\n",
       "15    5\n",
       "16    3\n",
       "17    9\n",
       "18    4\n",
       "19    4\n",
       "20    4\n",
       "21    5\n",
       "Name: count, dtype: int64"
      ]
     },
     "execution_count": 124,
     "metadata": {},
     "output_type": "execute_result"
    }
   ],
   "source": [
    "#contagem dos níveis de ansiedade\n",
    "cont_ansiedade = df_head[\"anxiety_level\"].value_counts().sort_index()\n",
    "cont_ansiedade"
   ]
  },
  {
   "cell_type": "code",
   "execution_count": 143,
   "metadata": {},
   "outputs": [
    {
     "data": {
      "image/png": "[encoded data removed]",
      "text/plain": [
       "<Figure size 640x480 with 1 Axes>"
      ]
     },
     "metadata": {},
     "output_type": "display_data"
    }
   ],
   "source": [
    "#ANSIEDADE E TEMPO DE ESTUDO\n",
    "study_load = cont_estudo = df_head[\"study_load\"].value_counts().sort_index()\n",
    "anxiety_level = cont_ansiedade = df_head[\"anxiety_level\"].value_counts().sort_index()\n",
    "plt.scatter(data['study_load'],data['anxiety_level'], color='purple')\n",
    "plt.xlabel('Nível de Ansiedade')\n",
    "plt.xticks(np.arange(0, 35, 3))\n",
    "plt.yticks(np.arange(0, 6, 1))\n",
    "plt.ylabel('Nível de Estudo')\n",
    "plt.grid()\n",
    "plt.show()"
   ]
  },
  {
   "cell_type": "markdown",
   "metadata": {},
   "source": [
    "O nível de ansiedade de alunos não é um fator impactante no seu tempo de estudo, uma vez que mesmo nos níveis mais baixo, se mantém na média de 3h"
   ]
  },
  {
   "cell_type": "markdown",
   "metadata": {},
   "source": [
    "Relação ansiedade e sono"
   ]
  },
  {
   "cell_type": "code",
   "execution_count": 174,
   "metadata": {},
   "outputs": [
    {
     "name": "stdout",
     "output_type": "stream",
     "text": [
      "51\n"
     ]
    }
   ],
   "source": [
    "#Sono de má qualidade\n",
    "sono_ruim = df_head[df_head['sleep_quality'] < 3]\n",
    "num_sono_ruim = len(sono_ruim)\n",
    "print(num_sono_ruim)"
   ]
  },
  {
   "cell_type": "code",
   "execution_count": 175,
   "metadata": {},
   "outputs": [
    {
     "name": "stdout",
     "output_type": "stream",
     "text": [
      "52\n"
     ]
    }
   ],
   "source": [
    "#alunos com nível de ansiedade elevados\n",
    "ansiedade = df_head[df_head['anxiety_level'] > 10]\n",
    "num_anxiedade = len(ansiedade)\n",
    "print(num_anxiedade)"
   ]
  },
  {
   "cell_type": "code",
   "execution_count": 179,
   "metadata": {},
   "outputs": [
    {
     "data": {
      "image/png": "[encoded data removed]",
      "text/plain": [
       "<Figure size 640x480 with 1 Axes>"
      ]
     },
     "metadata": {},
     "output_type": "display_data"
    }
   ],
   "source": [
    "contagem = [num_sono_ruim, num_anxiedade]\n",
    "categoria = ['sleep_quality', 'anxiety_level']\n",
    "plt.bar(categoria, contagem, color=['#CC0099', '#33A1C9'], edgecolor = \"black\",)\n",
    "plt.xlabel(\"\")\n",
    "plt.ylabel(\"\")\n",
    "plt.yticks(np.arange(0, 55, 5))\n",
    "plt.title(\"Relação sono ruim x ansiedade\")\n",
    "plt.show()"
   ]
  },
  {
   "cell_type": "markdown",
   "metadata": {},
   "source": [
    "É possível notar uma semelhaça entre a quantidade de alunos que possuem um sono ruim, abaixo do nível 3 e a quantidade de alunos com alto nível de ansiedade, acima do nível 10. Podemos, logo, supor que há uma grande relação entre a ansiedade e a falta de sono."
   ]
  }
 ],
 "metadata": {
  "kernelspec": {
   "display_name": "Python 3",
   "language": "python",
   "name": "python3"
  },
  "language_info": {
   "codemirror_mode": {
    "name": "ipython",
    "version": 3
   },
   "file_extension": ".py",
   "mimetype": "text/x-python",
   "name": "python",
   "nbconvert_exporter": "python",
   "pygments_lexer": "ipython3",
   "version": "3.11.6"
  }
 },
 "nbformat": 4,
 "nbformat_minor": 2
}

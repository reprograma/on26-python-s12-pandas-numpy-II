{
 "cells": [
  {
   "cell_type": "markdown",
   "metadata": {},
   "source": [
    "## Introdução\n",
    "\n",
    "Este dataset contém informações sobre tripulantes do navio Titanic.\n",
    "Fonte de dados: Kaggle.com\n",
    "**Descrição das colunas:**\n",
    "- \n",
    "\n",
    "Neste notebook, faremos uma função de processamento e limpeza dos dados, criaremos visualizações para geração de análises e insights com pelo menos 3 gráficos diferentes."
   ]
  },
  {
   "cell_type": "code",
   "execution_count": null,
   "metadata": {},
   "outputs": [],
   "source": [
    "# importar bibliotecas\n",
    "import pandas as pd\n",
    "import matplotlib as plt"
   ]
  },
  {
   "cell_type": "code",
   "execution_count": null,
   "metadata": {},
   "outputs": [],
   "source": [
    "# importar arquivo\n",
    "df = pd.read_csv(\"titanic.csv\")\n",
    "df"
   ]
  },
  {
   "cell_type": "code",
   "execution_count": null,
   "metadata": {},
   "outputs": [],
   "source": [
    "#Informações gerais do dataset\n",
    "df.info()"
   ]
  },
  {
   "cell_type": "code",
   "execution_count": null,
   "metadata": {},
   "outputs": [],
   "source": [
    "# Função de processamento\n",
    "def processamento(df):\n",
    "    # remover coluna \"Cabin\" por conter muitos dados nulos, o que impede conclusões precisas\n",
    "    df = df.drop(columns=\"Cabin\")\n",
    "    # remover duplicadas\n",
    "    df = df.drop_duplicates()\n",
    "    # remover linhas que contenham idade nula\n",
    "    df = df.dropna(subset = [\"Age\"])\n",
    "    # resetando o índice\n",
    "    df = df.reset_index()\n",
    "    # mostrando principais métricas\n",
    "    metricas = df.describe(include=\"all\")\n",
    "    \n",
    "    return df, metricas"
   ]
  },
  {
   "cell_type": "code",
   "execution_count": null,
   "metadata": {},
   "outputs": [],
   "source": [
    "# Rodando a função no dataset\n",
    "df_copia = df.copy()\n",
    "df_processado, metricas = processamento(df_copia)"
   ]
  },
  {
   "cell_type": "code",
   "execution_count": null,
   "metadata": {},
   "outputs": [],
   "source": [
    "# mostrando resultado do dataset processado\n",
    "df_processado"
   ]
  },
  {
   "cell_type": "code",
   "execution_count": null,
   "metadata": {},
   "outputs": [],
   "source": [
    "metricas.T"
   ]
  },
  {
   "cell_type": "code",
   "execution_count": null,
   "metadata": {},
   "outputs": [],
   "source": [
    "# Análises por sexo\n",
    "agrupado_sexo = df_processado.groupby([\"Sex\"])\n",
    "# Representatividade por sexo\n",
    "agrupado_sexo_total = agrupado_sexo.count()\n",
    "porcentagem_sexo = (agrupado_sexo_total[\"PassengerId\"]/agrupado_sexo_total[\"PassengerId\"].sum())*100\n",
    "print(f\"Porcentagem de pessoas do sexo feminino: {porcentagem_sexo[0]:.2f}%\")\n",
    "print(f\"Porcentagem de pessoas do sexo masculino: {porcentagem_sexo[1]:.2f}%\")\n",
    "# Média de idade por sexo\n",
    "agrupado_sexo_idade = agrupado_sexo[\"Age\"].mean()\n",
    "print(f\"A idade média das pessoas do sexo feminino é de {agrupado_sexo_idade[0]:.0f} anos\")\n",
    "print(f\"A idade média das pessoas do sexo masculino é de {agrupado_sexo_idade[1]:.0f} anos\")\n",
    "# Taxa de sobreviventes por sexo\n",
    "agrupado_sexo_sobreviventes = df_processado.query(\"Survived == 1\").groupby([\"Sex\"]).count()\n",
    "porcentagem_feminino_sobreviventes = (agrupado_sexo_sobreviventes[\"PassengerId\"][0]/agrupado_sexo_total[\"PassengerId\"][0])*100\n",
    "porcentagem_masculino_sobreviventes = (agrupado_sexo_sobreviventes[\"PassengerId\"][1]/agrupado_sexo_total[\"PassengerId\"][1])*100\n",
    "\n",
    "print(f\"A porcentagem de sobreviventes do sexo feminino é {porcentagem_feminino_sobreviventes:.2f}%\")\n",
    "print(f\"A porcentagem de sobreviventes do sexo masculino é {porcentagem_masculino_sobreviventes:.2f}%\")"
   ]
  },
  {
   "cell_type": "code",
   "execution_count": null,
   "metadata": {},
   "outputs": [],
   "source": [
    "import matplotlib.pyplot as plt\n",
    "\n",
    "porcentagem_sexo.plot(kind=\"bar\", color=\"purple\")\n",
    "plt.xlabel(\"Sexo do Passageiro\")\n",
    "plt.ylabel(\"%\")\n",
    "plt.title(\"Porcentagem de Passageiros por Sexo\")"
   ]
  },
  {
   "cell_type": "code",
   "execution_count": null,
   "metadata": {},
   "outputs": [],
   "source": [
    "((agrupado_sexo_sobreviventes[\"PassengerId\"]/agrupado_sexo_total[\"PassengerId\"])*100).plot(kind=\"bar\", color=\"purple\")\n",
    "plt.xlabel(\"Sexo do Passageiro\")\n",
    "plt.ylabel(\"%\")\n",
    "plt.title(\"Porcentagem de passageiros sobreviventes por sexo\")"
   ]
  },
  {
   "cell_type": "code",
   "execution_count": null,
   "metadata": {},
   "outputs": [],
   "source": [
    "import seaborn as sns\n",
    "\n",
    "sns.violinplot(x=df_processado[\"Sex\"], y=df_processado[\"Age\"])\n",
    "plt.title(\"Distribuição etária por sexo\")"
   ]
  },
  {
   "cell_type": "code",
   "execution_count": null,
   "metadata": {},
   "outputs": [],
   "source": [
    "sns.violinplot(x=df_processado[\"Pclass\"], y=df_processado[\"Age\"])\n",
    "plt.title(\"Distribuição etária por classe\")"
   ]
  },
  {
   "cell_type": "markdown",
   "metadata": {},
   "source": [
    "## Principais observações\n",
    "- A média de tarifa paga nos tickets foi de $34.69. O maior preço pago pelo ticket foi $512.32\n",
    "- A média de idade dos tripulantes foi de 29 anos. A idade mínima foi de 0.42 e máxima de 80 anos\n",
    "- Tivemos 453 homens e 261 mulheres no navio\n",
    "- A média de idade das pessoas do sexo feminino era de 28 anos, enquanto das pessoas do sexo masculino era de 31 anos\n",
    "- 75.48% das pessoas do sexo feminino sobreviveram ao naufrágio, enquanto apenas 20.53% das pessoas do sexo masculino sobreviveram\n",
    "- A média de idade da classe 1 é a maior, enquanto da classe 3 é a menor, com maior concentração de pessoas mais jovens\n",
    "- O porto de onde tivemos o maior número de tripulantes foi S com __%. Em seguida, tivemos o porto __ com __%\n",
    "- __% dos tripulantes eram da classe __\n",
    "- __% das pessoas da classe __ sobreviveram ao naufrágio, enquanto apenas __% das pessoas da classe __ foram sobreviventes\n",
    "- __% das pessoas da classe 3 eram do sexo __, enquanto __% das pessoas da classe 1 eram do sexo __\n",
    "- A média de preço paga pelas pessoas do sexo masculino foi de $__, enquanto a média de preço paga pelas pessoas do sexo feminino foi de $_\n",
    "- A média de preço paga pelas pessoas da classe 1 foi de $_, enquanto a média de preço paga pelas pessoas da classe 3 foi de $__\n",
    "- Distribuição de classes por porto de embarque: "
   ]
  }
 ],
 "metadata": {
  "kernelspec": {
   "display_name": "base",
   "language": "python",
   "name": "python3"
  },
  "language_info": {
   "codemirror_mode": {
    "name": "ipython",
    "version": 3
   },
   "file_extension": ".py",
   "mimetype": "text/x-python",
   "name": "python",
   "nbconvert_exporter": "python",
   "pygments_lexer": "ipython3",
   "version": "3.11.5"
  }
 },
 "nbformat": 4,
 "nbformat_minor": 2
}

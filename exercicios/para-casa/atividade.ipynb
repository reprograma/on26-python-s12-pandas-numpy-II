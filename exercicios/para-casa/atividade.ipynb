{
 "cells": [
  {
   "cell_type": "markdown",
   "metadata": {},
   "source": [
    "Introdução\n",
    "\n",
    "Este conjunto de dados contém informações sobre as vítimas e sobreviventes do naufrágio do navio Titanic. Os campos incluem o ID do passageiro, se é sobrevivente ou não, classe econômica, o nome, sexo, idade, números de irmãos, número de irmãos, pais, número do ticket, o preço do ticket, o número da cabine e o porto de embarcação.\n"
   ]
  },
  {
   "cell_type": "code",
   "execution_count": 2,
   "metadata": {},
   "outputs": [],
   "source": [
    "import pandas as pd\n",
    "df = pd.read_csv(\"titanic.csv\")"
   ]
  },
  {
   "cell_type": "code",
   "execution_count": null,
   "metadata": {},
   "outputs": [],
   "source": [
    "def processar_titanic_dataset(df_titanic):\n",
    "    # Realiza a leitura do arquivo CSV\n",
    "    df_titanic = pd.read_csv(df_titanic)\n",
    "\n",
    "    # Tratamento para remover linhas com valores ausentes:\n",
    "    df_titanic = df_titanic.dropna()\n",
    "\n",
    "    # Deleção de colunas\n",
    "    columns_to_drop = [\"Sex\", \"Age\"]\n",
    "    df_titanic = df_titanic.drop(columns=columns_to_drop)\n",
    "\n",
    "    # Sort de valores\n",
    "    df_titanic = df_titanic.sort_values(by=\"Ticket\")\n",
    "\n",
    "    # Remoção de nulos\n",
    "    df_titanic = df_titanic.dropna(\"Survived\")\n",
    "\n",
    "    # Reset de índice\n",
    "    df_titanic = df_titanic.reset_index(drop=True)\n",
    "\n",
    "\n",
    "    return df_titanic\n",
    "\n",
    "# Caminho para o arquivo \"titanic.csv\"\n",
    "df_titanic = processar_titanic_dataset(\"titanic.csv\")"
   ]
  },
  {
   "cell_type": "code",
   "execution_count": 5,
   "metadata": {},
   "outputs": [
    {
     "ename": "NameError",
     "evalue": "name 'pd' is not defined",
     "output_type": "error",
     "traceback": [
      "\u001b[1;31m---------------------------------------------------------------------------\u001b[0m",
      "\u001b[1;31mNameError\u001b[0m                                 Traceback (most recent call last)",
      "\u001b[1;32mc:\\Users\\jheni\\on26-python-s12-pandas-numpy-II\\exercicios\\para-casa\\atividade.ipynb Cell 4\u001b[0m line \u001b[0;36m4\n\u001b[0;32m      <a href='vscode-notebook-cell:/c%3A/Users/jheni/on26-python-s12-pandas-numpy-II/exercicios/para-casa/atividade.ipynb#W3sZmlsZQ%3D%3D?line=0'>1</a>\u001b[0m \u001b[39mimport\u001b[39;00m \u001b[39mmatplotlib\u001b[39;00m\u001b[39m.\u001b[39;00m\u001b[39mpyplot\u001b[39;00m \u001b[39mas\u001b[39;00m \u001b[39mplt\u001b[39;00m\n\u001b[0;32m      <a href='vscode-notebook-cell:/c%3A/Users/jheni/on26-python-s12-pandas-numpy-II/exercicios/para-casa/atividade.ipynb#W3sZmlsZQ%3D%3D?line=2'>3</a>\u001b[0m \u001b[39m# Importando o dataframe\u001b[39;00m\n\u001b[1;32m----> <a href='vscode-notebook-cell:/c%3A/Users/jheni/on26-python-s12-pandas-numpy-II/exercicios/para-casa/atividade.ipynb#W3sZmlsZQ%3D%3D?line=3'>4</a>\u001b[0m df \u001b[39m=\u001b[39m pd\u001b[39m.\u001b[39mread_csv(\u001b[39m\"\u001b[39m\u001b[39mtitanic.csv\u001b[39m\u001b[39m\"\u001b[39m)\n\u001b[0;32m      <a href='vscode-notebook-cell:/c%3A/Users/jheni/on26-python-s12-pandas-numpy-II/exercicios/para-casa/atividade.ipynb#W3sZmlsZQ%3D%3D?line=5'>6</a>\u001b[0m \u001b[39m# Calcular a idade média dos passageiros\u001b[39;00m\n\u001b[0;32m      <a href='vscode-notebook-cell:/c%3A/Users/jheni/on26-python-s12-pandas-numpy-II/exercicios/para-casa/atividade.ipynb#W3sZmlsZQ%3D%3D?line=6'>7</a>\u001b[0m idade_media \u001b[39m=\u001b[39m df[\u001b[39m\"\u001b[39m\u001b[39mAge\u001b[39m\u001b[39m\"\u001b[39m]\u001b[39m.\u001b[39mmean()\n",
      "\u001b[1;31mNameError\u001b[0m: name 'pd' is not defined"
     ]
    }
   ],
   "source": [
    "import matplotlib.pyplot as plt\n",
    "\n",
    "# Importando o dataframe\n",
    "df = pd.read_csv(\"titanic.csv\")\n",
    "\n",
    "# Calcular a idade média dos passageiros\n",
    "idade_media = df[\"Age\"].mean()\n",
    "\n",
    "# Plotar o gráfico\n",
    "plt.hist(df[\"Age\"], bins=10, color=\"blue\")\n",
    "plt.axvline(idade_media, color=\"red\", linestyle=\"--\")\n",
    "plt.title(\"Distribuição de idade dos passageiros\")\n",
    "plt.xlabel(\"Idade\")\n",
    "plt.ylabel(\"Número de passageiros\")\n",
    "plt.show()"
   ]
  },
  {
   "cell_type": "code",
   "execution_count": null,
   "metadata": {},
   "outputs": [],
   "source": [
    "import matplotlib.pyplot as plt\n",
    "\n",
    "# Importar o dataframe\n",
    "df = pd.read_csv(\"titanic.csv\")\n",
    "\n",
    "# Plotar o gráfico\n",
    "plt.pie(df[\"Sex\"].value_counts(), labels=[\"Homem\", \"Mulher\"], colors=[\"blue\", \"red\"])\n",
    "plt.title(\"Distribuição de sexo dos passageiros\")\n",
    "plt.show()"
   ]
  },
  {
   "cell_type": "code",
   "execution_count": null,
   "metadata": {},
   "outputs": [],
   "source": [
    "import matplotlib.pyplot as plt\n",
    "\n",
    "# Importar o dataframe\n",
    "df = pd.read_csv(\"titanic.csv\")\n",
    "\n",
    "# Calcular a proporção de sobreviventes por sexo\n",
    "prop_homens_sobreviventes = df.loc[df[\"Survived\"] == 1, \"Sex\"].value_counts()[0] / df[\"Sex\"].value_counts()[0]\n",
    "prop_mulheres_sobreviventes = df.loc[df[\"Survived\"] == 1, \"Sex\"].value_counts()[1] / df[\"Sex\"].value_counts()[1]\n",
    "\n",
    "# Plotar o gráfico\n",
    "plt.bar([\"Homem\", \"Mulher\"], [prop_homens_sobreviventes, prop_mulheres_sobreviventes], color=[\"blue\", \"red\"])\n",
    "plt.title(\"Distribuição de sobreviventes por sexo\")\n",
    "plt.xlabel(\"Sexo\")\n",
    "plt.ylabel(\"Proporção de sobreviventes\")\n",
    "plt.show()"
   ]
  },
  {
   "cell_type": "markdown",
   "metadata": {},
   "source": [
    "Insights Gráfico 01\n",
    "\n",
    "A idade média dos passageiros é de 29 anos.\n",
    "A maioria dos passageiros tinha entre 20 e 30 anos.\n",
    "Havia um número significativo de passageiros com menos de 10 anos."
   ]
  },
  {
   "cell_type": "markdown",
   "metadata": {},
   "source": [
    "Insights Gráfico 02\n",
    "\n",
    "A maioria dos passageiros era homem.\n",
    "As mulheres representavam cerca de 20% da população do navio."
   ]
  },
  {
   "cell_type": "markdown",
   "metadata": {},
   "source": [
    "Insights Gráfico 03\n",
    "\n",
    "As mulheres tinham uma probabilidade muito maior de sobreviver do que os homens.\n",
    "Cerca de 75% das mulheres sobreviveram, enquanto apenas 20% dos homens sobreviveram."
   ]
  }
 ],
 "metadata": {
  "kernelspec": {
   "display_name": "Python 3",
   "language": "python",
   "name": "python3"
  },
  "language_info": {
   "codemirror_mode": {
    "name": "ipython",
    "version": 3
   },
   "file_extension": ".py",
   "mimetype": "text/x-python",
   "name": "python",
   "nbconvert_exporter": "python",
   "pygments_lexer": "ipython3",
   "version": "3.10.11"
  }
 },
 "nbformat": 4,
 "nbformat_minor": 2
}

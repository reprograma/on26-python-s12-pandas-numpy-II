{
 "cells": [
  {
   "cell_type": "markdown",
   "metadata": {},
   "source": [
    "## Sobre o banco de dados"
   ]
  },
  {
   "cell_type": "markdown",
   "metadata": {},
   "source": [
    "Dados coletados entre 2022 e 2023 pela Eurostat, uma organização europeia de estatística, que dizem respeito ao fluxo de imigrantes nos países da União Europeia. "
   ]
  },
  {
   "cell_type": "markdown",
   "metadata": {},
   "source": [
    "### Importação das bibliotecas e leitura do arquivo csv"
   ]
  },
  {
   "cell_type": "code",
   "execution_count": null,
   "metadata": {},
   "outputs": [],
   "source": [
    "import pandas as pd\n",
    "import matplotlib.pyplot as plt\n",
    "import numpy as np\n",
    "\n",
    "df = pd.read_csv('EU Immigrants.csv')\n",
    "df"
   ]
  },
  {
   "cell_type": "markdown",
   "metadata": {},
   "source": [
    "## Função de tratamento do banco de dados"
   ]
  },
  {
   "cell_type": "markdown",
   "metadata": {},
   "source": [
    "Objetivos da função:\n",
    "* Excluir as últimas linhas, que estão vazias\n",
    "* Exibir métricas\n",
    "* Exibir as 6 primeiras linhas\n",
    "* Exibir a lista de colunas "
   ]
  },
  {
   "cell_type": "code",
   "execution_count": 3,
   "metadata": {},
   "outputs": [],
   "source": [
    "df_copia = df.copy()\n"
   ]
  },
  {
   "cell_type": "code",
   "execution_count": 4,
   "metadata": {},
   "outputs": [],
   "source": [
    "def processamento_df_copia(df):\n",
    "    head = df.head(6)\n",
    "    remove_null = df.dropna(subset=['EU COUNTRIES'], inplace=True)  #remove as 34 linhas finais, que estão vazias\n",
    "    description = df.describe()\n",
    "    list_of_columns = df.columns\n",
    "    return head, remove_null, description, list_of_columns\n"
   ]
  },
  {
   "cell_type": "code",
   "execution_count": 5,
   "metadata": {},
   "outputs": [],
   "source": [
    "head, remove_null, description, list_of_columns = processamento_df_copia(df_copia)\n"
   ]
  },
  {
   "cell_type": "code",
   "execution_count": null,
   "metadata": {},
   "outputs": [],
   "source": [
    "head"
   ]
  },
  {
   "cell_type": "code",
   "execution_count": 19,
   "metadata": {},
   "outputs": [],
   "source": [
    "#Remoção as linhas vazias ao final da base de dados\n",
    "remove_null"
   ]
  },
  {
   "cell_type": "code",
   "execution_count": null,
   "metadata": {},
   "outputs": [],
   "source": [
    "#Display da base de dados sem as linhas vazias ao final\n",
    "df_copia"
   ]
  },
  {
   "cell_type": "code",
   "execution_count": null,
   "metadata": {},
   "outputs": [],
   "source": [
    "description.T"
   ]
  },
  {
   "cell_type": "code",
   "execution_count": null,
   "metadata": {},
   "outputs": [],
   "source": [
    "list_of_columns"
   ]
  },
  {
   "cell_type": "markdown",
   "metadata": {},
   "source": [
    "### Tradução do cabeçalho e da primeira coluna da base de dados, que lista o nome dos países"
   ]
  },
  {
   "cell_type": "code",
   "execution_count": 10,
   "metadata": {},
   "outputs": [
    {
     "data": {
      "text/plain": [
       "dict_items([('EU COUNTRIES', 'PAÍSES DA UE'), ('TOTAL IMMIGRANTS(IN THOUSANDS)', 'TOTAL DE IMIGRANTES (MILHARES)'), ('IMMIGRANTS WITH NATIONALITY(THOUSANDS)', 'IMIGRANTES COM NACIONALIDADE (MILHARES)'), ('IMMIGRANTS WITH NATIONALITY(%age)', 'IMIGRANTES COM NACIONALIDADE (%)'), ('NON-NATIONAL IMMIGRANTS (THOUSANDS)', 'IMIGRANTES NÃO NACIONAIS (MILHARES)'), ('NON-NATIONAL IMMIGRANTS (%age)', 'IMIGRANTES NÃO NACIONAIS (%)'), ('NON_NATIONAL IMMIGRANTS FROM OTHER EU MEMBER STATES(THOUSANDS)', 'IMIGRANTES NÃO NACIONAIS DE PAÍSES-MEMBROS DA UE (MILHARES)'), ('NON_NATIONAL IMMIGRANTS FROM OTHER EU MEMBER STATES(%age)', 'IMIGRANTES NÃO NACIONAIS DE PAÍSES-MEMBROS DA UE (%)'), ('NON_NATIONAL IMMIGRANTS FROM NON-EU STATES(THOUSANDS)', 'IMIGRANTES NÃO NACIONAIS DE PAÍSES NÃO INTEGRANTES DA UE (MILHARES)'), ('NON_NATIONAL IMMIGRANTS FROM NON-EU STATES(%age)', 'IMIGRANTES NÃO NACIONAIS DE PAÍSES NÃO INTEGRANTES DA UE (%)'), ('STATELESS IMMIGRANTS(THOUSANDS)', 'IMIGRANTES APÁTRIDAS (MILHARES)'), ('STATELESS IMMIGRANTS(%age)', 'IMIGRANTES APÁTRIDAS (%)'), ('NUMBER OF IMMIGRANTS(PER THOUSAND INHABITANTS)', 'NÚMERO DE IMIGRANTES (A CADA MIL HABITANTES)'), ('DISTRIBUTION OF IMMIGRANTS IN %AGE (NATIONALS)', 'DISTRIBUIÇÃO DOS IMIGRANTES NACIONAIS (%)'), ('DISTRIBUTION OF IMMIGRANTS IN %AGE (NON-NATIONALS)', 'DISTRIBUIÇÃO DOS IMIGRANTES NÃO NACIONAIS (%)'), ('DISTRIBUTION OF IMMIGRANTS IN %AGE(UNKNOWN)', 'DISTRIBUIÇÃO DOS IMIGRANTES COM ORIGEM DESCONHECIDA (%)'), ('PERCENTAGE OF IMMIGRANTS BY SEX(MALE)', 'IMIGRANTES HOMENS (%)'), ('PERCENTAGE OF IMMIGRANTS BY SEX(FEMALE)', 'IMIGRANTES MULHERES (%)'), ('%AGE OF NON-NATIONAL IMMIGRANTS IN TOTAL POPULATION(CITIZENS OF EU MEMBER STATES)', 'IMIGRANTES NÃO NACIONAIS ORIUNDOS DE PAÍSES-MEMBROS DA UE NA POPULAÇÃO TOTAL (%)'), ('%AGE OF NON-NATIONAL IMMIGRANTS IN TOTAL POPULATION(CITIZENS OF NON-EU COUNTRIES)', 'IMIGRANTES NÃO NACIONAIS NÃO ORIUNDOS DE PAÍSES-MEMBROS DA UE NA POPULAÇÃO TOTAL (%)'), ('%AGE OF FOREIGN BORN IMMIGRANTS BY TOTAL POPULATION', 'IMIGRANTES NASCIDOS EM OUTRO PAÍS NO TOTAL DA POPULAÇÃO (%)'), ('%AGE OF BORN IN ANOTHER EU-MEMBER STATES', 'IMIGRANTES NASCIDOS EM OUTRO PAÍS-MEMBRO DA UE'), ('%AGE OF BORN IN NON-EU COUNTRY', 'IMIGRANTES NASCIDOS EM PAÍS NÃO INTEGRANTE DA UE')])"
      ]
     },
     "execution_count": 10,
     "metadata": {},
     "output_type": "execute_result"
    }
   ],
   "source": [
    "dict_traduzido.items()"
   ]
  },
  {
   "cell_type": "code",
   "execution_count": null,
   "metadata": {},
   "outputs": [],
   "source": [
    "dict_traduzido = {\n",
    "    'EU COUNTRIES': 'PAÍSES DA UE',\n",
    "    'TOTAL IMMIGRANTS(IN THOUSANDS)': 'TOTAL DE IMIGRANTES (MILHARES)',\n",
    "    'IMMIGRANTS WITH NATIONALITY(THOUSANDS)': 'IMIGRANTES COM NACIONALIDADE (MILHARES)',\n",
    "    'IMMIGRANTS WITH NATIONALITY(%age)': 'IMIGRANTES COM NACIONALIDADE (%)',\n",
    "    'NON-NATIONAL IMMIGRANTS (THOUSANDS)': 'IMIGRANTES NÃO NACIONAIS (MILHARES)', \n",
    "    'NON-NATIONAL IMMIGRANTS (%age)': 'IMIGRANTES NÃO NACIONAIS (%)',\n",
    "    'NON_NATIONAL IMMIGRANTS FROM OTHER EU MEMBER STATES(THOUSANDS)': 'IMIGRANTES NÃO NACIONAIS DE PAÍSES-MEMBROS DA UE (MILHARES)',\n",
    "    'NON_NATIONAL IMMIGRANTS FROM OTHER EU MEMBER STATES(%age)': 'IMIGRANTES NÃO NACIONAIS DE PAÍSES-MEMBROS DA UE (%)',\n",
    "    'NON_NATIONAL IMMIGRANTS FROM NON-EU STATES(THOUSANDS)': 'IMIGRANTES NÃO NACIONAIS DE PAÍSES NÃO INTEGRANTES DA UE (MILHARES)',\n",
    "    'NON_NATIONAL IMMIGRANTS FROM NON-EU STATES(%age)': 'IMIGRANTES NÃO NACIONAIS DE PAÍSES NÃO INTEGRANTES DA UE (%)',\n",
    "    'STATELESS IMMIGRANTS(THOUSANDS)': 'IMIGRANTES APÁTRIDAS (MILHARES)', \n",
    "    'STATELESS IMMIGRANTS(%age)': 'IMIGRANTES APÁTRIDAS (%)',\n",
    "    'NUMBER OF IMMIGRANTS(PER THOUSAND INHABITANTS)': 'NÚMERO DE IMIGRANTES (A CADA MIL HABITANTES)',\n",
    "    'DISTRIBUTION OF IMMIGRANTS IN %AGE (NATIONALS)': 'DISTRIBUIÇÃO DOS IMIGRANTES NACIONAIS (%)',\n",
    "    'DISTRIBUTION OF IMMIGRANTS IN %AGE (NON-NATIONALS)': 'DISTRIBUIÇÃO DOS IMIGRANTES NÃO NACIONAIS (%)',\n",
    "    'DISTRIBUTION OF IMMIGRANTS IN %AGE(UNKNOWN)': 'DISTRIBUIÇÃO DOS IMIGRANTES COM ORIGEM DESCONHECIDA (%)',\n",
    "    'PERCENTAGE OF IMMIGRANTS BY SEX(MALE)': 'IMIGRANTES HOMENS (%)',\n",
    "    'PERCENTAGE OF IMMIGRANTS BY SEX(FEMALE)': 'IMIGRANTES MULHERES (%)',\n",
    "    '%AGE OF NON-NATIONAL IMMIGRANTS IN TOTAL POPULATION(CITIZENS OF EU MEMBER STATES)': 'IMIGRANTES NÃO NACIONAIS ORIUNDOS DE PAÍSES-MEMBROS DA UE NA POPULAÇÃO TOTAL (%)',\n",
    "    '%AGE OF NON-NATIONAL IMMIGRANTS IN TOTAL POPULATION(CITIZENS OF NON-EU COUNTRIES)': 'IMIGRANTES NÃO NACIONAIS NÃO ORIUNDOS DE PAÍSES-MEMBROS DA UE NA POPULAÇÃO TOTAL (%)', \n",
    "    '%AGE OF FOREIGN BORN IMMIGRANTS BY TOTAL POPULATION': 'IMIGRANTES NASCIDOS EM OUTRO PAÍS NO TOTAL DA POPULAÇÃO (%)',\n",
    "    '%AGE OF BORN IN ANOTHER EU-MEMBER STATES': 'IMIGRANTES NASCIDOS EM OUTRO PAÍS-MEMBRO DA UE',\n",
    "    '%AGE OF BORN IN NON-EU COUNTRY': 'IMIGRANTES NASCIDOS EM PAÍS NÃO INTEGRANTE DA UE'\n",
    "\n",
    "}\n",
    "colunas_traduzidas = []\n",
    "\n",
    "for chave, valor in dict_traduzido.items():\n",
    "    colunas_traduzidas.append(valor)\n",
    "\n",
    "colunas_traduzidas"
   ]
  },
  {
   "cell_type": "code",
   "execution_count": null,
   "metadata": {},
   "outputs": [],
   "source": [
    "df_copia.columns = colunas_traduzidas\n",
    "df_copia\n"
   ]
  },
  {
   "cell_type": "code",
   "execution_count": 74,
   "metadata": {},
   "outputs": [],
   "source": [
    "#tentativa de traduzir a coluna com o nome dos países usando a função map() (não deu certo)\n",
    "dict_traduzir_paises = {\n",
    "    'Austria': 'Austria',\n",
    "    'Belgium': 'Bélgica',\n",
    "    'Bulgaria': 'Bulgária',\n",
    "    'Croatia': 'Croácia',\n",
    "    'Cyprus': 'Chipre',\n",
    "    'Czechia': 'República Tcheca',\n",
    "    'Denmark': 'Dinamarca',\n",
    "    'Estonia': 'Estonia',\n",
    "    'Finland': 'Finlandia',\n",
    "    'France': 'França',\n",
    "    'Germany': 'Alemanha',\n",
    "    'Greece': 'Grécia',\n",
    "    'Hungary': 'Hungria',\n",
    "    'Iceland': 'Islandia',\n",
    "    'Ireland': 'Irlanda',\n",
    "    'Italy': 'Itália',\n",
    "    'Latvia': 'Letonia',\n",
    "    'Liechtenstein': 'Liechtenstein',\n",
    "    'Lithuania': 'Lituania',\n",
    "    'Luxembourg': 'Luxemburgo',\n",
    "    'Malta': 'Malta',\n",
    "    'Netherlands': 'Holanda',\n",
    "    'Norway': 'Noruega',\n",
    "    'Poland': 'Polonia',\n",
    "    'Portugal': 'Portugal',\n",
    "    'Romania': 'Romenia',\n",
    "    'Slovakia': 'Eslováquia',\n",
    "    'Slovenia': 'Eslovenia',\n",
    "    'Spain': 'Espanha',\n",
    "    'Sweden': 'Suécia',\n",
    "    'Switzerland': 'Suíça',\n",
    "\n",
    "                        }"
   ]
  },
  {
   "cell_type": "code",
   "execution_count": null,
   "metadata": {},
   "outputs": [],
   "source": [
    "#NÃO DEU CERTO\n",
    "df_copia['PAÍSES DA UE'].map(dict_traduzir_paises).head(10)"
   ]
  },
  {
   "cell_type": "code",
   "execution_count": null,
   "metadata": {},
   "outputs": [],
   "source": [
    "#Tradução da coluna com o nome dos países (desta vez deu certo)\n",
    " \n",
    "df_copia_traduzido = df_copia.replace([\"\"'Austria', 'Belgium', 'Bulgaria', 'Croatia', 'Cyprus', 'Czechia','Denmark', 'Estonia', \n",
    "                  'Finland', 'France', 'Germany', 'Greece', 'Hungary', 'Iceland', 'Ireland', 'Italy', 'Latvia', 'Liechtenstein', \n",
    "                  'Lithuania', 'Luxembourg', 'Malta', 'Netherlands', 'Norway', 'Poland', 'Portugal', 'Romania', 'Slovakia', 'Slovenia', 'Spain', \n",
    "                  'Sweden', 'Switzerland' ], \n",
    "                  ['Austria', 'Bélgica', 'Bulgária', 'Croácia', 'Chipre', 'República Tcheca', 'Dinamarca', 'Estônia', 'Finlandia', 'França', 'Alemanha',\n",
    "                   'Grécia', 'Hungria', 'Islandia', 'Irlanda', 'Itália', 'Letonia', 'Liechtenstein', 'Lituania', 'Luxemburgo', 'Malta', 'Holanda', 'Noruega', 'Polonia',\n",
    "                   'Portugal', 'Romenia', 'Eslováquia', 'Eslovenia', 'Espanha', 'Suécia', 'Suíça'\"\"])\n",
    "\n",
    "df_copia_traduzido"
   ]
  },
  {
   "cell_type": "code",
   "execution_count": 13,
   "metadata": {},
   "outputs": [],
   "source": [
    "df_copia_traduzido.sort_values(['PAÍSES DA UE'], ascending=True, inplace=True)"
   ]
  },
  {
   "cell_type": "code",
   "execution_count": 14,
   "metadata": {},
   "outputs": [],
   "source": [
    "df_copia_traduzido.reset_index(drop=True, inplace=True)"
   ]
  },
  {
   "cell_type": "code",
   "execution_count": null,
   "metadata": {},
   "outputs": [],
   "source": [
    "df_copia_traduzido"
   ]
  },
  {
   "cell_type": "code",
   "execution_count": null,
   "metadata": {},
   "outputs": [],
   "source": [
    "df_copia_traduzido.columns"
   ]
  },
  {
   "cell_type": "markdown",
   "metadata": {},
   "source": [
    "# Gráficos\n",
    "\n"
   ]
  },
  {
   "cell_type": "markdown",
   "metadata": {},
   "source": [
    "### Gráficos relacionados aos países nórdicos"
   ]
  },
  {
   "cell_type": "code",
   "execution_count": null,
   "metadata": {},
   "outputs": [],
   "source": [
    "df_nordicos = df_copia_traduzido.loc[[6, 11, 17, 24, 29], :]\n",
    "df_nordicos"
   ]
  },
  {
   "cell_type": "code",
   "execution_count": null,
   "metadata": {},
   "outputs": [],
   "source": [
    "# Dados\n",
    "x = ['Dinamarca', 'Finlandia', 'Islandia', 'Noruega', 'Suécia']\n",
    "y = [63.5, 36.4, 9.0, 53.9, 90.6]\n",
    "\n",
    "# Criar uma figura e um eixo\n",
    "fig, ax = plt.subplots()\n",
    "\n",
    "ax.plot(x, y, color='green', linestyle='--', marker='o')\n",
    "\n",
    "\n",
    "ax.set_title('Total de imigrantes em cada país nórdico (milhares)')\n",
    "\n",
    "plt.show()"
   ]
  },
  {
   "cell_type": "code",
   "execution_count": null,
   "metadata": {},
   "outputs": [],
   "source": [
    "valores_homem = [54.2, 55.5, 58.0, 54.4, 51.3]\n",
    "valores_mulher = [45.8, 44.5, 42.0, 45.6, 48.7]\n",
    "\n",
    "\n",
    "barWidth = 0.20\n",
    "\n",
    "plt.figure(figsize=(10,5))\n",
    "\n",
    "b1 = np.arange(len(valores_homem))\n",
    "b2 = [x + barWidth for x in b1] \n",
    "\n",
    "plt.bar(b1, valores_homem, color = 'orange', width=barWidth, label='Homem')\n",
    "plt.bar(b2, valores_mulher, color = 'green', width=barWidth, label='Mulher')\n",
    "\n",
    "\n",
    "plt.xticks([r + barWidth for r in range(len(valores_homem))], ['Dinamarca', 'Finlandia', 'Islandia', 'Noruega', 'Suécia'])\n",
    "plt.ylabel('Percentual')\n",
    "plt.title('Porcentagem de imigrantes por genero nos Países Nórdicos')\n",
    "\n",
    "plt.legend()\n",
    "plt.show()\n"
   ]
  },
  {
   "cell_type": "code",
   "execution_count": null,
   "metadata": {},
   "outputs": [],
   "source": [
    "labels = ['Dinamarca', 'Finlandia', 'Islandia', 'Noruega', 'Suécia']\n",
    "sizes = [4.2, 2.3, 12.6, 6.7, 5.1]\n",
    "\n",
    "#Criando uma figura e um eixo\n",
    "fig1, ax1 = plt.subplots()\n",
    "\n",
    "ax1.pie(sizes, labels=labels, autopct = '%0.1f%%') #é possível colocar o valor correspondente a fatia usando o parametro autopct (aqui está definido que o valor terá 1 casa decimal)\n",
    "\n",
    "\n",
    "ax1.axis('equal')\n",
    "plt.suptitle('População de imigrantes nascidos em outro país da UE (Países Nórdicos)')\n",
    "plt.show()"
   ]
  },
  {
   "cell_type": "markdown",
   "metadata": {},
   "source": [
    "### Gráficos relacionados aos países mediterraneos"
   ]
  },
  {
   "cell_type": "code",
   "execution_count": null,
   "metadata": {},
   "outputs": [],
   "source": [
    "df_mediterraneos = df_copia_traduzido.loc[[9, 13, 23, 26], :]\n",
    "df_mediterraneos"
   ]
  },
  {
   "cell_type": "code",
   "execution_count": null,
   "metadata": {},
   "outputs": [],
   "source": [
    "names = ['Espanha', 'Grécia', 'Malta','Portugal']\n",
    "values = [12, 9.1, 15.7, 8.8]\n",
    "\n",
    "\n",
    "plt.suptitle('População de imigrantes nascidos em país não integrante da UE (em %)')\n",
    "\n",
    "plt.bar(names, values, color = 'purple')\n",
    "\n",
    "plt.show()"
   ]
  },
  {
   "cell_type": "code",
   "execution_count": null,
   "metadata": {},
   "outputs": [],
   "source": [
    "labels = ['Homens', 'Mulheres']\n",
    "sizes = [51.6, 48.4]\n",
    "\n",
    "fig1, ax1 = plt.subplots()\n",
    "\n",
    "ax1.pie(sizes, labels=labels, autopct = '%0.2f%%') \n",
    "ax1.axis('equal')\n",
    "plt.suptitle('População de imigrantes por genero (Espanha)')\n",
    "plt.show()"
   ]
  },
  {
   "cell_type": "code",
   "execution_count": null,
   "metadata": {},
   "outputs": [],
   "source": [
    "labels = ['Homens', 'Mulheres']\n",
    "sizes = [50.9, 49.1]\n",
    "\n",
    "fig1, ax1 = plt.subplots()\n",
    "\n",
    "ax1.pie(sizes, labels=labels, autopct = '%0.2f%%') \n",
    "\n",
    "ax1.axis('equal')\n",
    "plt.suptitle('População de imigrantes por genero (Portugal)')\n",
    "plt.show()"
   ]
  }
 ],
 "metadata": {
  "kernelspec": {
   "display_name": "Python 3",
   "language": "python",
   "name": "python3"
  },
  "language_info": {
   "codemirror_mode": {
    "name": "ipython",
    "version": 3
   },
   "file_extension": ".py",
   "mimetype": "text/x-python",
   "name": "python",
   "nbconvert_exporter": "python",
   "pygments_lexer": "ipython3",
   "version": "3.11.1"
  }
 },
 "nbformat": 4,
 "nbformat_minor": 2
}

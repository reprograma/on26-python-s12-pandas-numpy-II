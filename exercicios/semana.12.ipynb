Introdução: 
O código realiza análise de dados do Titanic, utilizei as bibliotecas aplicadas nas últimas semanas Panda, Numpy e Matplotlib.

Utilizei a leitura pela url externa e armazena um DataFrame.

Exibe uma breve descrição dos primeiros registros do DataFrame para fornecer uma visão inicial dos dados.

Gráficos: 

Inseri mais de 3 gráficos como insights para análises mais profundas sobre os dados iniciais do csv.

Os insights que apliquei nos gráficos obtive da dinâmica da primeira aula, foram perguntas que me fiz sobre o estudo feito no banco de dados como:

- Contagem de passageiros por porto de embarque

- Taxa de sobrevivência por classe (trago uma adendo, porque me questionei sobre a posição das cabines e taxa de sobrevivência pelo valor do ticket, não consegui cruzar esses dados).

- Distribuição de tarifas pagas.

- Distribuição de idades dos passageiros por classe. 


import pandas as pd
import numpy as np

import matplotlib.pyplot as plt


url = 'https://raw.githubusercontent.com/datasciencedojo/datasets/master/titanic.csv'
df = pd.read_csv(url)

print("Breve descrição da base de dados:")
print(df.head())

Breve descrição da base de dados:
   PassengerId  Survived  Pclass  \
0            1         0       3   
1            2         1       1   
2            3         1       3   
3            4         1       1   
4            5         0       3   

                                                Name     Sex   Age  SibSp  \
0                            Braund, Mr. Owen Harris    male  22.0      1   
1  Cumings, Mrs. John Bradley (Florence Briggs Th...  female  38.0      1   
2                             Heikkinen, Miss. Laina  female  26.0      0   
3       Futrelle, Mrs. Jacques Heath (Lily May Peel)  female  35.0      1   
4                           Allen, Mr. William Henry    male  35.0      0   

   Parch            Ticket     Fare Cabin Embarked  
0      0         A/5 21171   7.2500   NaN        S  
1      0          PC 17599  71.2833   C85        C  
2      0  STON/O2. 3101282   7.9250   NaN        S  
3      0            113803  53.1000  C123        S  
4      0            373450   8.0500   NaN        S  


survival_by_class = df.groupby('Pclass')['Survived'].mean()
survival_by_class.plot(kind='bar', color=['lightgreen', 'lightblue', 'lightcoral'])
plt.title('Taxa de Sobrevivência por Classe')
plt.xlabel('Classe')
plt.ylabel('Taxa de Sobrevivência')
plt.show()

plt.hist(df['Fare'].dropna(), bins=20, color='gold')
plt.title('Distribuição de Tarifas Pagas pelos Passageiros')
plt.xlabel('Tarifa')
plt.ylabel('Frequência')
plt.show()

port_counts = df['Embarked'].value_counts()
port_counts.plot(kind='bar', color='lightblue')
plt.title('Contagem de Passageiros por Porto de Embarque')
plt.xlabel('Porto de Embarque')
plt.ylabel('Contagem')
plt.show()

gender_counts = df['Sex'].value_counts()
gender_counts.plot(kind='bar', color=['lightblue', 'lightcoral'])
plt.title('Contagem de Passageiros por Gênero')
plt.xlabel('Gênero')
plt.ylabel('Contagem')
plt.show()


survival_by_class = df.groupby('Pclass')['Survived'].mean()
survival_by_class.plot(kind='bar', color='lightgreen')
plt.title('Taxa de Sobrevivência por Classe')
plt.xlabel('Classe')
plt.ylabel('Taxa de Sobrevivência')
plt.show()

plt.figure(figsize=(8, 6))
for pclass in df['Pclass'].unique():
    age_data = df[df['Pclass'] == pclass]['Age'].dropna()
    plt.hist(age_data, bins=20, alpha=0.6, label=f'Classe {pclass}')
plt.title('Distribuição de Idades dos Passageiros por Classe')
plt.xlabel('Idade')
plt.ylabel('Frequência')
plt.legend()
plt.show()

url = 'https://raw.githubusercontent.com/datasciencedojo/datasets/master/titanic.csv'
df = pd.read_csv(url)

plt.figure(figsize=(8, 6))

class_names = ['Primeira Classe', 'Segunda Classe', 'Terceira Classe']

for pclass in df['Pclass'].unique():
    age_data = df[df['Pclass'] == pclass]['Age'].dropna()
    plt.hist(age_data, bins=20, alpha=0.6, label=class_names[pclass - 1])

plt.title('Distribuição de Idades dos Passageiros por Classe')
plt.xlabel('Idade')
plt.ylabel('Frequência')
plt.legend()
plt.show()

!pip install matplotlib

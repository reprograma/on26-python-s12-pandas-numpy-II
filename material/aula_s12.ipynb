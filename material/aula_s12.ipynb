{
 "cells": [
  {
   "cell_type": "markdown",
   "metadata": {
    "id": "aMKnRGLzS_me"
   },
   "source": [
    "# S12 -Tratamento de dados utilizando pandas e numpy - parte 2\n",
    "\n",
    "**Objetivo da aula:** Introduzir o conceito de visualização de dados e como utilizar consultas, filtros e agrupamentos em Pandas (com um pouco de matploblib) para a geração de gráficos com insights importantes ao contexto da análise. No fim, introduzir o conceito da biblioteca Numpy utilizando as duas bibliotecas (Numpy e Pandas) em um contexto de análise de dados.\n",
    "\n",
    "O dataset utilizado é o mesmo da aula anterior: 'Titanic'.\n"
   ]
  },
  {
   "cell_type": "markdown",
   "metadata": {
    "id": "PQilYsBgS_ml"
   },
   "source": [
    "## Pensamento analítico\n",
    "\n",
    "A capacidade analítica já é considerada um requisito básico entre determinados cargos e essa é uma habilidade fundamental para desenvolvedores e analistas de dados.\n",
    "\n",
    "A capacidade analítica está relacionada a outra qualificação de destaque no mercado atualmente: a tomada de decisão. Profissionais que entendem o que os dados mostram conseguem tomar decisões certeiras diante da estratégia do negócio pois embasam as suas decisões sempre que precisam dar passos importantes, projetando cenários e interpretando dados.\n",
    "\n",
    "### Como desenvolver a Capacidade Analítica?\n",
    "\n",
    "    - Desenvolver senso crítico na análise de situações\n",
    "    - Se expor a diferentes assuntos e ideias\n",
    "    - Fazer cursos relacionados à análise de dados\n",
    "    - Entender tipos de análises de dados\n",
    "    - Criar uma visão mais abrangente da sua área\n",
    "\n",
    "\n",
    "\n",
    "[Fonte](https://blog.somostera.com/lideranca-baseada-em-dados/capacidade-analitica)"
   ]
  },
  {
   "cell_type": "markdown",
   "metadata": {
    "id": "vZpmn9A8S_ml"
   },
   "source": [
    "**Dinâmica**: 20 minutos\n",
    "\n",
    "***Quais são os insights que gostaríamos de obter a partir dos dados que obtemos do dataset?***\n",
    "\n",
    "**Exemplo:** % de sobrevivência dada a sua classe, sexo, preço da passagem, idade, etc\n"
   ]
  },
  {
   "cell_type": "markdown",
   "metadata": {
    "id": "e_UiUp01S_mm"
   },
   "source": [
    "#### Visualização de dados\n",
    "\n",
    "O conceito de visualização de dados é bem simples. Ela nada mais é que a representação gráfica, estática ou em movimento, da análise de dados e indicadores de natureza variada.\n",
    "\n",
    "[Fonte](https://www.oncase.com.br/blog/data-analytics/visualizacao-de-dados/)\n",
    "\n",
    "[Fonte](https://www.cursospm3.com.br/blog/data-visualization-o-que-e-dataviz-e-importancia-para-produto/)\n",
    "\n",
    "[Fonte](https://www.linkedin.com/pulse/por-que-visualiza%C3%A7%C3%A3o-de-dados-%C3%A9-importante-para-voc%C3%AA-e-veiga-r-/?originalSubdomain=pt)\n",
    "\n",
    "[Importância da visualização de dados na era do Big Data](https://lume.ufrgs.br/handle/10183/169109)\n",
    "\n",
    "&nbsp;\n",
    "\n",
    "### Quarteto de Anscombe\n",
    "[Quarteto de Anscombe](https://acervolima.com/quarteto-de-anscombe/)\n",
    "\n",
    "O quarteto de Anscombe (Anscombe, 1973) é uma maneira de ilustrar a importância de visualizações na análise de dados. Deve-se sempre olhar um conjunto de dados graficamente antes de começar a qualquer análise. Em especial, são ilustrados diversos contextos nos quais as propriedades estatísticas básicas para descrever conjuntos de dados são inadequadas.\n",
    "\n",
    "[Fonte](https://storopoli.io/Estatistica/aux-Anscombe.html)\n",
    "\n",
    "[Fonte](https://spacedata.com.br/quarteto-de-anscombe-porque-voce-deve-sempre-visualizar-seus-dados/)"
   ]
  },
  {
   "cell_type": "markdown",
   "metadata": {
    "id": "_6BQoLOYS_m7"
   },
   "source": [
    "## Importância de gráficos na visualização de dados\n",
    "\n",
    "Gráficos se  propõem a diferentes usos: exploração, descoberta, interpretação, diagnóstico, comunicação, apresentação, destaque, clareza, contar uma história.\n",
    "\n",
    "Os gráficos são recursos visuais muito utilizados para facilitar a leitura e compreensão das informações e divulgação de pesquisas em jornais, revistas, panfletos, livros e televisão.\n",
    "\n",
    "[Fonte: Principais tipos de gráficos para educação básica](https://educa.ibge.gov.br/professores/educa-recursos/20773-tipos-de-graficos-no-ensino.html#:~:text=Os%20gr%C3%A1ficos%20s%C3%A3o%20recursos%20visuais,%2C%20panfletos%2C%20livros%20e%20televis%C3%A3o.)\n",
    "\n",
    "\n",
    "---\n",
    "\n",
    "Gráficos de colunas\n",
    "![](/S12/conteudo_e_codigo/images/colunas.png)\n",
    "[Fonte](https://educa.ibge.gov.br/professores/educa-recursos/20773-tipos-de-graficos-no-ensino.html#:~:text=Os%20gr%C3%A1ficos%20s%C3%A3o%20recursos%20visuais,%2C%20panfletos%2C%20livros%20e%20televis%C3%A3o.)\n",
    "\n",
    "Gráficos de barras\n",
    "![](/S12/conteudo_e_codigo/images/barras.png)\n",
    "[Fonte](https://educa.ibge.gov.br/professores/educa-recursos/20773-tipos-de-graficos-no-ensino.html#:~:text=Os%20gr%C3%A1ficos%20s%C3%A3o%20recursos%20visuais,%2C%20panfletos%2C%20livros%20e%20televis%C3%A3o.)\n",
    "\n",
    "Gráficos de linhas\n",
    "![](/S12/conteudo_e_codigo/images/linhas.png)\n",
    "[Fonte](https://educa.ibge.gov.br/professores/educa-recursos/20773-tipos-de-graficos-no-ensino.html#:~:text=Os%20gr%C3%A1ficos%20s%C3%A3o%20recursos%20visuais,%2C%20panfletos%2C%20livros%20e%20televis%C3%A3o.)\n",
    "\n"
   ]
  },
  {
   "cell_type": "code",
   "execution_count": null,
   "metadata": {},
   "outputs": [],
   "source": [
    "# carregando a biblioteca \n",
    "import pandas as pd"
   ]
  },
  {
   "cell_type": "code",
   "execution_count": 2,
   "metadata": {
    "id": "_eorJ3GNS_mm",
    "outputId": "14f2b233-cc14-4f8a-a041-98b4cb90d2cc"
   },
   "outputs": [
    {
     "data": {
      "text/html": [
       "<div>\n",
       "<style scoped>\n",
       "    .dataframe tbody tr th:only-of-type {\n",
       "        vertical-align: middle;\n",
       "    }\n",
       "\n",
       "    .dataframe tbody tr th {\n",
       "        vertical-align: top;\n",
       "    }\n",
       "\n",
       "    .dataframe thead th {\n",
       "        text-align: right;\n",
       "    }\n",
       "</style>\n",
       "<table border=\"1\" class=\"dataframe\">\n",
       "  <thead>\n",
       "    <tr style=\"text-align: right;\">\n",
       "      <th></th>\n",
       "      <th>PassengerId</th>\n",
       "      <th>Survived</th>\n",
       "      <th>Pclass</th>\n",
       "      <th>Name</th>\n",
       "      <th>Sex</th>\n",
       "      <th>Age</th>\n",
       "      <th>SibSp</th>\n",
       "      <th>Parch</th>\n",
       "      <th>Ticket</th>\n",
       "      <th>Fare</th>\n",
       "      <th>Cabin</th>\n",
       "      <th>Embarked</th>\n",
       "    </tr>\n",
       "  </thead>\n",
       "  <tbody>\n",
       "    <tr>\n",
       "      <th>0</th>\n",
       "      <td>1</td>\n",
       "      <td>0</td>\n",
       "      <td>3</td>\n",
       "      <td>Braund, Mr. Owen Harris</td>\n",
       "      <td>male</td>\n",
       "      <td>22.0</td>\n",
       "      <td>1</td>\n",
       "      <td>0</td>\n",
       "      <td>A/5 21171</td>\n",
       "      <td>7.2500</td>\n",
       "      <td>NaN</td>\n",
       "      <td>S</td>\n",
       "    </tr>\n",
       "    <tr>\n",
       "      <th>1</th>\n",
       "      <td>2</td>\n",
       "      <td>1</td>\n",
       "      <td>1</td>\n",
       "      <td>Cumings, Mrs. John Bradley (Florence Briggs Th...</td>\n",
       "      <td>female</td>\n",
       "      <td>38.0</td>\n",
       "      <td>1</td>\n",
       "      <td>0</td>\n",
       "      <td>PC 17599</td>\n",
       "      <td>71.2833</td>\n",
       "      <td>C85</td>\n",
       "      <td>C</td>\n",
       "    </tr>\n",
       "    <tr>\n",
       "      <th>2</th>\n",
       "      <td>3</td>\n",
       "      <td>1</td>\n",
       "      <td>3</td>\n",
       "      <td>Heikkinen, Miss. Laina</td>\n",
       "      <td>female</td>\n",
       "      <td>26.0</td>\n",
       "      <td>0</td>\n",
       "      <td>0</td>\n",
       "      <td>STON/O2. 3101282</td>\n",
       "      <td>7.9250</td>\n",
       "      <td>NaN</td>\n",
       "      <td>S</td>\n",
       "    </tr>\n",
       "    <tr>\n",
       "      <th>3</th>\n",
       "      <td>4</td>\n",
       "      <td>1</td>\n",
       "      <td>1</td>\n",
       "      <td>Futrelle, Mrs. Jacques Heath (Lily May Peel)</td>\n",
       "      <td>female</td>\n",
       "      <td>35.0</td>\n",
       "      <td>1</td>\n",
       "      <td>0</td>\n",
       "      <td>113803</td>\n",
       "      <td>53.1000</td>\n",
       "      <td>C123</td>\n",
       "      <td>S</td>\n",
       "    </tr>\n",
       "    <tr>\n",
       "      <th>4</th>\n",
       "      <td>5</td>\n",
       "      <td>0</td>\n",
       "      <td>3</td>\n",
       "      <td>Allen, Mr. William Henry</td>\n",
       "      <td>male</td>\n",
       "      <td>35.0</td>\n",
       "      <td>0</td>\n",
       "      <td>0</td>\n",
       "      <td>373450</td>\n",
       "      <td>8.0500</td>\n",
       "      <td>NaN</td>\n",
       "      <td>S</td>\n",
       "    </tr>\n",
       "    <tr>\n",
       "      <th>...</th>\n",
       "      <td>...</td>\n",
       "      <td>...</td>\n",
       "      <td>...</td>\n",
       "      <td>...</td>\n",
       "      <td>...</td>\n",
       "      <td>...</td>\n",
       "      <td>...</td>\n",
       "      <td>...</td>\n",
       "      <td>...</td>\n",
       "      <td>...</td>\n",
       "      <td>...</td>\n",
       "      <td>...</td>\n",
       "    </tr>\n",
       "    <tr>\n",
       "      <th>886</th>\n",
       "      <td>887</td>\n",
       "      <td>0</td>\n",
       "      <td>2</td>\n",
       "      <td>Montvila, Rev. Juozas</td>\n",
       "      <td>male</td>\n",
       "      <td>27.0</td>\n",
       "      <td>0</td>\n",
       "      <td>0</td>\n",
       "      <td>211536</td>\n",
       "      <td>13.0000</td>\n",
       "      <td>NaN</td>\n",
       "      <td>S</td>\n",
       "    </tr>\n",
       "    <tr>\n",
       "      <th>887</th>\n",
       "      <td>888</td>\n",
       "      <td>1</td>\n",
       "      <td>1</td>\n",
       "      <td>Graham, Miss. Margaret Edith</td>\n",
       "      <td>female</td>\n",
       "      <td>19.0</td>\n",
       "      <td>0</td>\n",
       "      <td>0</td>\n",
       "      <td>112053</td>\n",
       "      <td>30.0000</td>\n",
       "      <td>B42</td>\n",
       "      <td>S</td>\n",
       "    </tr>\n",
       "    <tr>\n",
       "      <th>888</th>\n",
       "      <td>889</td>\n",
       "      <td>0</td>\n",
       "      <td>3</td>\n",
       "      <td>Johnston, Miss. Catherine Helen \"Carrie\"</td>\n",
       "      <td>female</td>\n",
       "      <td>NaN</td>\n",
       "      <td>1</td>\n",
       "      <td>2</td>\n",
       "      <td>W./C. 6607</td>\n",
       "      <td>23.4500</td>\n",
       "      <td>NaN</td>\n",
       "      <td>S</td>\n",
       "    </tr>\n",
       "    <tr>\n",
       "      <th>889</th>\n",
       "      <td>890</td>\n",
       "      <td>1</td>\n",
       "      <td>1</td>\n",
       "      <td>Behr, Mr. Karl Howell</td>\n",
       "      <td>male</td>\n",
       "      <td>26.0</td>\n",
       "      <td>0</td>\n",
       "      <td>0</td>\n",
       "      <td>111369</td>\n",
       "      <td>30.0000</td>\n",
       "      <td>C148</td>\n",
       "      <td>C</td>\n",
       "    </tr>\n",
       "    <tr>\n",
       "      <th>890</th>\n",
       "      <td>891</td>\n",
       "      <td>0</td>\n",
       "      <td>3</td>\n",
       "      <td>Dooley, Mr. Patrick</td>\n",
       "      <td>male</td>\n",
       "      <td>32.0</td>\n",
       "      <td>0</td>\n",
       "      <td>0</td>\n",
       "      <td>370376</td>\n",
       "      <td>7.7500</td>\n",
       "      <td>NaN</td>\n",
       "      <td>Q</td>\n",
       "    </tr>\n",
       "  </tbody>\n",
       "</table>\n",
       "<p>891 rows × 12 columns</p>\n",
       "</div>"
      ],
      "text/plain": [
       "     PassengerId  Survived  Pclass  \\\n",
       "0              1         0       3   \n",
       "1              2         1       1   \n",
       "2              3         1       3   \n",
       "3              4         1       1   \n",
       "4              5         0       3   \n",
       "..           ...       ...     ...   \n",
       "886          887         0       2   \n",
       "887          888         1       1   \n",
       "888          889         0       3   \n",
       "889          890         1       1   \n",
       "890          891         0       3   \n",
       "\n",
       "                                                  Name     Sex   Age  SibSp  \\\n",
       "0                              Braund, Mr. Owen Harris    male  22.0      1   \n",
       "1    Cumings, Mrs. John Bradley (Florence Briggs Th...  female  38.0      1   \n",
       "2                               Heikkinen, Miss. Laina  female  26.0      0   \n",
       "3         Futrelle, Mrs. Jacques Heath (Lily May Peel)  female  35.0      1   \n",
       "4                             Allen, Mr. William Henry    male  35.0      0   \n",
       "..                                                 ...     ...   ...    ...   \n",
       "886                              Montvila, Rev. Juozas    male  27.0      0   \n",
       "887                       Graham, Miss. Margaret Edith  female  19.0      0   \n",
       "888           Johnston, Miss. Catherine Helen \"Carrie\"  female   NaN      1   \n",
       "889                              Behr, Mr. Karl Howell    male  26.0      0   \n",
       "890                                Dooley, Mr. Patrick    male  32.0      0   \n",
       "\n",
       "     Parch            Ticket     Fare Cabin Embarked  \n",
       "0        0         A/5 21171   7.2500   NaN        S  \n",
       "1        0          PC 17599  71.2833   C85        C  \n",
       "2        0  STON/O2. 3101282   7.9250   NaN        S  \n",
       "3        0            113803  53.1000  C123        S  \n",
       "4        0            373450   8.0500   NaN        S  \n",
       "..     ...               ...      ...   ...      ...  \n",
       "886      0            211536  13.0000   NaN        S  \n",
       "887      0            112053  30.0000   B42        S  \n",
       "888      2        W./C. 6607  23.4500   NaN        S  \n",
       "889      0            111369  30.0000  C148        C  \n",
       "890      0            370376   7.7500   NaN        Q  \n",
       "\n",
       "[891 rows x 12 columns]"
      ]
     },
     "execution_count": 2,
     "metadata": {},
     "output_type": "execute_result"
    }
   ],
   "source": [
    "# carregando o dataset \n",
    "df = pd.read_csv(\"titanic.csv\")\n",
    "df"
   ]
  },
  {
   "cell_type": "markdown",
   "metadata": {
    "id": "boKqOy_KS_ms"
   },
   "source": [
    "Dever da aula passada: substituir as colunas em inglês pelas suas traduções em PT-BR. Um dos objetivos dessa aula é realizar consultas e filtragens, então as colunas em PT podem ajudar no entendimento."
   ]
  },
  {
   "cell_type": "code",
   "execution_count": 3,
   "metadata": {
    "id": "ZuehjTU7S_mt",
    "outputId": "6ce66e1f-01d4-4889-f97f-50d5edae71e6"
   },
   "outputs": [
    {
     "data": {
      "text/plain": [
       "['IdPassageiro',\n",
       " 'Sobreviveu',\n",
       " 'Classe',\n",
       " 'Nome',\n",
       " 'Sexo',\n",
       " 'Idade',\n",
       " 'NumeroIrmaos',\n",
       " 'NumeroPais',\n",
       " 'NumeroTicket',\n",
       " 'PrecoTicket',\n",
       " 'NumeroCabine',\n",
       " 'PortoEmbarcacao']"
      ]
     },
     "execution_count": 3,
     "metadata": {},
     "output_type": "execute_result"
    }
   ],
   "source": [
    "# Resolução\n",
    "traducoes = {\n",
    "    'PassengerId': 'IdPassageiro',\n",
    "    'Survived': 'Sobreviveu', # 0 = Não, 1 = Sim\n",
    "    'Pclass': 'Classe', # 1, 2, 3\n",
    "    'Name': 'Nome',\n",
    "    'Sex': 'Sexo',\n",
    "    'Age': 'Idade',\n",
    "    'SibSp': 'NumeroIrmaos',\n",
    "    'Parch':  'NumeroPais',\n",
    "    'Ticket': 'NumeroTicket',\n",
    "    'Fare': 'PrecoTicket',\n",
    "    'Cabin' : 'NumeroCabine',\n",
    "    'Embarked': 'PortoEmbarcacao' # C = Cherbourg, Q = Queenstown, S = Southampton\n",
    "}\n",
    "\n",
    "novas_colunas = []\n",
    "\n",
    "for chave, valor in traducoes.items():\n",
    "    novas_colunas.append(valor)\n",
    "\n",
    "novas_colunas"
   ]
  },
  {
   "cell_type": "code",
   "execution_count": 4,
   "metadata": {
    "id": "h6tvl5HPS_mw",
    "outputId": "4639f186-8484-4780-f4dc-0a29f3cc759e"
   },
   "outputs": [
    {
     "data": {
      "text/html": [
       "<div>\n",
       "<style scoped>\n",
       "    .dataframe tbody tr th:only-of-type {\n",
       "        vertical-align: middle;\n",
       "    }\n",
       "\n",
       "    .dataframe tbody tr th {\n",
       "        vertical-align: top;\n",
       "    }\n",
       "\n",
       "    .dataframe thead th {\n",
       "        text-align: right;\n",
       "    }\n",
       "</style>\n",
       "<table border=\"1\" class=\"dataframe\">\n",
       "  <thead>\n",
       "    <tr style=\"text-align: right;\">\n",
       "      <th></th>\n",
       "      <th>IdPassageiro</th>\n",
       "      <th>Sobreviveu</th>\n",
       "      <th>Classe</th>\n",
       "      <th>Nome</th>\n",
       "      <th>Sexo</th>\n",
       "      <th>Idade</th>\n",
       "      <th>NumeroIrmaos</th>\n",
       "      <th>NumeroPais</th>\n",
       "      <th>NumeroTicket</th>\n",
       "      <th>PrecoTicket</th>\n",
       "      <th>NumeroCabine</th>\n",
       "      <th>PortoEmbarcacao</th>\n",
       "    </tr>\n",
       "  </thead>\n",
       "  <tbody>\n",
       "    <tr>\n",
       "      <th>0</th>\n",
       "      <td>1</td>\n",
       "      <td>0</td>\n",
       "      <td>3</td>\n",
       "      <td>Braund, Mr. Owen Harris</td>\n",
       "      <td>male</td>\n",
       "      <td>22.0</td>\n",
       "      <td>1</td>\n",
       "      <td>0</td>\n",
       "      <td>A/5 21171</td>\n",
       "      <td>7.2500</td>\n",
       "      <td>NaN</td>\n",
       "      <td>S</td>\n",
       "    </tr>\n",
       "    <tr>\n",
       "      <th>1</th>\n",
       "      <td>2</td>\n",
       "      <td>1</td>\n",
       "      <td>1</td>\n",
       "      <td>Cumings, Mrs. John Bradley (Florence Briggs Th...</td>\n",
       "      <td>female</td>\n",
       "      <td>38.0</td>\n",
       "      <td>1</td>\n",
       "      <td>0</td>\n",
       "      <td>PC 17599</td>\n",
       "      <td>71.2833</td>\n",
       "      <td>C85</td>\n",
       "      <td>C</td>\n",
       "    </tr>\n",
       "    <tr>\n",
       "      <th>2</th>\n",
       "      <td>3</td>\n",
       "      <td>1</td>\n",
       "      <td>3</td>\n",
       "      <td>Heikkinen, Miss. Laina</td>\n",
       "      <td>female</td>\n",
       "      <td>26.0</td>\n",
       "      <td>0</td>\n",
       "      <td>0</td>\n",
       "      <td>STON/O2. 3101282</td>\n",
       "      <td>7.9250</td>\n",
       "      <td>NaN</td>\n",
       "      <td>S</td>\n",
       "    </tr>\n",
       "    <tr>\n",
       "      <th>3</th>\n",
       "      <td>4</td>\n",
       "      <td>1</td>\n",
       "      <td>1</td>\n",
       "      <td>Futrelle, Mrs. Jacques Heath (Lily May Peel)</td>\n",
       "      <td>female</td>\n",
       "      <td>35.0</td>\n",
       "      <td>1</td>\n",
       "      <td>0</td>\n",
       "      <td>113803</td>\n",
       "      <td>53.1000</td>\n",
       "      <td>C123</td>\n",
       "      <td>S</td>\n",
       "    </tr>\n",
       "    <tr>\n",
       "      <th>4</th>\n",
       "      <td>5</td>\n",
       "      <td>0</td>\n",
       "      <td>3</td>\n",
       "      <td>Allen, Mr. William Henry</td>\n",
       "      <td>male</td>\n",
       "      <td>35.0</td>\n",
       "      <td>0</td>\n",
       "      <td>0</td>\n",
       "      <td>373450</td>\n",
       "      <td>8.0500</td>\n",
       "      <td>NaN</td>\n",
       "      <td>S</td>\n",
       "    </tr>\n",
       "    <tr>\n",
       "      <th>...</th>\n",
       "      <td>...</td>\n",
       "      <td>...</td>\n",
       "      <td>...</td>\n",
       "      <td>...</td>\n",
       "      <td>...</td>\n",
       "      <td>...</td>\n",
       "      <td>...</td>\n",
       "      <td>...</td>\n",
       "      <td>...</td>\n",
       "      <td>...</td>\n",
       "      <td>...</td>\n",
       "      <td>...</td>\n",
       "    </tr>\n",
       "    <tr>\n",
       "      <th>886</th>\n",
       "      <td>887</td>\n",
       "      <td>0</td>\n",
       "      <td>2</td>\n",
       "      <td>Montvila, Rev. Juozas</td>\n",
       "      <td>male</td>\n",
       "      <td>27.0</td>\n",
       "      <td>0</td>\n",
       "      <td>0</td>\n",
       "      <td>211536</td>\n",
       "      <td>13.0000</td>\n",
       "      <td>NaN</td>\n",
       "      <td>S</td>\n",
       "    </tr>\n",
       "    <tr>\n",
       "      <th>887</th>\n",
       "      <td>888</td>\n",
       "      <td>1</td>\n",
       "      <td>1</td>\n",
       "      <td>Graham, Miss. Margaret Edith</td>\n",
       "      <td>female</td>\n",
       "      <td>19.0</td>\n",
       "      <td>0</td>\n",
       "      <td>0</td>\n",
       "      <td>112053</td>\n",
       "      <td>30.0000</td>\n",
       "      <td>B42</td>\n",
       "      <td>S</td>\n",
       "    </tr>\n",
       "    <tr>\n",
       "      <th>888</th>\n",
       "      <td>889</td>\n",
       "      <td>0</td>\n",
       "      <td>3</td>\n",
       "      <td>Johnston, Miss. Catherine Helen \"Carrie\"</td>\n",
       "      <td>female</td>\n",
       "      <td>NaN</td>\n",
       "      <td>1</td>\n",
       "      <td>2</td>\n",
       "      <td>W./C. 6607</td>\n",
       "      <td>23.4500</td>\n",
       "      <td>NaN</td>\n",
       "      <td>S</td>\n",
       "    </tr>\n",
       "    <tr>\n",
       "      <th>889</th>\n",
       "      <td>890</td>\n",
       "      <td>1</td>\n",
       "      <td>1</td>\n",
       "      <td>Behr, Mr. Karl Howell</td>\n",
       "      <td>male</td>\n",
       "      <td>26.0</td>\n",
       "      <td>0</td>\n",
       "      <td>0</td>\n",
       "      <td>111369</td>\n",
       "      <td>30.0000</td>\n",
       "      <td>C148</td>\n",
       "      <td>C</td>\n",
       "    </tr>\n",
       "    <tr>\n",
       "      <th>890</th>\n",
       "      <td>891</td>\n",
       "      <td>0</td>\n",
       "      <td>3</td>\n",
       "      <td>Dooley, Mr. Patrick</td>\n",
       "      <td>male</td>\n",
       "      <td>32.0</td>\n",
       "      <td>0</td>\n",
       "      <td>0</td>\n",
       "      <td>370376</td>\n",
       "      <td>7.7500</td>\n",
       "      <td>NaN</td>\n",
       "      <td>Q</td>\n",
       "    </tr>\n",
       "  </tbody>\n",
       "</table>\n",
       "<p>891 rows × 12 columns</p>\n",
       "</div>"
      ],
      "text/plain": [
       "     IdPassageiro  Sobreviveu  Classe  \\\n",
       "0               1           0       3   \n",
       "1               2           1       1   \n",
       "2               3           1       3   \n",
       "3               4           1       1   \n",
       "4               5           0       3   \n",
       "..            ...         ...     ...   \n",
       "886           887           0       2   \n",
       "887           888           1       1   \n",
       "888           889           0       3   \n",
       "889           890           1       1   \n",
       "890           891           0       3   \n",
       "\n",
       "                                                  Nome    Sexo  Idade  \\\n",
       "0                              Braund, Mr. Owen Harris    male   22.0   \n",
       "1    Cumings, Mrs. John Bradley (Florence Briggs Th...  female   38.0   \n",
       "2                               Heikkinen, Miss. Laina  female   26.0   \n",
       "3         Futrelle, Mrs. Jacques Heath (Lily May Peel)  female   35.0   \n",
       "4                             Allen, Mr. William Henry    male   35.0   \n",
       "..                                                 ...     ...    ...   \n",
       "886                              Montvila, Rev. Juozas    male   27.0   \n",
       "887                       Graham, Miss. Margaret Edith  female   19.0   \n",
       "888           Johnston, Miss. Catherine Helen \"Carrie\"  female    NaN   \n",
       "889                              Behr, Mr. Karl Howell    male   26.0   \n",
       "890                                Dooley, Mr. Patrick    male   32.0   \n",
       "\n",
       "     NumeroIrmaos  NumeroPais      NumeroTicket  PrecoTicket NumeroCabine  \\\n",
       "0               1           0         A/5 21171       7.2500          NaN   \n",
       "1               1           0          PC 17599      71.2833          C85   \n",
       "2               0           0  STON/O2. 3101282       7.9250          NaN   \n",
       "3               1           0            113803      53.1000         C123   \n",
       "4               0           0            373450       8.0500          NaN   \n",
       "..            ...         ...               ...          ...          ...   \n",
       "886             0           0            211536      13.0000          NaN   \n",
       "887             0           0            112053      30.0000          B42   \n",
       "888             1           2        W./C. 6607      23.4500          NaN   \n",
       "889             0           0            111369      30.0000         C148   \n",
       "890             0           0            370376       7.7500          NaN   \n",
       "\n",
       "    PortoEmbarcacao  \n",
       "0                 S  \n",
       "1                 C  \n",
       "2                 S  \n",
       "3                 S  \n",
       "4                 S  \n",
       "..              ...  \n",
       "886               S  \n",
       "887               S  \n",
       "888               S  \n",
       "889               C  \n",
       "890               Q  \n",
       "\n",
       "[891 rows x 12 columns]"
      ]
     },
     "execution_count": 4,
     "metadata": {},
     "output_type": "execute_result"
    }
   ],
   "source": [
    "df.columns = novas_colunas\n",
    "df"
   ]
  },
  {
   "cell_type": "markdown",
   "metadata": {
    "id": "JehELGwYS_mx"
   },
   "source": [
    "## Pandas\n",
    "\n",
    "### Consultas e filtros\n",
    "### Filtros\n",
    "\n",
    "A biblioteca pandas fornece diferentes maneiras de filtrar por valores de colunas, além de permitir a combinação de diferentes técnicas oferecidas, de forma a nos permitir manipular os dados com mais facilidade fornecendo subsets com as condições requeridas.\n",
    "\n",
    "\n",
    "[Fonte](https://sparkbyexamples.com/pandas/pandas-filter-by-column-value/)\n"
   ]
  },
  {
   "cell_type": "code",
   "execution_count": 5,
   "metadata": {
    "id": "gZKfzWYAS_mx",
    "outputId": "cdc7a73b-0f3b-42ce-cdf2-f8322b15e686"
   },
   "outputs": [
    {
     "data": {
      "text/html": [
       "<div>\n",
       "<style scoped>\n",
       "    .dataframe tbody tr th:only-of-type {\n",
       "        vertical-align: middle;\n",
       "    }\n",
       "\n",
       "    .dataframe tbody tr th {\n",
       "        vertical-align: top;\n",
       "    }\n",
       "\n",
       "    .dataframe thead th {\n",
       "        text-align: right;\n",
       "    }\n",
       "</style>\n",
       "<table border=\"1\" class=\"dataframe\">\n",
       "  <thead>\n",
       "    <tr style=\"text-align: right;\">\n",
       "      <th></th>\n",
       "      <th>IdPassageiro</th>\n",
       "      <th>Sobreviveu</th>\n",
       "      <th>Classe</th>\n",
       "      <th>Nome</th>\n",
       "      <th>Sexo</th>\n",
       "      <th>Idade</th>\n",
       "      <th>NumeroIrmaos</th>\n",
       "      <th>NumeroPais</th>\n",
       "      <th>NumeroTicket</th>\n",
       "      <th>PrecoTicket</th>\n",
       "      <th>NumeroCabine</th>\n",
       "      <th>PortoEmbarcacao</th>\n",
       "    </tr>\n",
       "  </thead>\n",
       "  <tbody>\n",
       "    <tr>\n",
       "      <th>0</th>\n",
       "      <td>1</td>\n",
       "      <td>0</td>\n",
       "      <td>3</td>\n",
       "      <td>Braund, Mr. Owen Harris</td>\n",
       "      <td>male</td>\n",
       "      <td>22.0</td>\n",
       "      <td>1</td>\n",
       "      <td>0</td>\n",
       "      <td>A/5 21171</td>\n",
       "      <td>7.2500</td>\n",
       "      <td>NaN</td>\n",
       "      <td>S</td>\n",
       "    </tr>\n",
       "    <tr>\n",
       "      <th>1</th>\n",
       "      <td>2</td>\n",
       "      <td>1</td>\n",
       "      <td>1</td>\n",
       "      <td>Cumings, Mrs. John Bradley (Florence Briggs Th...</td>\n",
       "      <td>female</td>\n",
       "      <td>38.0</td>\n",
       "      <td>1</td>\n",
       "      <td>0</td>\n",
       "      <td>PC 17599</td>\n",
       "      <td>71.2833</td>\n",
       "      <td>C85</td>\n",
       "      <td>C</td>\n",
       "    </tr>\n",
       "    <tr>\n",
       "      <th>2</th>\n",
       "      <td>3</td>\n",
       "      <td>1</td>\n",
       "      <td>3</td>\n",
       "      <td>Heikkinen, Miss. Laina</td>\n",
       "      <td>female</td>\n",
       "      <td>26.0</td>\n",
       "      <td>0</td>\n",
       "      <td>0</td>\n",
       "      <td>STON/O2. 3101282</td>\n",
       "      <td>7.9250</td>\n",
       "      <td>NaN</td>\n",
       "      <td>S</td>\n",
       "    </tr>\n",
       "    <tr>\n",
       "      <th>3</th>\n",
       "      <td>4</td>\n",
       "      <td>1</td>\n",
       "      <td>1</td>\n",
       "      <td>Futrelle, Mrs. Jacques Heath (Lily May Peel)</td>\n",
       "      <td>female</td>\n",
       "      <td>35.0</td>\n",
       "      <td>1</td>\n",
       "      <td>0</td>\n",
       "      <td>113803</td>\n",
       "      <td>53.1000</td>\n",
       "      <td>C123</td>\n",
       "      <td>S</td>\n",
       "    </tr>\n",
       "    <tr>\n",
       "      <th>4</th>\n",
       "      <td>5</td>\n",
       "      <td>0</td>\n",
       "      <td>3</td>\n",
       "      <td>Allen, Mr. William Henry</td>\n",
       "      <td>male</td>\n",
       "      <td>35.0</td>\n",
       "      <td>0</td>\n",
       "      <td>0</td>\n",
       "      <td>373450</td>\n",
       "      <td>8.0500</td>\n",
       "      <td>NaN</td>\n",
       "      <td>S</td>\n",
       "    </tr>\n",
       "    <tr>\n",
       "      <th>...</th>\n",
       "      <td>...</td>\n",
       "      <td>...</td>\n",
       "      <td>...</td>\n",
       "      <td>...</td>\n",
       "      <td>...</td>\n",
       "      <td>...</td>\n",
       "      <td>...</td>\n",
       "      <td>...</td>\n",
       "      <td>...</td>\n",
       "      <td>...</td>\n",
       "      <td>...</td>\n",
       "      <td>...</td>\n",
       "    </tr>\n",
       "    <tr>\n",
       "      <th>886</th>\n",
       "      <td>887</td>\n",
       "      <td>0</td>\n",
       "      <td>2</td>\n",
       "      <td>Montvila, Rev. Juozas</td>\n",
       "      <td>male</td>\n",
       "      <td>27.0</td>\n",
       "      <td>0</td>\n",
       "      <td>0</td>\n",
       "      <td>211536</td>\n",
       "      <td>13.0000</td>\n",
       "      <td>NaN</td>\n",
       "      <td>S</td>\n",
       "    </tr>\n",
       "    <tr>\n",
       "      <th>887</th>\n",
       "      <td>888</td>\n",
       "      <td>1</td>\n",
       "      <td>1</td>\n",
       "      <td>Graham, Miss. Margaret Edith</td>\n",
       "      <td>female</td>\n",
       "      <td>19.0</td>\n",
       "      <td>0</td>\n",
       "      <td>0</td>\n",
       "      <td>112053</td>\n",
       "      <td>30.0000</td>\n",
       "      <td>B42</td>\n",
       "      <td>S</td>\n",
       "    </tr>\n",
       "    <tr>\n",
       "      <th>888</th>\n",
       "      <td>889</td>\n",
       "      <td>0</td>\n",
       "      <td>3</td>\n",
       "      <td>Johnston, Miss. Catherine Helen \"Carrie\"</td>\n",
       "      <td>female</td>\n",
       "      <td>NaN</td>\n",
       "      <td>1</td>\n",
       "      <td>2</td>\n",
       "      <td>W./C. 6607</td>\n",
       "      <td>23.4500</td>\n",
       "      <td>NaN</td>\n",
       "      <td>S</td>\n",
       "    </tr>\n",
       "    <tr>\n",
       "      <th>889</th>\n",
       "      <td>890</td>\n",
       "      <td>1</td>\n",
       "      <td>1</td>\n",
       "      <td>Behr, Mr. Karl Howell</td>\n",
       "      <td>male</td>\n",
       "      <td>26.0</td>\n",
       "      <td>0</td>\n",
       "      <td>0</td>\n",
       "      <td>111369</td>\n",
       "      <td>30.0000</td>\n",
       "      <td>C148</td>\n",
       "      <td>C</td>\n",
       "    </tr>\n",
       "    <tr>\n",
       "      <th>890</th>\n",
       "      <td>891</td>\n",
       "      <td>0</td>\n",
       "      <td>3</td>\n",
       "      <td>Dooley, Mr. Patrick</td>\n",
       "      <td>male</td>\n",
       "      <td>32.0</td>\n",
       "      <td>0</td>\n",
       "      <td>0</td>\n",
       "      <td>370376</td>\n",
       "      <td>7.7500</td>\n",
       "      <td>NaN</td>\n",
       "      <td>Q</td>\n",
       "    </tr>\n",
       "  </tbody>\n",
       "</table>\n",
       "<p>891 rows × 12 columns</p>\n",
       "</div>"
      ],
      "text/plain": [
       "     IdPassageiro  Sobreviveu  Classe  \\\n",
       "0               1           0       3   \n",
       "1               2           1       1   \n",
       "2               3           1       3   \n",
       "3               4           1       1   \n",
       "4               5           0       3   \n",
       "..            ...         ...     ...   \n",
       "886           887           0       2   \n",
       "887           888           1       1   \n",
       "888           889           0       3   \n",
       "889           890           1       1   \n",
       "890           891           0       3   \n",
       "\n",
       "                                                  Nome    Sexo  Idade  \\\n",
       "0                              Braund, Mr. Owen Harris    male   22.0   \n",
       "1    Cumings, Mrs. John Bradley (Florence Briggs Th...  female   38.0   \n",
       "2                               Heikkinen, Miss. Laina  female   26.0   \n",
       "3         Futrelle, Mrs. Jacques Heath (Lily May Peel)  female   35.0   \n",
       "4                             Allen, Mr. William Henry    male   35.0   \n",
       "..                                                 ...     ...    ...   \n",
       "886                              Montvila, Rev. Juozas    male   27.0   \n",
       "887                       Graham, Miss. Margaret Edith  female   19.0   \n",
       "888           Johnston, Miss. Catherine Helen \"Carrie\"  female    NaN   \n",
       "889                              Behr, Mr. Karl Howell    male   26.0   \n",
       "890                                Dooley, Mr. Patrick    male   32.0   \n",
       "\n",
       "     NumeroIrmaos  NumeroPais      NumeroTicket  PrecoTicket NumeroCabine  \\\n",
       "0               1           0         A/5 21171       7.2500          NaN   \n",
       "1               1           0          PC 17599      71.2833          C85   \n",
       "2               0           0  STON/O2. 3101282       7.9250          NaN   \n",
       "3               1           0            113803      53.1000         C123   \n",
       "4               0           0            373450       8.0500          NaN   \n",
       "..            ...         ...               ...          ...          ...   \n",
       "886             0           0            211536      13.0000          NaN   \n",
       "887             0           0            112053      30.0000          B42   \n",
       "888             1           2        W./C. 6607      23.4500          NaN   \n",
       "889             0           0            111369      30.0000         C148   \n",
       "890             0           0            370376       7.7500          NaN   \n",
       "\n",
       "    PortoEmbarcacao  \n",
       "0                 S  \n",
       "1                 C  \n",
       "2                 S  \n",
       "3                 S  \n",
       "4                 S  \n",
       "..              ...  \n",
       "886               S  \n",
       "887               S  \n",
       "888               S  \n",
       "889               C  \n",
       "890               Q  \n",
       "\n",
       "[891 rows x 12 columns]"
      ]
     },
     "execution_count": 5,
     "metadata": {},
     "output_type": "execute_result"
    }
   ],
   "source": [
    "# dataframe originial\n",
    "df"
   ]
  },
  {
   "cell_type": "code",
   "execution_count": 6,
   "metadata": {},
   "outputs": [
    {
     "data": {
      "text/html": [
       "<div>\n",
       "<style scoped>\n",
       "    .dataframe tbody tr th:only-of-type {\n",
       "        vertical-align: middle;\n",
       "    }\n",
       "\n",
       "    .dataframe tbody tr th {\n",
       "        vertical-align: top;\n",
       "    }\n",
       "\n",
       "    .dataframe thead th {\n",
       "        text-align: right;\n",
       "    }\n",
       "</style>\n",
       "<table border=\"1\" class=\"dataframe\">\n",
       "  <thead>\n",
       "    <tr style=\"text-align: right;\">\n",
       "      <th></th>\n",
       "      <th>IdPassageiro</th>\n",
       "      <th>Sobreviveu</th>\n",
       "      <th>Classe</th>\n",
       "      <th>Nome</th>\n",
       "      <th>Sexo</th>\n",
       "      <th>Idade</th>\n",
       "      <th>NumeroIrmaos</th>\n",
       "      <th>NumeroPais</th>\n",
       "      <th>NumeroTicket</th>\n",
       "      <th>PrecoTicket</th>\n",
       "      <th>NumeroCabine</th>\n",
       "      <th>PortoEmbarcacao</th>\n",
       "    </tr>\n",
       "  </thead>\n",
       "  <tbody>\n",
       "    <tr>\n",
       "      <th>1</th>\n",
       "      <td>2</td>\n",
       "      <td>1</td>\n",
       "      <td>1</td>\n",
       "      <td>Cumings, Mrs. John Bradley (Florence Briggs Th...</td>\n",
       "      <td>female</td>\n",
       "      <td>38.0</td>\n",
       "      <td>1</td>\n",
       "      <td>0</td>\n",
       "      <td>PC 17599</td>\n",
       "      <td>71.2833</td>\n",
       "      <td>C85</td>\n",
       "      <td>C</td>\n",
       "    </tr>\n",
       "    <tr>\n",
       "      <th>3</th>\n",
       "      <td>4</td>\n",
       "      <td>1</td>\n",
       "      <td>1</td>\n",
       "      <td>Futrelle, Mrs. Jacques Heath (Lily May Peel)</td>\n",
       "      <td>female</td>\n",
       "      <td>35.0</td>\n",
       "      <td>1</td>\n",
       "      <td>0</td>\n",
       "      <td>113803</td>\n",
       "      <td>53.1000</td>\n",
       "      <td>C123</td>\n",
       "      <td>S</td>\n",
       "    </tr>\n",
       "    <tr>\n",
       "      <th>4</th>\n",
       "      <td>5</td>\n",
       "      <td>0</td>\n",
       "      <td>3</td>\n",
       "      <td>Allen, Mr. William Henry</td>\n",
       "      <td>male</td>\n",
       "      <td>35.0</td>\n",
       "      <td>0</td>\n",
       "      <td>0</td>\n",
       "      <td>373450</td>\n",
       "      <td>8.0500</td>\n",
       "      <td>NaN</td>\n",
       "      <td>S</td>\n",
       "    </tr>\n",
       "    <tr>\n",
       "      <th>6</th>\n",
       "      <td>7</td>\n",
       "      <td>0</td>\n",
       "      <td>1</td>\n",
       "      <td>McCarthy, Mr. Timothy J</td>\n",
       "      <td>male</td>\n",
       "      <td>54.0</td>\n",
       "      <td>0</td>\n",
       "      <td>0</td>\n",
       "      <td>17463</td>\n",
       "      <td>51.8625</td>\n",
       "      <td>E46</td>\n",
       "      <td>S</td>\n",
       "    </tr>\n",
       "    <tr>\n",
       "      <th>11</th>\n",
       "      <td>12</td>\n",
       "      <td>1</td>\n",
       "      <td>1</td>\n",
       "      <td>Bonnell, Miss. Elizabeth</td>\n",
       "      <td>female</td>\n",
       "      <td>58.0</td>\n",
       "      <td>0</td>\n",
       "      <td>0</td>\n",
       "      <td>113783</td>\n",
       "      <td>26.5500</td>\n",
       "      <td>C103</td>\n",
       "      <td>S</td>\n",
       "    </tr>\n",
       "    <tr>\n",
       "      <th>...</th>\n",
       "      <td>...</td>\n",
       "      <td>...</td>\n",
       "      <td>...</td>\n",
       "      <td>...</td>\n",
       "      <td>...</td>\n",
       "      <td>...</td>\n",
       "      <td>...</td>\n",
       "      <td>...</td>\n",
       "      <td>...</td>\n",
       "      <td>...</td>\n",
       "      <td>...</td>\n",
       "      <td>...</td>\n",
       "    </tr>\n",
       "    <tr>\n",
       "      <th>873</th>\n",
       "      <td>874</td>\n",
       "      <td>0</td>\n",
       "      <td>3</td>\n",
       "      <td>Vander Cruyssen, Mr. Victor</td>\n",
       "      <td>male</td>\n",
       "      <td>47.0</td>\n",
       "      <td>0</td>\n",
       "      <td>0</td>\n",
       "      <td>345765</td>\n",
       "      <td>9.0000</td>\n",
       "      <td>NaN</td>\n",
       "      <td>S</td>\n",
       "    </tr>\n",
       "    <tr>\n",
       "      <th>879</th>\n",
       "      <td>880</td>\n",
       "      <td>1</td>\n",
       "      <td>1</td>\n",
       "      <td>Potter, Mrs. Thomas Jr (Lily Alexenia Wilson)</td>\n",
       "      <td>female</td>\n",
       "      <td>56.0</td>\n",
       "      <td>0</td>\n",
       "      <td>1</td>\n",
       "      <td>11767</td>\n",
       "      <td>83.1583</td>\n",
       "      <td>C50</td>\n",
       "      <td>C</td>\n",
       "    </tr>\n",
       "    <tr>\n",
       "      <th>881</th>\n",
       "      <td>882</td>\n",
       "      <td>0</td>\n",
       "      <td>3</td>\n",
       "      <td>Markun, Mr. Johann</td>\n",
       "      <td>male</td>\n",
       "      <td>33.0</td>\n",
       "      <td>0</td>\n",
       "      <td>0</td>\n",
       "      <td>349257</td>\n",
       "      <td>7.8958</td>\n",
       "      <td>NaN</td>\n",
       "      <td>S</td>\n",
       "    </tr>\n",
       "    <tr>\n",
       "      <th>885</th>\n",
       "      <td>886</td>\n",
       "      <td>0</td>\n",
       "      <td>3</td>\n",
       "      <td>Rice, Mrs. William (Margaret Norton)</td>\n",
       "      <td>female</td>\n",
       "      <td>39.0</td>\n",
       "      <td>0</td>\n",
       "      <td>5</td>\n",
       "      <td>382652</td>\n",
       "      <td>29.1250</td>\n",
       "      <td>NaN</td>\n",
       "      <td>Q</td>\n",
       "    </tr>\n",
       "    <tr>\n",
       "      <th>890</th>\n",
       "      <td>891</td>\n",
       "      <td>0</td>\n",
       "      <td>3</td>\n",
       "      <td>Dooley, Mr. Patrick</td>\n",
       "      <td>male</td>\n",
       "      <td>32.0</td>\n",
       "      <td>0</td>\n",
       "      <td>0</td>\n",
       "      <td>370376</td>\n",
       "      <td>7.7500</td>\n",
       "      <td>NaN</td>\n",
       "      <td>Q</td>\n",
       "    </tr>\n",
       "  </tbody>\n",
       "</table>\n",
       "<p>305 rows × 12 columns</p>\n",
       "</div>"
      ],
      "text/plain": [
       "     IdPassageiro  Sobreviveu  Classe  \\\n",
       "1               2           1       1   \n",
       "3               4           1       1   \n",
       "4               5           0       3   \n",
       "6               7           0       1   \n",
       "11             12           1       1   \n",
       "..            ...         ...     ...   \n",
       "873           874           0       3   \n",
       "879           880           1       1   \n",
       "881           882           0       3   \n",
       "885           886           0       3   \n",
       "890           891           0       3   \n",
       "\n",
       "                                                  Nome    Sexo  Idade  \\\n",
       "1    Cumings, Mrs. John Bradley (Florence Briggs Th...  female   38.0   \n",
       "3         Futrelle, Mrs. Jacques Heath (Lily May Peel)  female   35.0   \n",
       "4                             Allen, Mr. William Henry    male   35.0   \n",
       "6                              McCarthy, Mr. Timothy J    male   54.0   \n",
       "11                            Bonnell, Miss. Elizabeth  female   58.0   \n",
       "..                                                 ...     ...    ...   \n",
       "873                        Vander Cruyssen, Mr. Victor    male   47.0   \n",
       "879      Potter, Mrs. Thomas Jr (Lily Alexenia Wilson)  female   56.0   \n",
       "881                                 Markun, Mr. Johann    male   33.0   \n",
       "885               Rice, Mrs. William (Margaret Norton)  female   39.0   \n",
       "890                                Dooley, Mr. Patrick    male   32.0   \n",
       "\n",
       "     NumeroIrmaos  NumeroPais NumeroTicket  PrecoTicket NumeroCabine  \\\n",
       "1               1           0     PC 17599      71.2833          C85   \n",
       "3               1           0       113803      53.1000         C123   \n",
       "4               0           0       373450       8.0500          NaN   \n",
       "6               0           0        17463      51.8625          E46   \n",
       "11              0           0       113783      26.5500         C103   \n",
       "..            ...         ...          ...          ...          ...   \n",
       "873             0           0       345765       9.0000          NaN   \n",
       "879             0           1        11767      83.1583          C50   \n",
       "881             0           0       349257       7.8958          NaN   \n",
       "885             0           5       382652      29.1250          NaN   \n",
       "890             0           0       370376       7.7500          NaN   \n",
       "\n",
       "    PortoEmbarcacao  \n",
       "1                 C  \n",
       "3                 S  \n",
       "4                 S  \n",
       "6                 S  \n",
       "11                S  \n",
       "..              ...  \n",
       "873               S  \n",
       "879               C  \n",
       "881               S  \n",
       "885               Q  \n",
       "890               Q  \n",
       "\n",
       "[305 rows x 12 columns]"
      ]
     },
     "execution_count": 6,
     "metadata": {},
     "output_type": "execute_result"
    }
   ],
   "source": [
    "df[df['Idade'] > 30]"
   ]
  },
  {
   "cell_type": "code",
   "execution_count": 7,
   "metadata": {
    "id": "xzHvkQRrS_mx",
    "outputId": "ca4d371d-386e-433d-e49b-6e5a6749f767"
   },
   "outputs": [
    {
     "data": {
      "text/plain": [
       "(305, 12)"
      ]
     },
     "execution_count": 7,
     "metadata": {},
     "output_type": "execute_result"
    }
   ],
   "source": [
    "# Vamos começar com um filtro baseado em uma única condição: idade > 30\n",
    "df_filtrado = df[df['Idade'] > 30]\n",
    "df_filtrado.shape"
   ]
  },
  {
   "cell_type": "code",
   "execution_count": 8,
   "metadata": {},
   "outputs": [
    {
     "data": {
      "text/html": [
       "<div>\n",
       "<style scoped>\n",
       "    .dataframe tbody tr th:only-of-type {\n",
       "        vertical-align: middle;\n",
       "    }\n",
       "\n",
       "    .dataframe tbody tr th {\n",
       "        vertical-align: top;\n",
       "    }\n",
       "\n",
       "    .dataframe thead th {\n",
       "        text-align: right;\n",
       "    }\n",
       "</style>\n",
       "<table border=\"1\" class=\"dataframe\">\n",
       "  <thead>\n",
       "    <tr style=\"text-align: right;\">\n",
       "      <th></th>\n",
       "      <th>IdPassageiro</th>\n",
       "      <th>Sobreviveu</th>\n",
       "      <th>Classe</th>\n",
       "      <th>Nome</th>\n",
       "      <th>Sexo</th>\n",
       "      <th>Idade</th>\n",
       "      <th>NumeroIrmaos</th>\n",
       "      <th>NumeroPais</th>\n",
       "      <th>NumeroTicket</th>\n",
       "      <th>PrecoTicket</th>\n",
       "      <th>NumeroCabine</th>\n",
       "      <th>PortoEmbarcacao</th>\n",
       "    </tr>\n",
       "  </thead>\n",
       "  <tbody>\n",
       "    <tr>\n",
       "      <th>1</th>\n",
       "      <td>2</td>\n",
       "      <td>1</td>\n",
       "      <td>1</td>\n",
       "      <td>Cumings, Mrs. John Bradley (Florence Briggs Th...</td>\n",
       "      <td>female</td>\n",
       "      <td>38.0</td>\n",
       "      <td>1</td>\n",
       "      <td>0</td>\n",
       "      <td>PC 17599</td>\n",
       "      <td>71.2833</td>\n",
       "      <td>C85</td>\n",
       "      <td>C</td>\n",
       "    </tr>\n",
       "    <tr>\n",
       "      <th>3</th>\n",
       "      <td>4</td>\n",
       "      <td>1</td>\n",
       "      <td>1</td>\n",
       "      <td>Futrelle, Mrs. Jacques Heath (Lily May Peel)</td>\n",
       "      <td>female</td>\n",
       "      <td>35.0</td>\n",
       "      <td>1</td>\n",
       "      <td>0</td>\n",
       "      <td>113803</td>\n",
       "      <td>53.1000</td>\n",
       "      <td>C123</td>\n",
       "      <td>S</td>\n",
       "    </tr>\n",
       "    <tr>\n",
       "      <th>11</th>\n",
       "      <td>12</td>\n",
       "      <td>1</td>\n",
       "      <td>1</td>\n",
       "      <td>Bonnell, Miss. Elizabeth</td>\n",
       "      <td>female</td>\n",
       "      <td>58.0</td>\n",
       "      <td>0</td>\n",
       "      <td>0</td>\n",
       "      <td>113783</td>\n",
       "      <td>26.5500</td>\n",
       "      <td>C103</td>\n",
       "      <td>S</td>\n",
       "    </tr>\n",
       "    <tr>\n",
       "      <th>15</th>\n",
       "      <td>16</td>\n",
       "      <td>1</td>\n",
       "      <td>2</td>\n",
       "      <td>Hewlett, Mrs. (Mary D Kingcome)</td>\n",
       "      <td>female</td>\n",
       "      <td>55.0</td>\n",
       "      <td>0</td>\n",
       "      <td>0</td>\n",
       "      <td>248706</td>\n",
       "      <td>16.0000</td>\n",
       "      <td>NaN</td>\n",
       "      <td>S</td>\n",
       "    </tr>\n",
       "    <tr>\n",
       "      <th>18</th>\n",
       "      <td>19</td>\n",
       "      <td>0</td>\n",
       "      <td>3</td>\n",
       "      <td>Vander Planke, Mrs. Julius (Emelia Maria Vande...</td>\n",
       "      <td>female</td>\n",
       "      <td>31.0</td>\n",
       "      <td>1</td>\n",
       "      <td>0</td>\n",
       "      <td>345763</td>\n",
       "      <td>18.0000</td>\n",
       "      <td>NaN</td>\n",
       "      <td>S</td>\n",
       "    </tr>\n",
       "    <tr>\n",
       "      <th>...</th>\n",
       "      <td>...</td>\n",
       "      <td>...</td>\n",
       "      <td>...</td>\n",
       "      <td>...</td>\n",
       "      <td>...</td>\n",
       "      <td>...</td>\n",
       "      <td>...</td>\n",
       "      <td>...</td>\n",
       "      <td>...</td>\n",
       "      <td>...</td>\n",
       "      <td>...</td>\n",
       "      <td>...</td>\n",
       "    </tr>\n",
       "    <tr>\n",
       "      <th>862</th>\n",
       "      <td>863</td>\n",
       "      <td>1</td>\n",
       "      <td>1</td>\n",
       "      <td>Swift, Mrs. Frederick Joel (Margaret Welles Ba...</td>\n",
       "      <td>female</td>\n",
       "      <td>48.0</td>\n",
       "      <td>0</td>\n",
       "      <td>0</td>\n",
       "      <td>17466</td>\n",
       "      <td>25.9292</td>\n",
       "      <td>D17</td>\n",
       "      <td>S</td>\n",
       "    </tr>\n",
       "    <tr>\n",
       "      <th>865</th>\n",
       "      <td>866</td>\n",
       "      <td>1</td>\n",
       "      <td>2</td>\n",
       "      <td>Bystrom, Mrs. (Karolina)</td>\n",
       "      <td>female</td>\n",
       "      <td>42.0</td>\n",
       "      <td>0</td>\n",
       "      <td>0</td>\n",
       "      <td>236852</td>\n",
       "      <td>13.0000</td>\n",
       "      <td>NaN</td>\n",
       "      <td>S</td>\n",
       "    </tr>\n",
       "    <tr>\n",
       "      <th>871</th>\n",
       "      <td>872</td>\n",
       "      <td>1</td>\n",
       "      <td>1</td>\n",
       "      <td>Beckwith, Mrs. Richard Leonard (Sallie Monypeny)</td>\n",
       "      <td>female</td>\n",
       "      <td>47.0</td>\n",
       "      <td>1</td>\n",
       "      <td>1</td>\n",
       "      <td>11751</td>\n",
       "      <td>52.5542</td>\n",
       "      <td>D35</td>\n",
       "      <td>S</td>\n",
       "    </tr>\n",
       "    <tr>\n",
       "      <th>879</th>\n",
       "      <td>880</td>\n",
       "      <td>1</td>\n",
       "      <td>1</td>\n",
       "      <td>Potter, Mrs. Thomas Jr (Lily Alexenia Wilson)</td>\n",
       "      <td>female</td>\n",
       "      <td>56.0</td>\n",
       "      <td>0</td>\n",
       "      <td>1</td>\n",
       "      <td>11767</td>\n",
       "      <td>83.1583</td>\n",
       "      <td>C50</td>\n",
       "      <td>C</td>\n",
       "    </tr>\n",
       "    <tr>\n",
       "      <th>885</th>\n",
       "      <td>886</td>\n",
       "      <td>0</td>\n",
       "      <td>3</td>\n",
       "      <td>Rice, Mrs. William (Margaret Norton)</td>\n",
       "      <td>female</td>\n",
       "      <td>39.0</td>\n",
       "      <td>0</td>\n",
       "      <td>5</td>\n",
       "      <td>382652</td>\n",
       "      <td>29.1250</td>\n",
       "      <td>NaN</td>\n",
       "      <td>Q</td>\n",
       "    </tr>\n",
       "  </tbody>\n",
       "</table>\n",
       "<p>103 rows × 12 columns</p>\n",
       "</div>"
      ],
      "text/plain": [
       "     IdPassageiro  Sobreviveu  Classe  \\\n",
       "1               2           1       1   \n",
       "3               4           1       1   \n",
       "11             12           1       1   \n",
       "15             16           1       2   \n",
       "18             19           0       3   \n",
       "..            ...         ...     ...   \n",
       "862           863           1       1   \n",
       "865           866           1       2   \n",
       "871           872           1       1   \n",
       "879           880           1       1   \n",
       "885           886           0       3   \n",
       "\n",
       "                                                  Nome    Sexo  Idade  \\\n",
       "1    Cumings, Mrs. John Bradley (Florence Briggs Th...  female   38.0   \n",
       "3         Futrelle, Mrs. Jacques Heath (Lily May Peel)  female   35.0   \n",
       "11                            Bonnell, Miss. Elizabeth  female   58.0   \n",
       "15                    Hewlett, Mrs. (Mary D Kingcome)   female   55.0   \n",
       "18   Vander Planke, Mrs. Julius (Emelia Maria Vande...  female   31.0   \n",
       "..                                                 ...     ...    ...   \n",
       "862  Swift, Mrs. Frederick Joel (Margaret Welles Ba...  female   48.0   \n",
       "865                           Bystrom, Mrs. (Karolina)  female   42.0   \n",
       "871   Beckwith, Mrs. Richard Leonard (Sallie Monypeny)  female   47.0   \n",
       "879      Potter, Mrs. Thomas Jr (Lily Alexenia Wilson)  female   56.0   \n",
       "885               Rice, Mrs. William (Margaret Norton)  female   39.0   \n",
       "\n",
       "     NumeroIrmaos  NumeroPais NumeroTicket  PrecoTicket NumeroCabine  \\\n",
       "1               1           0     PC 17599      71.2833          C85   \n",
       "3               1           0       113803      53.1000         C123   \n",
       "11              0           0       113783      26.5500         C103   \n",
       "15              0           0       248706      16.0000          NaN   \n",
       "18              1           0       345763      18.0000          NaN   \n",
       "..            ...         ...          ...          ...          ...   \n",
       "862             0           0        17466      25.9292          D17   \n",
       "865             0           0       236852      13.0000          NaN   \n",
       "871             1           1        11751      52.5542          D35   \n",
       "879             0           1        11767      83.1583          C50   \n",
       "885             0           5       382652      29.1250          NaN   \n",
       "\n",
       "    PortoEmbarcacao  \n",
       "1                 C  \n",
       "3                 S  \n",
       "11                S  \n",
       "15                S  \n",
       "18                S  \n",
       "..              ...  \n",
       "862               S  \n",
       "865               S  \n",
       "871               S  \n",
       "879               C  \n",
       "885               Q  \n",
       "\n",
       "[103 rows x 12 columns]"
      ]
     },
     "execution_count": 8,
     "metadata": {},
     "output_type": "execute_result"
    }
   ],
   "source": [
    "df[(df['Idade'] > 30) & (df['Sexo'] == 'female')]"
   ]
  },
  {
   "cell_type": "code",
   "execution_count": 9,
   "metadata": {
    "id": "ZFZ7LOT6S_my",
    "outputId": "e41628cd-501b-4009-d643-c91f7fe9d7e4"
   },
   "outputs": [
    {
     "data": {
      "text/plain": [
       "(103, 12)"
      ]
     },
     "execution_count": 9,
     "metadata": {},
     "output_type": "execute_result"
    }
   ],
   "source": [
    "# Agora um filtro com múltiplas condições\n",
    "df_filtrado = df[(df['Idade'] > 30) & (df['Sexo'] == 'female')]\n",
    "df_filtrado.shape"
   ]
  },
  {
   "cell_type": "code",
   "execution_count": 10,
   "metadata": {},
   "outputs": [
    {
     "data": {
      "text/html": [
       "<div>\n",
       "<style scoped>\n",
       "    .dataframe tbody tr th:only-of-type {\n",
       "        vertical-align: middle;\n",
       "    }\n",
       "\n",
       "    .dataframe tbody tr th {\n",
       "        vertical-align: top;\n",
       "    }\n",
       "\n",
       "    .dataframe thead th {\n",
       "        text-align: right;\n",
       "    }\n",
       "</style>\n",
       "<table border=\"1\" class=\"dataframe\">\n",
       "  <thead>\n",
       "    <tr style=\"text-align: right;\">\n",
       "      <th></th>\n",
       "      <th>IdPassageiro</th>\n",
       "      <th>Sobreviveu</th>\n",
       "      <th>Classe</th>\n",
       "      <th>Nome</th>\n",
       "      <th>Sexo</th>\n",
       "      <th>Idade</th>\n",
       "      <th>NumeroIrmaos</th>\n",
       "      <th>NumeroPais</th>\n",
       "      <th>NumeroTicket</th>\n",
       "      <th>PrecoTicket</th>\n",
       "      <th>NumeroCabine</th>\n",
       "      <th>PortoEmbarcacao</th>\n",
       "    </tr>\n",
       "  </thead>\n",
       "  <tbody>\n",
       "    <tr>\n",
       "      <th>855</th>\n",
       "      <td>856</td>\n",
       "      <td>1</td>\n",
       "      <td>3</td>\n",
       "      <td>Aks, Mrs. Sam (Leah Rosen)</td>\n",
       "      <td>female</td>\n",
       "      <td>18.0</td>\n",
       "      <td>0</td>\n",
       "      <td>1</td>\n",
       "      <td>392091</td>\n",
       "      <td>9.35</td>\n",
       "      <td>NaN</td>\n",
       "      <td>S</td>\n",
       "    </tr>\n",
       "  </tbody>\n",
       "</table>\n",
       "</div>"
      ],
      "text/plain": [
       "     IdPassageiro  Sobreviveu  Classe                        Nome    Sexo  \\\n",
       "855           856           1       3  Aks, Mrs. Sam (Leah Rosen)  female   \n",
       "\n",
       "     Idade  NumeroIrmaos  NumeroPais NumeroTicket  PrecoTicket NumeroCabine  \\\n",
       "855   18.0             0           1       392091         9.35          NaN   \n",
       "\n",
       "    PortoEmbarcacao  \n",
       "855               S  "
      ]
     },
     "execution_count": 10,
     "metadata": {},
     "output_type": "execute_result"
    }
   ],
   "source": [
    "df[df['Nome'].str.contains('Rose')]"
   ]
  },
  {
   "cell_type": "code",
   "execution_count": 11,
   "metadata": {
    "id": "BpueQ0G0S_my",
    "outputId": "ba8ca09f-6788-4332-9a11-786aa02700e4"
   },
   "outputs": [
    {
     "data": {
      "text/plain": [
       "(1, 12)"
      ]
     },
     "execution_count": 11,
     "metadata": {},
     "output_type": "execute_result"
    }
   ],
   "source": [
    "# Selecionando entradas que possuem uma determinada 'string'\n",
    "# Vamos procurar por nomes que possuam 'Good'\n",
    "\n",
    "df_filtrado = df[df['Nome'].str.contains('Jack')]\n",
    "df_filtrado.shape"
   ]
  },
  {
   "cell_type": "code",
   "execution_count": 12,
   "metadata": {},
   "outputs": [
    {
     "data": {
      "text/html": [
       "<div>\n",
       "<style scoped>\n",
       "    .dataframe tbody tr th:only-of-type {\n",
       "        vertical-align: middle;\n",
       "    }\n",
       "\n",
       "    .dataframe tbody tr th {\n",
       "        vertical-align: top;\n",
       "    }\n",
       "\n",
       "    .dataframe thead th {\n",
       "        text-align: right;\n",
       "    }\n",
       "</style>\n",
       "<table border=\"1\" class=\"dataframe\">\n",
       "  <thead>\n",
       "    <tr style=\"text-align: right;\">\n",
       "      <th></th>\n",
       "      <th>IdPassageiro</th>\n",
       "      <th>Sobreviveu</th>\n",
       "      <th>Classe</th>\n",
       "      <th>Nome</th>\n",
       "      <th>Sexo</th>\n",
       "      <th>Idade</th>\n",
       "      <th>NumeroIrmaos</th>\n",
       "      <th>NumeroPais</th>\n",
       "      <th>NumeroTicket</th>\n",
       "      <th>PrecoTicket</th>\n",
       "      <th>NumeroCabine</th>\n",
       "      <th>PortoEmbarcacao</th>\n",
       "    </tr>\n",
       "  </thead>\n",
       "  <tbody>\n",
       "    <tr>\n",
       "      <th>766</th>\n",
       "      <td>767</td>\n",
       "      <td>0</td>\n",
       "      <td>1</td>\n",
       "      <td>Brewe, Dr. Arthur Jackson</td>\n",
       "      <td>male</td>\n",
       "      <td>NaN</td>\n",
       "      <td>0</td>\n",
       "      <td>0</td>\n",
       "      <td>112379</td>\n",
       "      <td>39.6</td>\n",
       "      <td>NaN</td>\n",
       "      <td>C</td>\n",
       "    </tr>\n",
       "  </tbody>\n",
       "</table>\n",
       "</div>"
      ],
      "text/plain": [
       "     IdPassageiro  Sobreviveu  Classe                       Nome  Sexo  Idade  \\\n",
       "766           767           0       1  Brewe, Dr. Arthur Jackson  male    NaN   \n",
       "\n",
       "     NumeroIrmaos  NumeroPais NumeroTicket  PrecoTicket NumeroCabine  \\\n",
       "766             0           0       112379         39.6          NaN   \n",
       "\n",
       "    PortoEmbarcacao  \n",
       "766               C  "
      ]
     },
     "execution_count": 12,
     "metadata": {},
     "output_type": "execute_result"
    }
   ],
   "source": [
    "df_filtrado"
   ]
  },
  {
   "cell_type": "code",
   "execution_count": 13,
   "metadata": {
    "id": "ODR1BQRyS_my",
    "outputId": "a2289b09-9eb0-460f-da3b-265bfaf400fb"
   },
   "outputs": [
    {
     "data": {
      "text/plain": [
       "(77, 12)"
      ]
     },
     "execution_count": 13,
     "metadata": {},
     "output_type": "execute_result"
    }
   ],
   "source": [
    "# Por último, utilizando a função isin()\n",
    "df_filtrado = df[df['PortoEmbarcacao'].isin(['Q'])]\n",
    "df_filtrado.shape"
   ]
  },
  {
   "cell_type": "markdown",
   "metadata": {
    "id": "8gULcYPzS_mz"
   },
   "source": [
    "### Consultas e filtros\n",
    "### Consultas\n",
    "\n",
    "Pandas também possui a função query(), que realiza consultas no DataFrame através de uma expressão booleana (T/F).\n",
    "\n",
    "**Docs**: [https://pandas.pydata.org/docs/reference/api/pandas.DataFrame.query.html]"
   ]
  },
  {
   "cell_type": "code",
   "execution_count": 14,
   "metadata": {
    "id": "W-Ktv45VS_mz",
    "outputId": "00f9464e-df1b-4cd2-c0b3-30eac23016f1"
   },
   "outputs": [
    {
     "data": {
      "text/plain": [
       "(491, 12)"
      ]
     },
     "execution_count": 14,
     "metadata": {},
     "output_type": "execute_result"
    }
   ],
   "source": [
    "# Para ilustrar essa função, vamos procurar por pessoas que estavam na classe 3:\n",
    "df_consulta = df.query(\"Classe == 3\")\n",
    "df_consulta.shape\n"
   ]
  },
  {
   "cell_type": "code",
   "execution_count": 15,
   "metadata": {
    "id": "uVSmQ1zeS_mz",
    "outputId": "555cf64e-c5a6-4b3d-d69a-89fb77dd1012"
   },
   "outputs": [
    {
     "data": {
      "text/plain": [
       "(707, 12)"
      ]
     },
     "execution_count": 15,
     "metadata": {},
     "output_type": "execute_result"
    }
   ],
   "source": [
    "# A função query também pode ser utilizada para filtrar baseada em uma lista de valores\n",
    "df_consulta = df.query(\"Classe in (1, 3)\")\n",
    "df_consulta.shape"
   ]
  },
  {
   "cell_type": "markdown",
   "metadata": {
    "id": "zu1HgPXrS_m0"
   },
   "source": [
    "### Relembrar Slicing e introduzir conceitos de loc e iloc:\n",
    "\n",
    "### Slicing: obter apenas uma parte do dataset\n"
   ]
  },
  {
   "cell_type": "code",
   "execution_count": 16,
   "metadata": {
    "id": "H3dlaegrS_m0",
    "outputId": "1c7ad974-196c-40db-8eb7-fa78f65ff480"
   },
   "outputs": [
    {
     "data": {
      "text/html": [
       "<div>\n",
       "<style scoped>\n",
       "    .dataframe tbody tr th:only-of-type {\n",
       "        vertical-align: middle;\n",
       "    }\n",
       "\n",
       "    .dataframe tbody tr th {\n",
       "        vertical-align: top;\n",
       "    }\n",
       "\n",
       "    .dataframe thead th {\n",
       "        text-align: right;\n",
       "    }\n",
       "</style>\n",
       "<table border=\"1\" class=\"dataframe\">\n",
       "  <thead>\n",
       "    <tr style=\"text-align: right;\">\n",
       "      <th></th>\n",
       "      <th>IdPassageiro</th>\n",
       "      <th>Sobreviveu</th>\n",
       "      <th>Classe</th>\n",
       "      <th>Nome</th>\n",
       "      <th>Sexo</th>\n",
       "      <th>Idade</th>\n",
       "      <th>NumeroIrmaos</th>\n",
       "      <th>NumeroPais</th>\n",
       "      <th>NumeroTicket</th>\n",
       "      <th>PrecoTicket</th>\n",
       "      <th>NumeroCabine</th>\n",
       "      <th>PortoEmbarcacao</th>\n",
       "    </tr>\n",
       "  </thead>\n",
       "  <tbody>\n",
       "    <tr>\n",
       "      <th>0</th>\n",
       "      <td>1</td>\n",
       "      <td>0</td>\n",
       "      <td>3</td>\n",
       "      <td>Braund, Mr. Owen Harris</td>\n",
       "      <td>male</td>\n",
       "      <td>22.0</td>\n",
       "      <td>1</td>\n",
       "      <td>0</td>\n",
       "      <td>A/5 21171</td>\n",
       "      <td>7.2500</td>\n",
       "      <td>NaN</td>\n",
       "      <td>S</td>\n",
       "    </tr>\n",
       "    <tr>\n",
       "      <th>1</th>\n",
       "      <td>2</td>\n",
       "      <td>1</td>\n",
       "      <td>1</td>\n",
       "      <td>Cumings, Mrs. John Bradley (Florence Briggs Th...</td>\n",
       "      <td>female</td>\n",
       "      <td>38.0</td>\n",
       "      <td>1</td>\n",
       "      <td>0</td>\n",
       "      <td>PC 17599</td>\n",
       "      <td>71.2833</td>\n",
       "      <td>C85</td>\n",
       "      <td>C</td>\n",
       "    </tr>\n",
       "    <tr>\n",
       "      <th>2</th>\n",
       "      <td>3</td>\n",
       "      <td>1</td>\n",
       "      <td>3</td>\n",
       "      <td>Heikkinen, Miss. Laina</td>\n",
       "      <td>female</td>\n",
       "      <td>26.0</td>\n",
       "      <td>0</td>\n",
       "      <td>0</td>\n",
       "      <td>STON/O2. 3101282</td>\n",
       "      <td>7.9250</td>\n",
       "      <td>NaN</td>\n",
       "      <td>S</td>\n",
       "    </tr>\n",
       "    <tr>\n",
       "      <th>3</th>\n",
       "      <td>4</td>\n",
       "      <td>1</td>\n",
       "      <td>1</td>\n",
       "      <td>Futrelle, Mrs. Jacques Heath (Lily May Peel)</td>\n",
       "      <td>female</td>\n",
       "      <td>35.0</td>\n",
       "      <td>1</td>\n",
       "      <td>0</td>\n",
       "      <td>113803</td>\n",
       "      <td>53.1000</td>\n",
       "      <td>C123</td>\n",
       "      <td>S</td>\n",
       "    </tr>\n",
       "    <tr>\n",
       "      <th>4</th>\n",
       "      <td>5</td>\n",
       "      <td>0</td>\n",
       "      <td>3</td>\n",
       "      <td>Allen, Mr. William Henry</td>\n",
       "      <td>male</td>\n",
       "      <td>35.0</td>\n",
       "      <td>0</td>\n",
       "      <td>0</td>\n",
       "      <td>373450</td>\n",
       "      <td>8.0500</td>\n",
       "      <td>NaN</td>\n",
       "      <td>S</td>\n",
       "    </tr>\n",
       "  </tbody>\n",
       "</table>\n",
       "</div>"
      ],
      "text/plain": [
       "   IdPassageiro  Sobreviveu  Classe  \\\n",
       "0             1           0       3   \n",
       "1             2           1       1   \n",
       "2             3           1       3   \n",
       "3             4           1       1   \n",
       "4             5           0       3   \n",
       "\n",
       "                                                Nome    Sexo  Idade  \\\n",
       "0                            Braund, Mr. Owen Harris    male   22.0   \n",
       "1  Cumings, Mrs. John Bradley (Florence Briggs Th...  female   38.0   \n",
       "2                             Heikkinen, Miss. Laina  female   26.0   \n",
       "3       Futrelle, Mrs. Jacques Heath (Lily May Peel)  female   35.0   \n",
       "4                           Allen, Mr. William Henry    male   35.0   \n",
       "\n",
       "   NumeroIrmaos  NumeroPais      NumeroTicket  PrecoTicket NumeroCabine  \\\n",
       "0             1           0         A/5 21171       7.2500          NaN   \n",
       "1             1           0          PC 17599      71.2833          C85   \n",
       "2             0           0  STON/O2. 3101282       7.9250          NaN   \n",
       "3             1           0            113803      53.1000         C123   \n",
       "4             0           0            373450       8.0500          NaN   \n",
       "\n",
       "  PortoEmbarcacao  \n",
       "0               S  \n",
       "1               C  \n",
       "2               S  \n",
       "3               S  \n",
       "4               S  "
      ]
     },
     "execution_count": 16,
     "metadata": {},
     "output_type": "execute_result"
    }
   ],
   "source": [
    "# fatiando valores\n",
    "df[:5]"
   ]
  },
  {
   "cell_type": "markdown",
   "metadata": {
    "id": "41Zgqt2FS_m3"
   },
   "source": [
    "#### LOC e ILOC\n",
    "\n",
    "**loc**: Filtra informações no Dataframe\n",
    "\n",
    "```Python\n",
    "df.loc[linhas,colunas]\n",
    "```"
   ]
  },
  {
   "cell_type": "code",
   "execution_count": 17,
   "metadata": {
    "id": "cr5Lt68uS_m4",
    "outputId": "8786bf85-9a78-4ff2-a2e5-12a514640843"
   },
   "outputs": [
    {
     "data": {
      "text/html": [
       "<div>\n",
       "<style scoped>\n",
       "    .dataframe tbody tr th:only-of-type {\n",
       "        vertical-align: middle;\n",
       "    }\n",
       "\n",
       "    .dataframe tbody tr th {\n",
       "        vertical-align: top;\n",
       "    }\n",
       "\n",
       "    .dataframe thead th {\n",
       "        text-align: right;\n",
       "    }\n",
       "</style>\n",
       "<table border=\"1\" class=\"dataframe\">\n",
       "  <thead>\n",
       "    <tr style=\"text-align: right;\">\n",
       "      <th></th>\n",
       "      <th>Sobreviveu</th>\n",
       "      <th>Idade</th>\n",
       "    </tr>\n",
       "  </thead>\n",
       "  <tbody>\n",
       "    <tr>\n",
       "      <th>0</th>\n",
       "      <td>0</td>\n",
       "      <td>22.0</td>\n",
       "    </tr>\n",
       "    <tr>\n",
       "      <th>1</th>\n",
       "      <td>1</td>\n",
       "      <td>38.0</td>\n",
       "    </tr>\n",
       "    <tr>\n",
       "      <th>2</th>\n",
       "      <td>1</td>\n",
       "      <td>26.0</td>\n",
       "    </tr>\n",
       "    <tr>\n",
       "      <th>3</th>\n",
       "      <td>1</td>\n",
       "      <td>35.0</td>\n",
       "    </tr>\n",
       "    <tr>\n",
       "      <th>4</th>\n",
       "      <td>0</td>\n",
       "      <td>35.0</td>\n",
       "    </tr>\n",
       "    <tr>\n",
       "      <th>...</th>\n",
       "      <td>...</td>\n",
       "      <td>...</td>\n",
       "    </tr>\n",
       "    <tr>\n",
       "      <th>886</th>\n",
       "      <td>0</td>\n",
       "      <td>27.0</td>\n",
       "    </tr>\n",
       "    <tr>\n",
       "      <th>887</th>\n",
       "      <td>1</td>\n",
       "      <td>19.0</td>\n",
       "    </tr>\n",
       "    <tr>\n",
       "      <th>888</th>\n",
       "      <td>0</td>\n",
       "      <td>NaN</td>\n",
       "    </tr>\n",
       "    <tr>\n",
       "      <th>889</th>\n",
       "      <td>1</td>\n",
       "      <td>26.0</td>\n",
       "    </tr>\n",
       "    <tr>\n",
       "      <th>890</th>\n",
       "      <td>0</td>\n",
       "      <td>32.0</td>\n",
       "    </tr>\n",
       "  </tbody>\n",
       "</table>\n",
       "<p>891 rows × 2 columns</p>\n",
       "</div>"
      ],
      "text/plain": [
       "     Sobreviveu  Idade\n",
       "0             0   22.0\n",
       "1             1   38.0\n",
       "2             1   26.0\n",
       "3             1   35.0\n",
       "4             0   35.0\n",
       "..          ...    ...\n",
       "886           0   27.0\n",
       "887           1   19.0\n",
       "888           0    NaN\n",
       "889           1   26.0\n",
       "890           0   32.0\n",
       "\n",
       "[891 rows x 2 columns]"
      ]
     },
     "execution_count": 17,
     "metadata": {},
     "output_type": "execute_result"
    }
   ],
   "source": [
    "df_loc = df.loc[:, [\"Sobreviveu\", \"Idade\"]]\n",
    "df_loc"
   ]
  },
  {
   "cell_type": "markdown",
   "metadata": {
    "id": "VDSt5vAgS_m4"
   },
   "source": [
    "   \n",
    "**iloc**: Funciona de maneira similar, porém função iloc seleciona linhas e colunas por seus índices.\n",
    "\n",
    "```Python\n",
    "df.iloc[linhas, colunas]\n",
    "```"
   ]
  },
  {
   "cell_type": "code",
   "execution_count": 18,
   "metadata": {
    "id": "NzQE8tnOS_m4",
    "outputId": "7e798f09-5b8e-4561-d1ab-bc2b460fd619"
   },
   "outputs": [
    {
     "data": {
      "text/html": [
       "<div>\n",
       "<style scoped>\n",
       "    .dataframe tbody tr th:only-of-type {\n",
       "        vertical-align: middle;\n",
       "    }\n",
       "\n",
       "    .dataframe tbody tr th {\n",
       "        vertical-align: top;\n",
       "    }\n",
       "\n",
       "    .dataframe thead th {\n",
       "        text-align: right;\n",
       "    }\n",
       "</style>\n",
       "<table border=\"1\" class=\"dataframe\">\n",
       "  <thead>\n",
       "    <tr style=\"text-align: right;\">\n",
       "      <th></th>\n",
       "      <th>IdPassageiro</th>\n",
       "      <th>Sobreviveu</th>\n",
       "    </tr>\n",
       "  </thead>\n",
       "  <tbody>\n",
       "    <tr>\n",
       "      <th>0</th>\n",
       "      <td>1</td>\n",
       "      <td>0</td>\n",
       "    </tr>\n",
       "    <tr>\n",
       "      <th>1</th>\n",
       "      <td>2</td>\n",
       "      <td>1</td>\n",
       "    </tr>\n",
       "    <tr>\n",
       "      <th>2</th>\n",
       "      <td>3</td>\n",
       "      <td>1</td>\n",
       "    </tr>\n",
       "    <tr>\n",
       "      <th>3</th>\n",
       "      <td>4</td>\n",
       "      <td>1</td>\n",
       "    </tr>\n",
       "    <tr>\n",
       "      <th>4</th>\n",
       "      <td>5</td>\n",
       "      <td>0</td>\n",
       "    </tr>\n",
       "    <tr>\n",
       "      <th>...</th>\n",
       "      <td>...</td>\n",
       "      <td>...</td>\n",
       "    </tr>\n",
       "    <tr>\n",
       "      <th>886</th>\n",
       "      <td>887</td>\n",
       "      <td>0</td>\n",
       "    </tr>\n",
       "    <tr>\n",
       "      <th>887</th>\n",
       "      <td>888</td>\n",
       "      <td>1</td>\n",
       "    </tr>\n",
       "    <tr>\n",
       "      <th>888</th>\n",
       "      <td>889</td>\n",
       "      <td>0</td>\n",
       "    </tr>\n",
       "    <tr>\n",
       "      <th>889</th>\n",
       "      <td>890</td>\n",
       "      <td>1</td>\n",
       "    </tr>\n",
       "    <tr>\n",
       "      <th>890</th>\n",
       "      <td>891</td>\n",
       "      <td>0</td>\n",
       "    </tr>\n",
       "  </tbody>\n",
       "</table>\n",
       "<p>891 rows × 2 columns</p>\n",
       "</div>"
      ],
      "text/plain": [
       "     IdPassageiro  Sobreviveu\n",
       "0               1           0\n",
       "1               2           1\n",
       "2               3           1\n",
       "3               4           1\n",
       "4               5           0\n",
       "..            ...         ...\n",
       "886           887           0\n",
       "887           888           1\n",
       "888           889           0\n",
       "889           890           1\n",
       "890           891           0\n",
       "\n",
       "[891 rows x 2 columns]"
      ]
     },
     "execution_count": 18,
     "metadata": {},
     "output_type": "execute_result"
    }
   ],
   "source": [
    "df.iloc[:, [0,1]]"
   ]
  },
  {
   "cell_type": "code",
   "execution_count": 19,
   "metadata": {
    "id": "PSjsxwSuS_m4",
    "outputId": "cb5f5ab9-92b9-4de7-f718-90515d59ab14"
   },
   "outputs": [
    {
     "data": {
      "text/html": [
       "<div>\n",
       "<style scoped>\n",
       "    .dataframe tbody tr th:only-of-type {\n",
       "        vertical-align: middle;\n",
       "    }\n",
       "\n",
       "    .dataframe tbody tr th {\n",
       "        vertical-align: top;\n",
       "    }\n",
       "\n",
       "    .dataframe thead th {\n",
       "        text-align: right;\n",
       "    }\n",
       "</style>\n",
       "<table border=\"1\" class=\"dataframe\">\n",
       "  <thead>\n",
       "    <tr style=\"text-align: right;\">\n",
       "      <th></th>\n",
       "      <th>IdPassageiro</th>\n",
       "      <th>Sobreviveu</th>\n",
       "      <th>Classe</th>\n",
       "      <th>Nome</th>\n",
       "      <th>Sexo</th>\n",
       "      <th>Idade</th>\n",
       "      <th>NumeroIrmaos</th>\n",
       "      <th>NumeroPais</th>\n",
       "      <th>NumeroTicket</th>\n",
       "      <th>PrecoTicket</th>\n",
       "      <th>NumeroCabine</th>\n",
       "      <th>PortoEmbarcacao</th>\n",
       "    </tr>\n",
       "  </thead>\n",
       "  <tbody>\n",
       "    <tr>\n",
       "      <th>10</th>\n",
       "      <td>11</td>\n",
       "      <td>1</td>\n",
       "      <td>3</td>\n",
       "      <td>Sandstrom, Miss. Marguerite Rut</td>\n",
       "      <td>female</td>\n",
       "      <td>4.0</td>\n",
       "      <td>1</td>\n",
       "      <td>1</td>\n",
       "      <td>PP 9549</td>\n",
       "      <td>16.7000</td>\n",
       "      <td>G6</td>\n",
       "      <td>S</td>\n",
       "    </tr>\n",
       "    <tr>\n",
       "      <th>11</th>\n",
       "      <td>12</td>\n",
       "      <td>1</td>\n",
       "      <td>1</td>\n",
       "      <td>Bonnell, Miss. Elizabeth</td>\n",
       "      <td>female</td>\n",
       "      <td>58.0</td>\n",
       "      <td>0</td>\n",
       "      <td>0</td>\n",
       "      <td>113783</td>\n",
       "      <td>26.5500</td>\n",
       "      <td>C103</td>\n",
       "      <td>S</td>\n",
       "    </tr>\n",
       "    <tr>\n",
       "      <th>12</th>\n",
       "      <td>13</td>\n",
       "      <td>0</td>\n",
       "      <td>3</td>\n",
       "      <td>Saundercock, Mr. William Henry</td>\n",
       "      <td>male</td>\n",
       "      <td>20.0</td>\n",
       "      <td>0</td>\n",
       "      <td>0</td>\n",
       "      <td>A/5. 2151</td>\n",
       "      <td>8.0500</td>\n",
       "      <td>NaN</td>\n",
       "      <td>S</td>\n",
       "    </tr>\n",
       "    <tr>\n",
       "      <th>13</th>\n",
       "      <td>14</td>\n",
       "      <td>0</td>\n",
       "      <td>3</td>\n",
       "      <td>Andersson, Mr. Anders Johan</td>\n",
       "      <td>male</td>\n",
       "      <td>39.0</td>\n",
       "      <td>1</td>\n",
       "      <td>5</td>\n",
       "      <td>347082</td>\n",
       "      <td>31.2750</td>\n",
       "      <td>NaN</td>\n",
       "      <td>S</td>\n",
       "    </tr>\n",
       "    <tr>\n",
       "      <th>14</th>\n",
       "      <td>15</td>\n",
       "      <td>0</td>\n",
       "      <td>3</td>\n",
       "      <td>Vestrom, Miss. Hulda Amanda Adolfina</td>\n",
       "      <td>female</td>\n",
       "      <td>14.0</td>\n",
       "      <td>0</td>\n",
       "      <td>0</td>\n",
       "      <td>350406</td>\n",
       "      <td>7.8542</td>\n",
       "      <td>NaN</td>\n",
       "      <td>S</td>\n",
       "    </tr>\n",
       "  </tbody>\n",
       "</table>\n",
       "</div>"
      ],
      "text/plain": [
       "    IdPassageiro  Sobreviveu  Classe                                  Nome  \\\n",
       "10            11           1       3       Sandstrom, Miss. Marguerite Rut   \n",
       "11            12           1       1              Bonnell, Miss. Elizabeth   \n",
       "12            13           0       3        Saundercock, Mr. William Henry   \n",
       "13            14           0       3           Andersson, Mr. Anders Johan   \n",
       "14            15           0       3  Vestrom, Miss. Hulda Amanda Adolfina   \n",
       "\n",
       "      Sexo  Idade  NumeroIrmaos  NumeroPais NumeroTicket  PrecoTicket  \\\n",
       "10  female    4.0             1           1      PP 9549      16.7000   \n",
       "11  female   58.0             0           0       113783      26.5500   \n",
       "12    male   20.0             0           0    A/5. 2151       8.0500   \n",
       "13    male   39.0             1           5       347082      31.2750   \n",
       "14  female   14.0             0           0       350406       7.8542   \n",
       "\n",
       "   NumeroCabine PortoEmbarcacao  \n",
       "10           G6               S  \n",
       "11         C103               S  \n",
       "12          NaN               S  \n",
       "13          NaN               S  \n",
       "14          NaN               S  "
      ]
     },
     "execution_count": 19,
     "metadata": {},
     "output_type": "execute_result"
    }
   ],
   "source": [
    "df.iloc[10:15, :]"
   ]
  },
  {
   "cell_type": "markdown",
   "metadata": {},
   "source": [
    "### Exercício 04 parte 01\n",
    "\n",
    "- Realizar filtro com apenas uma única condição;\n",
    "- Realizar filtro com múltiplas condições;\n",
    "- Selecionar entradas com string específica;\n",
    "- Realizar uma consulta passageiros da segunda e terceira classe;\n",
    "- Obter subamostra do dataset com 30 amostras utilizando o método de slicing;\n",
    "- Utilizar a função loc para obter a idade e sobrevivência do passageiro;\n"
   ]
  },
  {
   "cell_type": "markdown",
   "metadata": {},
   "source": [
    "# Alomoço"
   ]
  },
  {
   "cell_type": "code",
   "execution_count": 20,
   "metadata": {},
   "outputs": [
    {
     "data": {
      "text/html": [
       "\n",
       "        <iframe\n",
       "            width=\"300\"\n",
       "            height=\"250\"\n",
       "            src=\"https://giphy.com/embed/7AKbdZiyTx98fPHG0Z\"\n",
       "            frameborder=\"0\"\n",
       "            allowfullscreen\n",
       "            \n",
       "        ></iframe>\n",
       "        "
      ],
      "text/plain": [
       "<IPython.lib.display.IFrame at 0x2becd951610>"
      ]
     },
     "execution_count": 20,
     "metadata": {},
     "output_type": "execute_result"
    }
   ],
   "source": [
    "from IPython.display import IFrame\n",
    "\n",
    "# GIF link used as IFrame\n",
    "iframe_url = \"https://giphy.com/embed/7AKbdZiyTx98fPHG0Z\"\n",
    "\n",
    "# resized output IFrame\n",
    "IFrame(src=iframe_url, width=300, height=250)"
   ]
  },
  {
   "cell_type": "markdown",
   "metadata": {
    "id": "nES063ppS_m4"
   },
   "source": [
    "### Agrupamento / Agregação\n",
    "\n",
    "Podemos criar um agrupamento de categorias e aplicar uma função às categorias. É um conceito simples, mas é uma técnica extremamente valiosa, amplamente utilizada na ciência de dados. Em projetos reais de ciência de dados, você lidará com grandes quantidades de dados e tentará várias vezes, portanto, para eficiência, usamos o conceito Groupby. O conceito de Groupby é realmente importante por causa de sua capacidade de resumir, agregar e agrupar dados com eficiência.\n",
    "\n",
    "\n",
    "[Fonte](https://acervolima.com/pandas-groupby-resumindo-agregando-e-agrupando-dados-em-python/)"
   ]
  },
  {
   "cell_type": "code",
   "execution_count": 21,
   "metadata": {
    "id": "noSCxvLQS_m6",
    "outputId": "fd434c19-19d3-4395-a595-83703e140d1b"
   },
   "outputs": [
    {
     "data": {
      "text/plain": [
       "<pandas.core.groupby.generic.DataFrameGroupBy object at 0x000002BED4E60F50>"
      ]
     },
     "execution_count": 21,
     "metadata": {},
     "output_type": "execute_result"
    }
   ],
   "source": [
    "# Agrupar passageiros por classe\n",
    "dado_agrupado = df.groupby('Classe')\n",
    "dado_agrupado"
   ]
  },
  {
   "cell_type": "code",
   "execution_count": 30,
   "metadata": {},
   "outputs": [
    {
     "data": {
      "text/plain": [
       "Classe\n",
       "1    216\n",
       "2    184\n",
       "3    491\n",
       "Name: IdPassageiro, dtype: int64"
      ]
     },
     "execution_count": 30,
     "metadata": {},
     "output_type": "execute_result"
    }
   ],
   "source": [
    "# Contagem de passageiros em cada classe, usando os dados agrupados no passo anterior\n",
    "contagem_passageiros = dado_agrupado['IdPassageiro'].count()\n",
    "contagem_passageiros"
   ]
  },
  {
   "cell_type": "code",
   "execution_count": 23,
   "metadata": {},
   "outputs": [
    {
     "data": {
      "text/plain": [
       "Classe\n",
       "3    491\n",
       "1    216\n",
       "2    184\n",
       "Name: count, dtype: int64"
      ]
     },
     "execution_count": 23,
     "metadata": {},
     "output_type": "execute_result"
    }
   ],
   "source": [
    "# função value counts\n",
    "df['Classe'].value_counts()"
   ]
  },
  {
   "cell_type": "code",
   "execution_count": 24,
   "metadata": {
    "id": "UxbPOZJfS_m7",
    "outputId": "f2031638-fbad-45b1-94a6-1415795d6800"
   },
   "outputs": [
    {
     "data": {
      "text/plain": [
       "Classe\n",
       "1    38.233441\n",
       "2    29.877630\n",
       "3    25.140620\n",
       "Name: Idade, dtype: float64"
      ]
     },
     "execution_count": 24,
     "metadata": {},
     "output_type": "execute_result"
    }
   ],
   "source": [
    "# Média de Idade de passageiros em cada classe\n",
    "media_idade = dado_agrupado['Idade'].mean()\n",
    "media_idade"
   ]
  },
  {
   "cell_type": "code",
   "execution_count": 41,
   "metadata": {},
   "outputs": [
    {
     "data": {
      "text/html": [
       "<div>\n",
       "<style scoped>\n",
       "    .dataframe tbody tr th:only-of-type {\n",
       "        vertical-align: middle;\n",
       "    }\n",
       "\n",
       "    .dataframe tbody tr th {\n",
       "        vertical-align: top;\n",
       "    }\n",
       "\n",
       "    .dataframe thead th {\n",
       "        text-align: right;\n",
       "    }\n",
       "</style>\n",
       "<table border=\"1\" class=\"dataframe\">\n",
       "  <thead>\n",
       "    <tr style=\"text-align: right;\">\n",
       "      <th></th>\n",
       "      <th>count</th>\n",
       "      <th>mean</th>\n",
       "      <th>std</th>\n",
       "      <th>min</th>\n",
       "      <th>50%</th>\n",
       "      <th>99%</th>\n",
       "      <th>99.5%</th>\n",
       "      <th>max</th>\n",
       "    </tr>\n",
       "  </thead>\n",
       "  <tbody>\n",
       "    <tr>\n",
       "      <th>Idade</th>\n",
       "      <td>714.0</td>\n",
       "      <td>29.699118</td>\n",
       "      <td>14.526497</td>\n",
       "      <td>0.42</td>\n",
       "      <td>28.0</td>\n",
       "      <td>65.87</td>\n",
       "      <td>70.7175</td>\n",
       "      <td>80.0</td>\n",
       "    </tr>\n",
       "  </tbody>\n",
       "</table>\n",
       "</div>"
      ],
      "text/plain": [
       "       count       mean        std   min   50%    99%    99.5%   max\n",
       "Idade  714.0  29.699118  14.526497  0.42  28.0  65.87  70.7175  80.0"
      ]
     },
     "execution_count": 41,
     "metadata": {},
     "output_type": "execute_result"
    }
   ],
   "source": [
    "df[['Idade']].describe(percentiles=[0.99, 0.995]).T"
   ]
  },
  {
   "cell_type": "code",
   "execution_count": 42,
   "metadata": {},
   "outputs": [
    {
     "data": {
      "text/html": [
       "<div>\n",
       "<style scoped>\n",
       "    .dataframe tbody tr th:only-of-type {\n",
       "        vertical-align: middle;\n",
       "    }\n",
       "\n",
       "    .dataframe tbody tr th {\n",
       "        vertical-align: top;\n",
       "    }\n",
       "\n",
       "    .dataframe thead th {\n",
       "        text-align: right;\n",
       "    }\n",
       "</style>\n",
       "<table border=\"1\" class=\"dataframe\">\n",
       "  <thead>\n",
       "    <tr style=\"text-align: right;\">\n",
       "      <th></th>\n",
       "      <th>IdPassageiro</th>\n",
       "      <th>Sobreviveu</th>\n",
       "      <th>Classe</th>\n",
       "      <th>Nome</th>\n",
       "      <th>Sexo</th>\n",
       "      <th>Idade</th>\n",
       "      <th>NumeroIrmaos</th>\n",
       "      <th>NumeroPais</th>\n",
       "      <th>NumeroTicket</th>\n",
       "      <th>PrecoTicket</th>\n",
       "      <th>NumeroCabine</th>\n",
       "      <th>PortoEmbarcacao</th>\n",
       "    </tr>\n",
       "  </thead>\n",
       "  <tbody>\n",
       "    <tr>\n",
       "      <th>96</th>\n",
       "      <td>97</td>\n",
       "      <td>0</td>\n",
       "      <td>1</td>\n",
       "      <td>Goldschmidt, Mr. George B</td>\n",
       "      <td>male</td>\n",
       "      <td>71.0</td>\n",
       "      <td>0</td>\n",
       "      <td>0</td>\n",
       "      <td>PC 17754</td>\n",
       "      <td>34.6542</td>\n",
       "      <td>A5</td>\n",
       "      <td>C</td>\n",
       "    </tr>\n",
       "    <tr>\n",
       "      <th>116</th>\n",
       "      <td>117</td>\n",
       "      <td>0</td>\n",
       "      <td>3</td>\n",
       "      <td>Connors, Mr. Patrick</td>\n",
       "      <td>male</td>\n",
       "      <td>70.5</td>\n",
       "      <td>0</td>\n",
       "      <td>0</td>\n",
       "      <td>370369</td>\n",
       "      <td>7.7500</td>\n",
       "      <td>NaN</td>\n",
       "      <td>Q</td>\n",
       "    </tr>\n",
       "    <tr>\n",
       "      <th>493</th>\n",
       "      <td>494</td>\n",
       "      <td>0</td>\n",
       "      <td>1</td>\n",
       "      <td>Artagaveytia, Mr. Ramon</td>\n",
       "      <td>male</td>\n",
       "      <td>71.0</td>\n",
       "      <td>0</td>\n",
       "      <td>0</td>\n",
       "      <td>PC 17609</td>\n",
       "      <td>49.5042</td>\n",
       "      <td>NaN</td>\n",
       "      <td>C</td>\n",
       "    </tr>\n",
       "    <tr>\n",
       "      <th>630</th>\n",
       "      <td>631</td>\n",
       "      <td>1</td>\n",
       "      <td>1</td>\n",
       "      <td>Barkworth, Mr. Algernon Henry Wilson</td>\n",
       "      <td>male</td>\n",
       "      <td>80.0</td>\n",
       "      <td>0</td>\n",
       "      <td>0</td>\n",
       "      <td>27042</td>\n",
       "      <td>30.0000</td>\n",
       "      <td>A23</td>\n",
       "      <td>S</td>\n",
       "    </tr>\n",
       "    <tr>\n",
       "      <th>851</th>\n",
       "      <td>852</td>\n",
       "      <td>0</td>\n",
       "      <td>3</td>\n",
       "      <td>Svensson, Mr. Johan</td>\n",
       "      <td>male</td>\n",
       "      <td>74.0</td>\n",
       "      <td>0</td>\n",
       "      <td>0</td>\n",
       "      <td>347060</td>\n",
       "      <td>7.7750</td>\n",
       "      <td>NaN</td>\n",
       "      <td>S</td>\n",
       "    </tr>\n",
       "  </tbody>\n",
       "</table>\n",
       "</div>"
      ],
      "text/plain": [
       "     IdPassageiro  Sobreviveu  Classe                                  Nome  \\\n",
       "96             97           0       1             Goldschmidt, Mr. George B   \n",
       "116           117           0       3                  Connors, Mr. Patrick   \n",
       "493           494           0       1               Artagaveytia, Mr. Ramon   \n",
       "630           631           1       1  Barkworth, Mr. Algernon Henry Wilson   \n",
       "851           852           0       3                   Svensson, Mr. Johan   \n",
       "\n",
       "     Sexo  Idade  NumeroIrmaos  NumeroPais NumeroTicket  PrecoTicket  \\\n",
       "96   male   71.0             0           0     PC 17754      34.6542   \n",
       "116  male   70.5             0           0       370369       7.7500   \n",
       "493  male   71.0             0           0     PC 17609      49.5042   \n",
       "630  male   80.0             0           0        27042      30.0000   \n",
       "851  male   74.0             0           0       347060       7.7750   \n",
       "\n",
       "    NumeroCabine PortoEmbarcacao  \n",
       "96            A5               C  \n",
       "116          NaN               Q  \n",
       "493          NaN               C  \n",
       "630          A23               S  \n",
       "851          NaN               S  "
      ]
     },
     "execution_count": 42,
     "metadata": {},
     "output_type": "execute_result"
    }
   ],
   "source": [
    "df[df['Idade'] > 70]"
   ]
  },
  {
   "cell_type": "code",
   "execution_count": 45,
   "metadata": {
    "id": "jxk2rE1hS_m7",
    "outputId": "55e2c10a-49b5-4a8a-f979-162b4bc89e1b"
   },
   "outputs": [
    {
     "name": "stdout",
     "output_type": "stream",
     "text": [
      "Valor máximo do preço da passagem por classe\n",
      "Classe\n",
      "1    512.3292\n",
      "2     73.5000\n",
      "3     69.5500\n",
      "Name: PrecoTicket, dtype: float64\n",
      "Valor mínimo do preço da passagem por classe\n",
      "Classe\n",
      "1    0.0\n",
      "2    0.0\n",
      "3    0.0\n",
      "Name: PrecoTicket, dtype: float64\n"
     ]
    }
   ],
   "source": [
    "# Obter o valor máximo e mínimo pago por passageiros em cada classe:\n",
    "valor_max = dado_agrupado['PrecoTicket'].max()\n",
    "valor_min = dado_agrupado['PrecoTicket'].min()\n",
    "\n",
    "print(\"Valor máximo do preço da passagem por classe\")\n",
    "print(valor_max)\n",
    "\n",
    "print(\"Valor mínimo do preço da passagem por classe\")\n",
    "print(valor_min)"
   ]
  },
  {
   "cell_type": "code",
   "execution_count": 49,
   "metadata": {},
   "outputs": [
    {
     "data": {
      "text/html": [
       "<div>\n",
       "<style scoped>\n",
       "    .dataframe tbody tr th:only-of-type {\n",
       "        vertical-align: middle;\n",
       "    }\n",
       "\n",
       "    .dataframe tbody tr th {\n",
       "        vertical-align: top;\n",
       "    }\n",
       "\n",
       "    .dataframe thead tr th {\n",
       "        text-align: left;\n",
       "    }\n",
       "\n",
       "    .dataframe thead tr:last-of-type th {\n",
       "        text-align: right;\n",
       "    }\n",
       "</style>\n",
       "<table border=\"1\" class=\"dataframe\">\n",
       "  <thead>\n",
       "    <tr>\n",
       "      <th></th>\n",
       "      <th colspan=\"5\" halign=\"left\">PrecoTicket</th>\n",
       "      <th colspan=\"5\" halign=\"left\">Idade</th>\n",
       "    </tr>\n",
       "    <tr>\n",
       "      <th></th>\n",
       "      <th>count</th>\n",
       "      <th>mean</th>\n",
       "      <th>median</th>\n",
       "      <th>min</th>\n",
       "      <th>max</th>\n",
       "      <th>count</th>\n",
       "      <th>mean</th>\n",
       "      <th>median</th>\n",
       "      <th>min</th>\n",
       "      <th>max</th>\n",
       "    </tr>\n",
       "    <tr>\n",
       "      <th>Sexo</th>\n",
       "      <th></th>\n",
       "      <th></th>\n",
       "      <th></th>\n",
       "      <th></th>\n",
       "      <th></th>\n",
       "      <th></th>\n",
       "      <th></th>\n",
       "      <th></th>\n",
       "      <th></th>\n",
       "      <th></th>\n",
       "    </tr>\n",
       "  </thead>\n",
       "  <tbody>\n",
       "    <tr>\n",
       "      <th>female</th>\n",
       "      <td>314</td>\n",
       "      <td>44.479818</td>\n",
       "      <td>23.0</td>\n",
       "      <td>6.75</td>\n",
       "      <td>512.3292</td>\n",
       "      <td>261</td>\n",
       "      <td>27.915709</td>\n",
       "      <td>27.0</td>\n",
       "      <td>0.75</td>\n",
       "      <td>63.0</td>\n",
       "    </tr>\n",
       "    <tr>\n",
       "      <th>male</th>\n",
       "      <td>577</td>\n",
       "      <td>25.523893</td>\n",
       "      <td>10.5</td>\n",
       "      <td>0.00</td>\n",
       "      <td>512.3292</td>\n",
       "      <td>453</td>\n",
       "      <td>30.726645</td>\n",
       "      <td>29.0</td>\n",
       "      <td>0.42</td>\n",
       "      <td>80.0</td>\n",
       "    </tr>\n",
       "  </tbody>\n",
       "</table>\n",
       "</div>"
      ],
      "text/plain": [
       "       PrecoTicket                                   Idade                    \\\n",
       "             count       mean median   min       max count       mean median   \n",
       "Sexo                                                                           \n",
       "female         314  44.479818   23.0  6.75  512.3292   261  27.915709   27.0   \n",
       "male           577  25.523893   10.5  0.00  512.3292   453  30.726645   29.0   \n",
       "\n",
       "                    \n",
       "         min   max  \n",
       "Sexo                \n",
       "female  0.75  63.0  \n",
       "male    0.42  80.0  "
      ]
     },
     "execution_count": 49,
     "metadata": {},
     "output_type": "execute_result"
    }
   ],
   "source": [
    "df.groupby('Sexo').agg({'PrecoTicket': ['count', 'mean', 'median', 'min', 'max'], \n",
    "                        'Idade': ['count', 'mean', 'median', 'min', 'max']})"
   ]
  },
  {
   "cell_type": "code",
   "execution_count": 52,
   "metadata": {},
   "outputs": [
    {
     "data": {
      "text/html": [
       "<div>\n",
       "<style scoped>\n",
       "    .dataframe tbody tr th:only-of-type {\n",
       "        vertical-align: middle;\n",
       "    }\n",
       "\n",
       "    .dataframe tbody tr th {\n",
       "        vertical-align: top;\n",
       "    }\n",
       "\n",
       "    .dataframe thead tr th {\n",
       "        text-align: left;\n",
       "    }\n",
       "\n",
       "    .dataframe thead tr:last-of-type th {\n",
       "        text-align: right;\n",
       "    }\n",
       "</style>\n",
       "<table border=\"1\" class=\"dataframe\">\n",
       "  <thead>\n",
       "    <tr>\n",
       "      <th></th>\n",
       "      <th></th>\n",
       "      <th colspan=\"5\" halign=\"left\">PrecoTicket</th>\n",
       "    </tr>\n",
       "    <tr>\n",
       "      <th></th>\n",
       "      <th></th>\n",
       "      <th>count</th>\n",
       "      <th>mean</th>\n",
       "      <th>median</th>\n",
       "      <th>min</th>\n",
       "      <th>max</th>\n",
       "    </tr>\n",
       "    <tr>\n",
       "      <th>Sexo</th>\n",
       "      <th>PortoEmbarcacao</th>\n",
       "      <th></th>\n",
       "      <th></th>\n",
       "      <th></th>\n",
       "      <th></th>\n",
       "      <th></th>\n",
       "    </tr>\n",
       "  </thead>\n",
       "  <tbody>\n",
       "    <tr>\n",
       "      <th rowspan=\"3\" valign=\"top\">female</th>\n",
       "      <th>C</th>\n",
       "      <td>73</td>\n",
       "      <td>75.169805</td>\n",
       "      <td>56.92920</td>\n",
       "      <td>7.2250</td>\n",
       "      <td>512.3292</td>\n",
       "    </tr>\n",
       "    <tr>\n",
       "      <th>Q</th>\n",
       "      <td>36</td>\n",
       "      <td>12.634958</td>\n",
       "      <td>7.76875</td>\n",
       "      <td>6.7500</td>\n",
       "      <td>90.0000</td>\n",
       "    </tr>\n",
       "    <tr>\n",
       "      <th>S</th>\n",
       "      <td>203</td>\n",
       "      <td>38.740929</td>\n",
       "      <td>24.15000</td>\n",
       "      <td>7.2500</td>\n",
       "      <td>263.0000</td>\n",
       "    </tr>\n",
       "    <tr>\n",
       "      <th rowspan=\"3\" valign=\"top\">male</th>\n",
       "      <th>C</th>\n",
       "      <td>95</td>\n",
       "      <td>48.262109</td>\n",
       "      <td>24.00000</td>\n",
       "      <td>4.0125</td>\n",
       "      <td>512.3292</td>\n",
       "    </tr>\n",
       "    <tr>\n",
       "      <th>Q</th>\n",
       "      <td>41</td>\n",
       "      <td>13.838922</td>\n",
       "      <td>7.75000</td>\n",
       "      <td>6.7500</td>\n",
       "      <td>90.0000</td>\n",
       "    </tr>\n",
       "    <tr>\n",
       "      <th>S</th>\n",
       "      <td>441</td>\n",
       "      <td>21.711996</td>\n",
       "      <td>10.50000</td>\n",
       "      <td>0.0000</td>\n",
       "      <td>263.0000</td>\n",
       "    </tr>\n",
       "  </tbody>\n",
       "</table>\n",
       "</div>"
      ],
      "text/plain": [
       "                       PrecoTicket                                       \n",
       "                             count       mean    median     min       max\n",
       "Sexo   PortoEmbarcacao                                                   \n",
       "female C                        73  75.169805  56.92920  7.2250  512.3292\n",
       "       Q                        36  12.634958   7.76875  6.7500   90.0000\n",
       "       S                       203  38.740929  24.15000  7.2500  263.0000\n",
       "male   C                        95  48.262109  24.00000  4.0125  512.3292\n",
       "       Q                        41  13.838922   7.75000  6.7500   90.0000\n",
       "       S                       441  21.711996  10.50000  0.0000  263.0000"
      ]
     },
     "execution_count": 52,
     "metadata": {},
     "output_type": "execute_result"
    }
   ],
   "source": [
    "df.groupby(['Sexo', 'PortoEmbarcacao']).agg({'PrecoTicket': ['count', 'mean', 'median', 'min', 'max']})"
   ]
  },
  {
   "cell_type": "markdown",
   "metadata": {},
   "source": [
    "### Exercício 04 parte 02\n",
    "\n",
    "- Agrupar passageiros por genero\n",
    "- Obter a média de idade de passageiros por genero\n",
    "- Obter o valor máximo e mínimo pago por passageiros em cada genero"
   ]
  },
  {
   "cell_type": "markdown",
   "metadata": {
    "id": "6sNCu_PsS_m8"
   },
   "source": [
    "## Pandas: Gerando Gráficos\n",
    "\n",
    "Pandas, em si, não é uma biblioteca de geração de gráficos - o seu segredo é a sua integração com bibliotecas de visualização, permitindo que as suas capacidades de manipulação atuem como ferramentas poderosas para gerar gráficos. Exemplos dessas libs são o Numpy, matplotlib e Seaborn.\n",
    "\n",
    "Pandas permite:\n",
    "- manipulação e preparação de dados\n",
    "- integração com bibliotecas de visualização\n",
    "- seleção de dados\n",
    "- permite fácil combinação de dados provenientes de diferentes datasets"
   ]
  },
  {
   "cell_type": "markdown",
   "metadata": {
    "id": "RM_Xr6IzS_m8"
   },
   "source": [
    "### Pandas + Matplotlib"
   ]
  },
  {
   "cell_type": "markdown",
   "metadata": {
    "id": "Iab5GB_jURLN"
   },
   "source": [
    "Matplotlib, por sua vez, é uma biblioteca Python dedicada à visualização de dados. As figuras geradas, muitas vezes após tratamento de dados utilizando Pandas, são passíveis de fácil edição e customização via código e podem ser facilmente exportadas para outros formatos (inclusive de alta qualidade).\n",
    "\n",
    "Basicamente, a lib monta o gráfico a partir de seus dados em uma 'Figura' que pode conter um ou mais 'Eixos', que definem uma área onde pontos (relativos aos dados) podem ser delimitados.\n",
    "\n",
    "\n",
    "[Fonte](https://matplotlib.org/)\n",
    "\n",
    "[Fonte](https://matplotlib.org/stable/tutorials/introductory/quick_start.html)"
   ]
  },
  {
   "cell_type": "code",
   "execution_count": 1,
   "metadata": {
    "colab": {
     "base_uri": "https://localhost:8080/",
     "height": 448
    },
    "id": "KS8389rdXMEu",
    "outputId": "386b4ea1-0ef0-4e2a-891a-e1ea0dee0ed5"
   },
   "outputs": [
    {
     "ename": "ModuleNotFoundError",
     "evalue": "No module named 'matplotlib'",
     "output_type": "error",
     "traceback": [
      "\u001b[1;31m---------------------------------------------------------------------------\u001b[0m",
      "\u001b[1;31mModuleNotFoundError\u001b[0m                       Traceback (most recent call last)",
      "\u001b[1;32mc:\\Users\\PROFESSOR\\estudos-reprograma\\semana12\\on26-python-s12-pandas-numpy-II\\material\\aula_s12.ipynb Cell 48\u001b[0m line \u001b[0;36m2\n\u001b[0;32m      <a href='vscode-notebook-cell:/c%3A/Users/PROFESSOR/estudos-reprograma/semana12/on26-python-s12-pandas-numpy-II/material/aula_s12.ipynb#X65sZmlsZQ%3D%3D?line=0'>1</a>\u001b[0m \u001b[39m# exemplo mais simples de gráfico:\u001b[39;00m\n\u001b[1;32m----> <a href='vscode-notebook-cell:/c%3A/Users/PROFESSOR/estudos-reprograma/semana12/on26-python-s12-pandas-numpy-II/material/aula_s12.ipynb#X65sZmlsZQ%3D%3D?line=1'>2</a>\u001b[0m \u001b[39mimport\u001b[39;00m \u001b[39mmatplotlib\u001b[39;00m\u001b[39m.\u001b[39;00m\u001b[39mpyplot\u001b[39;00m \u001b[39mas\u001b[39;00m \u001b[39mplt\u001b[39;00m\n\u001b[0;32m      <a href='vscode-notebook-cell:/c%3A/Users/PROFESSOR/estudos-reprograma/semana12/on26-python-s12-pandas-numpy-II/material/aula_s12.ipynb#X65sZmlsZQ%3D%3D?line=3'>4</a>\u001b[0m fig, ax \u001b[39m=\u001b[39m plt\u001b[39m.\u001b[39msubplots()\n\u001b[0;32m      <a href='vscode-notebook-cell:/c%3A/Users/PROFESSOR/estudos-reprograma/semana12/on26-python-s12-pandas-numpy-II/material/aula_s12.ipynb#X65sZmlsZQ%3D%3D?line=4'>5</a>\u001b[0m ax\u001b[39m.\u001b[39mplot([\u001b[39m1\u001b[39m, \u001b[39m2\u001b[39m, \u001b[39m3\u001b[39m, \u001b[39m4\u001b[39m], [\u001b[39m2\u001b[39m, \u001b[39m4\u001b[39m, \u001b[39m6\u001b[39m, \u001b[39m8\u001b[39m]);\n",
      "\u001b[1;31mModuleNotFoundError\u001b[0m: No module named 'matplotlib'"
     ]
    }
   ],
   "source": [
    "# exemplo mais simples de gráfico:\n",
    "import matplotlib.pyplot as plt\n",
    "\n",
    "fig, ax = plt.subplots()\n",
    "ax.plot([1, 2, 3, 4], [2, 4, 6, 8]);"
   ]
  },
  {
   "cell_type": "markdown",
   "metadata": {
    "id": "j-fE0SiHS_m8"
   },
   "source": [
    "*** OBS: Deixar claro para alunas que matplotlib será visto em semanas seguintes - ele só está sendo introduzido nesse contexto para que possamos gerar gráficos simples com o uso de Pandas ***\n",
    "\n",
    "\n"
   ]
  },
  {
   "cell_type": "code",
   "execution_count": 59,
   "metadata": {
    "id": "bmZg5LjvS_nJ",
    "outputId": "f3874a08-9ec1-4235-8db1-2250deeb54ea"
   },
   "outputs": [
    {
     "data": {
      "text/plain": [
       "Classe\n",
       "3    491\n",
       "1    216\n",
       "2    184\n",
       "Name: count, dtype: int64"
      ]
     },
     "execution_count": 59,
     "metadata": {},
     "output_type": "execute_result"
    }
   ],
   "source": [
    "# Criação de um gráfico de barras:  matplotlib + Pandas\n",
    "# plot() + bar\n",
    "contagem_passageiros = df['Classe'].value_counts()\n",
    "contagem_passageiros"
   ]
  },
  {
   "cell_type": "markdown",
   "metadata": {},
   "source": [
    "**Doc:** https://pandas.pydata.org/docs/reference/api/pandas.DataFrame.plot.html"
   ]
  },
  {
   "cell_type": "code",
   "execution_count": 62,
   "metadata": {},
   "outputs": [
    {
     "data": {
      "image/png": "[encoded data removed]",
      "text/plain": [
       "<Figure size 640x480 with 1 Axes>"
      ]
     },
     "metadata": {},
     "output_type": "display_data"
    }
   ],
   "source": [
    "# pandas: gráfico\n",
    "contagem_passageiros.plot(kind='barh');"
   ]
  },
  {
   "cell_type": "code",
   "execution_count": 63,
   "metadata": {},
   "outputs": [
    {
     "data": {
      "image/png": "[encoded data removed]",
      "text/plain": [
       "<Figure size 640x480 with 1 Axes>"
      ]
     },
     "metadata": {},
     "output_type": "display_data"
    }
   ],
   "source": [
    "contagem_passageiros.plot(kind='bar');"
   ]
  },
  {
   "cell_type": "code",
   "execution_count": 65,
   "metadata": {},
   "outputs": [
    {
     "data": {
      "text/plain": [
       "<Axes: ylabel='Frequency'>"
      ]
     },
     "execution_count": 65,
     "metadata": {},
     "output_type": "execute_result"
    },
    {
     "data": {
      "image/png": "[encoded data removed]",
      "text/plain": [
       "<Figure size 640x480 with 1 Axes>"
      ]
     },
     "metadata": {},
     "output_type": "display_data"
    }
   ],
   "source": [
    "df['Idade'].plot(kind='hist')"
   ]
  },
  {
   "cell_type": "code",
   "execution_count": 68,
   "metadata": {
    "id": "zpZmI2e9S_nJ",
    "outputId": "3f16a4f4-3039-4426-ac46-d0f8178d87a6"
   },
   "outputs": [
    {
     "data": {
      "text/plain": [
       "Text(0.5, 1.0, 'Número de Passageiros por Classe')"
      ]
     },
     "execution_count": 68,
     "metadata": {},
     "output_type": "execute_result"
    },
    {
     "data": {
      "image/png": "[encoded data removed]",
      "text/plain": [
       "<Figure size 640x480 with 1 Axes>"
      ]
     },
     "metadata": {},
     "output_type": "display_data"
    }
   ],
   "source": [
    "# título, legendas (Y e X)\n",
    "contagem_passageiros = df['Classe'].value_counts()\n",
    "contagem_passageiros.plot(kind='bar');\n",
    "\n",
    "plt.xlabel('Classe do Passageiro')\n",
    "plt.ylabel('Quantidade')\n",
    "plt.title('Número de Passageiros por Classe')\n"
   ]
  },
  {
   "cell_type": "code",
   "execution_count": 69,
   "metadata": {
    "id": "j7lUqI3BS_nK",
    "outputId": "758058f2-185d-412d-835e-38d8ca773f3e"
   },
   "outputs": [
    {
     "data": {
      "image/png": "[encoded data removed]",
      "text/plain": [
       "<Figure size 640x480 with 1 Axes>"
      ]
     },
     "metadata": {},
     "output_type": "display_data"
    }
   ],
   "source": [
    "# Criando um gráfico de barras para calcular a taxa de sobrevivência por sexo\n",
    "# plot.bar()\n",
    "taxa_sob_sexo = df.groupby('Sexo')['Sobreviveu'].mean()\n",
    "taxa_sob_sexo.plot.bar()\n",
    "\n",
    "plt.xlabel('Sexo')\n",
    "plt.ylabel('Taxa de Sobrevivência')\n",
    "plt.title('Taxa de Sobrevivência por Sexo')\n",
    "plt.show()"
   ]
  },
  {
   "cell_type": "code",
   "execution_count": 74,
   "metadata": {
    "id": "RzV9cvoOS_nK",
    "outputId": "eea06c73-5805-427d-f2b1-b82d3481b8a8"
   },
   "outputs": [
    {
     "data": {
      "text/plain": [
       "Text(0.5, 1.0, 'Distribuição de Idade')"
      ]
     },
     "execution_count": 74,
     "metadata": {},
     "output_type": "execute_result"
    },
    {
     "data": {
      "image/png": "[encoded data removed]",
      "text/plain": [
       "<Figure size 640x480 with 1 Axes>"
      ]
     },
     "metadata": {},
     "output_type": "display_data"
    }
   ],
   "source": [
    "# Criando um histograma com a distribuição de idade em passageiros do Titanic\n",
    "\n",
    "df['Idade'].plot.hist(bins=10, edgecolor='black')\n",
    "\n",
    "plt.xlabel('Idade')\n",
    "plt.ylabel('Quantidade')\n",
    "plt.title('Distribuição de Idade')"
   ]
  },
  {
   "cell_type": "markdown",
   "metadata": {},
   "source": [
    "### Exercício 05\n",
    "\n",
    "- Gerar 3 gráficos com ideias de interesses\n"
   ]
  },
  {
   "cell_type": "code",
   "execution_count": 86,
   "metadata": {},
   "outputs": [],
   "source": [
    "# exemplo dúvida: como pegar uma única classe (a importância do reset_index())\n",
    "agg_classe = df.groupby(['Classe', 'Sexo']).agg({'Sobreviveu': ['count']})\n",
    "agg_classe.reset_index(inplace=True)"
   ]
  },
  {
   "cell_type": "code",
   "execution_count": 90,
   "metadata": {},
   "outputs": [
    {
     "data": {
      "text/html": [
       "<div>\n",
       "<style scoped>\n",
       "    .dataframe tbody tr th:only-of-type {\n",
       "        vertical-align: middle;\n",
       "    }\n",
       "\n",
       "    .dataframe tbody tr th {\n",
       "        vertical-align: top;\n",
       "    }\n",
       "\n",
       "    .dataframe thead tr th {\n",
       "        text-align: left;\n",
       "    }\n",
       "</style>\n",
       "<table border=\"1\" class=\"dataframe\">\n",
       "  <thead>\n",
       "    <tr>\n",
       "      <th></th>\n",
       "      <th>Classe</th>\n",
       "      <th>Sexo</th>\n",
       "      <th>Sobreviveu</th>\n",
       "    </tr>\n",
       "    <tr>\n",
       "      <th></th>\n",
       "      <th></th>\n",
       "      <th></th>\n",
       "      <th>count</th>\n",
       "    </tr>\n",
       "  </thead>\n",
       "  <tbody>\n",
       "    <tr>\n",
       "      <th>0</th>\n",
       "      <td>1</td>\n",
       "      <td>female</td>\n",
       "      <td>94</td>\n",
       "    </tr>\n",
       "  </tbody>\n",
       "</table>\n",
       "</div>"
      ],
      "text/plain": [
       "  Classe    Sexo Sobreviveu\n",
       "                      count\n",
       "0      1  female         94"
      ]
     },
     "execution_count": 90,
     "metadata": {},
     "output_type": "execute_result"
    }
   ],
   "source": [
    "agg_classe[(agg_classe[(    'Classe',      '')] == 1) & (agg_classe[(    'Sexo',      '')] == 'female')]"
   ]
  },
  {
   "cell_type": "code",
   "execution_count": 88,
   "metadata": {},
   "outputs": [
    {
     "data": {
      "text/plain": [
       "MultiIndex([(    'Classe',      ''),\n",
       "            (      'Sexo',      ''),\n",
       "            ('Sobreviveu', 'count')],\n",
       "           )"
      ]
     },
     "execution_count": 88,
     "metadata": {},
     "output_type": "execute_result"
    }
   ],
   "source": [
    "agg_classe.columns"
   ]
  },
  {
   "cell_type": "code",
   "execution_count": 91,
   "metadata": {},
   "outputs": [
    {
     "data": {
      "text/plain": [
       "Index(['IdPassageiro', 'Sobreviveu', 'Classe', 'Nome', 'Sexo', 'Idade',\n",
       "       'NumeroIrmaos', 'NumeroPais', 'NumeroTicket', 'PrecoTicket',\n",
       "       'NumeroCabine', 'PortoEmbarcacao'],\n",
       "      dtype='object')"
      ]
     },
     "execution_count": 91,
     "metadata": {},
     "output_type": "execute_result"
    }
   ],
   "source": [
    "df[df['PortoEmbarcacao']]"
   ]
  },
  {
   "cell_type": "markdown",
   "metadata": {
    "id": "kdYYrD87S_nK"
   },
   "source": [
    "## Pandas: Gerando Gráficos\n",
    "\n",
    "### Pandas: Pandas + Numpy (funções básicas do numpy)\n",
    "\n",
    "[Numpy for absolute beginners](https://numpy.org/doc/stable/user/absolute_beginners.html)"
   ]
  },
  {
   "cell_type": "markdown",
   "metadata": {
    "id": "96dXic7LS_nL"
   },
   "source": [
    "#### Biblioteca Numpy\n",
    "\n",
    "A biblioteca Numpy é uma biblioteca de computação científica cuja principal estrutura de dados são os arrays (similares a listas, porém de mais rápido processamento) e que oferece funções para cálculos com matrizes e álgebra linear, sendo uma das bibliotecas mais importantes para cientistas de dados.\n",
    "\n",
    "O foco dessa aula não é o Numpy, mas existem exemplos na parte de Pandas que contam com a biblioteca - apenas apresentar o conceito, mas dizer que assunto será retomado na aula seguinte."
   ]
  },
  {
   "cell_type": "code",
   "execution_count": 92,
   "metadata": {
    "id": "6qrRb5EIS_nL"
   },
   "outputs": [],
   "source": [
    "import pandas as pd\n",
    "import numpy as np"
   ]
  },
  {
   "cell_type": "markdown",
   "metadata": {
    "id": "FCrGZFGoS_nL"
   },
   "source": [
    "Numpy arrays permitem a utilização de diferentes operações,tornando-os uma estrutura de dados útil em manipulação de dados:\n",
    " - Seleção de elementos de array\n",
    " - Slicing de arrays\n",
    " - Divisão de arrays\n",
    " - Reshaping de arrays\n",
    " - Combinação de arrays\n",
    " - Operações Numéricas (min, max, media, etc)\n",
    "\n",
    "Numpy e Pandas são comumente utilizados para análise e manipulação de dados."
   ]
  },
  {
   "cell_type": "code",
   "execution_count": 93,
   "metadata": {
    "id": "suI74yqZS_nL",
    "outputId": "eb87a166-4d92-4068-e5ad-e7ce283ed244"
   },
   "outputs": [
    {
     "name": "stdout",
     "output_type": "stream",
     "text": [
      "[1, 2, 3, 4, 5]\n",
      "[1 2 3 4 5]\n"
     ]
    }
   ],
   "source": [
    "# Conversão de lista (estrutura de dados Python) para um array unidimensional com  uma linha e quatro colunas:\n",
    "lista_1 = [1, 2, 3, 4, 5]\n",
    "array_1 = np.array(lista_1)\n",
    "\n",
    "print(lista_1)\n",
    "print(array_1)"
   ]
  },
  {
   "cell_type": "code",
   "execution_count": 98,
   "metadata": {
    "id": "DxCmoOkhS_nM",
    "outputId": "2c7699a1-519f-4b81-d4e1-836895767375"
   },
   "outputs": [
    {
     "name": "stdout",
     "output_type": "stream",
     "text": [
      "Uma lista de listas\n",
      "[[1, 2, 3], [4, 5, 6]]\n",
      "Array bidimensional\n",
      "[[1 2 3]\n",
      " [4 5 6]]\n"
     ]
    }
   ],
   "source": [
    "# Array bidimensional de uma lista Python (uma lista contendo listas)\n",
    "lista_2 = [[1,2,3],[4,5,6]]\n",
    "array_2 = np.array(lista_2)\n",
    "\n",
    "print('Uma lista de listas')\n",
    "print(lista_2)\n",
    "print('Array bidimensional')\n",
    "print(array_2)"
   ]
  },
  {
   "cell_type": "code",
   "execution_count": 121,
   "metadata": {},
   "outputs": [
    {
     "data": {
      "text/plain": [
       "[1, 2, 3]"
      ]
     },
     "execution_count": 121,
     "metadata": {},
     "output_type": "execute_result"
    }
   ],
   "source": [
    "lista_2[0]"
   ]
  },
  {
   "cell_type": "code",
   "execution_count": 122,
   "metadata": {},
   "outputs": [
    {
     "data": {
      "text/plain": [
       "array([1, 2, 3])"
      ]
     },
     "execution_count": 122,
     "metadata": {},
     "output_type": "execute_result"
    }
   ],
   "source": [
    "array_2[0]"
   ]
  },
  {
   "cell_type": "code",
   "execution_count": 99,
   "metadata": {
    "id": "KZ-JzM6US_nM",
    "outputId": "9c7580bf-627b-4926-ed86-8441bb436861"
   },
   "outputs": [
    {
     "data": {
      "text/plain": [
       "array([10, 20, 30, 40, 50])"
      ]
     },
     "execution_count": 99,
     "metadata": {},
     "output_type": "execute_result"
    }
   ],
   "source": [
    "# operações matemáticas podem ser realizadas em todos os valores de um array Numpy de uma vez (impossível em listas python sem loops)\n",
    "\n",
    "# loja com preços\n",
    "array_precos = np.array([12, 22, 32, 42, 52])\n",
    "\n",
    "# queremos entrar em liquidação diminuindo 2 reais no preço de cada item\n",
    "array_promocional = array_precos - 2\n",
    "array_promocional\n"
   ]
  },
  {
   "cell_type": "code",
   "execution_count": 100,
   "metadata": {
    "id": "SWy82LKAS_nM",
    "outputId": "ee7e4c2e-5553-405f-cbdf-878534650298"
   },
   "outputs": [
    {
     "ename": "TypeError",
     "evalue": "unsupported operand type(s) for -: 'list' and 'int'",
     "output_type": "error",
     "traceback": [
      "\u001b[1;31m---------------------------------------------------------------------------\u001b[0m",
      "\u001b[1;31mTypeError\u001b[0m                                 Traceback (most recent call last)",
      "\u001b[1;32mc:\\Users\\Debora\\Documents\\GitHub\\on26-python-s12-pandas-numpy-II\\material\\aula_s12.ipynb Cell 70\u001b[0m line \u001b[0;36m3\n\u001b[0;32m      <a href='vscode-notebook-cell:/c%3A/Users/Debora/Documents/GitHub/on26-python-s12-pandas-numpy-II/material/aula_s12.ipynb#Y106sZmlsZQ%3D%3D?line=0'>1</a>\u001b[0m \u001b[39m# se fosse uma lista Python, seria impossível pois retornaria um TypeError\u001b[39;00m\n\u001b[0;32m      <a href='vscode-notebook-cell:/c%3A/Users/Debora/Documents/GitHub/on26-python-s12-pandas-numpy-II/material/aula_s12.ipynb#Y106sZmlsZQ%3D%3D?line=1'>2</a>\u001b[0m lista_precos \u001b[39m=\u001b[39m [\u001b[39m12\u001b[39m,\u001b[39m22\u001b[39m,\u001b[39m32\u001b[39m,\u001b[39m42\u001b[39m,\u001b[39m52\u001b[39m]\n\u001b[1;32m----> <a href='vscode-notebook-cell:/c%3A/Users/Debora/Documents/GitHub/on26-python-s12-pandas-numpy-II/material/aula_s12.ipynb#Y106sZmlsZQ%3D%3D?line=2'>3</a>\u001b[0m lista_promocial \u001b[39m=\u001b[39m lista_precos \u001b[39m-\u001b[39;49m \u001b[39m2\u001b[39;49m\n",
      "\u001b[1;31mTypeError\u001b[0m: unsupported operand type(s) for -: 'list' and 'int'"
     ]
    }
   ],
   "source": [
    "# se fosse uma lista Python, seria impossível pois retornaria um TypeError\n",
    "lista_precos = [12,22,32,42,52]\n",
    "lista_promocial = lista_precos - 2"
   ]
  },
  {
   "cell_type": "markdown",
   "metadata": {
    "id": "v6P70zdwS_nM"
   },
   "source": [
    "Séries são similares aos arrays NumPy, mas possuem mais funcionalidades que permitem que seus valores possam ser indexados e rotulados. Esses rótulos são úteis quando estamos utilizando porções de dados que possuem outros dados associados a eles.\n"
   ]
  },
  {
   "cell_type": "code",
   "execution_count": 101,
   "metadata": {
    "id": "LljyqgRgS_nM",
    "outputId": "17c514e4-0fa0-4d36-c6f8-46293589ce4b"
   },
   "outputs": [
    {
     "data": {
      "text/plain": [
       "array([100, 200, 300])"
      ]
     },
     "execution_count": 101,
     "metadata": {},
     "output_type": "execute_result"
    }
   ],
   "source": [
    "# Criando Séries em Pandas usando um array numpy:\n",
    "precos = np.array([100,200,300])\n",
    "precos"
   ]
  },
  {
   "cell_type": "code",
   "execution_count": 102,
   "metadata": {},
   "outputs": [
    {
     "data": {
      "text/plain": [
       "0    100\n",
       "1    200\n",
       "2    300\n",
       "dtype: int32"
      ]
     },
     "execution_count": 102,
     "metadata": {},
     "output_type": "execute_result"
    }
   ],
   "source": [
    "serie_precos = pd.Series(precos)\n",
    "serie_precos"
   ]
  },
  {
   "cell_type": "code",
   "execution_count": 103,
   "metadata": {
    "id": "4m4a1TDIS_nN",
    "outputId": "d60ac614-bd45-430f-d375-bafdf4252478"
   },
   "outputs": [
    {
     "data": {
      "text/plain": [
       "Bala         100\n",
       "Chocolate    200\n",
       "Bolo         300\n",
       "dtype: int32"
      ]
     },
     "execution_count": 103,
     "metadata": {},
     "output_type": "execute_result"
    }
   ],
   "source": [
    "# criando série e customizando índices da série\n",
    "serie_precos_produtos = pd.Series(precos, index=['Bala', 'Chocolate', 'Bolo'])\n",
    "serie_precos_produtos"
   ]
  },
  {
   "cell_type": "code",
   "execution_count": 104,
   "metadata": {
    "id": "ZxBABq3pS_nN",
    "outputId": "d11786b2-ac75-43da-9ce9-5e3c8d3869d4"
   },
   "outputs": [
    {
     "data": {
      "text/html": [
       "<div>\n",
       "<style scoped>\n",
       "    .dataframe tbody tr th:only-of-type {\n",
       "        vertical-align: middle;\n",
       "    }\n",
       "\n",
       "    .dataframe tbody tr th {\n",
       "        vertical-align: top;\n",
       "    }\n",
       "\n",
       "    .dataframe thead th {\n",
       "        text-align: right;\n",
       "    }\n",
       "</style>\n",
       "<table border=\"1\" class=\"dataframe\">\n",
       "  <thead>\n",
       "    <tr style=\"text-align: right;\">\n",
       "      <th></th>\n",
       "      <th>A</th>\n",
       "      <th>B</th>\n",
       "      <th>C</th>\n",
       "    </tr>\n",
       "  </thead>\n",
       "  <tbody>\n",
       "    <tr>\n",
       "      <th>0</th>\n",
       "      <td>1</td>\n",
       "      <td>2</td>\n",
       "      <td>3</td>\n",
       "    </tr>\n",
       "    <tr>\n",
       "      <th>1</th>\n",
       "      <td>4</td>\n",
       "      <td>5</td>\n",
       "      <td>6</td>\n",
       "    </tr>\n",
       "  </tbody>\n",
       "</table>\n",
       "</div>"
      ],
      "text/plain": [
       "   A  B  C\n",
       "0  1  2  3\n",
       "1  4  5  6"
      ]
     },
     "execution_count": 104,
     "metadata": {},
     "output_type": "execute_result"
    }
   ],
   "source": [
    "# Criando DataFrames Pandas com arrays Numpy:\n",
    "lista_2 = [[1,2,3],[4,5,6]]\n",
    "array_2 = np.array(lista_2)\n",
    "df = pd.DataFrame(array_2, columns=['A', 'B', 'C'])\n",
    "df"
   ]
  },
  {
   "cell_type": "code",
   "execution_count": 106,
   "metadata": {},
   "outputs": [
    {
     "data": {
      "text/html": [
       "<div>\n",
       "<style scoped>\n",
       "    .dataframe tbody tr th:only-of-type {\n",
       "        vertical-align: middle;\n",
       "    }\n",
       "\n",
       "    .dataframe tbody tr th {\n",
       "        vertical-align: top;\n",
       "    }\n",
       "\n",
       "    .dataframe thead th {\n",
       "        text-align: right;\n",
       "    }\n",
       "</style>\n",
       "<table border=\"1\" class=\"dataframe\">\n",
       "  <thead>\n",
       "    <tr style=\"text-align: right;\">\n",
       "      <th></th>\n",
       "      <th>A</th>\n",
       "      <th>B</th>\n",
       "      <th>C</th>\n",
       "      <th>D</th>\n",
       "    </tr>\n",
       "  </thead>\n",
       "  <tbody>\n",
       "    <tr>\n",
       "      <th>0</th>\n",
       "      <td>1</td>\n",
       "      <td>2</td>\n",
       "      <td>3</td>\n",
       "      <td>1</td>\n",
       "    </tr>\n",
       "    <tr>\n",
       "      <th>1</th>\n",
       "      <td>4</td>\n",
       "      <td>5</td>\n",
       "      <td>6</td>\n",
       "      <td>5</td>\n",
       "    </tr>\n",
       "  </tbody>\n",
       "</table>\n",
       "</div>"
      ],
      "text/plain": [
       "   A  B  C  D\n",
       "0  1  2  3  1\n",
       "1  4  5  6  5"
      ]
     },
     "execution_count": 106,
     "metadata": {},
     "output_type": "execute_result"
    }
   ],
   "source": [
    "df['D'] = [1,5]\n",
    "df"
   ]
  },
  {
   "cell_type": "code",
   "execution_count": 107,
   "metadata": {
    "id": "LHfl6fALS_nN",
    "outputId": "5805c47a-4db3-4a7f-8790-dad45dc7ff76"
   },
   "outputs": [
    {
     "data": {
      "text/plain": [
       "0     1\n",
       "1     4\n",
       "2     9\n",
       "3    16\n",
       "4    25\n",
       "dtype: int32"
      ]
     },
     "execution_count": 107,
     "metadata": {},
     "output_type": "execute_result"
    }
   ],
   "source": [
    "# Operações matemáticas podem ser realizadas em séries e Dataframes Pandas usando funções do numpy\n",
    "\n",
    "# criando um array (numpay)\n",
    "lista_1 = [1, 2, 3, 4, 5]\n",
    "array_1 = np.array(lista_1)\n",
    "\n",
    "# criando uma series (pandas)\n",
    "serie_precos = pd.Series(array_1)\n",
    "\n",
    "# calculo matematico\n",
    "serie_precos_ao_quadrado = np.square(serie_precos)\n",
    "serie_precos_ao_quadrado"
   ]
  },
  {
   "cell_type": "markdown",
   "metadata": {},
   "source": [
    "### Exercício 06\n",
    "\n",
    "- Gerar arrays de números aleatórios de com tamanho de 5, 50 e 500 elementos\n",
    "- Criar um DF Pandas a partir de um array numpy criado de uma lista Python\n",
    "- Utilize métodos do Numpy e séries de Pandas para dobrar os números da lista"
   ]
  },
  {
   "cell_type": "code",
   "execution_count": 119,
   "metadata": {},
   "outputs": [
    {
     "data": {
      "text/plain": [
       "array([10, 23, 13, 32, 25, 11, 20, 49, 26,  6, 40, 14, 42, 17, 11,  6, 43,\n",
       "       15, 19, 12, 29, 47,  5, 12, 42, 47, 40, 15,  7, 22,  8, 41, 35, 25,\n",
       "       14,  5, 31, 13, 42, 49, 49, 47, 41, 37,  5, 22, 34, 21, 14, 10, 13,\n",
       "       10, 37, 27, 24, 31, 34, 31, 23, 32, 23, 47, 22, 30, 14, 40, 31, 42,\n",
       "       35, 21, 40, 42, 36, 37, 11,  8, 14, 46, 11, 28, 39, 35, 29,  5, 46,\n",
       "       18, 24, 17, 29, 48, 35, 14, 38, 30, 11, 10, 47, 48, 38,  5, 37,  5,\n",
       "       26, 10, 10, 29,  6, 49, 15, 48, 13, 30, 24, 19, 15, 40, 43,  5, 35,\n",
       "       46, 45, 44, 28,  7, 13, 44,  5, 47, 14, 13, 17, 43, 33, 46, 32, 16,\n",
       "       39, 46, 23, 38, 21, 46, 18, 31,  7, 43,  8, 31, 11, 18, 37, 40, 48,\n",
       "       41, 13,  6, 33, 13, 11,  6, 15, 23, 30, 16, 31, 34, 16,  6, 14,  5,\n",
       "       34, 27, 34, 45, 45,  6, 28, 15,  8, 27, 25, 22, 46, 32, 23, 49, 45,\n",
       "       35, 30, 34, 45, 27, 27,  7, 16, 18,  7, 34, 47, 45, 30, 30, 46, 47,\n",
       "       29, 29, 45, 16, 47, 22, 35,  9, 31, 49, 36,  9,  8, 21, 37, 47, 49,\n",
       "       48, 38, 11, 11, 12, 11, 25, 31, 47, 13, 41, 33, 14,  6, 41, 24, 15,\n",
       "       44, 33, 37, 28, 43, 33, 45,  9, 33, 29, 33, 40, 21, 33, 15, 47, 41,\n",
       "       47, 22, 46, 27, 12, 10, 43, 40, 39, 19, 30, 17, 49, 44, 26,  8, 44,\n",
       "       27, 42, 37, 48, 13, 12, 36, 15, 41,  6, 40, 19, 17, 14, 27, 39, 24,\n",
       "       17, 29, 14, 24, 27, 21, 12, 44, 12, 39, 18,  7, 34, 20, 17, 19, 27,\n",
       "       31, 19, 18, 13, 47, 38, 47, 14, 39, 26, 30,  6, 18, 37, 44, 42, 21,\n",
       "       20,  6, 48,  6, 29,  7, 35, 47, 17, 22, 42, 32, 24, 48, 22, 28, 27,\n",
       "       34, 21, 48,  7, 39, 26,  8, 43,  7, 19, 22, 49, 29,  6, 22, 30, 32,\n",
       "       49, 35,  9, 40, 21, 18, 21, 33,  6, 14, 47,  6, 10, 46, 10, 24, 24,\n",
       "       27, 18, 40, 34, 28, 45, 16, 38, 38, 45, 23, 37, 25, 46, 25, 37, 22,\n",
       "       38, 30, 18, 44, 11, 39, 32, 26, 12,  7,  8,  7, 18, 23, 41, 37, 39,\n",
       "       40, 45, 38, 43, 48, 19, 13, 25, 11, 37,  9, 11, 42, 18, 49, 24, 40,\n",
       "       40, 17,  7, 31, 21, 37, 18, 15, 35, 49, 19, 41, 13, 42,  8, 30, 10,\n",
       "       35, 12, 25, 40, 16, 42, 40, 42, 15, 25, 33, 30, 40, 30, 20, 22,  7,\n",
       "       16,  8, 34,  8, 38,  8, 31,  9, 28, 23, 36,  8, 13, 38, 31, 29, 18,\n",
       "       42, 45, 34, 41, 37, 28, 24, 36, 45, 49, 45, 23, 14, 25, 30, 27, 44,\n",
       "       45, 19, 18, 24, 35, 34, 42])"
      ]
     },
     "execution_count": 119,
     "metadata": {},
     "output_type": "execute_result"
    }
   ],
   "source": [
    "np.random.randint(5, 50, 500)"
   ]
  },
  {
   "cell_type": "markdown",
   "metadata": {},
   "source": [
    "# Links Bibliotecas:\n",
    "\n",
    "https://pandas.pydata.org/\n",
    "\n",
    "https://numpy.org/pt/\n",
    "\n",
    "https://matplotlib.org/"
   ]
  }
 ],
 "metadata": {
  "colab": {
   "provenance": []
  },
  "kernelspec": {
   "display_name": "Python 3 (ipykernel)",
   "language": "python",
   "name": "python3"
  },
  "language_info": {
   "codemirror_mode": {
    "name": "ipython",
    "version": 3
   },
   "file_extension": ".py",
   "mimetype": "text/x-python",
   "name": "python",
   "nbconvert_exporter": "python",
   "pygments_lexer": "ipython3",
   "version": "3.12.0"
  }
 },
 "nbformat": 4,
 "nbformat_minor": 4
}

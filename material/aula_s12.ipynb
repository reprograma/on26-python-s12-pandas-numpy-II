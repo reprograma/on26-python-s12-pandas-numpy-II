{
 "cells": [
  {
   "cell_type": "markdown",
   "metadata": {
    "id": "aMKnRGLzS_me"
   },
   "source": [
    "# S12 -Tratamento de dados utilizando pandas e numpy - parte 2\n",
    "\n",
    "**Objetivo da aula:** Introduzir o conceito de visualização de dados e como utilizar consultas, filtros e agrupamentos em Pandas (com um pouco de matploblib) para a geração de gráficos com insights importantes ao contexto da análise. No fim, introduzir o conceito da biblioteca Numpy utilizando as duas bibliotecas (Numpy e Pandas) em um contexto de análise de dados.\n",
    "\n",
    "O dataset utilizado é o mesmo da aula anterior: 'Titanic'.\n"
   ]
  },
  {
   "cell_type": "markdown",
   "metadata": {
    "id": "PQilYsBgS_ml"
   },
   "source": [
    "## Pensamento analítico\n",
    "\n",
    "A capacidade analítica já é considerada um requisito básico entre determinados cargos e essa é uma habilidade fundamental para desenvolvedores e analistas de dados.\n",
    "\n",
    "A capacidade analítica está relacionada a outra qualificação de destaque no mercado atualmente: a tomada de decisão. Profissionais que entendem o que os dados mostram conseguem tomar decisões certeiras diante da estratégia do negócio pois embasam as suas decisões sempre que precisam dar passos importantes, projetando cenários e interpretando dados.\n",
    "\n",
    "### Como desenvolver a Capacidade Analítica?\n",
    "\n",
    "    - Desenvolver senso crítico na análise de situações\n",
    "    - Se expor a diferentes assuntos e ideias\n",
    "    - Fazer cursos relacionados à análise de dados\n",
    "    - Entender tipos de análises de dados\n",
    "    - Criar uma visão mais abrangente da sua área\n",
    "\n",
    "\n",
    "\n",
    "[Fonte](https://blog.somostera.com/lideranca-baseada-em-dados/capacidade-analitica)"
   ]
  },
  {
   "cell_type": "markdown",
   "metadata": {
    "id": "vZpmn9A8S_ml"
   },
   "source": [
    "**Dinâmica**: 20 minutos\n",
    "\n",
    "***Quais são os insights que gostaríamos de obter a partir dos dados que obtemos do dataset?***\n",
    "\n",
    "**Exemplo:** % de sobrevivência dada a sua classe, sexo, preço da passagem, idade, etc\n"
   ]
  },
  {
   "cell_type": "markdown",
   "metadata": {
    "id": "e_UiUp01S_mm"
   },
   "source": [
    "#### Visualização de dados\n",
    "\n",
    "O conceito de visualização de dados é bem simples. Ela nada mais é que a representação gráfica, estática ou em movimento, da análise de dados e indicadores de natureza variada.\n",
    "\n",
    "[Fonte](https://www.oncase.com.br/blog/data-analytics/visualizacao-de-dados/)\n",
    "\n",
    "[Fonte](https://www.cursospm3.com.br/blog/data-visualization-o-que-e-dataviz-e-importancia-para-produto/)\n",
    "\n",
    "[Fonte](https://www.linkedin.com/pulse/por-que-visualiza%C3%A7%C3%A3o-de-dados-%C3%A9-importante-para-voc%C3%AA-e-veiga-r-/?originalSubdomain=pt)\n",
    "\n",
    "[Importância da visualização de dados na era do Big Data](https://lume.ufrgs.br/handle/10183/169109)\n",
    "\n",
    "&nbsp;\n",
    "\n",
    "### Quarteto de Anscombe\n",
    "[Quarteto de Anscombe](https://acervolima.com/quarteto-de-anscombe/)\n",
    "\n",
    "O quarteto de Anscombe (Anscombe, 1973) é uma maneira de ilustrar a importância de visualizações na análise de dados. Deve-se sempre olhar um conjunto de dados graficamente antes de começar a qualquer análise. Em especial, são ilustrados diversos contextos nos quais as propriedades estatísticas básicas para descrever conjuntos de dados são inadequadas.\n",
    "\n",
    "[Fonte](https://storopoli.io/Estatistica/aux-Anscombe.html)\n",
    "\n",
    "[Fonte](https://spacedata.com.br/quarteto-de-anscombe-porque-voce-deve-sempre-visualizar-seus-dados/)"
   ]
  },
  {
   "cell_type": "markdown",
   "metadata": {
    "id": "_6BQoLOYS_m7"
   },
   "source": [
    "## Importância de gráficos na visualização de dados\n",
    "\n",
    "Gráficos se  propõem a diferentes usos: exploração, descoberta, interpretação, diagnóstico, comunicação, apresentação, destaque, clareza, contar uma história.\n",
    "\n",
    "Os gráficos são recursos visuais muito utilizados para facilitar a leitura e compreensão das informações e divulgação de pesquisas em jornais, revistas, panfletos, livros e televisão.\n",
    "\n",
    "[Fonte: Principais tipos de gráficos para educação básica](https://educa.ibge.gov.br/professores/educa-recursos/20773-tipos-de-graficos-no-ensino.html#:~:text=Os%20gr%C3%A1ficos%20s%C3%A3o%20recursos%20visuais,%2C%20panfletos%2C%20livros%20e%20televis%C3%A3o.)\n",
    "\n",
    "\n",
    "---\n",
    "\n",
    "Gráficos de colunas\n",
    "![](/S12/conteudo_e_codigo/images/colunas.png)\n",
    "[Fonte](https://educa.ibge.gov.br/professores/educa-recursos/20773-tipos-de-graficos-no-ensino.html#:~:text=Os%20gr%C3%A1ficos%20s%C3%A3o%20recursos%20visuais,%2C%20panfletos%2C%20livros%20e%20televis%C3%A3o.)\n",
    "\n",
    "Gráficos de barras\n",
    "![](/S12/conteudo_e_codigo/images/barras.png)\n",
    "[Fonte](https://educa.ibge.gov.br/professores/educa-recursos/20773-tipos-de-graficos-no-ensino.html#:~:text=Os%20gr%C3%A1ficos%20s%C3%A3o%20recursos%20visuais,%2C%20panfletos%2C%20livros%20e%20televis%C3%A3o.)\n",
    "\n",
    "Gráficos de linhas\n",
    "![](/S12/conteudo_e_codigo/images/linhas.png)\n",
    "[Fonte](https://educa.ibge.gov.br/professores/educa-recursos/20773-tipos-de-graficos-no-ensino.html#:~:text=Os%20gr%C3%A1ficos%20s%C3%A3o%20recursos%20visuais,%2C%20panfletos%2C%20livros%20e%20televis%C3%A3o.)\n",
    "\n"
   ]
  },
  {
   "cell_type": "code",
<<<<<<< HEAD
   "execution_count": 5,
=======
   "execution_count": 1,
   "metadata": {},
   "outputs": [],
   "source": [
    "# carregando a biblioteca \n",
    "import pandas as pd"
   ]
  },
  {
   "cell_type": "code",
   "execution_count": 2,
>>>>>>> d0272b0e971aa8c3e9bbbff7edc83af7e132fef5
   "metadata": {
    "id": "_eorJ3GNS_mm",
    "outputId": "14f2b233-cc14-4f8a-a041-98b4cb90d2cc"
   },
   "outputs": [
    {
     "data": {
      "text/html": [
       "<div>\n",
       "<style scoped>\n",
       "    .dataframe tbody tr th:only-of-type {\n",
       "        vertical-align: middle;\n",
       "    }\n",
       "\n",
       "    .dataframe tbody tr th {\n",
       "        vertical-align: top;\n",
       "    }\n",
       "\n",
       "    .dataframe thead th {\n",
       "        text-align: right;\n",
       "    }\n",
       "</style>\n",
       "<table border=\"1\" class=\"dataframe\">\n",
       "  <thead>\n",
       "    <tr style=\"text-align: right;\">\n",
       "      <th></th>\n",
       "      <th>PassengerId</th>\n",
       "      <th>Survived</th>\n",
       "      <th>Pclass</th>\n",
       "      <th>Name</th>\n",
       "      <th>Sex</th>\n",
       "      <th>Age</th>\n",
       "      <th>SibSp</th>\n",
       "      <th>Parch</th>\n",
       "      <th>Ticket</th>\n",
       "      <th>Fare</th>\n",
       "      <th>Cabin</th>\n",
       "      <th>Embarked</th>\n",
       "    </tr>\n",
       "  </thead>\n",
       "  <tbody>\n",
       "    <tr>\n",
       "      <th>0</th>\n",
       "      <td>1</td>\n",
       "      <td>0</td>\n",
       "      <td>3</td>\n",
       "      <td>Braund, Mr. Owen Harris</td>\n",
       "      <td>male</td>\n",
       "      <td>22.0</td>\n",
       "      <td>1</td>\n",
       "      <td>0</td>\n",
       "      <td>A/5 21171</td>\n",
       "      <td>7.2500</td>\n",
       "      <td>NaN</td>\n",
       "      <td>S</td>\n",
       "    </tr>\n",
       "    <tr>\n",
       "      <th>1</th>\n",
       "      <td>2</td>\n",
       "      <td>1</td>\n",
       "      <td>1</td>\n",
       "      <td>Cumings, Mrs. John Bradley (Florence Briggs Th...</td>\n",
       "      <td>female</td>\n",
       "      <td>38.0</td>\n",
       "      <td>1</td>\n",
       "      <td>0</td>\n",
       "      <td>PC 17599</td>\n",
       "      <td>71.2833</td>\n",
       "      <td>C85</td>\n",
       "      <td>C</td>\n",
       "    </tr>\n",
       "    <tr>\n",
       "      <th>2</th>\n",
       "      <td>3</td>\n",
       "      <td>1</td>\n",
       "      <td>3</td>\n",
       "      <td>Heikkinen, Miss. Laina</td>\n",
       "      <td>female</td>\n",
       "      <td>26.0</td>\n",
       "      <td>0</td>\n",
       "      <td>0</td>\n",
       "      <td>STON/O2. 3101282</td>\n",
       "      <td>7.9250</td>\n",
       "      <td>NaN</td>\n",
       "      <td>S</td>\n",
       "    </tr>\n",
       "    <tr>\n",
       "      <th>3</th>\n",
       "      <td>4</td>\n",
       "      <td>1</td>\n",
       "      <td>1</td>\n",
       "      <td>Futrelle, Mrs. Jacques Heath (Lily May Peel)</td>\n",
       "      <td>female</td>\n",
       "      <td>35.0</td>\n",
       "      <td>1</td>\n",
       "      <td>0</td>\n",
       "      <td>113803</td>\n",
       "      <td>53.1000</td>\n",
       "      <td>C123</td>\n",
       "      <td>S</td>\n",
       "    </tr>\n",
       "    <tr>\n",
       "      <th>4</th>\n",
       "      <td>5</td>\n",
       "      <td>0</td>\n",
       "      <td>3</td>\n",
       "      <td>Allen, Mr. William Henry</td>\n",
       "      <td>male</td>\n",
       "      <td>35.0</td>\n",
       "      <td>0</td>\n",
       "      <td>0</td>\n",
       "      <td>373450</td>\n",
       "      <td>8.0500</td>\n",
       "      <td>NaN</td>\n",
       "      <td>S</td>\n",
       "    </tr>\n",
       "    <tr>\n",
       "      <th>...</th>\n",
       "      <td>...</td>\n",
       "      <td>...</td>\n",
       "      <td>...</td>\n",
       "      <td>...</td>\n",
       "      <td>...</td>\n",
       "      <td>...</td>\n",
       "      <td>...</td>\n",
       "      <td>...</td>\n",
       "      <td>...</td>\n",
       "      <td>...</td>\n",
       "      <td>...</td>\n",
       "      <td>...</td>\n",
       "    </tr>\n",
       "    <tr>\n",
       "      <th>886</th>\n",
       "      <td>887</td>\n",
       "      <td>0</td>\n",
       "      <td>2</td>\n",
       "      <td>Montvila, Rev. Juozas</td>\n",
       "      <td>male</td>\n",
       "      <td>27.0</td>\n",
       "      <td>0</td>\n",
       "      <td>0</td>\n",
       "      <td>211536</td>\n",
       "      <td>13.0000</td>\n",
       "      <td>NaN</td>\n",
       "      <td>S</td>\n",
       "    </tr>\n",
       "    <tr>\n",
       "      <th>887</th>\n",
       "      <td>888</td>\n",
       "      <td>1</td>\n",
       "      <td>1</td>\n",
       "      <td>Graham, Miss. Margaret Edith</td>\n",
       "      <td>female</td>\n",
       "      <td>19.0</td>\n",
       "      <td>0</td>\n",
       "      <td>0</td>\n",
       "      <td>112053</td>\n",
       "      <td>30.0000</td>\n",
       "      <td>B42</td>\n",
       "      <td>S</td>\n",
       "    </tr>\n",
       "    <tr>\n",
       "      <th>888</th>\n",
       "      <td>889</td>\n",
       "      <td>0</td>\n",
       "      <td>3</td>\n",
       "      <td>Johnston, Miss. Catherine Helen \"Carrie\"</td>\n",
       "      <td>female</td>\n",
       "      <td>NaN</td>\n",
       "      <td>1</td>\n",
       "      <td>2</td>\n",
       "      <td>W./C. 6607</td>\n",
       "      <td>23.4500</td>\n",
       "      <td>NaN</td>\n",
       "      <td>S</td>\n",
       "    </tr>\n",
       "    <tr>\n",
       "      <th>889</th>\n",
       "      <td>890</td>\n",
       "      <td>1</td>\n",
       "      <td>1</td>\n",
       "      <td>Behr, Mr. Karl Howell</td>\n",
       "      <td>male</td>\n",
       "      <td>26.0</td>\n",
       "      <td>0</td>\n",
       "      <td>0</td>\n",
       "      <td>111369</td>\n",
       "      <td>30.0000</td>\n",
       "      <td>C148</td>\n",
       "      <td>C</td>\n",
       "    </tr>\n",
       "    <tr>\n",
       "      <th>890</th>\n",
       "      <td>891</td>\n",
       "      <td>0</td>\n",
       "      <td>3</td>\n",
       "      <td>Dooley, Mr. Patrick</td>\n",
       "      <td>male</td>\n",
       "      <td>32.0</td>\n",
       "      <td>0</td>\n",
       "      <td>0</td>\n",
       "      <td>370376</td>\n",
       "      <td>7.7500</td>\n",
       "      <td>NaN</td>\n",
       "      <td>Q</td>\n",
       "    </tr>\n",
       "  </tbody>\n",
       "</table>\n",
       "<p>891 rows × 12 columns</p>\n",
       "</div>"
      ],
      "text/plain": [
       "     PassengerId  Survived  Pclass  \\\n",
       "0              1         0       3   \n",
       "1              2         1       1   \n",
       "2              3         1       3   \n",
       "3              4         1       1   \n",
       "4              5         0       3   \n",
       "..           ...       ...     ...   \n",
       "886          887         0       2   \n",
       "887          888         1       1   \n",
       "888          889         0       3   \n",
       "889          890         1       1   \n",
       "890          891         0       3   \n",
       "\n",
       "                                                  Name     Sex   Age  SibSp  \\\n",
       "0                              Braund, Mr. Owen Harris    male  22.0      1   \n",
       "1    Cumings, Mrs. John Bradley (Florence Briggs Th...  female  38.0      1   \n",
       "2                               Heikkinen, Miss. Laina  female  26.0      0   \n",
       "3         Futrelle, Mrs. Jacques Heath (Lily May Peel)  female  35.0      1   \n",
       "4                             Allen, Mr. William Henry    male  35.0      0   \n",
       "..                                                 ...     ...   ...    ...   \n",
       "886                              Montvila, Rev. Juozas    male  27.0      0   \n",
       "887                       Graham, Miss. Margaret Edith  female  19.0      0   \n",
       "888           Johnston, Miss. Catherine Helen \"Carrie\"  female   NaN      1   \n",
       "889                              Behr, Mr. Karl Howell    male  26.0      0   \n",
       "890                                Dooley, Mr. Patrick    male  32.0      0   \n",
       "\n",
       "     Parch            Ticket     Fare Cabin Embarked  \n",
       "0        0         A/5 21171   7.2500   NaN        S  \n",
       "1        0          PC 17599  71.2833   C85        C  \n",
       "2        0  STON/O2. 3101282   7.9250   NaN        S  \n",
       "3        0            113803  53.1000  C123        S  \n",
       "4        0            373450   8.0500   NaN        S  \n",
       "..     ...               ...      ...   ...      ...  \n",
       "886      0            211536  13.0000   NaN        S  \n",
       "887      0            112053  30.0000   B42        S  \n",
       "888      2        W./C. 6607  23.4500   NaN        S  \n",
       "889      0            111369  30.0000  C148        C  \n",
       "890      0            370376   7.7500   NaN        Q  \n",
       "\n",
       "[891 rows x 12 columns]"
      ]
     },
<<<<<<< HEAD
     "execution_count": 5,
=======
     "execution_count": 2,
>>>>>>> d0272b0e971aa8c3e9bbbff7edc83af7e132fef5
     "metadata": {},
     "output_type": "execute_result"
    }
   ],
   "source": [
<<<<<<< HEAD
    "import pandas as pd\n",
    "\n",
=======
    "# carregando o dataset \n",
>>>>>>> d0272b0e971aa8c3e9bbbff7edc83af7e132fef5
    "df = pd.read_csv(\"titanic.csv\")\n",
    "df"
   ]
  },
  {
   "cell_type": "markdown",
   "metadata": {
    "id": "boKqOy_KS_ms"
   },
   "source": [
    "Dever da aula passada: substituir as colunas em inglês pelas suas traduções em PT-BR. Um dos objetivos dessa aula é realizar consultas e filtragens, então as colunas em PT podem ajudar no entendimento."
   ]
  },
  {
   "cell_type": "code",
<<<<<<< HEAD
   "execution_count": 7,
=======
   "execution_count": 3,
>>>>>>> d0272b0e971aa8c3e9bbbff7edc83af7e132fef5
   "metadata": {
    "id": "ZuehjTU7S_mt",
    "outputId": "6ce66e1f-01d4-4889-f97f-50d5edae71e6"
   },
   "outputs": [
    {
<<<<<<< HEAD
     "name": "stdout",
     "output_type": "stream",
     "text": [
      "['IdPassageiro', 'Sobreviveu', 'Classe', 'Nome', 'Sexo', 'Idade', 'NumeroIrmaos', 'NumeroPais', 'NumeroTicket', 'PrecoTicket', 'NumeroCabine', 'PortoEmbarcacao']\n"
     ]
=======
     "data": {
      "text/plain": [
       "['IdPassageiro',\n",
       " 'Sobreviveu',\n",
       " 'Classe',\n",
       " 'Nome',\n",
       " 'Sexo',\n",
       " 'Idade',\n",
       " 'NumeroIrmaos',\n",
       " 'NumeroPais',\n",
       " 'NumeroTicket',\n",
       " 'PrecoTicket',\n",
       " 'NumeroCabine',\n",
       " 'PortoEmbarcacao']"
      ]
     },
     "execution_count": 3,
     "metadata": {},
     "output_type": "execute_result"
>>>>>>> d0272b0e971aa8c3e9bbbff7edc83af7e132fef5
    }
   ],
   "source": [
    "# Resolução\n",
    "traducoes = {\n",
    "    'PassengerId': 'IdPassageiro',\n",
    "    'Survived': 'Sobreviveu', # 0 = Não, 1 = Sim\n",
    "    'Pclass': 'Classe', # 1, 2, 3\n",
    "    'Name': 'Nome',\n",
    "    'Sex': 'Sexo',\n",
    "    'Age': 'Idade',\n",
    "    'SibSp': 'NumeroIrmaos',\n",
    "    'Parch':  'NumeroPais',\n",
    "    'Ticket': 'NumeroTicket',\n",
    "    'Fare': 'PrecoTicket',\n",
    "    'Cabin' : 'NumeroCabine',\n",
    "    'Embarked': 'PortoEmbarcacao' # C = Cherbourg, Q = Queenstown, S = Southampton\n",
    "}\n",
    "\n",
    "novas_colunas = []\n",
    "\n",
    "for chave, valor in traducoes.items():\n",
    "    novas_colunas.append(valor)\n",
    "\n",
    "novas_colunas"
   ]
  },
  {
   "cell_type": "code",
<<<<<<< HEAD
   "execution_count": 8,
=======
   "execution_count": 4,
>>>>>>> d0272b0e971aa8c3e9bbbff7edc83af7e132fef5
   "metadata": {
    "id": "h6tvl5HPS_mw",
    "outputId": "4639f186-8484-4780-f4dc-0a29f3cc759e"
   },
   "outputs": [
    {
     "data": {
      "text/html": [
       "<div>\n",
       "<style scoped>\n",
       "    .dataframe tbody tr th:only-of-type {\n",
       "        vertical-align: middle;\n",
       "    }\n",
       "\n",
       "    .dataframe tbody tr th {\n",
       "        vertical-align: top;\n",
       "    }\n",
       "\n",
       "    .dataframe thead th {\n",
       "        text-align: right;\n",
       "    }\n",
       "</style>\n",
       "<table border=\"1\" class=\"dataframe\">\n",
       "  <thead>\n",
       "    <tr style=\"text-align: right;\">\n",
       "      <th></th>\n",
       "      <th>IdPassageiro</th>\n",
       "      <th>Sobreviveu</th>\n",
       "      <th>Classe</th>\n",
       "      <th>Nome</th>\n",
       "      <th>Sexo</th>\n",
       "      <th>Idade</th>\n",
       "      <th>NumeroIrmaos</th>\n",
       "      <th>NumeroPais</th>\n",
       "      <th>NumeroTicket</th>\n",
       "      <th>PrecoTicket</th>\n",
       "      <th>NumeroCabine</th>\n",
       "      <th>PortoEmbarcacao</th>\n",
       "    </tr>\n",
       "  </thead>\n",
       "  <tbody>\n",
       "    <tr>\n",
       "      <th>0</th>\n",
       "      <td>1</td>\n",
       "      <td>0</td>\n",
       "      <td>3</td>\n",
       "      <td>Braund, Mr. Owen Harris</td>\n",
       "      <td>male</td>\n",
       "      <td>22.0</td>\n",
       "      <td>1</td>\n",
       "      <td>0</td>\n",
       "      <td>A/5 21171</td>\n",
       "      <td>7.2500</td>\n",
       "      <td>NaN</td>\n",
       "      <td>S</td>\n",
       "    </tr>\n",
       "    <tr>\n",
       "      <th>1</th>\n",
       "      <td>2</td>\n",
       "      <td>1</td>\n",
       "      <td>1</td>\n",
       "      <td>Cumings, Mrs. John Bradley (Florence Briggs Th...</td>\n",
       "      <td>female</td>\n",
       "      <td>38.0</td>\n",
       "      <td>1</td>\n",
       "      <td>0</td>\n",
       "      <td>PC 17599</td>\n",
       "      <td>71.2833</td>\n",
       "      <td>C85</td>\n",
       "      <td>C</td>\n",
       "    </tr>\n",
       "    <tr>\n",
       "      <th>2</th>\n",
       "      <td>3</td>\n",
       "      <td>1</td>\n",
       "      <td>3</td>\n",
       "      <td>Heikkinen, Miss. Laina</td>\n",
       "      <td>female</td>\n",
       "      <td>26.0</td>\n",
       "      <td>0</td>\n",
       "      <td>0</td>\n",
       "      <td>STON/O2. 3101282</td>\n",
       "      <td>7.9250</td>\n",
       "      <td>NaN</td>\n",
       "      <td>S</td>\n",
       "    </tr>\n",
       "    <tr>\n",
       "      <th>3</th>\n",
       "      <td>4</td>\n",
       "      <td>1</td>\n",
       "      <td>1</td>\n",
       "      <td>Futrelle, Mrs. Jacques Heath (Lily May Peel)</td>\n",
       "      <td>female</td>\n",
       "      <td>35.0</td>\n",
       "      <td>1</td>\n",
       "      <td>0</td>\n",
       "      <td>113803</td>\n",
       "      <td>53.1000</td>\n",
       "      <td>C123</td>\n",
       "      <td>S</td>\n",
       "    </tr>\n",
       "    <tr>\n",
       "      <th>4</th>\n",
       "      <td>5</td>\n",
       "      <td>0</td>\n",
       "      <td>3</td>\n",
       "      <td>Allen, Mr. William Henry</td>\n",
       "      <td>male</td>\n",
       "      <td>35.0</td>\n",
       "      <td>0</td>\n",
       "      <td>0</td>\n",
       "      <td>373450</td>\n",
       "      <td>8.0500</td>\n",
       "      <td>NaN</td>\n",
       "      <td>S</td>\n",
       "    </tr>\n",
       "    <tr>\n",
       "      <th>...</th>\n",
       "      <td>...</td>\n",
       "      <td>...</td>\n",
       "      <td>...</td>\n",
       "      <td>...</td>\n",
       "      <td>...</td>\n",
       "      <td>...</td>\n",
       "      <td>...</td>\n",
       "      <td>...</td>\n",
       "      <td>...</td>\n",
       "      <td>...</td>\n",
       "      <td>...</td>\n",
       "      <td>...</td>\n",
       "    </tr>\n",
       "    <tr>\n",
       "      <th>886</th>\n",
       "      <td>887</td>\n",
       "      <td>0</td>\n",
       "      <td>2</td>\n",
       "      <td>Montvila, Rev. Juozas</td>\n",
       "      <td>male</td>\n",
       "      <td>27.0</td>\n",
       "      <td>0</td>\n",
       "      <td>0</td>\n",
       "      <td>211536</td>\n",
       "      <td>13.0000</td>\n",
       "      <td>NaN</td>\n",
       "      <td>S</td>\n",
       "    </tr>\n",
       "    <tr>\n",
       "      <th>887</th>\n",
       "      <td>888</td>\n",
       "      <td>1</td>\n",
       "      <td>1</td>\n",
       "      <td>Graham, Miss. Margaret Edith</td>\n",
       "      <td>female</td>\n",
       "      <td>19.0</td>\n",
       "      <td>0</td>\n",
       "      <td>0</td>\n",
       "      <td>112053</td>\n",
       "      <td>30.0000</td>\n",
       "      <td>B42</td>\n",
       "      <td>S</td>\n",
       "    </tr>\n",
       "    <tr>\n",
       "      <th>888</th>\n",
       "      <td>889</td>\n",
       "      <td>0</td>\n",
       "      <td>3</td>\n",
       "      <td>Johnston, Miss. Catherine Helen \"Carrie\"</td>\n",
       "      <td>female</td>\n",
       "      <td>NaN</td>\n",
       "      <td>1</td>\n",
       "      <td>2</td>\n",
       "      <td>W./C. 6607</td>\n",
       "      <td>23.4500</td>\n",
       "      <td>NaN</td>\n",
       "      <td>S</td>\n",
       "    </tr>\n",
       "    <tr>\n",
       "      <th>889</th>\n",
       "      <td>890</td>\n",
       "      <td>1</td>\n",
       "      <td>1</td>\n",
       "      <td>Behr, Mr. Karl Howell</td>\n",
       "      <td>male</td>\n",
       "      <td>26.0</td>\n",
       "      <td>0</td>\n",
       "      <td>0</td>\n",
       "      <td>111369</td>\n",
       "      <td>30.0000</td>\n",
       "      <td>C148</td>\n",
       "      <td>C</td>\n",
       "    </tr>\n",
       "    <tr>\n",
       "      <th>890</th>\n",
       "      <td>891</td>\n",
       "      <td>0</td>\n",
       "      <td>3</td>\n",
       "      <td>Dooley, Mr. Patrick</td>\n",
       "      <td>male</td>\n",
       "      <td>32.0</td>\n",
       "      <td>0</td>\n",
       "      <td>0</td>\n",
       "      <td>370376</td>\n",
       "      <td>7.7500</td>\n",
       "      <td>NaN</td>\n",
       "      <td>Q</td>\n",
       "    </tr>\n",
       "  </tbody>\n",
       "</table>\n",
       "<p>891 rows × 12 columns</p>\n",
       "</div>"
      ],
      "text/plain": [
       "     IdPassageiro  Sobreviveu  Classe  \\\n",
       "0               1           0       3   \n",
       "1               2           1       1   \n",
       "2               3           1       3   \n",
       "3               4           1       1   \n",
       "4               5           0       3   \n",
       "..            ...         ...     ...   \n",
       "886           887           0       2   \n",
       "887           888           1       1   \n",
       "888           889           0       3   \n",
       "889           890           1       1   \n",
       "890           891           0       3   \n",
       "\n",
       "                                                  Nome    Sexo  Idade  \\\n",
       "0                              Braund, Mr. Owen Harris    male   22.0   \n",
       "1    Cumings, Mrs. John Bradley (Florence Briggs Th...  female   38.0   \n",
       "2                               Heikkinen, Miss. Laina  female   26.0   \n",
       "3         Futrelle, Mrs. Jacques Heath (Lily May Peel)  female   35.0   \n",
       "4                             Allen, Mr. William Henry    male   35.0   \n",
       "..                                                 ...     ...    ...   \n",
       "886                              Montvila, Rev. Juozas    male   27.0   \n",
       "887                       Graham, Miss. Margaret Edith  female   19.0   \n",
       "888           Johnston, Miss. Catherine Helen \"Carrie\"  female    NaN   \n",
       "889                              Behr, Mr. Karl Howell    male   26.0   \n",
       "890                                Dooley, Mr. Patrick    male   32.0   \n",
       "\n",
       "     NumeroIrmaos  NumeroPais      NumeroTicket  PrecoTicket NumeroCabine  \\\n",
       "0               1           0         A/5 21171       7.2500          NaN   \n",
       "1               1           0          PC 17599      71.2833          C85   \n",
       "2               0           0  STON/O2. 3101282       7.9250          NaN   \n",
       "3               1           0            113803      53.1000         C123   \n",
       "4               0           0            373450       8.0500          NaN   \n",
       "..            ...         ...               ...          ...          ...   \n",
       "886             0           0            211536      13.0000          NaN   \n",
       "887             0           0            112053      30.0000          B42   \n",
       "888             1           2        W./C. 6607      23.4500          NaN   \n",
       "889             0           0            111369      30.0000         C148   \n",
       "890             0           0            370376       7.7500          NaN   \n",
       "\n",
       "    PortoEmbarcacao  \n",
       "0                 S  \n",
       "1                 C  \n",
       "2                 S  \n",
       "3                 S  \n",
       "4                 S  \n",
       "..              ...  \n",
       "886               S  \n",
       "887               S  \n",
       "888               S  \n",
       "889               C  \n",
       "890               Q  \n",
       "\n",
       "[891 rows x 12 columns]"
      ]
     },
<<<<<<< HEAD
     "execution_count": 8,
=======
     "execution_count": 4,
>>>>>>> d0272b0e971aa8c3e9bbbff7edc83af7e132fef5
     "metadata": {},
     "output_type": "execute_result"
    }
   ],
   "source": [
    "df.columns = novas_colunas\n",
    "df"
   ]
  },
  {
   "cell_type": "markdown",
   "metadata": {
    "id": "JehELGwYS_mx"
   },
   "source": [
    "## Pandas\n",
    "\n",
    "### Consultas e filtros\n",
    "### Filtros\n",
    "\n",
    "A biblioteca pandas fornece diferentes maneiras de filtrar por valores de colunas, além de permitir a combinação de diferentes técnicas oferecidas, de forma a nos permitir manipular os dados com mais facilidade fornecendo subsets com as condições requeridas.\n",
    "\n",
    "\n",
    "[Fonte](https://sparkbyexamples.com/pandas/pandas-filter-by-column-value/)\n"
   ]
  },
  {
   "cell_type": "code",
<<<<<<< HEAD
   "execution_count": 14,
=======
   "execution_count": 5,
>>>>>>> d0272b0e971aa8c3e9bbbff7edc83af7e132fef5
   "metadata": {
    "id": "gZKfzWYAS_mx",
    "outputId": "cdc7a73b-0f3b-42ce-cdf2-f8322b15e686"
   },
   "outputs": [
    {
     "data": {
      "text/html": [
       "<div>\n",
       "<style scoped>\n",
       "    .dataframe tbody tr th:only-of-type {\n",
       "        vertical-align: middle;\n",
       "    }\n",
       "\n",
       "    .dataframe tbody tr th {\n",
       "        vertical-align: top;\n",
       "    }\n",
       "\n",
       "    .dataframe thead th {\n",
       "        text-align: right;\n",
       "    }\n",
       "</style>\n",
       "<table border=\"1\" class=\"dataframe\">\n",
       "  <thead>\n",
       "    <tr style=\"text-align: right;\">\n",
       "      <th></th>\n",
       "      <th>IdPassageiro</th>\n",
       "      <th>Sobreviveu</th>\n",
       "      <th>Classe</th>\n",
       "      <th>Nome</th>\n",
       "      <th>Sexo</th>\n",
       "      <th>Idade</th>\n",
       "      <th>NumeroIrmaos</th>\n",
       "      <th>NumeroPais</th>\n",
       "      <th>NumeroTicket</th>\n",
       "      <th>PrecoTicket</th>\n",
       "      <th>NumeroCabine</th>\n",
       "      <th>PortoEmbarcacao</th>\n",
       "    </tr>\n",
       "  </thead>\n",
       "  <tbody>\n",
       "    <tr>\n",
       "      <th>0</th>\n",
       "      <td>1</td>\n",
       "      <td>0</td>\n",
       "      <td>3</td>\n",
       "      <td>Braund, Mr. Owen Harris</td>\n",
       "      <td>male</td>\n",
       "      <td>22.0</td>\n",
       "      <td>1</td>\n",
       "      <td>0</td>\n",
       "      <td>A/5 21171</td>\n",
       "      <td>7.2500</td>\n",
       "      <td>NaN</td>\n",
       "      <td>S</td>\n",
       "    </tr>\n",
       "    <tr>\n",
       "      <th>1</th>\n",
       "      <td>2</td>\n",
       "      <td>1</td>\n",
       "      <td>1</td>\n",
       "      <td>Cumings, Mrs. John Bradley (Florence Briggs Th...</td>\n",
       "      <td>female</td>\n",
       "      <td>38.0</td>\n",
       "      <td>1</td>\n",
       "      <td>0</td>\n",
       "      <td>PC 17599</td>\n",
       "      <td>71.2833</td>\n",
       "      <td>C85</td>\n",
       "      <td>C</td>\n",
       "    </tr>\n",
       "    <tr>\n",
       "      <th>2</th>\n",
       "      <td>3</td>\n",
       "      <td>1</td>\n",
       "      <td>3</td>\n",
       "      <td>Heikkinen, Miss. Laina</td>\n",
       "      <td>female</td>\n",
       "      <td>26.0</td>\n",
       "      <td>0</td>\n",
       "      <td>0</td>\n",
       "      <td>STON/O2. 3101282</td>\n",
       "      <td>7.9250</td>\n",
       "      <td>NaN</td>\n",
       "      <td>S</td>\n",
       "    </tr>\n",
       "    <tr>\n",
       "      <th>3</th>\n",
       "      <td>4</td>\n",
       "      <td>1</td>\n",
       "      <td>1</td>\n",
       "      <td>Futrelle, Mrs. Jacques Heath (Lily May Peel)</td>\n",
       "      <td>female</td>\n",
       "      <td>35.0</td>\n",
       "      <td>1</td>\n",
       "      <td>0</td>\n",
       "      <td>113803</td>\n",
       "      <td>53.1000</td>\n",
       "      <td>C123</td>\n",
       "      <td>S</td>\n",
       "    </tr>\n",
       "    <tr>\n",
       "      <th>4</th>\n",
       "      <td>5</td>\n",
       "      <td>0</td>\n",
       "      <td>3</td>\n",
       "      <td>Allen, Mr. William Henry</td>\n",
       "      <td>male</td>\n",
       "      <td>35.0</td>\n",
       "      <td>0</td>\n",
       "      <td>0</td>\n",
       "      <td>373450</td>\n",
       "      <td>8.0500</td>\n",
       "      <td>NaN</td>\n",
       "      <td>S</td>\n",
       "    </tr>\n",
       "    <tr>\n",
       "      <th>...</th>\n",
       "      <td>...</td>\n",
       "      <td>...</td>\n",
       "      <td>...</td>\n",
       "      <td>...</td>\n",
       "      <td>...</td>\n",
       "      <td>...</td>\n",
       "      <td>...</td>\n",
       "      <td>...</td>\n",
       "      <td>...</td>\n",
       "      <td>...</td>\n",
       "      <td>...</td>\n",
       "      <td>...</td>\n",
       "    </tr>\n",
       "    <tr>\n",
       "      <th>886</th>\n",
       "      <td>887</td>\n",
       "      <td>0</td>\n",
       "      <td>2</td>\n",
       "      <td>Montvila, Rev. Juozas</td>\n",
       "      <td>male</td>\n",
       "      <td>27.0</td>\n",
       "      <td>0</td>\n",
       "      <td>0</td>\n",
       "      <td>211536</td>\n",
       "      <td>13.0000</td>\n",
       "      <td>NaN</td>\n",
       "      <td>S</td>\n",
       "    </tr>\n",
       "    <tr>\n",
       "      <th>887</th>\n",
       "      <td>888</td>\n",
       "      <td>1</td>\n",
       "      <td>1</td>\n",
       "      <td>Graham, Miss. Margaret Edith</td>\n",
       "      <td>female</td>\n",
       "      <td>19.0</td>\n",
       "      <td>0</td>\n",
       "      <td>0</td>\n",
       "      <td>112053</td>\n",
       "      <td>30.0000</td>\n",
       "      <td>B42</td>\n",
       "      <td>S</td>\n",
       "    </tr>\n",
       "    <tr>\n",
       "      <th>888</th>\n",
       "      <td>889</td>\n",
       "      <td>0</td>\n",
       "      <td>3</td>\n",
       "      <td>Johnston, Miss. Catherine Helen \"Carrie\"</td>\n",
       "      <td>female</td>\n",
       "      <td>NaN</td>\n",
       "      <td>1</td>\n",
       "      <td>2</td>\n",
       "      <td>W./C. 6607</td>\n",
       "      <td>23.4500</td>\n",
       "      <td>NaN</td>\n",
       "      <td>S</td>\n",
       "    </tr>\n",
       "    <tr>\n",
       "      <th>889</th>\n",
       "      <td>890</td>\n",
       "      <td>1</td>\n",
       "      <td>1</td>\n",
       "      <td>Behr, Mr. Karl Howell</td>\n",
       "      <td>male</td>\n",
       "      <td>26.0</td>\n",
       "      <td>0</td>\n",
       "      <td>0</td>\n",
       "      <td>111369</td>\n",
       "      <td>30.0000</td>\n",
       "      <td>C148</td>\n",
       "      <td>C</td>\n",
       "    </tr>\n",
       "    <tr>\n",
       "      <th>890</th>\n",
       "      <td>891</td>\n",
       "      <td>0</td>\n",
       "      <td>3</td>\n",
       "      <td>Dooley, Mr. Patrick</td>\n",
       "      <td>male</td>\n",
       "      <td>32.0</td>\n",
       "      <td>0</td>\n",
       "      <td>0</td>\n",
       "      <td>370376</td>\n",
       "      <td>7.7500</td>\n",
       "      <td>NaN</td>\n",
       "      <td>Q</td>\n",
       "    </tr>\n",
       "  </tbody>\n",
       "</table>\n",
       "<p>891 rows × 12 columns</p>\n",
       "</div>"
      ],
      "text/plain": [
       "     IdPassageiro  Sobreviveu  Classe  \\\n",
       "0               1           0       3   \n",
       "1               2           1       1   \n",
       "2               3           1       3   \n",
       "3               4           1       1   \n",
       "4               5           0       3   \n",
       "..            ...         ...     ...   \n",
       "886           887           0       2   \n",
       "887           888           1       1   \n",
       "888           889           0       3   \n",
       "889           890           1       1   \n",
       "890           891           0       3   \n",
       "\n",
       "                                                  Nome    Sexo  Idade  \\\n",
       "0                              Braund, Mr. Owen Harris    male   22.0   \n",
       "1    Cumings, Mrs. John Bradley (Florence Briggs Th...  female   38.0   \n",
       "2                               Heikkinen, Miss. Laina  female   26.0   \n",
       "3         Futrelle, Mrs. Jacques Heath (Lily May Peel)  female   35.0   \n",
       "4                             Allen, Mr. William Henry    male   35.0   \n",
       "..                                                 ...     ...    ...   \n",
       "886                              Montvila, Rev. Juozas    male   27.0   \n",
       "887                       Graham, Miss. Margaret Edith  female   19.0   \n",
       "888           Johnston, Miss. Catherine Helen \"Carrie\"  female    NaN   \n",
       "889                              Behr, Mr. Karl Howell    male   26.0   \n",
       "890                                Dooley, Mr. Patrick    male   32.0   \n",
       "\n",
       "     NumeroIrmaos  NumeroPais      NumeroTicket  PrecoTicket NumeroCabine  \\\n",
       "0               1           0         A/5 21171       7.2500          NaN   \n",
       "1               1           0          PC 17599      71.2833          C85   \n",
       "2               0           0  STON/O2. 3101282       7.9250          NaN   \n",
       "3               1           0            113803      53.1000         C123   \n",
       "4               0           0            373450       8.0500          NaN   \n",
       "..            ...         ...               ...          ...          ...   \n",
       "886             0           0            211536      13.0000          NaN   \n",
       "887             0           0            112053      30.0000          B42   \n",
       "888             1           2        W./C. 6607      23.4500          NaN   \n",
       "889             0           0            111369      30.0000         C148   \n",
       "890             0           0            370376       7.7500          NaN   \n",
       "\n",
       "    PortoEmbarcacao  \n",
       "0                 S  \n",
       "1                 C  \n",
       "2                 S  \n",
       "3                 S  \n",
       "4                 S  \n",
       "..              ...  \n",
       "886               S  \n",
       "887               S  \n",
       "888               S  \n",
       "889               C  \n",
       "890               Q  \n",
       "\n",
       "[891 rows x 12 columns]"
      ]
     },
<<<<<<< HEAD
     "execution_count": 14,
=======
     "execution_count": 5,
>>>>>>> d0272b0e971aa8c3e9bbbff7edc83af7e132fef5
     "metadata": {},
     "output_type": "execute_result"
    }
   ],
   "source": [
    "# dataframe originial\n",
    "df"
   ]
  },
  {
   "cell_type": "code",
<<<<<<< HEAD
   "execution_count": 10,
=======
   "execution_count": 6,
   "metadata": {},
   "outputs": [
    {
     "data": {
      "text/html": [
       "<div>\n",
       "<style scoped>\n",
       "    .dataframe tbody tr th:only-of-type {\n",
       "        vertical-align: middle;\n",
       "    }\n",
       "\n",
       "    .dataframe tbody tr th {\n",
       "        vertical-align: top;\n",
       "    }\n",
       "\n",
       "    .dataframe thead th {\n",
       "        text-align: right;\n",
       "    }\n",
       "</style>\n",
       "<table border=\"1\" class=\"dataframe\">\n",
       "  <thead>\n",
       "    <tr style=\"text-align: right;\">\n",
       "      <th></th>\n",
       "      <th>IdPassageiro</th>\n",
       "      <th>Sobreviveu</th>\n",
       "      <th>Classe</th>\n",
       "      <th>Nome</th>\n",
       "      <th>Sexo</th>\n",
       "      <th>Idade</th>\n",
       "      <th>NumeroIrmaos</th>\n",
       "      <th>NumeroPais</th>\n",
       "      <th>NumeroTicket</th>\n",
       "      <th>PrecoTicket</th>\n",
       "      <th>NumeroCabine</th>\n",
       "      <th>PortoEmbarcacao</th>\n",
       "    </tr>\n",
       "  </thead>\n",
       "  <tbody>\n",
       "    <tr>\n",
       "      <th>1</th>\n",
       "      <td>2</td>\n",
       "      <td>1</td>\n",
       "      <td>1</td>\n",
       "      <td>Cumings, Mrs. John Bradley (Florence Briggs Th...</td>\n",
       "      <td>female</td>\n",
       "      <td>38.0</td>\n",
       "      <td>1</td>\n",
       "      <td>0</td>\n",
       "      <td>PC 17599</td>\n",
       "      <td>71.2833</td>\n",
       "      <td>C85</td>\n",
       "      <td>C</td>\n",
       "    </tr>\n",
       "    <tr>\n",
       "      <th>3</th>\n",
       "      <td>4</td>\n",
       "      <td>1</td>\n",
       "      <td>1</td>\n",
       "      <td>Futrelle, Mrs. Jacques Heath (Lily May Peel)</td>\n",
       "      <td>female</td>\n",
       "      <td>35.0</td>\n",
       "      <td>1</td>\n",
       "      <td>0</td>\n",
       "      <td>113803</td>\n",
       "      <td>53.1000</td>\n",
       "      <td>C123</td>\n",
       "      <td>S</td>\n",
       "    </tr>\n",
       "    <tr>\n",
       "      <th>4</th>\n",
       "      <td>5</td>\n",
       "      <td>0</td>\n",
       "      <td>3</td>\n",
       "      <td>Allen, Mr. William Henry</td>\n",
       "      <td>male</td>\n",
       "      <td>35.0</td>\n",
       "      <td>0</td>\n",
       "      <td>0</td>\n",
       "      <td>373450</td>\n",
       "      <td>8.0500</td>\n",
       "      <td>NaN</td>\n",
       "      <td>S</td>\n",
       "    </tr>\n",
       "    <tr>\n",
       "      <th>6</th>\n",
       "      <td>7</td>\n",
       "      <td>0</td>\n",
       "      <td>1</td>\n",
       "      <td>McCarthy, Mr. Timothy J</td>\n",
       "      <td>male</td>\n",
       "      <td>54.0</td>\n",
       "      <td>0</td>\n",
       "      <td>0</td>\n",
       "      <td>17463</td>\n",
       "      <td>51.8625</td>\n",
       "      <td>E46</td>\n",
       "      <td>S</td>\n",
       "    </tr>\n",
       "    <tr>\n",
       "      <th>11</th>\n",
       "      <td>12</td>\n",
       "      <td>1</td>\n",
       "      <td>1</td>\n",
       "      <td>Bonnell, Miss. Elizabeth</td>\n",
       "      <td>female</td>\n",
       "      <td>58.0</td>\n",
       "      <td>0</td>\n",
       "      <td>0</td>\n",
       "      <td>113783</td>\n",
       "      <td>26.5500</td>\n",
       "      <td>C103</td>\n",
       "      <td>S</td>\n",
       "    </tr>\n",
       "    <tr>\n",
       "      <th>...</th>\n",
       "      <td>...</td>\n",
       "      <td>...</td>\n",
       "      <td>...</td>\n",
       "      <td>...</td>\n",
       "      <td>...</td>\n",
       "      <td>...</td>\n",
       "      <td>...</td>\n",
       "      <td>...</td>\n",
       "      <td>...</td>\n",
       "      <td>...</td>\n",
       "      <td>...</td>\n",
       "      <td>...</td>\n",
       "    </tr>\n",
       "    <tr>\n",
       "      <th>873</th>\n",
       "      <td>874</td>\n",
       "      <td>0</td>\n",
       "      <td>3</td>\n",
       "      <td>Vander Cruyssen, Mr. Victor</td>\n",
       "      <td>male</td>\n",
       "      <td>47.0</td>\n",
       "      <td>0</td>\n",
       "      <td>0</td>\n",
       "      <td>345765</td>\n",
       "      <td>9.0000</td>\n",
       "      <td>NaN</td>\n",
       "      <td>S</td>\n",
       "    </tr>\n",
       "    <tr>\n",
       "      <th>879</th>\n",
       "      <td>880</td>\n",
       "      <td>1</td>\n",
       "      <td>1</td>\n",
       "      <td>Potter, Mrs. Thomas Jr (Lily Alexenia Wilson)</td>\n",
       "      <td>female</td>\n",
       "      <td>56.0</td>\n",
       "      <td>0</td>\n",
       "      <td>1</td>\n",
       "      <td>11767</td>\n",
       "      <td>83.1583</td>\n",
       "      <td>C50</td>\n",
       "      <td>C</td>\n",
       "    </tr>\n",
       "    <tr>\n",
       "      <th>881</th>\n",
       "      <td>882</td>\n",
       "      <td>0</td>\n",
       "      <td>3</td>\n",
       "      <td>Markun, Mr. Johann</td>\n",
       "      <td>male</td>\n",
       "      <td>33.0</td>\n",
       "      <td>0</td>\n",
       "      <td>0</td>\n",
       "      <td>349257</td>\n",
       "      <td>7.8958</td>\n",
       "      <td>NaN</td>\n",
       "      <td>S</td>\n",
       "    </tr>\n",
       "    <tr>\n",
       "      <th>885</th>\n",
       "      <td>886</td>\n",
       "      <td>0</td>\n",
       "      <td>3</td>\n",
       "      <td>Rice, Mrs. William (Margaret Norton)</td>\n",
       "      <td>female</td>\n",
       "      <td>39.0</td>\n",
       "      <td>0</td>\n",
       "      <td>5</td>\n",
       "      <td>382652</td>\n",
       "      <td>29.1250</td>\n",
       "      <td>NaN</td>\n",
       "      <td>Q</td>\n",
       "    </tr>\n",
       "    <tr>\n",
       "      <th>890</th>\n",
       "      <td>891</td>\n",
       "      <td>0</td>\n",
       "      <td>3</td>\n",
       "      <td>Dooley, Mr. Patrick</td>\n",
       "      <td>male</td>\n",
       "      <td>32.0</td>\n",
       "      <td>0</td>\n",
       "      <td>0</td>\n",
       "      <td>370376</td>\n",
       "      <td>7.7500</td>\n",
       "      <td>NaN</td>\n",
       "      <td>Q</td>\n",
       "    </tr>\n",
       "  </tbody>\n",
       "</table>\n",
       "<p>305 rows × 12 columns</p>\n",
       "</div>"
      ],
      "text/plain": [
       "     IdPassageiro  Sobreviveu  Classe  \\\n",
       "1               2           1       1   \n",
       "3               4           1       1   \n",
       "4               5           0       3   \n",
       "6               7           0       1   \n",
       "11             12           1       1   \n",
       "..            ...         ...     ...   \n",
       "873           874           0       3   \n",
       "879           880           1       1   \n",
       "881           882           0       3   \n",
       "885           886           0       3   \n",
       "890           891           0       3   \n",
       "\n",
       "                                                  Nome    Sexo  Idade  \\\n",
       "1    Cumings, Mrs. John Bradley (Florence Briggs Th...  female   38.0   \n",
       "3         Futrelle, Mrs. Jacques Heath (Lily May Peel)  female   35.0   \n",
       "4                             Allen, Mr. William Henry    male   35.0   \n",
       "6                              McCarthy, Mr. Timothy J    male   54.0   \n",
       "11                            Bonnell, Miss. Elizabeth  female   58.0   \n",
       "..                                                 ...     ...    ...   \n",
       "873                        Vander Cruyssen, Mr. Victor    male   47.0   \n",
       "879      Potter, Mrs. Thomas Jr (Lily Alexenia Wilson)  female   56.0   \n",
       "881                                 Markun, Mr. Johann    male   33.0   \n",
       "885               Rice, Mrs. William (Margaret Norton)  female   39.0   \n",
       "890                                Dooley, Mr. Patrick    male   32.0   \n",
       "\n",
       "     NumeroIrmaos  NumeroPais NumeroTicket  PrecoTicket NumeroCabine  \\\n",
       "1               1           0     PC 17599      71.2833          C85   \n",
       "3               1           0       113803      53.1000         C123   \n",
       "4               0           0       373450       8.0500          NaN   \n",
       "6               0           0        17463      51.8625          E46   \n",
       "11              0           0       113783      26.5500         C103   \n",
       "..            ...         ...          ...          ...          ...   \n",
       "873             0           0       345765       9.0000          NaN   \n",
       "879             0           1        11767      83.1583          C50   \n",
       "881             0           0       349257       7.8958          NaN   \n",
       "885             0           5       382652      29.1250          NaN   \n",
       "890             0           0       370376       7.7500          NaN   \n",
       "\n",
       "    PortoEmbarcacao  \n",
       "1                 C  \n",
       "3                 S  \n",
       "4                 S  \n",
       "6                 S  \n",
       "11                S  \n",
       "..              ...  \n",
       "873               S  \n",
       "879               C  \n",
       "881               S  \n",
       "885               Q  \n",
       "890               Q  \n",
       "\n",
       "[305 rows x 12 columns]"
      ]
     },
     "execution_count": 6,
     "metadata": {},
     "output_type": "execute_result"
    }
   ],
   "source": [
    "df[df['Idade'] > 30]"
   ]
  },
  {
   "cell_type": "code",
   "execution_count": 7,
>>>>>>> d0272b0e971aa8c3e9bbbff7edc83af7e132fef5
   "metadata": {
    "id": "xzHvkQRrS_mx",
    "outputId": "ca4d371d-386e-433d-e49b-6e5a6749f767"
   },
   "outputs": [
    {
     "data": {
      "text/plain": [
       "(305, 12)"
      ]
     },
<<<<<<< HEAD
     "execution_count": 10,
=======
     "execution_count": 7,
>>>>>>> d0272b0e971aa8c3e9bbbff7edc83af7e132fef5
     "metadata": {},
     "output_type": "execute_result"
    }
   ],
   "source": [
    "# Vamos começar com um filtro baseado em uma única condição: idade > 30\n",
    "df_filtrado = df[df['Idade'] > 30]\n",
    "df_filtrado.shape"
   ]
  },
  {
   "cell_type": "code",
<<<<<<< HEAD
   "execution_count": 11,
=======
   "execution_count": 8,
   "metadata": {},
   "outputs": [
    {
     "data": {
      "text/html": [
       "<div>\n",
       "<style scoped>\n",
       "    .dataframe tbody tr th:only-of-type {\n",
       "        vertical-align: middle;\n",
       "    }\n",
       "\n",
       "    .dataframe tbody tr th {\n",
       "        vertical-align: top;\n",
       "    }\n",
       "\n",
       "    .dataframe thead th {\n",
       "        text-align: right;\n",
       "    }\n",
       "</style>\n",
       "<table border=\"1\" class=\"dataframe\">\n",
       "  <thead>\n",
       "    <tr style=\"text-align: right;\">\n",
       "      <th></th>\n",
       "      <th>IdPassageiro</th>\n",
       "      <th>Sobreviveu</th>\n",
       "      <th>Classe</th>\n",
       "      <th>Nome</th>\n",
       "      <th>Sexo</th>\n",
       "      <th>Idade</th>\n",
       "      <th>NumeroIrmaos</th>\n",
       "      <th>NumeroPais</th>\n",
       "      <th>NumeroTicket</th>\n",
       "      <th>PrecoTicket</th>\n",
       "      <th>NumeroCabine</th>\n",
       "      <th>PortoEmbarcacao</th>\n",
       "    </tr>\n",
       "  </thead>\n",
       "  <tbody>\n",
       "    <tr>\n",
       "      <th>1</th>\n",
       "      <td>2</td>\n",
       "      <td>1</td>\n",
       "      <td>1</td>\n",
       "      <td>Cumings, Mrs. John Bradley (Florence Briggs Th...</td>\n",
       "      <td>female</td>\n",
       "      <td>38.0</td>\n",
       "      <td>1</td>\n",
       "      <td>0</td>\n",
       "      <td>PC 17599</td>\n",
       "      <td>71.2833</td>\n",
       "      <td>C85</td>\n",
       "      <td>C</td>\n",
       "    </tr>\n",
       "    <tr>\n",
       "      <th>3</th>\n",
       "      <td>4</td>\n",
       "      <td>1</td>\n",
       "      <td>1</td>\n",
       "      <td>Futrelle, Mrs. Jacques Heath (Lily May Peel)</td>\n",
       "      <td>female</td>\n",
       "      <td>35.0</td>\n",
       "      <td>1</td>\n",
       "      <td>0</td>\n",
       "      <td>113803</td>\n",
       "      <td>53.1000</td>\n",
       "      <td>C123</td>\n",
       "      <td>S</td>\n",
       "    </tr>\n",
       "    <tr>\n",
       "      <th>11</th>\n",
       "      <td>12</td>\n",
       "      <td>1</td>\n",
       "      <td>1</td>\n",
       "      <td>Bonnell, Miss. Elizabeth</td>\n",
       "      <td>female</td>\n",
       "      <td>58.0</td>\n",
       "      <td>0</td>\n",
       "      <td>0</td>\n",
       "      <td>113783</td>\n",
       "      <td>26.5500</td>\n",
       "      <td>C103</td>\n",
       "      <td>S</td>\n",
       "    </tr>\n",
       "    <tr>\n",
       "      <th>15</th>\n",
       "      <td>16</td>\n",
       "      <td>1</td>\n",
       "      <td>2</td>\n",
       "      <td>Hewlett, Mrs. (Mary D Kingcome)</td>\n",
       "      <td>female</td>\n",
       "      <td>55.0</td>\n",
       "      <td>0</td>\n",
       "      <td>0</td>\n",
       "      <td>248706</td>\n",
       "      <td>16.0000</td>\n",
       "      <td>NaN</td>\n",
       "      <td>S</td>\n",
       "    </tr>\n",
       "    <tr>\n",
       "      <th>18</th>\n",
       "      <td>19</td>\n",
       "      <td>0</td>\n",
       "      <td>3</td>\n",
       "      <td>Vander Planke, Mrs. Julius (Emelia Maria Vande...</td>\n",
       "      <td>female</td>\n",
       "      <td>31.0</td>\n",
       "      <td>1</td>\n",
       "      <td>0</td>\n",
       "      <td>345763</td>\n",
       "      <td>18.0000</td>\n",
       "      <td>NaN</td>\n",
       "      <td>S</td>\n",
       "    </tr>\n",
       "    <tr>\n",
       "      <th>...</th>\n",
       "      <td>...</td>\n",
       "      <td>...</td>\n",
       "      <td>...</td>\n",
       "      <td>...</td>\n",
       "      <td>...</td>\n",
       "      <td>...</td>\n",
       "      <td>...</td>\n",
       "      <td>...</td>\n",
       "      <td>...</td>\n",
       "      <td>...</td>\n",
       "      <td>...</td>\n",
       "      <td>...</td>\n",
       "    </tr>\n",
       "    <tr>\n",
       "      <th>862</th>\n",
       "      <td>863</td>\n",
       "      <td>1</td>\n",
       "      <td>1</td>\n",
       "      <td>Swift, Mrs. Frederick Joel (Margaret Welles Ba...</td>\n",
       "      <td>female</td>\n",
       "      <td>48.0</td>\n",
       "      <td>0</td>\n",
       "      <td>0</td>\n",
       "      <td>17466</td>\n",
       "      <td>25.9292</td>\n",
       "      <td>D17</td>\n",
       "      <td>S</td>\n",
       "    </tr>\n",
       "    <tr>\n",
       "      <th>865</th>\n",
       "      <td>866</td>\n",
       "      <td>1</td>\n",
       "      <td>2</td>\n",
       "      <td>Bystrom, Mrs. (Karolina)</td>\n",
       "      <td>female</td>\n",
       "      <td>42.0</td>\n",
       "      <td>0</td>\n",
       "      <td>0</td>\n",
       "      <td>236852</td>\n",
       "      <td>13.0000</td>\n",
       "      <td>NaN</td>\n",
       "      <td>S</td>\n",
       "    </tr>\n",
       "    <tr>\n",
       "      <th>871</th>\n",
       "      <td>872</td>\n",
       "      <td>1</td>\n",
       "      <td>1</td>\n",
       "      <td>Beckwith, Mrs. Richard Leonard (Sallie Monypeny)</td>\n",
       "      <td>female</td>\n",
       "      <td>47.0</td>\n",
       "      <td>1</td>\n",
       "      <td>1</td>\n",
       "      <td>11751</td>\n",
       "      <td>52.5542</td>\n",
       "      <td>D35</td>\n",
       "      <td>S</td>\n",
       "    </tr>\n",
       "    <tr>\n",
       "      <th>879</th>\n",
       "      <td>880</td>\n",
       "      <td>1</td>\n",
       "      <td>1</td>\n",
       "      <td>Potter, Mrs. Thomas Jr (Lily Alexenia Wilson)</td>\n",
       "      <td>female</td>\n",
       "      <td>56.0</td>\n",
       "      <td>0</td>\n",
       "      <td>1</td>\n",
       "      <td>11767</td>\n",
       "      <td>83.1583</td>\n",
       "      <td>C50</td>\n",
       "      <td>C</td>\n",
       "    </tr>\n",
       "    <tr>\n",
       "      <th>885</th>\n",
       "      <td>886</td>\n",
       "      <td>0</td>\n",
       "      <td>3</td>\n",
       "      <td>Rice, Mrs. William (Margaret Norton)</td>\n",
       "      <td>female</td>\n",
       "      <td>39.0</td>\n",
       "      <td>0</td>\n",
       "      <td>5</td>\n",
       "      <td>382652</td>\n",
       "      <td>29.1250</td>\n",
       "      <td>NaN</td>\n",
       "      <td>Q</td>\n",
       "    </tr>\n",
       "  </tbody>\n",
       "</table>\n",
       "<p>103 rows × 12 columns</p>\n",
       "</div>"
      ],
      "text/plain": [
       "     IdPassageiro  Sobreviveu  Classe  \\\n",
       "1               2           1       1   \n",
       "3               4           1       1   \n",
       "11             12           1       1   \n",
       "15             16           1       2   \n",
       "18             19           0       3   \n",
       "..            ...         ...     ...   \n",
       "862           863           1       1   \n",
       "865           866           1       2   \n",
       "871           872           1       1   \n",
       "879           880           1       1   \n",
       "885           886           0       3   \n",
       "\n",
       "                                                  Nome    Sexo  Idade  \\\n",
       "1    Cumings, Mrs. John Bradley (Florence Briggs Th...  female   38.0   \n",
       "3         Futrelle, Mrs. Jacques Heath (Lily May Peel)  female   35.0   \n",
       "11                            Bonnell, Miss. Elizabeth  female   58.0   \n",
       "15                    Hewlett, Mrs. (Mary D Kingcome)   female   55.0   \n",
       "18   Vander Planke, Mrs. Julius (Emelia Maria Vande...  female   31.0   \n",
       "..                                                 ...     ...    ...   \n",
       "862  Swift, Mrs. Frederick Joel (Margaret Welles Ba...  female   48.0   \n",
       "865                           Bystrom, Mrs. (Karolina)  female   42.0   \n",
       "871   Beckwith, Mrs. Richard Leonard (Sallie Monypeny)  female   47.0   \n",
       "879      Potter, Mrs. Thomas Jr (Lily Alexenia Wilson)  female   56.0   \n",
       "885               Rice, Mrs. William (Margaret Norton)  female   39.0   \n",
       "\n",
       "     NumeroIrmaos  NumeroPais NumeroTicket  PrecoTicket NumeroCabine  \\\n",
       "1               1           0     PC 17599      71.2833          C85   \n",
       "3               1           0       113803      53.1000         C123   \n",
       "11              0           0       113783      26.5500         C103   \n",
       "15              0           0       248706      16.0000          NaN   \n",
       "18              1           0       345763      18.0000          NaN   \n",
       "..            ...         ...          ...          ...          ...   \n",
       "862             0           0        17466      25.9292          D17   \n",
       "865             0           0       236852      13.0000          NaN   \n",
       "871             1           1        11751      52.5542          D35   \n",
       "879             0           1        11767      83.1583          C50   \n",
       "885             0           5       382652      29.1250          NaN   \n",
       "\n",
       "    PortoEmbarcacao  \n",
       "1                 C  \n",
       "3                 S  \n",
       "11                S  \n",
       "15                S  \n",
       "18                S  \n",
       "..              ...  \n",
       "862               S  \n",
       "865               S  \n",
       "871               S  \n",
       "879               C  \n",
       "885               Q  \n",
       "\n",
       "[103 rows x 12 columns]"
      ]
     },
     "execution_count": 8,
     "metadata": {},
     "output_type": "execute_result"
    }
   ],
   "source": [
    "df[(df['Idade'] > 30) & (df['Sexo'] == 'female')]"
   ]
  },
  {
   "cell_type": "code",
   "execution_count": 9,
>>>>>>> d0272b0e971aa8c3e9bbbff7edc83af7e132fef5
   "metadata": {
    "id": "ZFZ7LOT6S_my",
    "outputId": "e41628cd-501b-4009-d643-c91f7fe9d7e4"
   },
   "outputs": [
    {
     "data": {
      "text/plain": [
<<<<<<< HEAD
       "(0, 12)"
      ]
     },
     "execution_count": 11,
=======
       "(103, 12)"
      ]
     },
     "execution_count": 9,
>>>>>>> d0272b0e971aa8c3e9bbbff7edc83af7e132fef5
     "metadata": {},
     "output_type": "execute_result"
    }
   ],
   "source": [
    "# Agora um filtro com múltiplas condições\n",
    "df_filtrado = df[(df['Idade'] > 30) & (df['Sexo'] == 'female')]\n",
    "df_filtrado.shape"
   ]
  },
  {
   "cell_type": "code",
<<<<<<< HEAD
   "execution_count": 13,
=======
   "execution_count": 10,
   "metadata": {},
   "outputs": [
    {
     "data": {
      "text/html": [
       "<div>\n",
       "<style scoped>\n",
       "    .dataframe tbody tr th:only-of-type {\n",
       "        vertical-align: middle;\n",
       "    }\n",
       "\n",
       "    .dataframe tbody tr th {\n",
       "        vertical-align: top;\n",
       "    }\n",
       "\n",
       "    .dataframe thead th {\n",
       "        text-align: right;\n",
       "    }\n",
       "</style>\n",
       "<table border=\"1\" class=\"dataframe\">\n",
       "  <thead>\n",
       "    <tr style=\"text-align: right;\">\n",
       "      <th></th>\n",
       "      <th>IdPassageiro</th>\n",
       "      <th>Sobreviveu</th>\n",
       "      <th>Classe</th>\n",
       "      <th>Nome</th>\n",
       "      <th>Sexo</th>\n",
       "      <th>Idade</th>\n",
       "      <th>NumeroIrmaos</th>\n",
       "      <th>NumeroPais</th>\n",
       "      <th>NumeroTicket</th>\n",
       "      <th>PrecoTicket</th>\n",
       "      <th>NumeroCabine</th>\n",
       "      <th>PortoEmbarcacao</th>\n",
       "    </tr>\n",
       "  </thead>\n",
       "  <tbody>\n",
       "    <tr>\n",
       "      <th>855</th>\n",
       "      <td>856</td>\n",
       "      <td>1</td>\n",
       "      <td>3</td>\n",
       "      <td>Aks, Mrs. Sam (Leah Rosen)</td>\n",
       "      <td>female</td>\n",
       "      <td>18.0</td>\n",
       "      <td>0</td>\n",
       "      <td>1</td>\n",
       "      <td>392091</td>\n",
       "      <td>9.35</td>\n",
       "      <td>NaN</td>\n",
       "      <td>S</td>\n",
       "    </tr>\n",
       "  </tbody>\n",
       "</table>\n",
       "</div>"
      ],
      "text/plain": [
       "     IdPassageiro  Sobreviveu  Classe                        Nome    Sexo  \\\n",
       "855           856           1       3  Aks, Mrs. Sam (Leah Rosen)  female   \n",
       "\n",
       "     Idade  NumeroIrmaos  NumeroPais NumeroTicket  PrecoTicket NumeroCabine  \\\n",
       "855   18.0             0           1       392091         9.35          NaN   \n",
       "\n",
       "    PortoEmbarcacao  \n",
       "855               S  "
      ]
     },
     "execution_count": 10,
     "metadata": {},
     "output_type": "execute_result"
    }
   ],
   "source": [
    "df[df['Nome'].str.contains('Rose')]"
   ]
  },
  {
   "cell_type": "code",
   "execution_count": 11,
>>>>>>> d0272b0e971aa8c3e9bbbff7edc83af7e132fef5
   "metadata": {
    "id": "BpueQ0G0S_my",
    "outputId": "ba8ca09f-6788-4332-9a11-786aa02700e4"
   },
   "outputs": [
    {
     "data": {
      "text/plain": [
<<<<<<< HEAD
       "(6, 12)"
      ]
     },
     "execution_count": 13,
=======
       "(1, 12)"
      ]
     },
     "execution_count": 11,
>>>>>>> d0272b0e971aa8c3e9bbbff7edc83af7e132fef5
     "metadata": {},
     "output_type": "execute_result"
    }
   ],
   "source": [
    "# Selecionando entradas que possuem uma determinada 'string'\n",
    "# Vamos procurar por nomes que possuam 'Good'\n",
    "\n",
    "df_filtrado = df[df['Nome'].str.contains('Jack')]\n",
    "df_filtrado.shape"
   ]
  },
  {
   "cell_type": "code",
<<<<<<< HEAD
   "execution_count": 15,
=======
   "execution_count": 12,
>>>>>>> d0272b0e971aa8c3e9bbbff7edc83af7e132fef5
   "metadata": {},
   "outputs": [
    {
     "data": {
      "text/html": [
       "<div>\n",
       "<style scoped>\n",
       "    .dataframe tbody tr th:only-of-type {\n",
       "        vertical-align: middle;\n",
       "    }\n",
       "\n",
       "    .dataframe tbody tr th {\n",
       "        vertical-align: top;\n",
       "    }\n",
       "\n",
       "    .dataframe thead th {\n",
       "        text-align: right;\n",
       "    }\n",
       "</style>\n",
       "<table border=\"1\" class=\"dataframe\">\n",
       "  <thead>\n",
       "    <tr style=\"text-align: right;\">\n",
       "      <th></th>\n",
       "      <th>IdPassageiro</th>\n",
       "      <th>Sobreviveu</th>\n",
       "      <th>Classe</th>\n",
       "      <th>Nome</th>\n",
       "      <th>Sexo</th>\n",
       "      <th>Idade</th>\n",
       "      <th>NumeroIrmaos</th>\n",
       "      <th>NumeroPais</th>\n",
       "      <th>NumeroTicket</th>\n",
       "      <th>PrecoTicket</th>\n",
       "      <th>NumeroCabine</th>\n",
       "      <th>PortoEmbarcacao</th>\n",
       "    </tr>\n",
       "  </thead>\n",
       "  <tbody>\n",
       "    <tr>\n",
<<<<<<< HEAD
       "      <th>59</th>\n",
       "      <td>60</td>\n",
       "      <td>0</td>\n",
       "      <td>3</td>\n",
       "      <td>Goodwin, Master. William Frederick</td>\n",
       "      <td>male</td>\n",
       "      <td>11.0</td>\n",
       "      <td>5</td>\n",
       "      <td>2</td>\n",
       "      <td>CA 2144</td>\n",
       "      <td>46.9</td>\n",
       "      <td>NaN</td>\n",
       "      <td>S</td>\n",
       "    </tr>\n",
       "    <tr>\n",
       "      <th>71</th>\n",
       "      <td>72</td>\n",
       "      <td>0</td>\n",
       "      <td>3</td>\n",
       "      <td>Goodwin, Miss. Lillian Amy</td>\n",
       "      <td>female</td>\n",
       "      <td>16.0</td>\n",
       "      <td>5</td>\n",
       "      <td>2</td>\n",
       "      <td>CA 2144</td>\n",
       "      <td>46.9</td>\n",
       "      <td>NaN</td>\n",
       "      <td>S</td>\n",
       "    </tr>\n",
       "    <tr>\n",
       "      <th>386</th>\n",
       "      <td>387</td>\n",
       "      <td>0</td>\n",
       "      <td>3</td>\n",
       "      <td>Goodwin, Master. Sidney Leonard</td>\n",
       "      <td>male</td>\n",
       "      <td>1.0</td>\n",
       "      <td>5</td>\n",
       "      <td>2</td>\n",
       "      <td>CA 2144</td>\n",
       "      <td>46.9</td>\n",
       "      <td>NaN</td>\n",
       "      <td>S</td>\n",
       "    </tr>\n",
       "    <tr>\n",
       "      <th>480</th>\n",
       "      <td>481</td>\n",
       "      <td>0</td>\n",
       "      <td>3</td>\n",
       "      <td>Goodwin, Master. Harold Victor</td>\n",
       "      <td>male</td>\n",
       "      <td>9.0</td>\n",
       "      <td>5</td>\n",
       "      <td>2</td>\n",
       "      <td>CA 2144</td>\n",
       "      <td>46.9</td>\n",
       "      <td>NaN</td>\n",
       "      <td>S</td>\n",
       "    </tr>\n",
       "    <tr>\n",
       "      <th>678</th>\n",
       "      <td>679</td>\n",
       "      <td>0</td>\n",
       "      <td>3</td>\n",
       "      <td>Goodwin, Mrs. Frederick (Augusta Tyler)</td>\n",
       "      <td>female</td>\n",
       "      <td>43.0</td>\n",
       "      <td>1</td>\n",
       "      <td>6</td>\n",
       "      <td>CA 2144</td>\n",
       "      <td>46.9</td>\n",
       "      <td>NaN</td>\n",
       "      <td>S</td>\n",
       "    </tr>\n",
       "    <tr>\n",
       "      <th>683</th>\n",
       "      <td>684</td>\n",
       "      <td>0</td>\n",
       "      <td>3</td>\n",
       "      <td>Goodwin, Mr. Charles Edward</td>\n",
       "      <td>male</td>\n",
       "      <td>14.0</td>\n",
       "      <td>5</td>\n",
       "      <td>2</td>\n",
       "      <td>CA 2144</td>\n",
       "      <td>46.9</td>\n",
       "      <td>NaN</td>\n",
       "      <td>S</td>\n",
=======
       "      <th>766</th>\n",
       "      <td>767</td>\n",
       "      <td>0</td>\n",
       "      <td>1</td>\n",
       "      <td>Brewe, Dr. Arthur Jackson</td>\n",
       "      <td>male</td>\n",
       "      <td>NaN</td>\n",
       "      <td>0</td>\n",
       "      <td>0</td>\n",
       "      <td>112379</td>\n",
       "      <td>39.6</td>\n",
       "      <td>NaN</td>\n",
       "      <td>C</td>\n",
>>>>>>> d0272b0e971aa8c3e9bbbff7edc83af7e132fef5
       "    </tr>\n",
       "  </tbody>\n",
       "</table>\n",
       "</div>"
      ],
      "text/plain": [
<<<<<<< HEAD
       "     IdPassageiro  Sobreviveu  Classe  \\\n",
       "59             60           0       3   \n",
       "71             72           0       3   \n",
       "386           387           0       3   \n",
       "480           481           0       3   \n",
       "678           679           0       3   \n",
       "683           684           0       3   \n",
       "\n",
       "                                        Nome    Sexo  Idade  NumeroIrmaos  \\\n",
       "59        Goodwin, Master. William Frederick    male   11.0             5   \n",
       "71                Goodwin, Miss. Lillian Amy  female   16.0             5   \n",
       "386          Goodwin, Master. Sidney Leonard    male    1.0             5   \n",
       "480           Goodwin, Master. Harold Victor    male    9.0             5   \n",
       "678  Goodwin, Mrs. Frederick (Augusta Tyler)  female   43.0             1   \n",
       "683              Goodwin, Mr. Charles Edward    male   14.0             5   \n",
       "\n",
       "     NumeroPais NumeroTicket  PrecoTicket NumeroCabine PortoEmbarcacao  \n",
       "59            2      CA 2144         46.9          NaN               S  \n",
       "71            2      CA 2144         46.9          NaN               S  \n",
       "386           2      CA 2144         46.9          NaN               S  \n",
       "480           2      CA 2144         46.9          NaN               S  \n",
       "678           6      CA 2144         46.9          NaN               S  \n",
       "683           2      CA 2144         46.9          NaN               S  "
      ]
     },
     "execution_count": 15,
=======
       "     IdPassageiro  Sobreviveu  Classe                       Nome  Sexo  Idade  \\\n",
       "766           767           0       1  Brewe, Dr. Arthur Jackson  male    NaN   \n",
       "\n",
       "     NumeroIrmaos  NumeroPais NumeroTicket  PrecoTicket NumeroCabine  \\\n",
       "766             0           0       112379         39.6          NaN   \n",
       "\n",
       "    PortoEmbarcacao  \n",
       "766               C  "
      ]
     },
     "execution_count": 12,
>>>>>>> d0272b0e971aa8c3e9bbbff7edc83af7e132fef5
     "metadata": {},
     "output_type": "execute_result"
    }
   ],
   "source": [
    "df_filtrado"
   ]
  },
  {
   "cell_type": "code",
<<<<<<< HEAD
   "execution_count": 16,
=======
   "execution_count": 13,
>>>>>>> d0272b0e971aa8c3e9bbbff7edc83af7e132fef5
   "metadata": {
    "id": "ODR1BQRyS_my",
    "outputId": "a2289b09-9eb0-460f-da3b-265bfaf400fb"
   },
   "outputs": [
    {
     "data": {
<<<<<<< HEAD
      "text/html": [
       "<div>\n",
       "<style scoped>\n",
       "    .dataframe tbody tr th:only-of-type {\n",
       "        vertical-align: middle;\n",
       "    }\n",
       "\n",
       "    .dataframe tbody tr th {\n",
       "        vertical-align: top;\n",
       "    }\n",
       "\n",
       "    .dataframe thead th {\n",
       "        text-align: right;\n",
       "    }\n",
       "</style>\n",
       "<table border=\"1\" class=\"dataframe\">\n",
       "  <thead>\n",
       "    <tr style=\"text-align: right;\">\n",
       "      <th></th>\n",
       "      <th>IdPassageiro</th>\n",
       "      <th>Sobreviveu</th>\n",
       "      <th>Classe</th>\n",
       "      <th>Nome</th>\n",
       "      <th>Sexo</th>\n",
       "      <th>Idade</th>\n",
       "      <th>NumeroIrmaos</th>\n",
       "      <th>NumeroPais</th>\n",
       "      <th>NumeroTicket</th>\n",
       "      <th>PrecoTicket</th>\n",
       "      <th>NumeroCabine</th>\n",
       "      <th>PortoEmbarcacao</th>\n",
       "    </tr>\n",
       "  </thead>\n",
       "  <tbody>\n",
       "    <tr>\n",
       "      <th>5</th>\n",
       "      <td>6</td>\n",
       "      <td>0</td>\n",
       "      <td>3</td>\n",
       "      <td>Moran, Mr. James</td>\n",
       "      <td>male</td>\n",
       "      <td>NaN</td>\n",
       "      <td>0</td>\n",
       "      <td>0</td>\n",
       "      <td>330877</td>\n",
       "      <td>8.4583</td>\n",
       "      <td>NaN</td>\n",
       "      <td>Q</td>\n",
       "    </tr>\n",
       "    <tr>\n",
       "      <th>16</th>\n",
       "      <td>17</td>\n",
       "      <td>0</td>\n",
       "      <td>3</td>\n",
       "      <td>Rice, Master. Eugene</td>\n",
       "      <td>male</td>\n",
       "      <td>2.0</td>\n",
       "      <td>4</td>\n",
       "      <td>1</td>\n",
       "      <td>382652</td>\n",
       "      <td>29.1250</td>\n",
       "      <td>NaN</td>\n",
       "      <td>Q</td>\n",
       "    </tr>\n",
       "    <tr>\n",
       "      <th>22</th>\n",
       "      <td>23</td>\n",
       "      <td>1</td>\n",
       "      <td>3</td>\n",
       "      <td>McGowan, Miss. Anna \"Annie\"</td>\n",
       "      <td>female</td>\n",
       "      <td>15.0</td>\n",
       "      <td>0</td>\n",
       "      <td>0</td>\n",
       "      <td>330923</td>\n",
       "      <td>8.0292</td>\n",
       "      <td>NaN</td>\n",
       "      <td>Q</td>\n",
       "    </tr>\n",
       "    <tr>\n",
       "      <th>28</th>\n",
       "      <td>29</td>\n",
       "      <td>1</td>\n",
       "      <td>3</td>\n",
       "      <td>O'Dwyer, Miss. Ellen \"Nellie\"</td>\n",
       "      <td>female</td>\n",
       "      <td>NaN</td>\n",
       "      <td>0</td>\n",
       "      <td>0</td>\n",
       "      <td>330959</td>\n",
       "      <td>7.8792</td>\n",
       "      <td>NaN</td>\n",
       "      <td>Q</td>\n",
       "    </tr>\n",
       "    <tr>\n",
       "      <th>32</th>\n",
       "      <td>33</td>\n",
       "      <td>1</td>\n",
       "      <td>3</td>\n",
       "      <td>Glynn, Miss. Mary Agatha</td>\n",
       "      <td>female</td>\n",
       "      <td>NaN</td>\n",
       "      <td>0</td>\n",
       "      <td>0</td>\n",
       "      <td>335677</td>\n",
       "      <td>7.7500</td>\n",
       "      <td>NaN</td>\n",
       "      <td>Q</td>\n",
       "    </tr>\n",
       "  </tbody>\n",
       "</table>\n",
       "</div>"
      ],
      "text/plain": [
       "    IdPassageiro  Sobreviveu  Classe                           Nome    Sexo  \\\n",
       "5              6           0       3               Moran, Mr. James    male   \n",
       "16            17           0       3           Rice, Master. Eugene    male   \n",
       "22            23           1       3    McGowan, Miss. Anna \"Annie\"  female   \n",
       "28            29           1       3  O'Dwyer, Miss. Ellen \"Nellie\"  female   \n",
       "32            33           1       3       Glynn, Miss. Mary Agatha  female   \n",
       "\n",
       "    Idade  NumeroIrmaos  NumeroPais NumeroTicket  PrecoTicket NumeroCabine  \\\n",
       "5     NaN             0           0       330877       8.4583          NaN   \n",
       "16    2.0             4           1       382652      29.1250          NaN   \n",
       "22   15.0             0           0       330923       8.0292          NaN   \n",
       "28    NaN             0           0       330959       7.8792          NaN   \n",
       "32    NaN             0           0       335677       7.7500          NaN   \n",
       "\n",
       "   PortoEmbarcacao  \n",
       "5                Q  \n",
       "16               Q  \n",
       "22               Q  \n",
       "28               Q  \n",
       "32               Q  "
      ]
     },
     "execution_count": 16,
=======
      "text/plain": [
       "(77, 12)"
      ]
     },
     "execution_count": 13,
>>>>>>> d0272b0e971aa8c3e9bbbff7edc83af7e132fef5
     "metadata": {},
     "output_type": "execute_result"
    }
   ],
   "source": [
    "# Por último, utilizando a função isin()\n",
    "df_filtrado = df[df['PortoEmbarcacao'].isin(['Q'])]\n",
    "df_filtrado.shape"
   ]
  },
  {
   "cell_type": "markdown",
   "metadata": {
    "id": "8gULcYPzS_mz"
   },
   "source": [
    "### Consultas e filtros\n",
    "### Consultas\n",
    "\n",
    "Pandas também possui a função query(), que realiza consultas no DataFrame através de uma expressão booleana (T/F).\n",
    "\n",
    "**Docs**: [https://pandas.pydata.org/docs/reference/api/pandas.DataFrame.query.html]"
   ]
  },
  {
   "cell_type": "code",
<<<<<<< HEAD
   "execution_count": 22,
=======
   "execution_count": 14,
>>>>>>> d0272b0e971aa8c3e9bbbff7edc83af7e132fef5
   "metadata": {
    "id": "W-Ktv45VS_mz",
    "outputId": "00f9464e-df1b-4cd2-c0b3-30eac23016f1"
   },
   "outputs": [
    {
     "data": {
      "text/plain": [
       "(491, 12)"
      ]
     },
<<<<<<< HEAD
     "execution_count": 22,
=======
     "execution_count": 14,
>>>>>>> d0272b0e971aa8c3e9bbbff7edc83af7e132fef5
     "metadata": {},
     "output_type": "execute_result"
    }
   ],
   "source": [
    "# Para ilustrar essa função, vamos procurar por pessoas que estavam na classe 3:\n",
    "df_consulta = df.query(\"Classe == 3\")\n",
    "df_consulta.shape\n"
   ]
  },
  {
   "cell_type": "code",
<<<<<<< HEAD
   "execution_count": 23,
=======
   "execution_count": 15,
>>>>>>> d0272b0e971aa8c3e9bbbff7edc83af7e132fef5
   "metadata": {
    "id": "uVSmQ1zeS_mz",
    "outputId": "555cf64e-c5a6-4b3d-d69a-89fb77dd1012"
   },
   "outputs": [
    {
     "data": {
      "text/plain": [
       "(707, 12)"
      ]
     },
<<<<<<< HEAD
     "execution_count": 23,
=======
     "execution_count": 15,
>>>>>>> d0272b0e971aa8c3e9bbbff7edc83af7e132fef5
     "metadata": {},
     "output_type": "execute_result"
    }
   ],
   "source": [
    "# A função query também pode ser utilizada para filtrar baseada em uma lista de valores\n",
<<<<<<< HEAD
    "df_consulta = df.query(\"Classe in (1,3)\")\n",
=======
    "df_consulta = df.query(\"Classe in (1, 3)\")\n",
>>>>>>> d0272b0e971aa8c3e9bbbff7edc83af7e132fef5
    "df_consulta.shape"
   ]
  },
  {
   "cell_type": "markdown",
   "metadata": {
    "id": "zu1HgPXrS_m0"
   },
   "source": [
    "### Relembrar Slicing e introduzir conceitos de loc e iloc:\n",
    "\n",
    "### Slicing: obter apenas uma parte do dataset\n"
   ]
  },
  {
   "cell_type": "code",
<<<<<<< HEAD
   "execution_count": 24,
=======
   "execution_count": 16,
>>>>>>> d0272b0e971aa8c3e9bbbff7edc83af7e132fef5
   "metadata": {
    "id": "H3dlaegrS_m0",
    "outputId": "1c7ad974-196c-40db-8eb7-fa78f65ff480"
   },
   "outputs": [
    {
     "data": {
      "text/html": [
       "<div>\n",
       "<style scoped>\n",
       "    .dataframe tbody tr th:only-of-type {\n",
       "        vertical-align: middle;\n",
       "    }\n",
       "\n",
       "    .dataframe tbody tr th {\n",
       "        vertical-align: top;\n",
       "    }\n",
       "\n",
       "    .dataframe thead th {\n",
       "        text-align: right;\n",
       "    }\n",
       "</style>\n",
       "<table border=\"1\" class=\"dataframe\">\n",
       "  <thead>\n",
       "    <tr style=\"text-align: right;\">\n",
       "      <th></th>\n",
       "      <th>IdPassageiro</th>\n",
       "      <th>Sobreviveu</th>\n",
       "      <th>Classe</th>\n",
       "      <th>Nome</th>\n",
       "      <th>Sexo</th>\n",
       "      <th>Idade</th>\n",
       "      <th>NumeroIrmaos</th>\n",
       "      <th>NumeroPais</th>\n",
       "      <th>NumeroTicket</th>\n",
       "      <th>PrecoTicket</th>\n",
       "      <th>NumeroCabine</th>\n",
       "      <th>PortoEmbarcacao</th>\n",
       "    </tr>\n",
       "  </thead>\n",
       "  <tbody>\n",
       "    <tr>\n",
       "      <th>0</th>\n",
       "      <td>1</td>\n",
       "      <td>0</td>\n",
       "      <td>3</td>\n",
       "      <td>Braund, Mr. Owen Harris</td>\n",
       "      <td>male</td>\n",
       "      <td>22.0</td>\n",
       "      <td>1</td>\n",
       "      <td>0</td>\n",
       "      <td>A/5 21171</td>\n",
       "      <td>7.2500</td>\n",
       "      <td>NaN</td>\n",
       "      <td>S</td>\n",
       "    </tr>\n",
       "    <tr>\n",
       "      <th>1</th>\n",
       "      <td>2</td>\n",
       "      <td>1</td>\n",
       "      <td>1</td>\n",
       "      <td>Cumings, Mrs. John Bradley (Florence Briggs Th...</td>\n",
       "      <td>female</td>\n",
       "      <td>38.0</td>\n",
       "      <td>1</td>\n",
       "      <td>0</td>\n",
       "      <td>PC 17599</td>\n",
       "      <td>71.2833</td>\n",
       "      <td>C85</td>\n",
       "      <td>C</td>\n",
       "    </tr>\n",
       "    <tr>\n",
       "      <th>2</th>\n",
       "      <td>3</td>\n",
       "      <td>1</td>\n",
       "      <td>3</td>\n",
       "      <td>Heikkinen, Miss. Laina</td>\n",
       "      <td>female</td>\n",
       "      <td>26.0</td>\n",
       "      <td>0</td>\n",
       "      <td>0</td>\n",
       "      <td>STON/O2. 3101282</td>\n",
       "      <td>7.9250</td>\n",
       "      <td>NaN</td>\n",
       "      <td>S</td>\n",
       "    </tr>\n",
       "    <tr>\n",
       "      <th>3</th>\n",
       "      <td>4</td>\n",
       "      <td>1</td>\n",
       "      <td>1</td>\n",
       "      <td>Futrelle, Mrs. Jacques Heath (Lily May Peel)</td>\n",
       "      <td>female</td>\n",
       "      <td>35.0</td>\n",
       "      <td>1</td>\n",
       "      <td>0</td>\n",
       "      <td>113803</td>\n",
       "      <td>53.1000</td>\n",
       "      <td>C123</td>\n",
       "      <td>S</td>\n",
       "    </tr>\n",
       "    <tr>\n",
       "      <th>4</th>\n",
       "      <td>5</td>\n",
       "      <td>0</td>\n",
       "      <td>3</td>\n",
       "      <td>Allen, Mr. William Henry</td>\n",
       "      <td>male</td>\n",
       "      <td>35.0</td>\n",
       "      <td>0</td>\n",
       "      <td>0</td>\n",
       "      <td>373450</td>\n",
       "      <td>8.0500</td>\n",
       "      <td>NaN</td>\n",
       "      <td>S</td>\n",
       "    </tr>\n",
       "  </tbody>\n",
       "</table>\n",
       "</div>"
      ],
      "text/plain": [
       "   IdPassageiro  Sobreviveu  Classe  \\\n",
       "0             1           0       3   \n",
       "1             2           1       1   \n",
       "2             3           1       3   \n",
       "3             4           1       1   \n",
       "4             5           0       3   \n",
       "\n",
       "                                                Nome    Sexo  Idade  \\\n",
       "0                            Braund, Mr. Owen Harris    male   22.0   \n",
       "1  Cumings, Mrs. John Bradley (Florence Briggs Th...  female   38.0   \n",
       "2                             Heikkinen, Miss. Laina  female   26.0   \n",
       "3       Futrelle, Mrs. Jacques Heath (Lily May Peel)  female   35.0   \n",
       "4                           Allen, Mr. William Henry    male   35.0   \n",
       "\n",
       "   NumeroIrmaos  NumeroPais      NumeroTicket  PrecoTicket NumeroCabine  \\\n",
       "0             1           0         A/5 21171       7.2500          NaN   \n",
       "1             1           0          PC 17599      71.2833          C85   \n",
       "2             0           0  STON/O2. 3101282       7.9250          NaN   \n",
       "3             1           0            113803      53.1000         C123   \n",
       "4             0           0            373450       8.0500          NaN   \n",
       "\n",
       "  PortoEmbarcacao  \n",
       "0               S  \n",
       "1               C  \n",
       "2               S  \n",
       "3               S  \n",
       "4               S  "
      ]
     },
<<<<<<< HEAD
     "execution_count": 24,
=======
     "execution_count": 16,
>>>>>>> d0272b0e971aa8c3e9bbbff7edc83af7e132fef5
     "metadata": {},
     "output_type": "execute_result"
    }
   ],
   "source": [
    "# fatiando valores\n",
    "df[:5]"
   ]
  },
  {
   "cell_type": "markdown",
   "metadata": {
    "id": "41Zgqt2FS_m3"
   },
   "source": [
    "#### LOC e ILOC\n",
    "\n",
    "**loc**: Filtra informações no Dataframe\n",
    "\n",
    "```Python\n",
    "df.loc[linhas,colunas]\n",
    "```"
   ]
  },
  {
   "cell_type": "code",
<<<<<<< HEAD
   "execution_count": 25,
=======
   "execution_count": 17,
>>>>>>> d0272b0e971aa8c3e9bbbff7edc83af7e132fef5
   "metadata": {
    "id": "cr5Lt68uS_m4",
    "outputId": "8786bf85-9a78-4ff2-a2e5-12a514640843"
   },
   "outputs": [
    {
     "data": {
      "text/html": [
       "<div>\n",
       "<style scoped>\n",
       "    .dataframe tbody tr th:only-of-type {\n",
       "        vertical-align: middle;\n",
       "    }\n",
       "\n",
       "    .dataframe tbody tr th {\n",
       "        vertical-align: top;\n",
       "    }\n",
       "\n",
       "    .dataframe thead th {\n",
       "        text-align: right;\n",
       "    }\n",
       "</style>\n",
       "<table border=\"1\" class=\"dataframe\">\n",
       "  <thead>\n",
       "    <tr style=\"text-align: right;\">\n",
       "      <th></th>\n",
       "      <th>Sobreviveu</th>\n",
       "      <th>Idade</th>\n",
       "    </tr>\n",
       "  </thead>\n",
       "  <tbody>\n",
       "    <tr>\n",
       "      <th>0</th>\n",
       "      <td>0</td>\n",
       "      <td>22.0</td>\n",
       "    </tr>\n",
       "    <tr>\n",
       "      <th>1</th>\n",
       "      <td>1</td>\n",
       "      <td>38.0</td>\n",
       "    </tr>\n",
       "    <tr>\n",
       "      <th>2</th>\n",
       "      <td>1</td>\n",
       "      <td>26.0</td>\n",
       "    </tr>\n",
       "    <tr>\n",
       "      <th>3</th>\n",
       "      <td>1</td>\n",
       "      <td>35.0</td>\n",
       "    </tr>\n",
       "    <tr>\n",
       "      <th>4</th>\n",
       "      <td>0</td>\n",
       "      <td>35.0</td>\n",
       "    </tr>\n",
       "    <tr>\n",
       "      <th>...</th>\n",
       "      <td>...</td>\n",
       "      <td>...</td>\n",
       "    </tr>\n",
       "    <tr>\n",
       "      <th>886</th>\n",
       "      <td>0</td>\n",
       "      <td>27.0</td>\n",
       "    </tr>\n",
       "    <tr>\n",
       "      <th>887</th>\n",
       "      <td>1</td>\n",
       "      <td>19.0</td>\n",
       "    </tr>\n",
       "    <tr>\n",
       "      <th>888</th>\n",
       "      <td>0</td>\n",
       "      <td>NaN</td>\n",
       "    </tr>\n",
       "    <tr>\n",
       "      <th>889</th>\n",
       "      <td>1</td>\n",
       "      <td>26.0</td>\n",
       "    </tr>\n",
       "    <tr>\n",
       "      <th>890</th>\n",
       "      <td>0</td>\n",
       "      <td>32.0</td>\n",
       "    </tr>\n",
       "  </tbody>\n",
       "</table>\n",
       "<p>891 rows × 2 columns</p>\n",
       "</div>"
      ],
      "text/plain": [
       "     Sobreviveu  Idade\n",
       "0             0   22.0\n",
       "1             1   38.0\n",
       "2             1   26.0\n",
       "3             1   35.0\n",
       "4             0   35.0\n",
       "..          ...    ...\n",
       "886           0   27.0\n",
       "887           1   19.0\n",
       "888           0    NaN\n",
       "889           1   26.0\n",
       "890           0   32.0\n",
       "\n",
       "[891 rows x 2 columns]"
      ]
     },
<<<<<<< HEAD
     "execution_count": 25,
=======
     "execution_count": 17,
>>>>>>> d0272b0e971aa8c3e9bbbff7edc83af7e132fef5
     "metadata": {},
     "output_type": "execute_result"
    }
   ],
   "source": [
    "df_loc = df.loc[:, [\"Sobreviveu\", \"Idade\"]]\n",
    "df_loc"
   ]
  },
  {
   "cell_type": "markdown",
   "metadata": {
    "id": "VDSt5vAgS_m4"
   },
   "source": [
    "   \n",
    "**iloc**: Funciona de maneira similar, porém função iloc seleciona linhas e colunas por seus índices.\n",
    "\n",
    "```Python\n",
    "df.iloc[linhas, colunas]\n",
    "```"
   ]
  },
  {
   "cell_type": "code",
<<<<<<< HEAD
   "execution_count": 26,
=======
   "execution_count": 18,
>>>>>>> d0272b0e971aa8c3e9bbbff7edc83af7e132fef5
   "metadata": {
    "id": "NzQE8tnOS_m4",
    "outputId": "7e798f09-5b8e-4561-d1ab-bc2b460fd619"
   },
   "outputs": [
    {
     "data": {
      "text/html": [
       "<div>\n",
       "<style scoped>\n",
       "    .dataframe tbody tr th:only-of-type {\n",
       "        vertical-align: middle;\n",
       "    }\n",
       "\n",
       "    .dataframe tbody tr th {\n",
       "        vertical-align: top;\n",
       "    }\n",
       "\n",
       "    .dataframe thead th {\n",
       "        text-align: right;\n",
       "    }\n",
       "</style>\n",
       "<table border=\"1\" class=\"dataframe\">\n",
       "  <thead>\n",
       "    <tr style=\"text-align: right;\">\n",
       "      <th></th>\n",
       "      <th>IdPassageiro</th>\n",
       "      <th>Sobreviveu</th>\n",
       "    </tr>\n",
       "  </thead>\n",
       "  <tbody>\n",
       "    <tr>\n",
       "      <th>0</th>\n",
       "      <td>1</td>\n",
       "      <td>0</td>\n",
       "    </tr>\n",
       "    <tr>\n",
       "      <th>1</th>\n",
       "      <td>2</td>\n",
       "      <td>1</td>\n",
       "    </tr>\n",
       "    <tr>\n",
       "      <th>2</th>\n",
       "      <td>3</td>\n",
       "      <td>1</td>\n",
       "    </tr>\n",
       "    <tr>\n",
       "      <th>3</th>\n",
       "      <td>4</td>\n",
       "      <td>1</td>\n",
       "    </tr>\n",
       "    <tr>\n",
       "      <th>4</th>\n",
       "      <td>5</td>\n",
       "      <td>0</td>\n",
       "    </tr>\n",
       "    <tr>\n",
       "      <th>...</th>\n",
       "      <td>...</td>\n",
       "      <td>...</td>\n",
       "    </tr>\n",
       "    <tr>\n",
       "      <th>886</th>\n",
       "      <td>887</td>\n",
       "      <td>0</td>\n",
       "    </tr>\n",
       "    <tr>\n",
       "      <th>887</th>\n",
       "      <td>888</td>\n",
       "      <td>1</td>\n",
       "    </tr>\n",
       "    <tr>\n",
       "      <th>888</th>\n",
       "      <td>889</td>\n",
       "      <td>0</td>\n",
       "    </tr>\n",
       "    <tr>\n",
       "      <th>889</th>\n",
       "      <td>890</td>\n",
       "      <td>1</td>\n",
       "    </tr>\n",
       "    <tr>\n",
       "      <th>890</th>\n",
       "      <td>891</td>\n",
       "      <td>0</td>\n",
       "    </tr>\n",
       "  </tbody>\n",
       "</table>\n",
       "<p>891 rows × 2 columns</p>\n",
       "</div>"
      ],
      "text/plain": [
       "     IdPassageiro  Sobreviveu\n",
       "0               1           0\n",
       "1               2           1\n",
       "2               3           1\n",
       "3               4           1\n",
       "4               5           0\n",
       "..            ...         ...\n",
       "886           887           0\n",
       "887           888           1\n",
       "888           889           0\n",
       "889           890           1\n",
       "890           891           0\n",
       "\n",
       "[891 rows x 2 columns]"
      ]
     },
<<<<<<< HEAD
     "execution_count": 26,
=======
     "execution_count": 18,
>>>>>>> d0272b0e971aa8c3e9bbbff7edc83af7e132fef5
     "metadata": {},
     "output_type": "execute_result"
    }
   ],
   "source": [
    "df.iloc[:, [0,1]]"
   ]
  },
  {
   "cell_type": "code",
<<<<<<< HEAD
   "execution_count": 27,
=======
   "execution_count": 19,
>>>>>>> d0272b0e971aa8c3e9bbbff7edc83af7e132fef5
   "metadata": {
    "id": "PSjsxwSuS_m4",
    "outputId": "cb5f5ab9-92b9-4de7-f718-90515d59ab14"
   },
   "outputs": [
    {
     "data": {
      "text/html": [
       "<div>\n",
       "<style scoped>\n",
       "    .dataframe tbody tr th:only-of-type {\n",
       "        vertical-align: middle;\n",
       "    }\n",
       "\n",
       "    .dataframe tbody tr th {\n",
       "        vertical-align: top;\n",
       "    }\n",
       "\n",
       "    .dataframe thead th {\n",
       "        text-align: right;\n",
       "    }\n",
       "</style>\n",
       "<table border=\"1\" class=\"dataframe\">\n",
       "  <thead>\n",
       "    <tr style=\"text-align: right;\">\n",
       "      <th></th>\n",
       "      <th>IdPassageiro</th>\n",
       "      <th>Sobreviveu</th>\n",
       "      <th>Classe</th>\n",
       "      <th>Nome</th>\n",
       "      <th>Sexo</th>\n",
       "      <th>Idade</th>\n",
       "      <th>NumeroIrmaos</th>\n",
       "      <th>NumeroPais</th>\n",
       "      <th>NumeroTicket</th>\n",
       "      <th>PrecoTicket</th>\n",
       "      <th>NumeroCabine</th>\n",
       "      <th>PortoEmbarcacao</th>\n",
       "    </tr>\n",
       "  </thead>\n",
       "  <tbody>\n",
       "    <tr>\n",
<<<<<<< HEAD
       "      <th>0</th>\n",
       "      <td>1</td>\n",
       "      <td>0</td>\n",
       "      <td>3</td>\n",
       "      <td>Braund, Mr. Owen Harris</td>\n",
       "      <td>male</td>\n",
       "      <td>22.0</td>\n",
       "      <td>1</td>\n",
       "      <td>0</td>\n",
       "      <td>A/5 21171</td>\n",
       "      <td>7.2500</td>\n",
=======
       "      <th>10</th>\n",
       "      <td>11</td>\n",
       "      <td>1</td>\n",
       "      <td>3</td>\n",
       "      <td>Sandstrom, Miss. Marguerite Rut</td>\n",
       "      <td>female</td>\n",
       "      <td>4.0</td>\n",
       "      <td>1</td>\n",
       "      <td>1</td>\n",
       "      <td>PP 9549</td>\n",
       "      <td>16.7000</td>\n",
       "      <td>G6</td>\n",
       "      <td>S</td>\n",
       "    </tr>\n",
       "    <tr>\n",
       "      <th>11</th>\n",
       "      <td>12</td>\n",
       "      <td>1</td>\n",
       "      <td>1</td>\n",
       "      <td>Bonnell, Miss. Elizabeth</td>\n",
       "      <td>female</td>\n",
       "      <td>58.0</td>\n",
       "      <td>0</td>\n",
       "      <td>0</td>\n",
       "      <td>113783</td>\n",
       "      <td>26.5500</td>\n",
       "      <td>C103</td>\n",
       "      <td>S</td>\n",
       "    </tr>\n",
       "    <tr>\n",
       "      <th>12</th>\n",
       "      <td>13</td>\n",
       "      <td>0</td>\n",
       "      <td>3</td>\n",
       "      <td>Saundercock, Mr. William Henry</td>\n",
       "      <td>male</td>\n",
       "      <td>20.0</td>\n",
       "      <td>0</td>\n",
       "      <td>0</td>\n",
       "      <td>A/5. 2151</td>\n",
       "      <td>8.0500</td>\n",
>>>>>>> d0272b0e971aa8c3e9bbbff7edc83af7e132fef5
       "      <td>NaN</td>\n",
       "      <td>S</td>\n",
       "    </tr>\n",
       "    <tr>\n",
<<<<<<< HEAD
       "      <th>1</th>\n",
       "      <td>2</td>\n",
       "      <td>1</td>\n",
       "      <td>1</td>\n",
       "      <td>Cumings, Mrs. John Bradley (Florence Briggs Th...</td>\n",
       "      <td>female</td>\n",
       "      <td>38.0</td>\n",
       "      <td>1</td>\n",
       "      <td>0</td>\n",
       "      <td>PC 17599</td>\n",
       "      <td>71.2833</td>\n",
       "      <td>C85</td>\n",
       "      <td>C</td>\n",
=======
       "      <th>13</th>\n",
       "      <td>14</td>\n",
       "      <td>0</td>\n",
       "      <td>3</td>\n",
       "      <td>Andersson, Mr. Anders Johan</td>\n",
       "      <td>male</td>\n",
       "      <td>39.0</td>\n",
       "      <td>1</td>\n",
       "      <td>5</td>\n",
       "      <td>347082</td>\n",
       "      <td>31.2750</td>\n",
       "      <td>NaN</td>\n",
       "      <td>S</td>\n",
       "    </tr>\n",
       "    <tr>\n",
       "      <th>14</th>\n",
       "      <td>15</td>\n",
       "      <td>0</td>\n",
       "      <td>3</td>\n",
       "      <td>Vestrom, Miss. Hulda Amanda Adolfina</td>\n",
       "      <td>female</td>\n",
       "      <td>14.0</td>\n",
       "      <td>0</td>\n",
       "      <td>0</td>\n",
       "      <td>350406</td>\n",
       "      <td>7.8542</td>\n",
       "      <td>NaN</td>\n",
       "      <td>S</td>\n",
>>>>>>> d0272b0e971aa8c3e9bbbff7edc83af7e132fef5
       "    </tr>\n",
       "  </tbody>\n",
       "</table>\n",
       "</div>"
      ],
      "text/plain": [
<<<<<<< HEAD
       "   IdPassageiro  Sobreviveu  Classe  \\\n",
       "0             1           0       3   \n",
       "1             2           1       1   \n",
       "\n",
       "                                                Nome    Sexo  Idade  \\\n",
       "0                            Braund, Mr. Owen Harris    male   22.0   \n",
       "1  Cumings, Mrs. John Bradley (Florence Briggs Th...  female   38.0   \n",
       "\n",
       "   NumeroIrmaos  NumeroPais NumeroTicket  PrecoTicket NumeroCabine  \\\n",
       "0             1           0    A/5 21171       7.2500          NaN   \n",
       "1             1           0     PC 17599      71.2833          C85   \n",
       "\n",
       "  PortoEmbarcacao  \n",
       "0               S  \n",
       "1               C  "
      ]
     },
     "execution_count": 27,
=======
       "    IdPassageiro  Sobreviveu  Classe                                  Nome  \\\n",
       "10            11           1       3       Sandstrom, Miss. Marguerite Rut   \n",
       "11            12           1       1              Bonnell, Miss. Elizabeth   \n",
       "12            13           0       3        Saundercock, Mr. William Henry   \n",
       "13            14           0       3           Andersson, Mr. Anders Johan   \n",
       "14            15           0       3  Vestrom, Miss. Hulda Amanda Adolfina   \n",
       "\n",
       "      Sexo  Idade  NumeroIrmaos  NumeroPais NumeroTicket  PrecoTicket  \\\n",
       "10  female    4.0             1           1      PP 9549      16.7000   \n",
       "11  female   58.0             0           0       113783      26.5500   \n",
       "12    male   20.0             0           0    A/5. 2151       8.0500   \n",
       "13    male   39.0             1           5       347082      31.2750   \n",
       "14  female   14.0             0           0       350406       7.8542   \n",
       "\n",
       "   NumeroCabine PortoEmbarcacao  \n",
       "10           G6               S  \n",
       "11         C103               S  \n",
       "12          NaN               S  \n",
       "13          NaN               S  \n",
       "14          NaN               S  "
      ]
     },
     "execution_count": 19,
>>>>>>> d0272b0e971aa8c3e9bbbff7edc83af7e132fef5
     "metadata": {},
     "output_type": "execute_result"
    }
   ],
   "source": [
    "df.iloc[10:15, :]"
   ]
  },
  {
   "cell_type": "markdown",
   "metadata": {},
   "source": [
    "### Exercício 04 parte 01\n",
    "\n",
    "- Realizar filtro com apenas uma única condição;\n",
    "- Realizar filtro com múltiplas condições;\n",
    "- Selecionar entradas com string específica;\n",
    "- Realizar uma consulta passageiros da segunda e terceira classe;\n",
    "- Obter subamostra do dataset com 30 amostras utilizando o método de slicing;\n",
    "- Utilizar a função loc para obter a idade e sobrevivência do passageiro;\n"
   ]
  },
  {
   "cell_type": "code",
   "execution_count": 30,
   "metadata": {},
   "outputs": [
    {
     "data": {
      "text/plain": [
       "(62, 12)"
      ]
     },
     "execution_count": 30,
     "metadata": {},
     "output_type": "execute_result"
    }
   ],
   "source": [
    "# Filtro menores de 10 anos\n",
    "df_filtrado = df[df['Idade'] < 10]\n",
    "df_filtrado.shape"
   ]
  },
  {
   "cell_type": "code",
   "execution_count": 49,
   "metadata": {},
   "outputs": [
    {
     "data": {
      "text/plain": [
       "(19, 12)"
      ]
     },
     "execution_count": 49,
     "metadata": {},
     "output_type": "execute_result"
    }
   ],
   "source": [
    "# quantas criança menores de 10 anos sobreviveram\n",
    "df_filtrado = df[(df['Idade'] < 10) & (df['Sobreviveu'] == 1) & (df['Classe'] == 3)]\n",
    "df_filtrado.shape"
   ]
  },
  {
   "cell_type": "code",
   "execution_count": 37,
   "metadata": {},
   "outputs": [
    {
     "data": {
      "text/plain": [
       "(4, 12)"
      ]
     },
     "execution_count": 37,
     "metadata": {},
     "output_type": "execute_result"
    }
   ],
   "source": [
    "df_filtrado = df[df['Nome'].str.contains('Smith')]\n",
    "df_filtrado.shape"
   ]
  },
  {
   "cell_type": "code",
   "execution_count": 42,
   "metadata": {},
   "outputs": [
    {
     "data": {
      "text/plain": [
       "(675, 12)"
      ]
     },
     "execution_count": 42,
     "metadata": {},
     "output_type": "execute_result"
    }
   ],
   "source": [
    "df_consulta = df.query(\"Classe in (2,3)\")\n",
    "df_consulta.shape"
   ]
  },
  {
   "cell_type": "code",
   "execution_count": 50,
   "metadata": {},
   "outputs": [
    {
     "data": {
      "text/html": [
       "<div>\n",
       "<style scoped>\n",
       "    .dataframe tbody tr th:only-of-type {\n",
       "        vertical-align: middle;\n",
       "    }\n",
       "\n",
       "    .dataframe tbody tr th {\n",
       "        vertical-align: top;\n",
       "    }\n",
       "\n",
       "    .dataframe thead th {\n",
       "        text-align: right;\n",
       "    }\n",
       "</style>\n",
       "<table border=\"1\" class=\"dataframe\">\n",
       "  <thead>\n",
       "    <tr style=\"text-align: right;\">\n",
       "      <th></th>\n",
       "      <th>IdPassageiro</th>\n",
       "      <th>Sobreviveu</th>\n",
       "      <th>Classe</th>\n",
       "      <th>Nome</th>\n",
       "      <th>Sexo</th>\n",
       "      <th>Idade</th>\n",
       "      <th>NumeroIrmaos</th>\n",
       "      <th>NumeroPais</th>\n",
       "      <th>NumeroTicket</th>\n",
       "      <th>PrecoTicket</th>\n",
       "      <th>NumeroCabine</th>\n",
       "      <th>PortoEmbarcacao</th>\n",
       "    </tr>\n",
       "  </thead>\n",
       "  <tbody>\n",
       "    <tr>\n",
       "      <th>0</th>\n",
       "      <td>1</td>\n",
       "      <td>0</td>\n",
       "      <td>3</td>\n",
       "      <td>Braund, Mr. Owen Harris</td>\n",
       "      <td>male</td>\n",
       "      <td>22.0</td>\n",
       "      <td>1</td>\n",
       "      <td>0</td>\n",
       "      <td>A/5 21171</td>\n",
       "      <td>7.2500</td>\n",
       "      <td>NaN</td>\n",
       "      <td>S</td>\n",
       "    </tr>\n",
       "    <tr>\n",
       "      <th>1</th>\n",
       "      <td>2</td>\n",
       "      <td>1</td>\n",
       "      <td>1</td>\n",
       "      <td>Cumings, Mrs. John Bradley (Florence Briggs Th...</td>\n",
       "      <td>female</td>\n",
       "      <td>38.0</td>\n",
       "      <td>1</td>\n",
       "      <td>0</td>\n",
       "      <td>PC 17599</td>\n",
       "      <td>71.2833</td>\n",
       "      <td>C85</td>\n",
       "      <td>C</td>\n",
       "    </tr>\n",
       "    <tr>\n",
       "      <th>2</th>\n",
       "      <td>3</td>\n",
       "      <td>1</td>\n",
       "      <td>3</td>\n",
       "      <td>Heikkinen, Miss. Laina</td>\n",
       "      <td>female</td>\n",
       "      <td>26.0</td>\n",
       "      <td>0</td>\n",
       "      <td>0</td>\n",
       "      <td>STON/O2. 3101282</td>\n",
       "      <td>7.9250</td>\n",
       "      <td>NaN</td>\n",
       "      <td>S</td>\n",
       "    </tr>\n",
       "    <tr>\n",
       "      <th>3</th>\n",
       "      <td>4</td>\n",
       "      <td>1</td>\n",
       "      <td>1</td>\n",
       "      <td>Futrelle, Mrs. Jacques Heath (Lily May Peel)</td>\n",
       "      <td>female</td>\n",
       "      <td>35.0</td>\n",
       "      <td>1</td>\n",
       "      <td>0</td>\n",
       "      <td>113803</td>\n",
       "      <td>53.1000</td>\n",
       "      <td>C123</td>\n",
       "      <td>S</td>\n",
       "    </tr>\n",
       "    <tr>\n",
       "      <th>4</th>\n",
       "      <td>5</td>\n",
       "      <td>0</td>\n",
       "      <td>3</td>\n",
       "      <td>Allen, Mr. William Henry</td>\n",
       "      <td>male</td>\n",
       "      <td>35.0</td>\n",
       "      <td>0</td>\n",
       "      <td>0</td>\n",
       "      <td>373450</td>\n",
       "      <td>8.0500</td>\n",
       "      <td>NaN</td>\n",
       "      <td>S</td>\n",
       "    </tr>\n",
       "    <tr>\n",
       "      <th>5</th>\n",
       "      <td>6</td>\n",
       "      <td>0</td>\n",
       "      <td>3</td>\n",
       "      <td>Moran, Mr. James</td>\n",
       "      <td>male</td>\n",
       "      <td>NaN</td>\n",
       "      <td>0</td>\n",
       "      <td>0</td>\n",
       "      <td>330877</td>\n",
       "      <td>8.4583</td>\n",
       "      <td>NaN</td>\n",
       "      <td>Q</td>\n",
       "    </tr>\n",
       "    <tr>\n",
       "      <th>6</th>\n",
       "      <td>7</td>\n",
       "      <td>0</td>\n",
       "      <td>1</td>\n",
       "      <td>McCarthy, Mr. Timothy J</td>\n",
       "      <td>male</td>\n",
       "      <td>54.0</td>\n",
       "      <td>0</td>\n",
       "      <td>0</td>\n",
       "      <td>17463</td>\n",
       "      <td>51.8625</td>\n",
       "      <td>E46</td>\n",
       "      <td>S</td>\n",
       "    </tr>\n",
       "    <tr>\n",
       "      <th>7</th>\n",
       "      <td>8</td>\n",
       "      <td>0</td>\n",
       "      <td>3</td>\n",
       "      <td>Palsson, Master. Gosta Leonard</td>\n",
       "      <td>male</td>\n",
       "      <td>2.0</td>\n",
       "      <td>3</td>\n",
       "      <td>1</td>\n",
       "      <td>349909</td>\n",
       "      <td>21.0750</td>\n",
       "      <td>NaN</td>\n",
       "      <td>S</td>\n",
       "    </tr>\n",
       "    <tr>\n",
       "      <th>8</th>\n",
       "      <td>9</td>\n",
       "      <td>1</td>\n",
       "      <td>3</td>\n",
       "      <td>Johnson, Mrs. Oscar W (Elisabeth Vilhelmina Berg)</td>\n",
       "      <td>female</td>\n",
       "      <td>27.0</td>\n",
       "      <td>0</td>\n",
       "      <td>2</td>\n",
       "      <td>347742</td>\n",
       "      <td>11.1333</td>\n",
       "      <td>NaN</td>\n",
       "      <td>S</td>\n",
       "    </tr>\n",
       "    <tr>\n",
       "      <th>9</th>\n",
       "      <td>10</td>\n",
       "      <td>1</td>\n",
       "      <td>2</td>\n",
       "      <td>Nasser, Mrs. Nicholas (Adele Achem)</td>\n",
       "      <td>female</td>\n",
       "      <td>14.0</td>\n",
       "      <td>1</td>\n",
       "      <td>0</td>\n",
       "      <td>237736</td>\n",
       "      <td>30.0708</td>\n",
       "      <td>NaN</td>\n",
       "      <td>C</td>\n",
       "    </tr>\n",
       "    <tr>\n",
       "      <th>10</th>\n",
       "      <td>11</td>\n",
       "      <td>1</td>\n",
       "      <td>3</td>\n",
       "      <td>Sandstrom, Miss. Marguerite Rut</td>\n",
       "      <td>female</td>\n",
       "      <td>4.0</td>\n",
       "      <td>1</td>\n",
       "      <td>1</td>\n",
       "      <td>PP 9549</td>\n",
       "      <td>16.7000</td>\n",
       "      <td>G6</td>\n",
       "      <td>S</td>\n",
       "    </tr>\n",
       "    <tr>\n",
       "      <th>11</th>\n",
       "      <td>12</td>\n",
       "      <td>1</td>\n",
       "      <td>1</td>\n",
       "      <td>Bonnell, Miss. Elizabeth</td>\n",
       "      <td>female</td>\n",
       "      <td>58.0</td>\n",
       "      <td>0</td>\n",
       "      <td>0</td>\n",
       "      <td>113783</td>\n",
       "      <td>26.5500</td>\n",
       "      <td>C103</td>\n",
       "      <td>S</td>\n",
       "    </tr>\n",
       "    <tr>\n",
       "      <th>12</th>\n",
       "      <td>13</td>\n",
       "      <td>0</td>\n",
       "      <td>3</td>\n",
       "      <td>Saundercock, Mr. William Henry</td>\n",
       "      <td>male</td>\n",
       "      <td>20.0</td>\n",
       "      <td>0</td>\n",
       "      <td>0</td>\n",
       "      <td>A/5. 2151</td>\n",
       "      <td>8.0500</td>\n",
       "      <td>NaN</td>\n",
       "      <td>S</td>\n",
       "    </tr>\n",
       "    <tr>\n",
       "      <th>13</th>\n",
       "      <td>14</td>\n",
       "      <td>0</td>\n",
       "      <td>3</td>\n",
       "      <td>Andersson, Mr. Anders Johan</td>\n",
       "      <td>male</td>\n",
       "      <td>39.0</td>\n",
       "      <td>1</td>\n",
       "      <td>5</td>\n",
       "      <td>347082</td>\n",
       "      <td>31.2750</td>\n",
       "      <td>NaN</td>\n",
       "      <td>S</td>\n",
       "    </tr>\n",
       "    <tr>\n",
       "      <th>14</th>\n",
       "      <td>15</td>\n",
       "      <td>0</td>\n",
       "      <td>3</td>\n",
       "      <td>Vestrom, Miss. Hulda Amanda Adolfina</td>\n",
       "      <td>female</td>\n",
       "      <td>14.0</td>\n",
       "      <td>0</td>\n",
       "      <td>0</td>\n",
       "      <td>350406</td>\n",
       "      <td>7.8542</td>\n",
       "      <td>NaN</td>\n",
       "      <td>S</td>\n",
       "    </tr>\n",
       "    <tr>\n",
       "      <th>15</th>\n",
       "      <td>16</td>\n",
       "      <td>1</td>\n",
       "      <td>2</td>\n",
       "      <td>Hewlett, Mrs. (Mary D Kingcome)</td>\n",
       "      <td>female</td>\n",
       "      <td>55.0</td>\n",
       "      <td>0</td>\n",
       "      <td>0</td>\n",
       "      <td>248706</td>\n",
       "      <td>16.0000</td>\n",
       "      <td>NaN</td>\n",
       "      <td>S</td>\n",
       "    </tr>\n",
       "    <tr>\n",
       "      <th>16</th>\n",
       "      <td>17</td>\n",
       "      <td>0</td>\n",
       "      <td>3</td>\n",
       "      <td>Rice, Master. Eugene</td>\n",
       "      <td>male</td>\n",
       "      <td>2.0</td>\n",
       "      <td>4</td>\n",
       "      <td>1</td>\n",
       "      <td>382652</td>\n",
       "      <td>29.1250</td>\n",
       "      <td>NaN</td>\n",
       "      <td>Q</td>\n",
       "    </tr>\n",
       "    <tr>\n",
       "      <th>17</th>\n",
       "      <td>18</td>\n",
       "      <td>1</td>\n",
       "      <td>2</td>\n",
       "      <td>Williams, Mr. Charles Eugene</td>\n",
       "      <td>male</td>\n",
       "      <td>NaN</td>\n",
       "      <td>0</td>\n",
       "      <td>0</td>\n",
       "      <td>244373</td>\n",
       "      <td>13.0000</td>\n",
       "      <td>NaN</td>\n",
       "      <td>S</td>\n",
       "    </tr>\n",
       "    <tr>\n",
       "      <th>18</th>\n",
       "      <td>19</td>\n",
       "      <td>0</td>\n",
       "      <td>3</td>\n",
       "      <td>Vander Planke, Mrs. Julius (Emelia Maria Vande...</td>\n",
       "      <td>female</td>\n",
       "      <td>31.0</td>\n",
       "      <td>1</td>\n",
       "      <td>0</td>\n",
       "      <td>345763</td>\n",
       "      <td>18.0000</td>\n",
       "      <td>NaN</td>\n",
       "      <td>S</td>\n",
       "    </tr>\n",
       "    <tr>\n",
       "      <th>19</th>\n",
       "      <td>20</td>\n",
       "      <td>1</td>\n",
       "      <td>3</td>\n",
       "      <td>Masselmani, Mrs. Fatima</td>\n",
       "      <td>female</td>\n",
       "      <td>NaN</td>\n",
       "      <td>0</td>\n",
       "      <td>0</td>\n",
       "      <td>2649</td>\n",
       "      <td>7.2250</td>\n",
       "      <td>NaN</td>\n",
       "      <td>C</td>\n",
       "    </tr>\n",
       "    <tr>\n",
       "      <th>20</th>\n",
       "      <td>21</td>\n",
       "      <td>0</td>\n",
       "      <td>2</td>\n",
       "      <td>Fynney, Mr. Joseph J</td>\n",
       "      <td>male</td>\n",
       "      <td>35.0</td>\n",
       "      <td>0</td>\n",
       "      <td>0</td>\n",
       "      <td>239865</td>\n",
       "      <td>26.0000</td>\n",
       "      <td>NaN</td>\n",
       "      <td>S</td>\n",
       "    </tr>\n",
       "    <tr>\n",
       "      <th>21</th>\n",
       "      <td>22</td>\n",
       "      <td>1</td>\n",
       "      <td>2</td>\n",
       "      <td>Beesley, Mr. Lawrence</td>\n",
       "      <td>male</td>\n",
       "      <td>34.0</td>\n",
       "      <td>0</td>\n",
       "      <td>0</td>\n",
       "      <td>248698</td>\n",
       "      <td>13.0000</td>\n",
       "      <td>D56</td>\n",
       "      <td>S</td>\n",
       "    </tr>\n",
       "    <tr>\n",
       "      <th>22</th>\n",
       "      <td>23</td>\n",
       "      <td>1</td>\n",
       "      <td>3</td>\n",
       "      <td>McGowan, Miss. Anna \"Annie\"</td>\n",
       "      <td>female</td>\n",
       "      <td>15.0</td>\n",
       "      <td>0</td>\n",
       "      <td>0</td>\n",
       "      <td>330923</td>\n",
       "      <td>8.0292</td>\n",
       "      <td>NaN</td>\n",
       "      <td>Q</td>\n",
       "    </tr>\n",
       "    <tr>\n",
       "      <th>23</th>\n",
       "      <td>24</td>\n",
       "      <td>1</td>\n",
       "      <td>1</td>\n",
       "      <td>Sloper, Mr. William Thompson</td>\n",
       "      <td>male</td>\n",
       "      <td>28.0</td>\n",
       "      <td>0</td>\n",
       "      <td>0</td>\n",
       "      <td>113788</td>\n",
       "      <td>35.5000</td>\n",
       "      <td>A6</td>\n",
       "      <td>S</td>\n",
       "    </tr>\n",
       "    <tr>\n",
       "      <th>24</th>\n",
       "      <td>25</td>\n",
       "      <td>0</td>\n",
       "      <td>3</td>\n",
       "      <td>Palsson, Miss. Torborg Danira</td>\n",
       "      <td>female</td>\n",
       "      <td>8.0</td>\n",
       "      <td>3</td>\n",
       "      <td>1</td>\n",
       "      <td>349909</td>\n",
       "      <td>21.0750</td>\n",
       "      <td>NaN</td>\n",
       "      <td>S</td>\n",
       "    </tr>\n",
       "    <tr>\n",
       "      <th>25</th>\n",
       "      <td>26</td>\n",
       "      <td>1</td>\n",
       "      <td>3</td>\n",
       "      <td>Asplund, Mrs. Carl Oscar (Selma Augusta Emilia...</td>\n",
       "      <td>female</td>\n",
       "      <td>38.0</td>\n",
       "      <td>1</td>\n",
       "      <td>5</td>\n",
       "      <td>347077</td>\n",
       "      <td>31.3875</td>\n",
       "      <td>NaN</td>\n",
       "      <td>S</td>\n",
       "    </tr>\n",
       "    <tr>\n",
       "      <th>26</th>\n",
       "      <td>27</td>\n",
       "      <td>0</td>\n",
       "      <td>3</td>\n",
       "      <td>Emir, Mr. Farred Chehab</td>\n",
       "      <td>male</td>\n",
       "      <td>NaN</td>\n",
       "      <td>0</td>\n",
       "      <td>0</td>\n",
       "      <td>2631</td>\n",
       "      <td>7.2250</td>\n",
       "      <td>NaN</td>\n",
       "      <td>C</td>\n",
       "    </tr>\n",
       "    <tr>\n",
       "      <th>27</th>\n",
       "      <td>28</td>\n",
       "      <td>0</td>\n",
       "      <td>1</td>\n",
       "      <td>Fortune, Mr. Charles Alexander</td>\n",
       "      <td>male</td>\n",
       "      <td>19.0</td>\n",
       "      <td>3</td>\n",
       "      <td>2</td>\n",
       "      <td>19950</td>\n",
       "      <td>263.0000</td>\n",
       "      <td>C23 C25 C27</td>\n",
       "      <td>S</td>\n",
       "    </tr>\n",
       "    <tr>\n",
       "      <th>28</th>\n",
       "      <td>29</td>\n",
       "      <td>1</td>\n",
       "      <td>3</td>\n",
       "      <td>O'Dwyer, Miss. Ellen \"Nellie\"</td>\n",
       "      <td>female</td>\n",
       "      <td>NaN</td>\n",
       "      <td>0</td>\n",
       "      <td>0</td>\n",
       "      <td>330959</td>\n",
       "      <td>7.8792</td>\n",
       "      <td>NaN</td>\n",
       "      <td>Q</td>\n",
       "    </tr>\n",
       "    <tr>\n",
       "      <th>29</th>\n",
       "      <td>30</td>\n",
       "      <td>0</td>\n",
       "      <td>3</td>\n",
       "      <td>Todoroff, Mr. Lalio</td>\n",
       "      <td>male</td>\n",
       "      <td>NaN</td>\n",
       "      <td>0</td>\n",
       "      <td>0</td>\n",
       "      <td>349216</td>\n",
       "      <td>7.8958</td>\n",
       "      <td>NaN</td>\n",
       "      <td>S</td>\n",
       "    </tr>\n",
       "  </tbody>\n",
       "</table>\n",
       "</div>"
      ],
      "text/plain": [
       "    IdPassageiro  Sobreviveu  Classe  \\\n",
       "0              1           0       3   \n",
       "1              2           1       1   \n",
       "2              3           1       3   \n",
       "3              4           1       1   \n",
       "4              5           0       3   \n",
       "5              6           0       3   \n",
       "6              7           0       1   \n",
       "7              8           0       3   \n",
       "8              9           1       3   \n",
       "9             10           1       2   \n",
       "10            11           1       3   \n",
       "11            12           1       1   \n",
       "12            13           0       3   \n",
       "13            14           0       3   \n",
       "14            15           0       3   \n",
       "15            16           1       2   \n",
       "16            17           0       3   \n",
       "17            18           1       2   \n",
       "18            19           0       3   \n",
       "19            20           1       3   \n",
       "20            21           0       2   \n",
       "21            22           1       2   \n",
       "22            23           1       3   \n",
       "23            24           1       1   \n",
       "24            25           0       3   \n",
       "25            26           1       3   \n",
       "26            27           0       3   \n",
       "27            28           0       1   \n",
       "28            29           1       3   \n",
       "29            30           0       3   \n",
       "\n",
       "                                                 Nome    Sexo  Idade  \\\n",
       "0                             Braund, Mr. Owen Harris    male   22.0   \n",
       "1   Cumings, Mrs. John Bradley (Florence Briggs Th...  female   38.0   \n",
       "2                              Heikkinen, Miss. Laina  female   26.0   \n",
       "3        Futrelle, Mrs. Jacques Heath (Lily May Peel)  female   35.0   \n",
       "4                            Allen, Mr. William Henry    male   35.0   \n",
       "5                                    Moran, Mr. James    male    NaN   \n",
       "6                             McCarthy, Mr. Timothy J    male   54.0   \n",
       "7                      Palsson, Master. Gosta Leonard    male    2.0   \n",
       "8   Johnson, Mrs. Oscar W (Elisabeth Vilhelmina Berg)  female   27.0   \n",
       "9                 Nasser, Mrs. Nicholas (Adele Achem)  female   14.0   \n",
       "10                    Sandstrom, Miss. Marguerite Rut  female    4.0   \n",
       "11                           Bonnell, Miss. Elizabeth  female   58.0   \n",
       "12                     Saundercock, Mr. William Henry    male   20.0   \n",
       "13                        Andersson, Mr. Anders Johan    male   39.0   \n",
       "14               Vestrom, Miss. Hulda Amanda Adolfina  female   14.0   \n",
       "15                   Hewlett, Mrs. (Mary D Kingcome)   female   55.0   \n",
       "16                               Rice, Master. Eugene    male    2.0   \n",
       "17                       Williams, Mr. Charles Eugene    male    NaN   \n",
       "18  Vander Planke, Mrs. Julius (Emelia Maria Vande...  female   31.0   \n",
       "19                            Masselmani, Mrs. Fatima  female    NaN   \n",
       "20                               Fynney, Mr. Joseph J    male   35.0   \n",
       "21                              Beesley, Mr. Lawrence    male   34.0   \n",
       "22                        McGowan, Miss. Anna \"Annie\"  female   15.0   \n",
       "23                       Sloper, Mr. William Thompson    male   28.0   \n",
       "24                      Palsson, Miss. Torborg Danira  female    8.0   \n",
       "25  Asplund, Mrs. Carl Oscar (Selma Augusta Emilia...  female   38.0   \n",
       "26                            Emir, Mr. Farred Chehab    male    NaN   \n",
       "27                     Fortune, Mr. Charles Alexander    male   19.0   \n",
       "28                      O'Dwyer, Miss. Ellen \"Nellie\"  female    NaN   \n",
       "29                                Todoroff, Mr. Lalio    male    NaN   \n",
       "\n",
       "    NumeroIrmaos  NumeroPais      NumeroTicket  PrecoTicket NumeroCabine  \\\n",
       "0              1           0         A/5 21171       7.2500          NaN   \n",
       "1              1           0          PC 17599      71.2833          C85   \n",
       "2              0           0  STON/O2. 3101282       7.9250          NaN   \n",
       "3              1           0            113803      53.1000         C123   \n",
       "4              0           0            373450       8.0500          NaN   \n",
       "5              0           0            330877       8.4583          NaN   \n",
       "6              0           0             17463      51.8625          E46   \n",
       "7              3           1            349909      21.0750          NaN   \n",
       "8              0           2            347742      11.1333          NaN   \n",
       "9              1           0            237736      30.0708          NaN   \n",
       "10             1           1           PP 9549      16.7000           G6   \n",
       "11             0           0            113783      26.5500         C103   \n",
       "12             0           0         A/5. 2151       8.0500          NaN   \n",
       "13             1           5            347082      31.2750          NaN   \n",
       "14             0           0            350406       7.8542          NaN   \n",
       "15             0           0            248706      16.0000          NaN   \n",
       "16             4           1            382652      29.1250          NaN   \n",
       "17             0           0            244373      13.0000          NaN   \n",
       "18             1           0            345763      18.0000          NaN   \n",
       "19             0           0              2649       7.2250          NaN   \n",
       "20             0           0            239865      26.0000          NaN   \n",
       "21             0           0            248698      13.0000          D56   \n",
       "22             0           0            330923       8.0292          NaN   \n",
       "23             0           0            113788      35.5000           A6   \n",
       "24             3           1            349909      21.0750          NaN   \n",
       "25             1           5            347077      31.3875          NaN   \n",
       "26             0           0              2631       7.2250          NaN   \n",
       "27             3           2             19950     263.0000  C23 C25 C27   \n",
       "28             0           0            330959       7.8792          NaN   \n",
       "29             0           0            349216       7.8958          NaN   \n",
       "\n",
       "   PortoEmbarcacao  \n",
       "0                S  \n",
       "1                C  \n",
       "2                S  \n",
       "3                S  \n",
       "4                S  \n",
       "5                Q  \n",
       "6                S  \n",
       "7                S  \n",
       "8                S  \n",
       "9                C  \n",
       "10               S  \n",
       "11               S  \n",
       "12               S  \n",
       "13               S  \n",
       "14               S  \n",
       "15               S  \n",
       "16               Q  \n",
       "17               S  \n",
       "18               S  \n",
       "19               C  \n",
       "20               S  \n",
       "21               S  \n",
       "22               Q  \n",
       "23               S  \n",
       "24               S  \n",
       "25               S  \n",
       "26               C  \n",
       "27               S  \n",
       "28               Q  \n",
       "29               S  "
      ]
     },
     "execution_count": 50,
     "metadata": {},
     "output_type": "execute_result"
    }
   ],
   "source": [
    "df_amostra = df[:30]\n",
    "df_amostra"
   ]
  },
  {
   "cell_type": "code",
   "execution_count": 45,
   "metadata": {},
   "outputs": [
    {
     "data": {
      "text/html": [
       "<div>\n",
       "<style scoped>\n",
       "    .dataframe tbody tr th:only-of-type {\n",
       "        vertical-align: middle;\n",
       "    }\n",
       "\n",
       "    .dataframe tbody tr th {\n",
       "        vertical-align: top;\n",
       "    }\n",
       "\n",
       "    .dataframe thead th {\n",
       "        text-align: right;\n",
       "    }\n",
       "</style>\n",
       "<table border=\"1\" class=\"dataframe\">\n",
       "  <thead>\n",
       "    <tr style=\"text-align: right;\">\n",
       "      <th></th>\n",
       "      <th>Idade</th>\n",
       "      <th>Sobreviveu</th>\n",
       "    </tr>\n",
       "  </thead>\n",
       "  <tbody>\n",
       "    <tr>\n",
       "      <th>0</th>\n",
       "      <td>22.0</td>\n",
       "      <td>0</td>\n",
       "    </tr>\n",
       "    <tr>\n",
       "      <th>1</th>\n",
       "      <td>38.0</td>\n",
       "      <td>1</td>\n",
       "    </tr>\n",
       "    <tr>\n",
       "      <th>2</th>\n",
       "      <td>26.0</td>\n",
       "      <td>1</td>\n",
       "    </tr>\n",
       "    <tr>\n",
       "      <th>3</th>\n",
       "      <td>35.0</td>\n",
       "      <td>1</td>\n",
       "    </tr>\n",
       "    <tr>\n",
       "      <th>4</th>\n",
       "      <td>35.0</td>\n",
       "      <td>0</td>\n",
       "    </tr>\n",
       "    <tr>\n",
       "      <th>...</th>\n",
       "      <td>...</td>\n",
       "      <td>...</td>\n",
       "    </tr>\n",
       "    <tr>\n",
       "      <th>886</th>\n",
       "      <td>27.0</td>\n",
       "      <td>0</td>\n",
       "    </tr>\n",
       "    <tr>\n",
       "      <th>887</th>\n",
       "      <td>19.0</td>\n",
       "      <td>1</td>\n",
       "    </tr>\n",
       "    <tr>\n",
       "      <th>888</th>\n",
       "      <td>NaN</td>\n",
       "      <td>0</td>\n",
       "    </tr>\n",
       "    <tr>\n",
       "      <th>889</th>\n",
       "      <td>26.0</td>\n",
       "      <td>1</td>\n",
       "    </tr>\n",
       "    <tr>\n",
       "      <th>890</th>\n",
       "      <td>32.0</td>\n",
       "      <td>0</td>\n",
       "    </tr>\n",
       "  </tbody>\n",
       "</table>\n",
       "<p>891 rows × 2 columns</p>\n",
       "</div>"
      ],
      "text/plain": [
       "     Idade  Sobreviveu\n",
       "0     22.0           0\n",
       "1     38.0           1\n",
       "2     26.0           1\n",
       "3     35.0           1\n",
       "4     35.0           0\n",
       "..     ...         ...\n",
       "886   27.0           0\n",
       "887   19.0           1\n",
       "888    NaN           0\n",
       "889   26.0           1\n",
       "890   32.0           0\n",
       "\n",
       "[891 rows x 2 columns]"
      ]
     },
     "execution_count": 45,
     "metadata": {},
     "output_type": "execute_result"
    }
   ],
   "source": [
    "df.iloc[:, [5,1]]"
   ]
  },
  {
   "cell_type": "markdown",
   "metadata": {},
   "source": [
    "# Alomoço"
   ]
  },
  {
   "cell_type": "code",
   "execution_count": 20,
   "metadata": {},
   "outputs": [
    {
     "data": {
      "text/html": [
       "\n",
       "        <iframe\n",
       "            width=\"300\"\n",
       "            height=\"250\"\n",
       "            src=\"https://giphy.com/embed/7AKbdZiyTx98fPHG0Z\"\n",
       "            frameborder=\"0\"\n",
       "            allowfullscreen\n",
       "            \n",
       "        ></iframe>\n",
       "        "
      ],
      "text/plain": [
       "<IPython.lib.display.IFrame at 0x2becd951610>"
      ]
     },
     "execution_count": 20,
     "metadata": {},
     "output_type": "execute_result"
    }
   ],
   "source": [
    "from IPython.display import IFrame\n",
    "\n",
    "# GIF link used as IFrame\n",
    "iframe_url = \"https://giphy.com/embed/7AKbdZiyTx98fPHG0Z\"\n",
    "\n",
    "# resized output IFrame\n",
    "IFrame(src=iframe_url, width=300, height=250)"
   ]
  },
  {
   "cell_type": "markdown",
   "metadata": {
    "id": "nES063ppS_m4"
   },
   "source": [
    "### Agrupamento / Agregação\n",
    "\n",
    "Podemos criar um agrupamento de categorias e aplicar uma função às categorias. É um conceito simples, mas é uma técnica extremamente valiosa, amplamente utilizada na ciência de dados. Em projetos reais de ciência de dados, você lidará com grandes quantidades de dados e tentará várias vezes, portanto, para eficiência, usamos o conceito Groupby. O conceito de Groupby é realmente importante por causa de sua capacidade de resumir, agregar e agrupar dados com eficiência.\n",
    "\n",
    "\n",
    "[Fonte](https://acervolima.com/pandas-groupby-resumindo-agregando-e-agrupando-dados-em-python/)"
   ]
  },
  {
   "cell_type": "code",
<<<<<<< HEAD
   "execution_count": 51,
=======
   "execution_count": 21,
>>>>>>> d0272b0e971aa8c3e9bbbff7edc83af7e132fef5
   "metadata": {
    "id": "noSCxvLQS_m6",
    "outputId": "fd434c19-19d3-4395-a595-83703e140d1b"
   },
   "outputs": [
    {
<<<<<<< HEAD
     "name": "stdout",
     "output_type": "stream",
     "text": [
      "Contagem de passageiros\n",
      "Classe\n",
      "1    216\n",
      "2    184\n",
      "3    491\n",
      "Name: IdPassageiro, dtype: int64\n"
     ]
=======
     "data": {
      "text/plain": [
       "<pandas.core.groupby.generic.DataFrameGroupBy object at 0x000002BED4E60F50>"
      ]
     },
     "execution_count": 21,
     "metadata": {},
     "output_type": "execute_result"
>>>>>>> d0272b0e971aa8c3e9bbbff7edc83af7e132fef5
    }
   ],
   "source": [
    "# Agrupar passageiros por classe\n",
    "dado_agrupado = df.groupby('Classe')\n",
    "dado_agrupado"
   ]
  },
  {
   "cell_type": "code",
<<<<<<< HEAD
   "execution_count": 52,
=======
   "execution_count": 30,
   "metadata": {},
   "outputs": [
    {
     "data": {
      "text/plain": [
       "Classe\n",
       "1    216\n",
       "2    184\n",
       "3    491\n",
       "Name: IdPassageiro, dtype: int64"
      ]
     },
     "execution_count": 30,
     "metadata": {},
     "output_type": "execute_result"
    }
   ],
   "source": [
    "# Contagem de passageiros em cada classe, usando os dados agrupados no passo anterior\n",
    "contagem_passageiros = dado_agrupado['IdPassageiro'].count()\n",
    "contagem_passageiros"
   ]
  },
  {
   "cell_type": "code",
   "execution_count": 23,
   "metadata": {},
   "outputs": [
    {
     "data": {
      "text/plain": [
       "Classe\n",
       "3    491\n",
       "1    216\n",
       "2    184\n",
       "Name: count, dtype: int64"
      ]
     },
     "execution_count": 23,
     "metadata": {},
     "output_type": "execute_result"
    }
   ],
   "source": [
    "# função value counts\n",
    "df['Classe'].value_counts()"
   ]
  },
  {
   "cell_type": "code",
   "execution_count": 24,
>>>>>>> d0272b0e971aa8c3e9bbbff7edc83af7e132fef5
   "metadata": {
    "id": "UxbPOZJfS_m7",
    "outputId": "f2031638-fbad-45b1-94a6-1415795d6800"
   },
   "outputs": [
    {
<<<<<<< HEAD
     "name": "stdout",
     "output_type": "stream",
     "text": [
      "Média de Idade de passageiros por classe\n",
      "Classe\n",
      "1    38.233441\n",
      "2    29.877630\n",
      "3    25.140620\n",
      "Name: Idade, dtype: float64\n"
     ]
=======
     "data": {
      "text/plain": [
       "Classe\n",
       "1    38.233441\n",
       "2    29.877630\n",
       "3    25.140620\n",
       "Name: Idade, dtype: float64"
      ]
     },
     "execution_count": 24,
     "metadata": {},
     "output_type": "execute_result"
>>>>>>> d0272b0e971aa8c3e9bbbff7edc83af7e132fef5
    }
   ],
   "source": [
    "# Média de Idade de passageiros em cada classe\n",
    "media_idade = dado_agrupado['Idade'].mean()\n",
    "media_idade"
   ]
  },
  {
   "cell_type": "code",
<<<<<<< HEAD
   "execution_count": 59,
=======
   "execution_count": 41,
>>>>>>> d0272b0e971aa8c3e9bbbff7edc83af7e132fef5
   "metadata": {},
   "outputs": [
    {
     "data": {
      "text/html": [
       "<div>\n",
       "<style scoped>\n",
       "    .dataframe tbody tr th:only-of-type {\n",
       "        vertical-align: middle;\n",
       "    }\n",
       "\n",
       "    .dataframe tbody tr th {\n",
       "        vertical-align: top;\n",
       "    }\n",
       "\n",
       "    .dataframe thead th {\n",
       "        text-align: right;\n",
       "    }\n",
       "</style>\n",
       "<table border=\"1\" class=\"dataframe\">\n",
       "  <thead>\n",
       "    <tr style=\"text-align: right;\">\n",
       "      <th></th>\n",
       "      <th>count</th>\n",
       "      <th>mean</th>\n",
       "      <th>std</th>\n",
       "      <th>min</th>\n",
       "      <th>50%</th>\n",
       "      <th>99%</th>\n",
<<<<<<< HEAD
=======
       "      <th>99.5%</th>\n",
>>>>>>> d0272b0e971aa8c3e9bbbff7edc83af7e132fef5
       "      <th>max</th>\n",
       "    </tr>\n",
       "  </thead>\n",
       "  <tbody>\n",
       "    <tr>\n",
       "      <th>Idade</th>\n",
       "      <td>714.0</td>\n",
       "      <td>29.699118</td>\n",
       "      <td>14.526497</td>\n",
       "      <td>0.42</td>\n",
       "      <td>28.0</td>\n",
       "      <td>65.87</td>\n",
<<<<<<< HEAD
=======
       "      <td>70.7175</td>\n",
>>>>>>> d0272b0e971aa8c3e9bbbff7edc83af7e132fef5
       "      <td>80.0</td>\n",
       "    </tr>\n",
       "  </tbody>\n",
       "</table>\n",
       "</div>"
      ],
      "text/plain": [
<<<<<<< HEAD
       "       count       mean        std   min   50%    99%   max\n",
       "Idade  714.0  29.699118  14.526497  0.42  28.0  65.87  80.0"
      ]
     },
     "execution_count": 59,
=======
       "       count       mean        std   min   50%    99%    99.5%   max\n",
       "Idade  714.0  29.699118  14.526497  0.42  28.0  65.87  70.7175  80.0"
      ]
     },
     "execution_count": 41,
>>>>>>> d0272b0e971aa8c3e9bbbff7edc83af7e132fef5
     "metadata": {},
     "output_type": "execute_result"
    }
   ],
   "source": [
<<<<<<< HEAD
    "df[['Idade']].describe(percentiles=[0.99]).T"
=======
    "df[['Idade']].describe(percentiles=[0.99, 0.995]).T"
>>>>>>> d0272b0e971aa8c3e9bbbff7edc83af7e132fef5
   ]
  },
  {
   "cell_type": "code",
<<<<<<< HEAD
   "execution_count": 54,
=======
   "execution_count": 42,
   "metadata": {},
   "outputs": [
    {
     "data": {
      "text/html": [
       "<div>\n",
       "<style scoped>\n",
       "    .dataframe tbody tr th:only-of-type {\n",
       "        vertical-align: middle;\n",
       "    }\n",
       "\n",
       "    .dataframe tbody tr th {\n",
       "        vertical-align: top;\n",
       "    }\n",
       "\n",
       "    .dataframe thead th {\n",
       "        text-align: right;\n",
       "    }\n",
       "</style>\n",
       "<table border=\"1\" class=\"dataframe\">\n",
       "  <thead>\n",
       "    <tr style=\"text-align: right;\">\n",
       "      <th></th>\n",
       "      <th>IdPassageiro</th>\n",
       "      <th>Sobreviveu</th>\n",
       "      <th>Classe</th>\n",
       "      <th>Nome</th>\n",
       "      <th>Sexo</th>\n",
       "      <th>Idade</th>\n",
       "      <th>NumeroIrmaos</th>\n",
       "      <th>NumeroPais</th>\n",
       "      <th>NumeroTicket</th>\n",
       "      <th>PrecoTicket</th>\n",
       "      <th>NumeroCabine</th>\n",
       "      <th>PortoEmbarcacao</th>\n",
       "    </tr>\n",
       "  </thead>\n",
       "  <tbody>\n",
       "    <tr>\n",
       "      <th>96</th>\n",
       "      <td>97</td>\n",
       "      <td>0</td>\n",
       "      <td>1</td>\n",
       "      <td>Goldschmidt, Mr. George B</td>\n",
       "      <td>male</td>\n",
       "      <td>71.0</td>\n",
       "      <td>0</td>\n",
       "      <td>0</td>\n",
       "      <td>PC 17754</td>\n",
       "      <td>34.6542</td>\n",
       "      <td>A5</td>\n",
       "      <td>C</td>\n",
       "    </tr>\n",
       "    <tr>\n",
       "      <th>116</th>\n",
       "      <td>117</td>\n",
       "      <td>0</td>\n",
       "      <td>3</td>\n",
       "      <td>Connors, Mr. Patrick</td>\n",
       "      <td>male</td>\n",
       "      <td>70.5</td>\n",
       "      <td>0</td>\n",
       "      <td>0</td>\n",
       "      <td>370369</td>\n",
       "      <td>7.7500</td>\n",
       "      <td>NaN</td>\n",
       "      <td>Q</td>\n",
       "    </tr>\n",
       "    <tr>\n",
       "      <th>493</th>\n",
       "      <td>494</td>\n",
       "      <td>0</td>\n",
       "      <td>1</td>\n",
       "      <td>Artagaveytia, Mr. Ramon</td>\n",
       "      <td>male</td>\n",
       "      <td>71.0</td>\n",
       "      <td>0</td>\n",
       "      <td>0</td>\n",
       "      <td>PC 17609</td>\n",
       "      <td>49.5042</td>\n",
       "      <td>NaN</td>\n",
       "      <td>C</td>\n",
       "    </tr>\n",
       "    <tr>\n",
       "      <th>630</th>\n",
       "      <td>631</td>\n",
       "      <td>1</td>\n",
       "      <td>1</td>\n",
       "      <td>Barkworth, Mr. Algernon Henry Wilson</td>\n",
       "      <td>male</td>\n",
       "      <td>80.0</td>\n",
       "      <td>0</td>\n",
       "      <td>0</td>\n",
       "      <td>27042</td>\n",
       "      <td>30.0000</td>\n",
       "      <td>A23</td>\n",
       "      <td>S</td>\n",
       "    </tr>\n",
       "    <tr>\n",
       "      <th>851</th>\n",
       "      <td>852</td>\n",
       "      <td>0</td>\n",
       "      <td>3</td>\n",
       "      <td>Svensson, Mr. Johan</td>\n",
       "      <td>male</td>\n",
       "      <td>74.0</td>\n",
       "      <td>0</td>\n",
       "      <td>0</td>\n",
       "      <td>347060</td>\n",
       "      <td>7.7750</td>\n",
       "      <td>NaN</td>\n",
       "      <td>S</td>\n",
       "    </tr>\n",
       "  </tbody>\n",
       "</table>\n",
       "</div>"
      ],
      "text/plain": [
       "     IdPassageiro  Sobreviveu  Classe                                  Nome  \\\n",
       "96             97           0       1             Goldschmidt, Mr. George B   \n",
       "116           117           0       3                  Connors, Mr. Patrick   \n",
       "493           494           0       1               Artagaveytia, Mr. Ramon   \n",
       "630           631           1       1  Barkworth, Mr. Algernon Henry Wilson   \n",
       "851           852           0       3                   Svensson, Mr. Johan   \n",
       "\n",
       "     Sexo  Idade  NumeroIrmaos  NumeroPais NumeroTicket  PrecoTicket  \\\n",
       "96   male   71.0             0           0     PC 17754      34.6542   \n",
       "116  male   70.5             0           0       370369       7.7500   \n",
       "493  male   71.0             0           0     PC 17609      49.5042   \n",
       "630  male   80.0             0           0        27042      30.0000   \n",
       "851  male   74.0             0           0       347060       7.7750   \n",
       "\n",
       "    NumeroCabine PortoEmbarcacao  \n",
       "96            A5               C  \n",
       "116          NaN               Q  \n",
       "493          NaN               C  \n",
       "630          A23               S  \n",
       "851          NaN               S  "
      ]
     },
     "execution_count": 42,
     "metadata": {},
     "output_type": "execute_result"
    }
   ],
   "source": [
    "df[df['Idade'] > 70]"
   ]
  },
  {
   "cell_type": "code",
   "execution_count": 45,
>>>>>>> d0272b0e971aa8c3e9bbbff7edc83af7e132fef5
   "metadata": {
    "id": "jxk2rE1hS_m7",
    "outputId": "55e2c10a-49b5-4a8a-f979-162b4bc89e1b"
   },
   "outputs": [
    {
     "name": "stdout",
     "output_type": "stream",
     "text": [
      "Valor máximo do preço da passagem por classe\n",
      "Classe\n",
      "1    512.3292\n",
      "2     73.5000\n",
      "3     69.5500\n",
      "Name: PrecoTicket, dtype: float64\n",
      "Valor mínimo do preço da passagem por classe\n",
      "Classe\n",
      "1    0.0\n",
      "2    0.0\n",
      "3    0.0\n",
      "Name: PrecoTicket, dtype: float64\n"
     ]
    }
   ],
   "source": [
    "# Obter o valor máximo e mínimo pago por passageiros em cada classe:\n",
    "valor_max = dado_agrupado['PrecoTicket'].max()\n",
    "valor_min = dado_agrupado['PrecoTicket'].min()\n",
    "\n",
    "print(\"Valor máximo do preço da passagem por classe\")\n",
    "print(valor_max)\n",
    "\n",
    "print(\"Valor mínimo do preço da passagem por classe\")\n",
    "print(valor_min)"
   ]
  },
  {
   "cell_type": "code",
   "execution_count": 49,
   "metadata": {},
   "outputs": [
    {
     "data": {
      "text/html": [
       "<div>\n",
       "<style scoped>\n",
       "    .dataframe tbody tr th:only-of-type {\n",
       "        vertical-align: middle;\n",
       "    }\n",
       "\n",
       "    .dataframe tbody tr th {\n",
       "        vertical-align: top;\n",
       "    }\n",
       "\n",
       "    .dataframe thead tr th {\n",
       "        text-align: left;\n",
       "    }\n",
       "\n",
       "    .dataframe thead tr:last-of-type th {\n",
       "        text-align: right;\n",
       "    }\n",
       "</style>\n",
       "<table border=\"1\" class=\"dataframe\">\n",
       "  <thead>\n",
       "    <tr>\n",
       "      <th></th>\n",
       "      <th colspan=\"5\" halign=\"left\">PrecoTicket</th>\n",
       "      <th colspan=\"5\" halign=\"left\">Idade</th>\n",
       "    </tr>\n",
       "    <tr>\n",
       "      <th></th>\n",
       "      <th>count</th>\n",
       "      <th>mean</th>\n",
       "      <th>median</th>\n",
       "      <th>min</th>\n",
       "      <th>max</th>\n",
       "      <th>count</th>\n",
       "      <th>mean</th>\n",
       "      <th>median</th>\n",
       "      <th>min</th>\n",
       "      <th>max</th>\n",
       "    </tr>\n",
       "    <tr>\n",
       "      <th>Sexo</th>\n",
       "      <th></th>\n",
       "      <th></th>\n",
       "      <th></th>\n",
       "      <th></th>\n",
       "      <th></th>\n",
       "      <th></th>\n",
       "      <th></th>\n",
       "      <th></th>\n",
       "      <th></th>\n",
       "      <th></th>\n",
       "    </tr>\n",
       "  </thead>\n",
       "  <tbody>\n",
       "    <tr>\n",
       "      <th>female</th>\n",
       "      <td>314</td>\n",
       "      <td>44.479818</td>\n",
       "      <td>23.0</td>\n",
       "      <td>6.75</td>\n",
       "      <td>512.3292</td>\n",
       "      <td>261</td>\n",
       "      <td>27.915709</td>\n",
       "      <td>27.0</td>\n",
       "      <td>0.75</td>\n",
       "      <td>63.0</td>\n",
       "    </tr>\n",
       "    <tr>\n",
       "      <th>male</th>\n",
       "      <td>577</td>\n",
       "      <td>25.523893</td>\n",
       "      <td>10.5</td>\n",
       "      <td>0.00</td>\n",
       "      <td>512.3292</td>\n",
       "      <td>453</td>\n",
       "      <td>30.726645</td>\n",
       "      <td>29.0</td>\n",
       "      <td>0.42</td>\n",
       "      <td>80.0</td>\n",
       "    </tr>\n",
       "  </tbody>\n",
       "</table>\n",
       "</div>"
      ],
      "text/plain": [
       "       PrecoTicket                                   Idade                    \\\n",
       "             count       mean median   min       max count       mean median   \n",
       "Sexo                                                                           \n",
       "female         314  44.479818   23.0  6.75  512.3292   261  27.915709   27.0   \n",
       "male           577  25.523893   10.5  0.00  512.3292   453  30.726645   29.0   \n",
       "\n",
       "                    \n",
       "         min   max  \n",
       "Sexo                \n",
       "female  0.75  63.0  \n",
       "male    0.42  80.0  "
      ]
     },
     "execution_count": 49,
     "metadata": {},
     "output_type": "execute_result"
    }
   ],
   "source": [
    "df.groupby('Sexo').agg({'PrecoTicket': ['count', 'mean', 'median', 'min', 'max'], \n",
    "                        'Idade': ['count', 'mean', 'median', 'min', 'max']})"
   ]
  },
  {
   "cell_type": "code",
   "execution_count": 52,
   "metadata": {},
   "outputs": [
    {
     "data": {
      "text/html": [
       "<div>\n",
       "<style scoped>\n",
       "    .dataframe tbody tr th:only-of-type {\n",
       "        vertical-align: middle;\n",
       "    }\n",
       "\n",
       "    .dataframe tbody tr th {\n",
       "        vertical-align: top;\n",
       "    }\n",
       "\n",
       "    .dataframe thead tr th {\n",
       "        text-align: left;\n",
       "    }\n",
       "\n",
       "    .dataframe thead tr:last-of-type th {\n",
       "        text-align: right;\n",
       "    }\n",
       "</style>\n",
       "<table border=\"1\" class=\"dataframe\">\n",
       "  <thead>\n",
       "    <tr>\n",
       "      <th></th>\n",
       "      <th></th>\n",
       "      <th colspan=\"5\" halign=\"left\">PrecoTicket</th>\n",
       "    </tr>\n",
       "    <tr>\n",
       "      <th></th>\n",
       "      <th></th>\n",
       "      <th>count</th>\n",
       "      <th>mean</th>\n",
       "      <th>median</th>\n",
       "      <th>min</th>\n",
       "      <th>max</th>\n",
       "    </tr>\n",
       "    <tr>\n",
       "      <th>Sexo</th>\n",
       "      <th>PortoEmbarcacao</th>\n",
       "      <th></th>\n",
       "      <th></th>\n",
       "      <th></th>\n",
       "      <th></th>\n",
       "      <th></th>\n",
       "    </tr>\n",
       "  </thead>\n",
       "  <tbody>\n",
       "    <tr>\n",
       "      <th rowspan=\"3\" valign=\"top\">female</th>\n",
       "      <th>C</th>\n",
       "      <td>73</td>\n",
       "      <td>75.169805</td>\n",
       "      <td>56.92920</td>\n",
       "      <td>7.2250</td>\n",
       "      <td>512.3292</td>\n",
       "    </tr>\n",
       "    <tr>\n",
       "      <th>Q</th>\n",
       "      <td>36</td>\n",
       "      <td>12.634958</td>\n",
       "      <td>7.76875</td>\n",
       "      <td>6.7500</td>\n",
       "      <td>90.0000</td>\n",
       "    </tr>\n",
       "    <tr>\n",
       "      <th>S</th>\n",
       "      <td>203</td>\n",
       "      <td>38.740929</td>\n",
       "      <td>24.15000</td>\n",
       "      <td>7.2500</td>\n",
       "      <td>263.0000</td>\n",
       "    </tr>\n",
       "    <tr>\n",
       "      <th rowspan=\"3\" valign=\"top\">male</th>\n",
       "      <th>C</th>\n",
       "      <td>95</td>\n",
       "      <td>48.262109</td>\n",
       "      <td>24.00000</td>\n",
       "      <td>4.0125</td>\n",
       "      <td>512.3292</td>\n",
       "    </tr>\n",
       "    <tr>\n",
       "      <th>Q</th>\n",
       "      <td>41</td>\n",
       "      <td>13.838922</td>\n",
       "      <td>7.75000</td>\n",
       "      <td>6.7500</td>\n",
       "      <td>90.0000</td>\n",
       "    </tr>\n",
       "    <tr>\n",
       "      <th>S</th>\n",
       "      <td>441</td>\n",
       "      <td>21.711996</td>\n",
       "      <td>10.50000</td>\n",
       "      <td>0.0000</td>\n",
       "      <td>263.0000</td>\n",
       "    </tr>\n",
       "  </tbody>\n",
       "</table>\n",
       "</div>"
      ],
      "text/plain": [
       "                       PrecoTicket                                       \n",
       "                             count       mean    median     min       max\n",
       "Sexo   PortoEmbarcacao                                                   \n",
       "female C                        73  75.169805  56.92920  7.2250  512.3292\n",
       "       Q                        36  12.634958   7.76875  6.7500   90.0000\n",
       "       S                       203  38.740929  24.15000  7.2500  263.0000\n",
       "male   C                        95  48.262109  24.00000  4.0125  512.3292\n",
       "       Q                        41  13.838922   7.75000  6.7500   90.0000\n",
       "       S                       441  21.711996  10.50000  0.0000  263.0000"
      ]
     },
     "execution_count": 52,
     "metadata": {},
     "output_type": "execute_result"
    }
   ],
   "source": [
    "df.groupby(['Sexo', 'PortoEmbarcacao']).agg({'PrecoTicket': ['count', 'mean', 'median', 'min', 'max']})"
   ]
  },
  {
   "cell_type": "markdown",
   "metadata": {},
   "source": [
    "### Exercício 04 parte 02\n",
    "\n",
    "- Agrupar passageiros por genero\n",
    "- Obter a média de idade de passageiros por genero\n",
    "- Obter o valor máximo e mínimo pago por passageiros em cada genero"
<<<<<<< HEAD
   ]
  },
  {
   "cell_type": "code",
   "execution_count": 69,
   "metadata": {},
   "outputs": [
    {
     "name": "stdout",
     "output_type": "stream",
     "text": [
      "Contagem de passageiros por gênero: \n",
      "Sexo\n",
      "female    314\n",
      "male      577\n",
      "Name: IdPassageiro, dtype: int64\n"
     ]
    }
   ],
   "source": [
    "# Agrupar passageiros por gênero\n",
    "dado_genero = df.groupby('Sexo')\n",
    "\n",
    "# Contagem de passageiros em cada classe, através do Idpassageiro, para evitar contagem de dados nulos\n",
    "contagem_passageiros = dado_genero['IdPassageiro'].count()\n",
    "\n",
    "print(\"Contagem de passageiros por gênero: \")\n",
    "print(contagem_passageiros)\n"
   ]
  },
  {
   "cell_type": "code",
   "execution_count": 70,
   "metadata": {},
   "outputs": [
    {
     "name": "stdout",
     "output_type": "stream",
     "text": [
      "Média de Idade de passageiros por gênero: \n",
      "Sexo\n",
      "female    27.915709\n",
      "male      30.726645\n",
      "Name: Idade, dtype: float64\n"
     ]
    }
   ],
   "source": [
    "media_idade = dado_genero['Idade'].mean()\n",
    "\n",
    "print(\"Média de Idade de passageiros por gênero: \")\n",
    "print(media_idade)"
   ]
  },
  {
   "cell_type": "code",
   "execution_count": 68,
   "metadata": {},
   "outputs": [
    {
     "name": "stdout",
     "output_type": "stream",
     "text": [
      "Valor máximo do preço da passagem por gênero:\n",
      "Sexo\n",
      "female    512.3292\n",
      "male      512.3292\n",
      "Name: PrecoTicket, dtype: float64\n",
      "Valor mínimo do preço da passagem por gênero: \n",
      "Sexo\n",
      "female    6.75\n",
      "male      0.00\n",
      "Name: PrecoTicket, dtype: float64\n"
     ]
    }
   ],
   "source": [
    "valor_max = dado_genero['PrecoTicket'].max()\n",
    "valor_min = dado_genero['PrecoTicket'].min()\n",
    "\n",
    "print(\"Valor máximo do preço da passagem por gênero:\")\n",
    "print(valor_max)\n",
    "\n",
    "print(\"Valor mínimo do preço da passagem por gênero: \")\n",
    "print(valor_min)"
   ]
  },
  {
   "cell_type": "code",
   "execution_count": 90,
   "metadata": {},
   "outputs": [
    {
     "ename": "SyntaxError",
     "evalue": "invalid syntax (2294586758.py, line 1)",
     "output_type": "error",
     "traceback": [
      "\u001b[1;36m  Cell \u001b[1;32mIn[90], line 1\u001b[1;36m\u001b[0m\n\u001b[1;33m    df.groupby('Sexo').agg('PrecoTicket':['count','mean','median', 'min', 'max'])\u001b[0m\n\u001b[1;37m                                        ^\u001b[0m\n\u001b[1;31mSyntaxError\u001b[0m\u001b[1;31m:\u001b[0m invalid syntax\n"
     ]
    }
   ],
   "source": [
    "df.groupby('Sexo').agg('PrecoTicket':['count','mean','median', 'min', 'max'])"
   ]
  },
  {
   "cell_type": "code",
   "execution_count": 75,
   "metadata": {},
   "outputs": [
    {
     "data": {
      "text/html": [
       "<div>\n",
       "<style scoped>\n",
       "    .dataframe tbody tr th:only-of-type {\n",
       "        vertical-align: middle;\n",
       "    }\n",
       "\n",
       "    .dataframe tbody tr th {\n",
       "        vertical-align: top;\n",
       "    }\n",
       "\n",
       "    .dataframe thead tr th {\n",
       "        text-align: left;\n",
       "    }\n",
       "\n",
       "    .dataframe thead tr:last-of-type th {\n",
       "        text-align: right;\n",
       "    }\n",
       "</style>\n",
       "<table border=\"1\" class=\"dataframe\">\n",
       "  <thead>\n",
       "    <tr>\n",
       "      <th></th>\n",
       "      <th></th>\n",
       "      <th colspan=\"5\" halign=\"left\">PrecoTicket</th>\n",
       "    </tr>\n",
       "    <tr>\n",
       "      <th></th>\n",
       "      <th></th>\n",
       "      <th>count</th>\n",
       "      <th>mean</th>\n",
       "      <th>median</th>\n",
       "      <th>min</th>\n",
       "      <th>max</th>\n",
       "    </tr>\n",
       "    <tr>\n",
       "      <th>Sexo</th>\n",
       "      <th>PortoEmbarcacao</th>\n",
       "      <th></th>\n",
       "      <th></th>\n",
       "      <th></th>\n",
       "      <th></th>\n",
       "      <th></th>\n",
       "    </tr>\n",
       "  </thead>\n",
       "  <tbody>\n",
       "    <tr>\n",
       "      <th rowspan=\"3\" valign=\"top\">female</th>\n",
       "      <th>C</th>\n",
       "      <td>73</td>\n",
       "      <td>75.169805</td>\n",
       "      <td>56.92920</td>\n",
       "      <td>7.2250</td>\n",
       "      <td>512.3292</td>\n",
       "    </tr>\n",
       "    <tr>\n",
       "      <th>Q</th>\n",
       "      <td>36</td>\n",
       "      <td>12.634958</td>\n",
       "      <td>7.76875</td>\n",
       "      <td>6.7500</td>\n",
       "      <td>90.0000</td>\n",
       "    </tr>\n",
       "    <tr>\n",
       "      <th>S</th>\n",
       "      <td>203</td>\n",
       "      <td>38.740929</td>\n",
       "      <td>24.15000</td>\n",
       "      <td>7.2500</td>\n",
       "      <td>263.0000</td>\n",
       "    </tr>\n",
       "    <tr>\n",
       "      <th rowspan=\"3\" valign=\"top\">male</th>\n",
       "      <th>C</th>\n",
       "      <td>95</td>\n",
       "      <td>48.262109</td>\n",
       "      <td>24.00000</td>\n",
       "      <td>4.0125</td>\n",
       "      <td>512.3292</td>\n",
       "    </tr>\n",
       "    <tr>\n",
       "      <th>Q</th>\n",
       "      <td>41</td>\n",
       "      <td>13.838922</td>\n",
       "      <td>7.75000</td>\n",
       "      <td>6.7500</td>\n",
       "      <td>90.0000</td>\n",
       "    </tr>\n",
       "    <tr>\n",
       "      <th>S</th>\n",
       "      <td>441</td>\n",
       "      <td>21.711996</td>\n",
       "      <td>10.50000</td>\n",
       "      <td>0.0000</td>\n",
       "      <td>263.0000</td>\n",
       "    </tr>\n",
       "  </tbody>\n",
       "</table>\n",
       "</div>"
      ],
      "text/plain": [
       "                       PrecoTicket                                       \n",
       "                             count       mean    median     min       max\n",
       "Sexo   PortoEmbarcacao                                                   \n",
       "female C                        73  75.169805  56.92920  7.2250  512.3292\n",
       "       Q                        36  12.634958   7.76875  6.7500   90.0000\n",
       "       S                       203  38.740929  24.15000  7.2500  263.0000\n",
       "male   C                        95  48.262109  24.00000  4.0125  512.3292\n",
       "       Q                        41  13.838922   7.75000  6.7500   90.0000\n",
       "       S                       441  21.711996  10.50000  0.0000  263.0000"
      ]
     },
     "execution_count": 75,
     "metadata": {},
     "output_type": "execute_result"
    }
   ],
   "source": [
    "df.groupby(['Sexo', 'PortoEmbarcacao']).agg({'PrecoTicket': ['count', 'mean', 'median', 'min', 'max']})"
=======
>>>>>>> d0272b0e971aa8c3e9bbbff7edc83af7e132fef5
   ]
  },
  {
   "cell_type": "markdown",
   "metadata": {
    "id": "6sNCu_PsS_m8"
   },
   "source": [
    "## Pandas: Gerando Gráficos\n",
    "\n",
    "Pandas, em si, não é uma biblioteca de geração de gráficos - o seu segredo é a sua integração com bibliotecas de visualização, permitindo que as suas capacidades de manipulação atuem como ferramentas poderosas para gerar gráficos. Exemplos dessas libs são o Numpy, matplotlib e Seaborn.\n",
    "\n",
    "Pandas permite:\n",
    "- manipulação e preparação de dados\n",
    "- integração com bibliotecas de visualização\n",
    "- seleção de dados\n",
    "- permite fácil combinação de dados provenientes de diferentes datasets"
   ]
  },
  {
   "cell_type": "markdown",
   "metadata": {
    "id": "RM_Xr6IzS_m8"
   },
   "source": [
    "### Pandas + Matplotlib"
   ]
  },
  {
   "cell_type": "markdown",
   "metadata": {
    "id": "Iab5GB_jURLN"
   },
   "source": [
    "Matplotlib, por sua vez, é uma biblioteca Python dedicada à visualização de dados. As figuras geradas, muitas vezes após tratamento de dados utilizando Pandas, são passíveis de fácil edição e customização via código e podem ser facilmente exportadas para outros formatos (inclusive de alta qualidade).\n",
    "\n",
    "Basicamente, a lib monta o gráfico a partir de seus dados em uma 'Figura' que pode conter um ou mais 'Eixos', que definem uma área onde pontos (relativos aos dados) podem ser delimitados.\n",
    "\n",
    "\n",
    "[Fonte](https://matplotlib.org/)\n",
    "\n",
    "[Fonte](https://matplotlib.org/stable/tutorials/introductory/quick_start.html)"
   ]
  },
  {
   "cell_type": "code",
<<<<<<< HEAD
   "execution_count": 87,
   "metadata": {},
   "outputs": [
    {
     "name": "stdout",
     "output_type": "stream",
     "text": [
      "Collecting matplotlib\n",
      "  Downloading matplotlib-3.8.0-cp310-cp310-win_amd64.whl (7.6 MB)\n",
      "     ---------------------------------------- 0.0/7.6 MB ? eta -:--:--\n",
      "     ---------------------------------------- 0.0/7.6 MB 991.0 kB/s eta 0:00:08\n",
      "     - -------------------------------------- 0.2/7.6 MB 2.8 MB/s eta 0:00:03\n",
      "     -- ------------------------------------- 0.5/7.6 MB 3.9 MB/s eta 0:00:02\n",
      "     ----- ---------------------------------- 1.0/7.6 MB 6.0 MB/s eta 0:00:02\n",
      "     ---------- ----------------------------- 2.1/7.6 MB 9.5 MB/s eta 0:00:01\n",
      "     ---------------- ----------------------- 3.2/7.6 MB 12.1 MB/s eta 0:00:01\n",
      "     ----------------------- ---------------- 4.5/7.6 MB 14.5 MB/s eta 0:00:01\n",
      "     ------------------------- -------------- 5.0/7.6 MB 15.1 MB/s eta 0:00:01\n",
      "     ------------------------------- -------- 6.1/7.6 MB 15.0 MB/s eta 0:00:01\n",
      "     ---------------------------------------  7.6/7.6 MB 16.8 MB/s eta 0:00:01\n",
      "     ---------------------------------------- 7.6/7.6 MB 15.3 MB/s eta 0:00:00\n",
      "Requirement already satisfied: packaging>=20.0 in c:\\users\\djleo\\appdata\\local\\packages\\pythonsoftwarefoundation.python.3.10_qbz5n2kfra8p0\\localcache\\local-packages\\python310\\site-packages (from matplotlib) (23.2)\n",
      "Collecting kiwisolver>=1.0.1\n",
      "  Downloading kiwisolver-1.4.5-cp310-cp310-win_amd64.whl (56 kB)\n",
      "     ---------------------------------------- 0.0/56.1 kB ? eta -:--:--\n",
      "     ---------------------------------------- 56.1/56.1 kB ? eta 0:00:00\n",
      "Collecting pyparsing>=2.3.1\n",
      "  Downloading pyparsing-3.1.1-py3-none-any.whl (103 kB)\n",
      "     ---------------------------------------- 0.0/103.1 kB ? eta -:--:--\n",
      "     ---------------------------------------- 103.1/103.1 kB ? eta 0:00:00\n",
      "Requirement already satisfied: python-dateutil>=2.7 in c:\\users\\djleo\\appdata\\local\\packages\\pythonsoftwarefoundation.python.3.10_qbz5n2kfra8p0\\localcache\\local-packages\\python310\\site-packages (from matplotlib) (2.8.2)\n",
      "Collecting cycler>=0.10\n",
      "  Downloading cycler-0.12.1-py3-none-any.whl (8.3 kB)\n",
      "Collecting pillow>=6.2.0\n",
      "  Downloading Pillow-10.1.0-cp310-cp310-win_amd64.whl (2.6 MB)\n",
      "     ---------------------------------------- 0.0/2.6 MB ? eta -:--:--\n",
      "     ----------------------- ---------------- 1.6/2.6 MB 32.9 MB/s eta 0:00:01\n",
      "     ---------------------------------------  2.6/2.6 MB 33.2 MB/s eta 0:00:01\n",
      "     ---------------------------------------- 2.6/2.6 MB 27.6 MB/s eta 0:00:00\n",
      "Requirement already satisfied: numpy<2,>=1.21 in c:\\users\\djleo\\appdata\\local\\packages\\pythonsoftwarefoundation.python.3.10_qbz5n2kfra8p0\\localcache\\local-packages\\python310\\site-packages (from matplotlib) (1.26.0)\n",
      "Collecting fonttools>=4.22.0\n",
      "  Downloading fonttools-4.43.1-cp310-cp310-win_amd64.whl (2.1 MB)\n",
      "     ---------------------------------------- 0.0/2.1 MB ? eta -:--:--\n",
      "     ------------------------ --------------- 1.3/2.1 MB 42.0 MB/s eta 0:00:01\n",
      "     ---------------------------------------- 2.1/2.1 MB 34.4 MB/s eta 0:00:00\n",
      "Collecting contourpy>=1.0.1\n",
      "  Downloading contourpy-1.1.1-cp310-cp310-win_amd64.whl (477 kB)\n",
      "     ---------------------------------------- 0.0/478.0 kB ? eta -:--:--\n",
      "     ------------------------------------- 478.0/478.0 kB 31.2 MB/s eta 0:00:00\n",
      "Requirement already satisfied: six>=1.5 in c:\\users\\djleo\\appdata\\local\\packages\\pythonsoftwarefoundation.python.3.10_qbz5n2kfra8p0\\localcache\\local-packages\\python310\\site-packages (from python-dateutil>=2.7->matplotlib) (1.16.0)\n",
      "Installing collected packages: pyparsing, pillow, kiwisolver, fonttools, cycler, contourpy, matplotlib\n",
      "Successfully installed contourpy-1.1.1 cycler-0.12.1 fonttools-4.43.1 kiwisolver-1.4.5 matplotlib-3.8.0 pillow-10.1.0 pyparsing-3.1.1\n"
     ]
    },
    {
     "name": "stderr",
     "output_type": "stream",
     "text": [
      "\n",
      "[notice] A new release of pip is available: 23.0.1 -> 23.3.1\n",
      "[notice] To update, run: C:\\Users\\Djleo\\AppData\\Local\\Microsoft\\WindowsApps\\PythonSoftwareFoundation.Python.3.10_qbz5n2kfra8p0\\python.exe -m pip install --upgrade pip\n"
     ]
    }
   ],
   "source": [
    "!pip install matplotlib"
   ]
  },
  {
   "cell_type": "code",
   "execution_count": 92,
=======
   "execution_count": 58,
>>>>>>> d0272b0e971aa8c3e9bbbff7edc83af7e132fef5
   "metadata": {
    "colab": {
     "base_uri": "https://localhost:8080/",
     "height": 448
    },
    "id": "KS8389rdXMEu",
    "outputId": "386b4ea1-0ef0-4e2a-891a-e1ea0dee0ed5"
   },
   "outputs": [
    {
     "data": {
      "image/png": "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",
      "text/plain": [
       "<Figure size 640x480 with 1 Axes>"
      ]
     },
     "metadata": {},
     "output_type": "display_data"
    }
   ],
   "source": [
    "# exemplo mais simples de gráfico:\n",
    "import matplotlib.pyplot as plt\n",
    "\n",
    "fig, ax = plt.subplots()\n",
    "ax.plot([1, 2, 3, 4], [2, 4, 6, 8]);"
   ]
  },
  {
   "cell_type": "markdown",
   "metadata": {
    "id": "j-fE0SiHS_m8"
   },
   "source": [
    "*** OBS: Deixar claro para alunas que matplotlib será visto em semanas seguintes - ele só está sendo introduzido nesse contexto para que possamos gerar gráficos simples com o uso de Pandas ***\n",
    "\n",
    "\n"
   ]
  },
  {
   "cell_type": "code",
<<<<<<< HEAD
   "execution_count": 95,
=======
   "execution_count": 59,
>>>>>>> d0272b0e971aa8c3e9bbbff7edc83af7e132fef5
   "metadata": {
    "id": "bmZg5LjvS_nJ",
    "outputId": "f3874a08-9ec1-4235-8db1-2250deeb54ea"
   },
   "outputs": [
    {
     "data": {
      "text/plain": [
       "Classe\n",
       "3    491\n",
       "1    216\n",
       "2    184\n",
       "Name: count, dtype: int64"
      ]
     },
<<<<<<< HEAD
     "execution_count": 95,
=======
     "execution_count": 59,
>>>>>>> d0272b0e971aa8c3e9bbbff7edc83af7e132fef5
     "metadata": {},
     "output_type": "execute_result"
    }
   ],
   "source": [
    "# Criação de um gráfico de barras:  matplotlib + Pandas\n",
    "# plot() + bar\n",
    "contagem_passageiros = df['Classe'].value_counts()\n",
<<<<<<< HEAD
    "contagem_passageiros\n",
    "\n",
    "\n"
=======
    "contagem_passageiros"
   ]
  },
  {
   "cell_type": "markdown",
   "metadata": {},
   "source": [
    "**Doc:** https://pandas.pydata.org/docs/reference/api/pandas.DataFrame.plot.html"
>>>>>>> d0272b0e971aa8c3e9bbbff7edc83af7e132fef5
   ]
  },
  {
   "cell_type": "code",
<<<<<<< HEAD
   "execution_count": 98,
=======
   "execution_count": 62,
>>>>>>> d0272b0e971aa8c3e9bbbff7edc83af7e132fef5
   "metadata": {},
   "outputs": [
    {
     "data": {
<<<<<<< HEAD
      "text/plain": [
       "<Axes: xlabel='Classe'>"
      ]
     },
     "execution_count": 98,
     "metadata": {},
     "output_type": "execute_result"
    },
=======
      "image/png": "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",
      "text/plain": [
       "<Figure size 640x480 with 1 Axes>"
      ]
     },
     "metadata": {},
     "output_type": "display_data"
    }
   ],
   "source": [
    "# pandas: gráfico\n",
    "contagem_passageiros.plot(kind='barh');"
   ]
  },
  {
   "cell_type": "code",
   "execution_count": 63,
   "metadata": {},
   "outputs": [
>>>>>>> d0272b0e971aa8c3e9bbbff7edc83af7e132fef5
    {
     "data": {
      "image/png": "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",
      "text/plain": [
       "<Figure size 640x480 with 1 Axes>"
      ]
     },
     "metadata": {},
     "output_type": "display_data"
    }
   ],
   "source": [
<<<<<<< HEAD
    "# Pandas = Gráfico em barras\n",
    "contagem_passageiros.plot(kind='bar')"
=======
    "contagem_passageiros.plot(kind='bar');"
>>>>>>> d0272b0e971aa8c3e9bbbff7edc83af7e132fef5
   ]
  },
  {
   "cell_type": "code",
<<<<<<< HEAD
   "execution_count": 93,
=======
   "execution_count": 65,
   "metadata": {},
   "outputs": [
    {
     "data": {
      "text/plain": [
       "<Axes: ylabel='Frequency'>"
      ]
     },
     "execution_count": 65,
     "metadata": {},
     "output_type": "execute_result"
    },
    {
     "data": {
      "image/png": "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",
      "text/plain": [
       "<Figure size 640x480 with 1 Axes>"
      ]
     },
     "metadata": {},
     "output_type": "display_data"
    }
   ],
   "source": [
    "df['Idade'].plot(kind='hist')"
   ]
  },
  {
   "cell_type": "code",
   "execution_count": 68,
>>>>>>> d0272b0e971aa8c3e9bbbff7edc83af7e132fef5
   "metadata": {
    "id": "zpZmI2e9S_nJ",
    "outputId": "3f16a4f4-3039-4426-ac46-d0f8178d87a6"
   },
   "outputs": [
    {
     "data": {
      "text/plain": [
       "Text(0.5, 1.0, 'Número de Passageiros por Classe')"
      ]
     },
<<<<<<< HEAD
     "execution_count": 93,
=======
     "execution_count": 68,
>>>>>>> d0272b0e971aa8c3e9bbbff7edc83af7e132fef5
     "metadata": {},
     "output_type": "execute_result"
    },
    {
     "data": {
      "image/png": "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",
      "text/plain": [
       "<Figure size 640x480 with 1 Axes>"
      ]
     },
     "metadata": {},
     "output_type": "display_data"
    }
   ],
   "source": [
    "# título, legendas (Y e X)\n",
    "contagem_passageiros = df['Classe'].value_counts()\n",
    "contagem_passageiros.plot(kind='bar');\n",
    "\n",
    "plt.xlabel('Classe do Passageiro')\n",
    "plt.ylabel('Quantidade')\n",
    "plt.title('Número de Passageiros por Classe')\n"
   ]
  },
  {
   "cell_type": "code",
<<<<<<< HEAD
   "execution_count": 102,
=======
   "execution_count": 69,
>>>>>>> d0272b0e971aa8c3e9bbbff7edc83af7e132fef5
   "metadata": {
    "id": "j7lUqI3BS_nK",
    "outputId": "758058f2-185d-412d-835e-38d8ca773f3e"
   },
   "outputs": [
    {
     "data": {
      "image/png": "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",
      "text/plain": [
       "<Figure size 640x480 with 1 Axes>"
      ]
     },
     "metadata": {},
     "output_type": "display_data"
    }
   ],
   "source": [
    "# Criando um gráfico de barras para calcular a taxa de sobrevivência por sexo\n",
    "# plot.bar()\n",
    "taxa_sob_sexo = df.groupby('Sexo')['Sobreviveu'].mean()\n",
    "taxa_sob_sexo.plot.bar()\n",
    "\n",
    "plt.xlabel('Sexo')\n",
    "plt.ylabel('Taxa de Sobrevivência')\n",
    "plt.title('Taxa de Sobrevivência por Sexo')\n",
    "plt.show()"
   ]
  },
  {
   "cell_type": "code",
<<<<<<< HEAD
   "execution_count": 109,
=======
   "execution_count": 74,
>>>>>>> d0272b0e971aa8c3e9bbbff7edc83af7e132fef5
   "metadata": {
    "id": "RzV9cvoOS_nK",
    "outputId": "eea06c73-5805-427d-f2b1-b82d3481b8a8"
   },
   "outputs": [
    {
     "data": {
      "text/plain": [
       "Text(0.5, 1.0, 'Distribuição de Idade')"
      ]
     },
<<<<<<< HEAD
     "execution_count": 109,
=======
     "execution_count": 74,
>>>>>>> d0272b0e971aa8c3e9bbbff7edc83af7e132fef5
     "metadata": {},
     "output_type": "execute_result"
    },
    {
     "data": {
<<<<<<< HEAD
      "image/png": "iVBORw0KGgoAAAANSUhEUgAAAjsAAAHHCAYAAABZbpmkAAAAOXRFWHRTb2Z0d2FyZQBNYXRwbG90bGliIHZlcnNpb24zLjguMCwgaHR0cHM6Ly9tYXRwbG90bGliLm9yZy81sbWrAAAACXBIWXMAAA9hAAAPYQGoP6dpAAA/BklEQVR4nO3deVxVdf7H8fcFZFE2QRBQQNy3NJckcy2dFE2znEqz0txaNLepUSrXxtGpyUxbnKbSGjXbTB0tU3EbJ3RcItPcMFxKUJMEQUWW7++PHt5fV9AEr17u6fV8PM7jcc/3+73nfr5cwnfnfs+5NmOMEQAAgEV5uLoAAACA64mwAwAALI2wAwAALI2wAwAALI2wAwAALI2wAwAALI2wAwAALI2wAwAALI2wAwAALI2wA7ipSZMmyWaz3ZDX6tixozp27GjfX79+vWw2mz755BOnvcahQ4dks9k0b968Uj/3k08+UXBwsNq0aaMDBw5o6NChmjlzptNquxKbzaZJkybdkNf6tWv5eV3OjfydAm4kwg5QDsybN082m82++fr6KioqSl26dNGsWbN05swZp7zOsWPHNGnSJKWkpDjleOXFiy++qKFDhyoyMlL169fX4sWL1atXL1eXVSY1atTQXXfd5eoyAEvxcnUBAP7flClTFBcXp/z8fGVkZGj9+vUaNWqUZsyYoWXLlqlJkyb2sc8//7zGjRtXquMfO3ZMkydPVo0aNXTzzTdf9fNWrVpVqtcpi9jYWJ07d04VKlQo9XM//vhjVatWTV5eXjp58qQCAgLk6+t7HaoE4I4IO0A5kpCQoJYtW9r3ExMTtXbtWt11113q2bOn9uzZIz8/P0mSl5eXvLyu73/CZ8+eVcWKFeXt7X1dX0eS/YxWWcTGxtofh4WFOaskABbBx1hAOXfHHXdo/PjxOnz4sObPn29vL2l9xerVq9W2bVsFBwfL399f9erV07PPPivpl3U2t9xyiyTp0UcftX9kdnHNR8eOHdW4cWNt375d7du3V8WKFe3PvXTNzkWFhYV69tlnFRERoUqVKqlnz546evSow5gaNWpowIABxZ576TEvtwZl7969uv/++xUWFiY/Pz/Vq1dPzz33nL0/LS1NTzzxhOrWrSs/Pz+Fhobqvvvu06FDh4q95vfff6/77rtPISEhqlixom699VatWLGi2LiS5OXlafTo0QoLC1NAQIB69uypH374ocSxP/74owYOHKiqVavKx8dHjRo10rvvvntVr1OS06dPa8CAAQoKClJwcLD69++v06dPFxu3c+dODRgwQDVr1pSvr68iIiI0cOBAnTp1qtjYTZs26ZZbbpGvr69q1aqlf/zjH5d9/fnz56tFixby8/NTSEiI+vTpU+x9BsozzuwAbuDhhx/Ws88+q1WrVmnIkCEljtm9e7fuuusuNWnSRFOmTJGPj49SU1P13//+V5LUoEEDTZkyRRMmTNDQoUPVrl07SdJtt91mP8apU6eUkJCgPn366KGHHlLVqlWvWNfUqVNls9k0duxYnThxQjNnzlTnzp2VkpJiPwN1LXbu3Kl27dqpQoUKGjp0qGrUqKGDBw/q3//+t6ZOnSpJ2rJli5KTk9W3b19Vr15daWlpmjNnjjp27KjvvvtOFStWlCQdP35ct912m86ePasRI0YoNDRU7733nnr27KlPPvlE99xzzxVrGTx4sObPn68HH3xQt912m9auXavu3bsXG3f8+HHdeuutstlsGj58uMLCwvTFF19o0KBBys7O1qhRo0r1MzDG6O6779amTZv0+OOPq0GDBvrss8/Uv3//YmNXr16t77//Xo8++qgiIiK0e/duvfXWW9q9e7c2b95sD8fffvut7rzzToWFhWnSpEkqKCjQxIkTS3y/p06dqvHjx+v+++/X4MGDdfLkSc2ePVvt27fX119/reDg4FLNB3AJA8Dl5s6daySZrVu3XnZMUFCQadasmX1/4sSJ5tf/Cb/yyitGkjl58uRlj7F161YjycydO7dYX4cOHYwkM2fOnBL7OnToYN9ft26dkWSqVatmsrOz7e0fffSRkWReffVVe1tsbKzp37//bx4zLS2tWG3t27c3AQEB5vDhww7PLSoqsj8+e/ZssWMnJycbSeb999+3t40aNcpIMv/5z3/sbWfOnDFxcXGmRo0aprCwsNhxLkpJSTGSzJNPPunQ/uCDDxpJZuLEifa2QYMGmcjISPPTTz85jO3Tp48JCgoqsd5fi42NNd27d7fvL1myxEgyL774or2toKDAtGvXrtjPq6Rjf/DBB0aS2bhxo72tV69extfX1+Hn+t133xlPT0+H36lDhw4ZT09PM3XqVIdjfvvtt8bLy6tYO1Be8TEW4Cb8/f2veFXWxf/DXrp0qYqKisr0Gj4+Pnr00UevevwjjzyigIAA+/4f//hHRUZG6vPPPy/T6//ayZMntXHjRg0cOFAxMTEOfb/++O7XZ5Dy8/N16tQp1a5dW8HBwdqxY4e97/PPP1erVq3Utm1be5u/v7+GDh2qQ4cO6bvvvrtsLRfnM2LECIf2S8/SGGP06aefqkePHjLG6KeffrJvXbp0UVZWlkNNV+Pzzz+Xl5eXnnjiCXubp6ennnrqqWJjf/2zOH/+vH766SfdeuutkmR/3cLCQn355Zfq1auXw8+1QYMG6tKli8PxFi9erKKiIt1///0Oc4mIiFCdOnW0bt26Us0FcBXCDuAmcnJyHILFpR544AG1adNGgwcPVtWqVdWnTx999NFHpQo+1apVK9Vi5Dp16jjs22w21a5du8T1MqX1/fffS5IaN258xXHnzp3ThAkTFB0dLR8fH1WpUkVhYWE6ffq0srKy7OMOHz6sevXqFXt+gwYN7P2Xc/jwYXl4eKhWrVoO7Zce7+TJkzp9+rTeeusthYWFOWwXQ+SJEyeuOJ+SXjsyMlL+/v5XfG1JyszM1MiRI1W1alX5+fkpLCxMcXFxkmT/WZw8eVLnzp0r9t6VdMwDBw7IGKM6deoUm8+ePXtKPRfAVVizA7iBH374QVlZWapdu/Zlx/j5+Wnjxo1at26dVqxYoZUrV+rDDz/UHXfcoVWrVsnT0/M3X8cZ62wudbmb1BUWFl5VTb/lqaee0ty5czVq1Ci1bt1aQUFBstls6tOnT5nPcJXVxdd76KGHSlxTI8nh9gHOdv/99+urr77SM888o5tvvln+/v4qKipS165dy/SzKCoqks1m0xdffFHie3VpAAPKK8IO4Ab+9a9/SVKxjxku5eHhoU6dOqlTp06aMWOG/vrXv+q5557TunXr1LlzZ6ffHffAgQMO+8YYpaamOvyDXrly5RKvHDp8+LBq1qx52WNf7Nu1a9cVa/jkk0/Uv39/vfzyy/a28+fPF3vN2NhY7du3r9jz9+7da++/nNjYWBUVFengwYMOZz8uPd7FK7UKCwvVuXPnK9Z9tWJjY5WUlKScnByHcHHpa//8889KSkrS5MmTNWHCBHv7pe/RxavaLm0v6Zi1atWSMUZxcXGqW7euM6YDuAQfYwHl3Nq1a/XCCy8oLi5O/fr1u+y4zMzMYm0XbxyYl5cnSapUqZIklRg+yuL99993WEf0ySefKD09XQkJCfa2WrVqafPmzbpw4YK9bfny5b956XJYWJjat2+vd999V0eOHHHoM8bYH3t6ejrsS9Ls2bNVWFjo0NatWzf973//U3Jysr0tNzdXb731lmrUqKGGDRtetpaL85k1a5ZD+6VfSeHp6anevXvr008/LTGknTx58rKvcTndunVTQUGB3nzzTXtbYWGhZs+eXey1JRX7WZRUY5cuXbRkyRKHn+uePXv05ZdfOoy999575enpqcmTJxc7rjGmxEvagfKIMztAOfLFF19o7969Kigo0PHjx7V27VqtXr1asbGxWrZs2RVvujdlyhRt3LhR3bt3V2xsrE6cOKE33nhD1atXty/KrVWrloKDgzVnzhwFBASoUqVKio+Pt6/rKK2QkBC1bdtWjz76qI4fP66ZM2eqdu3aDpfHDx48WJ988om6du2q+++/XwcPHtT8+fOLrX8pyaxZs9S2bVs1b95cQ4cOVVxcnA4dOqQVK1bYv/Lirrvu0r/+9S8FBQWpYcOGSk5O1po1axQaGupwrHHjxumDDz5QQkKCRowYoZCQEL333ntKS0vTp59+Kg+Py/+/380336y+ffvqjTfeUFZWlm677TYlJSUpNTW12Njp06dr3bp1io+P15AhQ9SwYUNlZmZqx44dWrNmTYmh9Ep69OihNm3aaNy4cTp06JAaNmyoxYsXO6xHkqTAwEC1b99eL774ovLz81WtWjWtWrVKaWlpxY45efJkrVy5Uu3atdOTTz6pgoICzZ49W40aNdLOnTvt42rVqqW//OUvSkxM1KFDh9SrVy8FBAQoLS1Nn332mYYOHaqnn366VPMBXMJVl4EB+H8XLz2/uHl7e5uIiAjzhz/8wbz66qsOl3dfdOml50lJSebuu+82UVFRxtvb20RFRZm+ffua/fv3Ozxv6dKlpmHDhsbLy8vh0uUOHTqYRo0alVjf5S49/+CDD0xiYqIJDw83fn5+pnv37sUuEzfGmJdfftlUq1bN+Pj4mDZt2pht27Zd1aXnxhiza9cuc88995jAwEAjydSrV8+MHz/e3v/zzz+bRx991FSpUsX4+/ubLl26mL1795Z4yfvBgwfNH//4RxMcHGx8fX1Nq1atzPLly0uc86XOnTtnRowYYUJDQ02lSpVMjx49zNGjR4tdem6MMcePHzfDhg0z0dHRpkKFCiYiIsJ06tTJvPXWW7/5Opdeem6MMadOnTIPP/ywCQwMNEFBQebhhx82X3/9dbGf1w8//GDuueceExwcbIKCgsx9991njh07VmKNGzZsMC1atDDe3t6mZs2aZs6cOcV+py769NNPTdu2bU2lSpVMpUqVTP369c2wYcPMvn37rupnB7iazZhLzk0CQDnVuXNn/fnPf9add97p6lIAuBHW7ABwGz169HD4ygwAuBqs2QFQ7n3wwQfKzc3Vxx9/rPDwcFeXA8DNcGYHQLm3e/duDR8+XD/++CMLYgGUGmt2AACApXFmBwAAWBphBwAAWBoLlPXL978cO3ZMAQEBTr+dPgAAuD6MMTpz5oyioqKueGNQwo6kY8eOKTo62tVlAACAMjh69KiqV69+2X7CjqSAgABJv/ywAgMDXVwNAAC4GtnZ2YqOjrb/O345hB3J/tFVYGAgYQcAADfzW0tQWKAMAAAsjbADAAAsjbADAAAsjbADAAAsjbADAAAsjbADAAAsjbADAAAsjbADAAAsjbADAAAsjbADAAAsjbADAAAsjbADAAAsjbADAAAsjbADAAAszaVhZ+PGjerRo4eioqJks9m0ZMkSh36bzVbi9tJLL9nH1KhRo1j/9OnTb/BM4HLn86Qzue61nc9z9U8NAH4XvFz54rm5uWratKkGDhyoe++9t1h/enq6w/4XX3yhQYMGqXfv3g7tU6ZM0ZAhQ+z7AQEB16dglE/n81T4v13yNMbVlZRKoc0mz1aNJV8fV5cCAJbm0rCTkJCghISEy/ZHREQ47C9dulS33367atas6dAeEBBQbCx+R/IL5GmMRn6TpdScAldXc1Vq+3vp1aZBUn4BYQcArjOXhp3SOH78uFasWKH33nuvWN/06dP1wgsvKCYmRg8++KBGjx4tLy+3mRqcJDWnQLuz3SPsAABuHLdJBO+9954CAgKKfdw1YsQINW/eXCEhIfrqq6+UmJio9PR0zZgx47LHysvLU17e/6+XyM7Ovm51AwAA13KbsPPuu++qX79+8vX1dWgfM2aM/XGTJk3k7e2txx57TNOmTZOPT8kfD0ybNk2TJ0++rvUCAIDywS0uPf/Pf/6jffv2afDgwb85Nj4+XgUFBTp06NBlxyQmJiorK8u+HT161InVAgCA8sQtzuy88847atGihZo2bfqbY1NSUuTh4aHw8PDLjvHx8bnsWR8AAGAtLg07OTk5Sk1Nte+npaUpJSVFISEhiomJkfTLepqPP/5YL7/8crHnJycna8uWLbr99tsVEBCg5ORkjR49Wg899JAqV658w+YBAADKL5eGnW3btun222+3719cf9O/f3/NmzdPkrRo0SIZY9S3b99iz/fx8dGiRYs0adIk5eXlKS4uTqNHj3ZYxwMAAH7fbMa42Z3YroPs7GwFBQUpKytLgYGBri4HpXUmV9qxR93/e8ptLj1vFOilFW1CpeYNpIBKri4HANzS1f777RYLlAEAAMqKsAMAACyNsAMAACyNsAMAACyNsAMAACzNLW4qCFjW2XOurqD0KnjxTe0A3AphB3CBMG8PFRojz72HXF1KqRXabPJs1ZjAA8BtEHYAFwisYJOnzaaR32QpNcc97g0kSbX9vfRq0yApv4CwA8BtEHYAF0rNKXCbGyECgLtigTIAALA0wg4AALA0wg4AALA0wg4AALA0wg4AALA0wg4AALA0wg4AALA0wg4AALA0wg4AALA0wg4AALA0wg4AALA0wg4AALA0wg4AALA0wg4AALA0wg4AALA0wg4AALA0wg4AALA0wg4AALA0wg4AALA0wg4AALA0wg4AALA0wg4AALA0wg4AALA0wg4AALA0wg4AALA0wg4AALA0wg4AALA0wg4AALA0wg4AALA0wg4AALA0l4adjRs3qkePHoqKipLNZtOSJUsc+gcMGCCbzeawde3a1WFMZmam+vXrp8DAQAUHB2vQoEHKycm5gbMAAADlmUvDTm5urpo2barXX3/9smO6du2q9PR0+/bBBx849Pfr10+7d+/W6tWrtXz5cm3cuFFDhw693qUDAAA34eXKF09ISFBCQsIVx/j4+CgiIqLEvj179mjlypXaunWrWrZsKUmaPXu2unXrpr///e+Kiopyes0AAMC9lPs1O+vXr1d4eLjq1aunJ554QqdOnbL3JScnKzg42B50JKlz587y8PDQli1bLnvMvLw8ZWdnO2wAAMCaynXY6dq1q95//30lJSXpb3/7mzZs2KCEhAQVFhZKkjIyMhQeHu7wHC8vL4WEhCgjI+Oyx502bZqCgoLsW3R09HWdBwAAcB2Xfoz1W/r06WN/fNNNN6lJkyaqVauW1q9fr06dOpX5uImJiRozZox9Pzs7m8ADAIBFleszO5eqWbOmqlSpotTUVElSRESETpw44TCmoKBAmZmZl13nI/2yDigwMNBhAwAA1uRWYeeHH37QqVOnFBkZKUlq3bq1Tp8+re3bt9vHrF27VkVFRYqPj3dVmQAAoBxx6cdYOTk59rM0kpSWlqaUlBSFhIQoJCREkydPVu/evRUREaGDBw/qz3/+s2rXrq0uXbpIkho0aKCuXbtqyJAhmjNnjvLz8zV8+HD16dOHK7EAAIAkF5/Z2bZtm5o1a6ZmzZpJksaMGaNmzZppwoQJ8vT01M6dO9WzZ0/VrVtXgwYNUosWLfSf//xHPj4+9mMsWLBA9evXV6dOndStWze1bdtWb731lqumBAAAyhmXntnp2LGjjDGX7f/yyy9/8xghISFauHChM8sCAAAW4lZrdgAAAEqLsAMAACyNsAMAACyNsAMAACyNsAMAACyNsAMAACyNsAMAACyNsAMAACyNsAMAACyNsAMAACyNsAMAACyNsAMAACyNsAMAACyNsAMAACyNsAMAACyNsAMAACyNsAMAACyNsAMAACyNsAMAACyNsAMAACyNsAMAACyNsAMAACyNsAMAACyNsAMAACyNsAMAACyNsAMAACyNsAMAACyNsAMAACyNsAMAACyNsAMAACyNsAMAACyNsAMAACyNsAMAACyNsAMAACyNsAMAACyNsAMAACyNsAMAACyNsAMAACyNsAMAACzNpWFn48aN6tGjh6KiomSz2bRkyRJ7X35+vsaOHaubbrpJlSpVUlRUlB555BEdO3bM4Rg1atSQzWZz2KZPn36DZwIAAMorl4ad3NxcNW3aVK+//nqxvrNnz2rHjh0aP368duzYocWLF2vfvn3q2bNnsbFTpkxRenq6fXvqqaduRPkAAMANeLnyxRMSEpSQkFBiX1BQkFavXu3Q9tprr6lVq1Y6cuSIYmJi7O0BAQGKiIi4rrUCAAD35FZrdrKysmSz2RQcHOzQPn36dIWGhqpZs2Z66aWXVFBQcMXj5OXlKTs722EDAADW5NIzO6Vx/vx5jR07Vn379lVgYKC9fcSIEWrevLlCQkL01VdfKTExUenp6ZoxY8ZljzVt2jRNnjz5RpQNAABczC3CTn5+vu6//34ZY/Tmm2869I0ZM8b+uEmTJvL29tZjjz2madOmycfHp8TjJSYmOjwvOztb0dHR16d4AADgUuU+7FwMOocPH9batWsdzuqUJD4+XgUFBTp06JDq1atX4hgfH5/LBiEAAGAt5TrsXAw6Bw4c0Lp16xQaGvqbz0lJSZGHh4fCw8NvQIUAAKC8c2nYycnJUWpqqn0/LS1NKSkpCgkJUWRkpP74xz9qx44dWr58uQoLC5WRkSFJCgkJkbe3t5KTk7VlyxbdfvvtCggIUHJyskaPHq2HHnpIlStXdtW0AABAOeLSsLNt2zbdfvvt9v2L62j69++vSZMmadmyZZKkm2++2eF569atU8eOHeXj46NFixZp0qRJysvLU1xcnEaPHu2wHgcAAPy+uTTsdOzYUcaYy/ZfqU+Smjdvrs2bNzu7LAAAYCFudZ8dAACA0iLsAAAASyPsAAAASyPsAAAASyPsAAAASyPsAAAASyvXd1AGUE6dPefqCkqngpfky1fEAL9XhB0AVy3M20OFxshz7yFXl1IqhTabPFs1JvAAv1OEHQBXLbCCTZ42m0Z+k6XUnAJXl3NVavt76dWmQVJ+AWEH+J0i7AAotdScAu3Odo+wAwAsUAYAAJZG2AEAAJZG2AEAAJZG2AEAAJZG2AEAAJZG2AEAAJZG2AEAAJZG2AEAAJZG2AEAAJZW5rBz+vRpvf3220pMTFRmZqYkaceOHfrxxx+dVhwAAMC1KtPXRezcuVOdO3dWUFCQDh06pCFDhigkJESLFy/WkSNH9P777zu7TgAAgDIp05mdMWPGaMCAATpw4IB8fX3t7d26ddPGjRudVhwAAMC1KlPY2bp1qx577LFi7dWqVVNGRsY1FwUAAOAsZQo7Pj4+ys7OLta+f/9+hYWFXXNRAAAAzlKmsNOzZ09NmTJF+fn5kiSbzaYjR45o7Nix6t27t1MLBAAAuBZlCjsvv/yycnJyFB4ernPnzqlDhw6qXbu2AgICNHXqVGfXCAAAUGZluhorKChIq1ev1qZNm7Rz507l5OSoefPm6ty5s7PrAwAAuCZlCjsXtW3bVm3btnVWLQAAAE531WFn1qxZV33QESNGlKkYAAAAZ7vqsPPKK6847J88eVJnz55VcHCwpF/uqFyxYkWFh4cTdgAAQLlx1QuU09LS7NvUqVN18803a8+ePcrMzFRmZqb27Nmj5s2b64UXXrie9QIAAJRKma7GGj9+vGbPnq169erZ2+rVq6dXXnlFzz//vNOKAwAAuFZlCjvp6ekqKCgo1l5YWKjjx49fc1EAAADOUqaw06lTJz322GPasWOHvW379u164oknuPwcAACUK2UKO++++64iIiLUsmVL+fj4yMfHR61atVLVqlX19ttvO7tGAACAMivTfXbCwsL0+eefa//+/dq7d68kqX79+qpbt65TiwMAALhW13RTwbp16xJwAABAuVbmsPPDDz9o2bJlOnLkiC5cuODQN2PGjGsuDAAAwBnKFHaSkpLUs2dP1axZU3v37lXjxo116NAhGWPUvHlzZ9cIAABQZmVaoJyYmKinn35a3377rXx9ffXpp5/q6NGj6tChg+67776rPs7GjRvVo0cPRUVFyWazacmSJQ79xhhNmDBBkZGR8vPzU+fOnXXgwAGHMZmZmerXr58CAwMVHBysQYMGKScnpyzTAgAAFlSmsLNnzx498sgjkiQvLy+dO3dO/v7+mjJliv72t79d9XFyc3PVtGlTvf766yX2v/jii5o1a5bmzJmjLVu2qFKlSurSpYvOnz9vH9OvXz/t3r1bq1ev1vLly7Vx40YNHTq0LNMCAAAWVKaPsSpVqmRfpxMZGamDBw+qUaNGkqSffvrpqo+TkJCghISEEvuMMZo5c6aef/553X333ZKk999/X1WrVtWSJUvUp08f7dmzRytXrtTWrVvVsmVLSdLs2bPVrVs3/f3vf1dUVFRZpgcAACykTGd2br31Vm3atEmS1K1bN/3pT3/S1KlTNXDgQN16661OKSwtLU0ZGRkONykMCgpSfHy8kpOTJUnJyckKDg62Bx1J6ty5szw8PLRly5bLHjsvL0/Z2dkOGwAAsKYyndmZMWOGfV3M5MmTlZOTow8//FB16tRx2pVYGRkZkqSqVas6tFetWtXel5GRofDwcId+Ly8vhYSE2MeUZNq0aZo8ebJT6gQAAOVbmcJOzZo17Y8rVaqkOXPmOK2gGyExMVFjxoyx72dnZys6OtqFFQEAgOulTB9j3QgRERGSVOyLRY8fP27vi4iI0IkTJxz6CwoKlJmZaR9TEh8fHwUGBjpsAADAmq76zE7lypVls9muamxmZmaZC7ooLi5OERERSkpK0s033yzplzMwW7Zs0RNPPCFJat26tU6fPq3t27erRYsWkqS1a9eqqKhI8fHx11wDAABwf1cddmbOnGl/fOrUKf3lL39Rly5d1Lp1a0m/LBb+8ssvNX78+Kt+8ZycHKWmptr309LSlJKSopCQEMXExGjUqFH6y1/+ojp16iguLk7jx49XVFSUevXqJUlq0KCBunbtqiFDhmjOnDnKz8/X8OHD1adPH67EAgAAkkoRdvr3729/3Lt3b02ZMkXDhw+3t40YMUKvvfaa1qxZo9GjR1/VMbdt26bbb7/dvn9xHU3//v01b948/fnPf1Zubq6GDh2q06dPq23btlq5cqV8fX3tz1mwYIGGDx+uTp06ycPDQ71799asWbOudloAAMDiyrRA+csvvyzx5oFdu3bVuHHjrvo4HTt2lDHmsv02m01TpkzRlClTLjsmJCRECxcuvOrXBAAAvy9lWqAcGhqqpUuXFmtfunSpQkNDr7koAAAAZynTmZ3Jkydr8ODBWr9+vX0h8JYtW7Ry5Ur985//dGqBAAAA16JMYWfAgAFq0KCBZs2apcWLF0v6ZbHwpk2buAoKAACUK2UKO5IUHx+vBQsWOLMWAAAAp7vqsJOdnW2/+d5vfZcUN+kDAADlRaluKpienq7w8HAFBweXeINBY4xsNpsKCwudWiQAAEBZXXXYWbt2rUJCQiRJ69atu24FAQAAONNVh50OHTrYH8fFxSk6OrrY2R1jjI4ePeq86gAAAK5Rme6zExcXp5MnTxZrz8zMVFxc3DUXBQAA4CxlCjsX1+ZcKicnx+GrHAAAAFytVJeeX/zuKpvNpvHjx6tixYr2vsLCQm3ZssX+DeUAAADlQanCztdffy3plzM73377rby9ve193t7eatq0qZ5++mnnVggAAHANShV2Ll6F9eijj+rVV1/lfjoAAKDcK9MdlOfOnevsOgAAAK6LMoWd3NxcTZ8+XUlJSTpx4oSKiooc+r///nunFAcAAHCtyhR2Bg8erA0bNujhhx9WZGRkiVdmAQAAlAdlCjtffPGFVqxYoTZt2ji7HgAAAKcq0312KleubP/qCAAAgPKsTGHnhRde0IQJE3T27Fln1wMAAOBUZfoY6+WXX9bBgwdVtWpV1ahRQxUqVHDo37Fjh1OKAwAAuFZlCju9evVychkAAADXR5nCzsSJE51dBwAAwHVRpjU7AAAA7qJMZ3YKCwv1yiuv6KOPPtKRI0d04cIFh/7MzEynFAcAAHCtynRmZ/LkyZoxY4YeeOABZWVlacyYMbr33nvl4eGhSZMmOblEAACAsitT2FmwYIH++c9/6k9/+pO8vLzUt29fvf3225owYYI2b97s7BoBAADKrExhJyMjQzfddJMkyd/fX1lZWZKku+66SytWrHBedQAAANeoTGGnevXqSk9PlyTVqlVLq1atkiRt3bpVPj4+zqsOAADgGpUp7Nxzzz1KSkqSJD311FMaP3686tSpo0ceeUQDBw50aoEAAADXokxXY02fPt3++IEHHlBMTIySk5NVp04d9ejRw2nFAQAAXKsyhZ1LtW7dWq1bt3bGoQAAAJyqTGHn/fffv2L/I488UqZiAAAAnK1MYWfkyJEO+/n5+Tp79qy8vb1VsWJFwg4AACg3yrRA+eeff3bYcnJytG/fPrVt21YffPCBs2sEAAAoM6d9N1adOnU0ffr0Ymd9AAAAXMmpXwTq5eWlY8eOOfOQAAAA16RMa3aWLVvmsG+MUXp6ul577TW1adPGKYUBAAA4Q5nCTq9evRz2bTabwsLCdMcdd+jll192Rl0AAABOUaaPsYqKilRUVKTjx4/r559/VmFhoTIyMrRw4UJFRkY6tcAaNWrIZrMV24YNGyZJ6tixY7G+xx9/3Kk1AAAA91XqsHP69GkNGzZMVapUUUREhEJCQhQREaHExESdPXvW6QVu3bpV6enp9m316tWSpPvuu88+ZsiQIQ5jXnzxRafXAQAA3FOpPsbKzMxU69at9eOPP6pfv35q0KCBJOm7777T7NmztXr1am3atEk7d+7U5s2bNWLEiGsuMCwszGF/+vTpqlWrljp06GBvq1ixoiIiIq75tQAAgPWUKuxMmTJF3t7eOnjwoKpWrVqs784779TDDz+sVatWadasWU4tVJIuXLig+fPna8yYMbLZbPb2BQsWaP78+YqIiFCPHj00fvx4VaxY0emvDwAA3E+pws6SJUv0j3/8o1jQkaSIiAi9+OKL6tatmyZOnKj+/fs7rchfv/7p06c1YMAAe9uDDz6o2NhYRUVFaefOnRo7dqz27dunxYsXX/Y4eXl5ysvLs+9nZ2c7vVYAAFA+lCrspKenq1GjRpftb9y4sTw8PDRx4sRrLqwk77zzjhISEhQVFWVvGzp0qP3xTTfdpMjISHXq1EkHDx5UrVq1SjzOtGnTNHny5OtSIwAAKF9KtUC5SpUqOnTo0GX709LSFB4efq01lejw4cNas2aNBg8efMVx8fHxkqTU1NTLjklMTFRWVpZ9O3r0qFNrBQAA5Uepwk6XLl303HPP6cKFC8X68vLyNH78eHXt2tVpxf3a3LlzFR4eru7du19xXEpKiiRd8RJ4Hx8fBQYGOmwAAMCaSr1AuWXLlqpTp46GDRum+vXryxijPXv26I033lBeXp7ef/99pxdZVFSkuXPnqn///vLy+v+SDx48qIULF6pbt24KDQ3Vzp07NXr0aLVv315NmjRxeh0AAMD9lCrsVK9eXcnJyXryySeVmJgoY4ykX+6g/Ic//EGvvfaaYmJinF7kmjVrdOTIEQ0cONCh3dvbW2vWrNHMmTOVm5ur6Oho9e7dW88//7zTawAAAO6p1F8XERcXpy+++EI///yzDhw4IEmqXbu2QkJCnF7cRXfeeac9WP1adHS0NmzYcN1eFwAAuL8yfTeWJFWuXFmtWrVyZi0AAABOV6bvxgIAAHAXhB0AAGBpZf4YCwDcytlzrq6gdCp4Sb4+rq4CsATCDgBLC/P2UKEx8tx7yNWllEqhzSbPVo0JPIATEHYAWFpgBZs8bTaN/CZLqTkFri7nqtT299KrTYOk/ALCDuAEhB0AvwupOQXane0eYQeAc7FAGQAAWBphBwAAWBphBwAAWBphBwAAWBphBwAAWBphBwAAWBphBwAAWBphBwAAWBphBwAAWBphBwAAWBphBwAAWBphBwAAWBphBwAAWBphBwAAWBphBwAAWBphBwAAWBphBwAAWBphBwAAWBphBwAAWBphBwAAWBphBwAAWBphBwAAWBphBwAAWBphBwAAWBphBwAAWBphBwAAWBphBwAAWJqXqwuwvPN5Un6Bq6sonQpekq+Pq6sAAMApCDvX0/k8Ff5vlzyNcXUlpVJos8mzVWMCDwDAEgg711N+gTyN0chvspSa4x5nd2r7e+nVpkG/nI0i7AAALICwcwOk5hRod7Z7hB0AAKyGBcoAAMDSynXYmTRpkmw2m8NWv359e//58+c1bNgwhYaGyt/fX71799bx48ddWDEAAChvynXYkaRGjRopPT3dvm3atMneN3r0aP373//Wxx9/rA0bNujYsWO69957XVgtAAAob8r9mh0vLy9FREQUa8/KytI777yjhQsX6o477pAkzZ07Vw0aNNDmzZt166233uhSAQBAOVTuz+wcOHBAUVFRqlmzpvr166cjR45IkrZv3678/Hx17tzZPrZ+/fqKiYlRcnLyFY+Zl5en7Oxshw0AAFhTuQ478fHxmjdvnlauXKk333xTaWlpateunc6cOaOMjAx5e3srODjY4TlVq1ZVRkbGFY87bdo0BQUF2bfo6OjrOAsAAOBK5fpjrISEBPvjJk2aKD4+XrGxsfroo4/k5+dX5uMmJiZqzJgx9v3s7GwCDwAAFlWuz+xcKjg4WHXr1lVqaqoiIiJ04cIFnT592mHM8ePHS1zj82s+Pj4KDAx02AAAgDW5VdjJycnRwYMHFRkZqRYtWqhChQpKSkqy9+/bt09HjhxR69atXVglAAAoT8r1x1hPP/20evToodjYWB07dkwTJ06Up6en+vbtq6CgIA0aNEhjxoxRSEiIAgMD9dRTT6l169ZciQUAAOzKddj54Ycf1LdvX506dUphYWFq27atNm/erLCwMEnSK6+8Ig8PD/Xu3Vt5eXnq0qWL3njjDRdXDQAAypNyHXYWLVp0xX5fX1+9/vrrev31129QRQAAwN2U67ADFzp7ztUVXD13qhUAcMMRduAgzNtDhcbIc+8hV5cCAIBTEHbgILCCTZ42m0Z+k6XUnAJXl3NVOoZ565m6Aa4uA3A+dztrWcFL8vVxdRVAMYQdlCg1p0C7s90j7NSq5OnqEgCnctczrIU2mzxbNSbwoNwh7ABAOeOOZ1hr+3vp1aZBUn4BYQflDmEHAMopdzrDCpRnbnUHZQAAgNIi7AAAAEsj7AAAAEsj7AAAAEsj7AAAAEsj7AAAAEsj7AAAAEsj7AAAAEsj7AAAAEsj7AAAAEsj7AAAAEsj7AAAAEsj7AAAAEsj7AAAAEsj7AAAAEsj7AAAAEsj7AAAAEsj7AAAAEsj7AAAAEsj7AAAAEsj7AAAAEsj7AAAAEsj7AAAAEsj7AAAAEsj7AAAAEsj7AAAAEsj7AAAAEsj7AAAAEsj7AAAAEsj7AAAAEsj7AAAAEsj7AAAAEsj7AAAAEsr12Fn2rRpuuWWWxQQEKDw8HD16tVL+/btcxjTsWNH2Ww2h+3xxx93UcUAAKC8KddhZ8OGDRo2bJg2b96s1atXKz8/X3feeadyc3Mdxg0ZMkTp6en27cUXX3RRxQAAoLzxcnUBV7Jy5UqH/Xnz5ik8PFzbt29X+/bt7e0VK1ZURETEjS4PAAC4gXJ9ZudSWVlZkqSQkBCH9gULFqhKlSpq3LixEhMTdfbs2SseJy8vT9nZ2Q4bAACwpnJ9ZufXioqKNGrUKLVp00aNGze2tz/44IOKjY1VVFSUdu7cqbFjx2rfvn1avHjxZY81bdo0TZ48+UaUDQAAXMxtws6wYcO0a9cubdq0yaF96NCh9sc33XSTIiMj1alTJx08eFC1atUq8ViJiYkaM2aMfT87O1vR0dHXp3AA+D05e87VFZROBS/J18fVVeA6c4uwM3z4cC1fvlwbN25U9erVrzg2Pj5ekpSamnrZsOPj4yMfH365AcBZwrw9VGiMPPcecnUppVJos8mzVWMCj8WV67BjjNFTTz2lzz77TOvXr1dcXNxvPiclJUWSFBkZeZ2rAwBcFFjBJk+bTSO/yVJqToGry7kqtf299GrTICm/gLBjceU67AwbNkwLFy7U0qVLFRAQoIyMDElSUFCQ/Pz8dPDgQS1cuFDdunVTaGiodu7cqdGjR6t9+/Zq0qSJi6sHgN+f1JwC7c52j7CD349yHXbefPNNSb/cOPDX5s6dqwEDBsjb21tr1qzRzJkzlZubq+joaPXu3VvPP/+8C6oFAADlUbkOO8aYK/ZHR0drw4YNN6gaAADgjtzqPjsAAAClRdgBAACWRtgBAACWRtgBAACWRtgBAACWRtgBAACWRtgBAACWRtgBAACWRtgBAACWRtgBAACWRtgBAACWRtgBAACWRtgBAACWRtgBAACWRtgBAACWRtgBAACWRtgBAACWRtgBAACWRtgBAACWRtgBAACWRtgBAACWRtgBAACWRtgBAACWRtgBAACW5uXqAgAAcKmz51xdQelU8JJ8fVxdhVsh7AAAfpfCvD1UaIw89x5ydSmlUmizybNVYwJPKRB2AAC/S4EVbPK02TTymyyl5hS4upyrUtvfS682DZLyCwg7pUDYAQD8rqXmFGh3tnuEHZQNC5QBAIClEXYAAIClEXYAAIClEXYAAIClEXYAAIClEXYAAIClEXYAAIClEXYAAIClEXYAAIClEXYAAIClWebrIl5//XW99NJLysjIUNOmTTV79my1atXK1WUBAOB8fFN7qVgi7Hz44YcaM2aM5syZo/j4eM2cOVNdunTRvn37FB4e7uryAABwCr6pvWwsEXZmzJihIUOG6NFHH5UkzZkzRytWrNC7776rcePGubg6AACcg29qLxu3DzsXLlzQ9u3blZiYaG/z8PBQ586dlZyc7MLKAAC4Pvim9tJx+7Dz008/qbCwUFWrVnVor1q1qvbu3Vvic/Ly8pSXl2ffz8rKkiRlZ2c7t7gzuVJujqK98pTv7R6/lGE2o2xqvu7csWbJPeum5huDmm8Md6w52qtQ2bk5Una2ZAqdeuyL/24bY6480Li5H3/80UgyX331lUP7M888Y1q1alXicyZOnGgksbGxsbGxsVlgO3r06BWzgtuf2alSpYo8PT11/Phxh/bjx48rIiKixOckJiZqzJgx9v2ioiJlZmYqNDRUNpvtmmvKzs5WdHS0jh49qsDAwGs+Xnlj9flJzNEKrD4/iTlagdXnJ13fORpjdObMGUVFRV1xnNuHHW9vb7Vo0UJJSUnq1auXpF/CS1JSkoYPH17ic3x8fOTj47hIKjg42Om1BQYGWvaXV7L+/CTmaAVWn5/EHK3A6vOTrt8cg4KCfnOM24cdSRozZoz69++vli1bqlWrVpo5c6Zyc3PtV2cBAIDfL0uEnQceeEAnT57UhAkTlJGRoZtvvlkrV64stmgZAAD8/lgi7EjS8OHDL/ux1Y3m4+OjiRMnFvuozCqsPj+JOVqB1ecnMUcrsPr8pPIxR5sxv3W9FgAAgPvii0ABAIClEXYAAIClEXYAAIClEXYAAIClEXac7PXXX1eNGjXk6+ur+Ph4/e9//3N1SWW2ceNG9ejRQ1FRUbLZbFqyZIlDvzFGEyZMUGRkpPz8/NS5c2cdOHDANcWWwbRp03TLLbcoICBA4eHh6tWrl/bt2+cw5vz58xo2bJhCQ0Pl7++v3r17F7tbd3n25ptvqkmTJvabebVu3VpffPGFvd/d53ep6dOny2azadSoUfY2d5/jpEmTZLPZHLb69evb+919fhf9+OOPeuihhxQaGio/Pz/ddNNN2rZtm73f3f/e1KhRo9j7aLPZNGzYMEnu/z4WFhZq/PjxiouLk5+fn2rVqqUXXnjB4TurXPoeXvu3U+GiRYsWGW9vb/Puu++a3bt3myFDhpjg4GBz/PhxV5dWJp9//rl57rnnzOLFi40k89lnnzn0T58+3QQFBZklS5aYb775xvTs2dPExcWZc+fOuabgUurSpYuZO3eu2bVrl0lJSTHdunUzMTExJicnxz7m8ccfN9HR0SYpKcls27bN3Hrrrea2225zYdWls2zZMrNixQqzf/9+s2/fPvPss8+aChUqmF27dhlj3H9+v/a///3P1KhRwzRp0sSMHDnS3u7uc5w4caJp1KiRSU9Pt28nT56097v7/IwxJjMz08TGxpoBAwaYLVu2mO+//958+eWXJjU11T7G3f/enDhxwuE9XL16tZFk1q1bZ4xx//dx6tSpJjQ01CxfvtykpaWZjz/+2Pj7+5tXX33VPsaV7yFhx4latWplhg0bZt8vLCw0UVFRZtq0aS6syjkuDTtFRUUmIiLCvPTSS/a206dPGx8fH/PBBx+4oMJrd+LECSPJbNiwwRjzy3wqVKhgPv74Y/uYPXv2GEkmOTnZVWVes8qVK5u3337bUvM7c+aMqVOnjlm9erXp0KGDPexYYY4TJ040TZs2LbHPCvMzxpixY8eatm3bXrbfin9vRo4caWrVqmWKioos8T52797dDBw40KHt3nvvNf369TPGuP495GMsJ7lw4YK2b9+uzp0729s8PDzUuXNnJScnu7Cy6yMtLU0ZGRkO8w0KClJ8fLzbzjcrK0uSFBISIknavn278vPzHeZYv359xcTEuOUcCwsLtWjRIuXm5qp169aWmt+wYcPUvXt3h7lI1nkPDxw4oKioKNWsWVP9+vXTkSNHJFlnfsuWLVPLli113333KTw8XM2aNdM///lPe7/V/t5cuHBB8+fP18CBA2Wz2SzxPt52221KSkrS/v37JUnffPONNm3apISEBEmufw8tcwdlV/vpp59UWFhY7Csqqlatqr1797qoqusnIyNDkkqc78U+d1JUVKRRo0apTZs2aty4saRf5ujt7V3sS2LdbY7ffvutWrdurfPnz8vf31+fffaZGjZsqJSUFEvMb9GiRdqxY4e2bt1arM8K72F8fLzmzZunevXqKT09XZMnT1a7du20a9cuS8xPkr7//nu9+eabGjNmjJ599llt3bpVI0aMkLe3t/r372+5vzdLlizR6dOnNWDAAEnW+D0dN26csrOzVb9+fXl6eqqwsFBTp05Vv379JLn+3wzCDqBfzgzs2rVLmzZtcnUpTlevXj2lpKQoKytLn3zyifr3768NGza4uiynOHr0qEaOHKnVq1fL19fX1eVcFxf/z1iSmjRpovj4eMXGxuqjjz6Sn5+fCytznqKiIrVs2VJ//etfJUnNmjXTrl27NGfOHPXv39/F1TnfO++8o4SEBEVFRbm6FKf56KOPtGDBAi1cuFCNGjVSSkqKRo0apaioqHLxHvIxlpNUqVJFnp6exVbPHz9+XBERES6q6vq5OCcrzHf48OFavny51q1bp+rVq9vbIyIidOHCBZ0+fdphvLvN0dvbW7Vr11aLFi00bdo0NW3aVK+++qol5rd9+3adOHFCzZs3l5eXl7y8vLRhwwbNmjVLXl5eqlq1qtvP8VLBwcGqW7euUlNTLfEeSlJkZKQaNmzo0NagQQP7x3VW+ntz+PBhrVmzRoMHD7a3WeF9fOaZZzRu3Dj16dNHN910kx5++GGNHj1a06ZNk+T695Cw4yTe3t5q0aKFkpKS7G1FRUVKSkpS69atXVjZ9REXF6eIiAiH+WZnZ2vLli1uM19jjIYPH67PPvtMa9euVVxcnEN/ixYtVKFCBYc57tu3T0eOHHGbOZakqKhIeXl5lphfp06d9O233yolJcW+tWzZUv369bM/dvc5XionJ0cHDx5UZGSkJd5DSWrTpk2x2z7s379fsbGxkqzx9+aiuXPnKjw8XN27d7e3WeF9PHv2rDw8HCOFp6enioqKJJWD9/C6L4H+HVm0aJHx8fEx8+bNM999950ZOnSoCQ4ONhkZGa4urUzOnDljvv76a/P1118bSWbGjBnm66+/NocPHzbG/HIZYXBwsFm6dKnZuXOnufvuu93qUtAnnnjCBAUFmfXr1ztcEnr27Fn7mMcff9zExMSYtWvXmm3btpnWrVub1q1bu7Dq0hk3bpzZsGGDSUtLMzt37jTjxo0zNpvNrFq1yhjj/vMrya+vxjLG/ef4pz/9yaxfv96kpaWZ//73v6Zz586mSpUq5sSJE8YY95+fMb/cNsDLy8tMnTrVHDhwwCxYsMBUrFjRzJ8/3z7G3f/eGPPLFboxMTFm7Nixxfrc/X3s37+/qVatmv3S88WLF5sqVaqYP//5z/YxrnwPCTtONnv2bBMTE2O8vb1Nq1atzObNm11dUpmtW7fOSCq29e/f3xjzy6WE48ePN1WrVjU+Pj6mU6dOZt++fa4tuhRKmpskM3fuXPuYc+fOmSeffNJUrlzZVKxY0dxzzz0mPT3ddUWX0sCBA01sbKzx9vY2YWFhplOnTvagY4z7z68kl4Ydd5/jAw88YCIjI423t7epVq2aeeCBBxzuP+Pu87vo3//+t2ncuLHx8fEx9evXN2+99ZZDv7v/vTHGmC+//NJIKrFud38fs7OzzciRI01MTIzx9fU1NWvWNM8995zJy8uzj3Hle2gz5le3NwQAALAY1uwAAABLI+wAAABLI+wAAABLI+wAAABLI+wAAABLI+wAAABLI+wAAABLI+wAcFsdO3bUqFGjrukY69evl81mK/a9RACsg7ADoNwaMGCAevXq5eoyALg5wg4AALA0wg4At5Cbm6tHHnlE/v7+ioyM1Msvv1xszL/+9S+1bNlSAQEBioiI0IMPPqgTJ044jPn8889Vt25d+fn56fbbb9ehQ4eKHWfTpk1q166d/Pz8FB0drREjRig3N/d6TQ3AdUbYAeAWnnnmGW3YsEFLly7VqlWrtH79eu3YscNhTH5+vl544QV98803WrJkiQ4dOqQBAwbY+48ePap7771XPXr0UEpKigYPHqxx48Y5HOPgwYPq2rWrevfurZ07d+rDDz/Upk2bNHz48BsxTQDXAV8ECqDcGjBggE6fPq358+crNDRU8+fP13333SdJyszMVPXq1TV06FDNnDmzxOdv27ZNt9xyi86cOSN/f389++yzWrp0qXbv3m0fM27cOP3tb3/Tzz//rODgYA0ePFienp76xz/+YR+zadMmdejQQbm5ufL19b2ucwbgfJzZAVDuHTx4UBcuXFB8fLy9LSQkRPXq1XMYt337dvXo0UMxMTEKCAhQhw4dJElHjhyRJO3Zs8fhGJLUunVrh/1vvvlG8+bNk7+/v33r0qWLioqKlJaWdj2mB+A683J1AQDgDLm5uerSpYu6dOmiBQsWKCwsTEeOHFGXLl104cKFqz5OTk6OHnvsMY0YMaJYX0xMjDNLBnCDEHYAlHu1atVShQoVtGXLFnvg+Pnnn7V//3772Zu9e/fq1KlTmj59uqKjoyX98jHWrzVo0EDLli1zaNu8ebPDfvPmzfXdd9+pdu3a12s6AG4wPsYCUO75+/tr0KBBeuaZZ7R27Vrt2rVLAwYMkIfH//8Ji4mJkbe3t2bPnq3vv/9ey5Yt0wsvvOBwnMcff1wHDhzQM888o3379mnhwoWaN2+ew5ixY8fqq6++0vDhw5WSkqIDBw5o6dKlLFAG3BhhB4BbeOmll9SuXTv16NFDnTt3Vtu2bdWiRQt7f1hYmObNm6ePP/5YDRs21PTp0/X3v//d4RgxMTH69NNPtWTJEjVt2lRz5szRX//6V4cxTZo00YYNG7R//361a9dOzZo104QJExQVFXVD5gnA+bgaCwAAWBpndgAAgKURdgAAgKURdgAAgKURdgAAgKURdgAAgKURdgAAgKURdgAAgKURdgAAgKURdgAAgKURdgAAgKURdgAAgKURdgAAgKX9Hz1ENxsO/nD5AAAAAElFTkSuQmCC",
=======
      "image/png": "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",
>>>>>>> d0272b0e971aa8c3e9bbbff7edc83af7e132fef5
      "text/plain": [
       "<Figure size 640x480 with 1 Axes>"
      ]
     },
     "metadata": {},
     "output_type": "display_data"
    }
   ],
   "source": [
    "# Criando um histograma com a distribuição de idade em passageiros do Titanic\n",
    "\n",
    "df['Idade'].plot.hist(bins=10, edgecolor='black')\n",
    "\n",
    "plt.xlabel('Idade')\n",
    "plt.ylabel('Quantidade')\n",
    "plt.title('Distribuição de Idade')"
   ]
  },
  {
   "cell_type": "markdown",
   "metadata": {},
   "source": [
    "### Exercício 05\n",
    "\n",
    "- Gerar 3 gráficos com ideias de interesses\n"
   ]
  },
  {
   "cell_type": "code",
<<<<<<< HEAD
   "execution_count": 151,
=======
   "execution_count": 86,
   "metadata": {},
   "outputs": [],
   "source": [
    "# exemplo dúvida: como pegar uma única classe (a importância do reset_index())\n",
    "agg_classe = df.groupby(['Classe', 'Sexo']).agg({'Sobreviveu': ['count']})\n",
    "agg_classe.reset_index(inplace=True)"
   ]
  },
  {
   "cell_type": "code",
   "execution_count": 90,
>>>>>>> d0272b0e971aa8c3e9bbbff7edc83af7e132fef5
   "metadata": {},
   "outputs": [
    {
     "data": {
<<<<<<< HEAD
      "image/png": "iVBORw0KGgoAAAANSUhEUgAAAZkAAAG5CAYAAABcCUn4AAAAOXRFWHRTb2Z0d2FyZQBNYXRwbG90bGliIHZlcnNpb24zLjguMCwgaHR0cHM6Ly9tYXRwbG90bGliLm9yZy81sbWrAAAACXBIWXMAAA9hAAAPYQGoP6dpAABNRUlEQVR4nO3dd1zU9eMH8Ncd65gCshUBEcUJiiO34sCRaW7lqzj7ZmqpWWb91FyZWWlljurr1124rSxnas7cg9wIiqLIEBGQee/fH8R9PRky7u5z4/V8PHwIn/twn9fdcbzuM98yIYQAERGRFsilDkBERMaLJUNERFrDkiEiIq1hyRARkdawZIiISGtYMkREpDUsGSIi0hqWDBERaQ1LhoiItIYlY+SmTp0Ke3t7REREICUlBfXq1cOFCxe0vtxDhw5BJpPh0KFDWl9WRY0YMQJ2dnZSx1CzevVqyGQyxMbGSh2FntOhQwd06NBBsuXLZDJ8/PHHki2/Moy+ZArftIX/FAoFateujQkTJiAhIUHqeFqVnp6O5cuXY86cOfj777/h4uICOzs7NGrUSOpoFZKYmIh33nkHgYGBsLa2hpubG5o3b45p06YhPT1d6nhGJz4+Hh9//LFOPpToWmxsrNrfhdL+FVf4xvzcaJq51AF0Zc6cOfDz80NWVhaOHj2K5cuX47fffkNUVBRsbGykjqcVCoUCV65cgY+PDyZPnoz4+Hh4eHhALje8zxYpKSlo2rQp0tLSMGrUKAQGBiI5ORmXLl3C8uXLMW7cOL1bK6mIYcOGYfDgwbCyspI6CuLj4zF79mz4+voiODhY6jga5erqinXr1qlN++KLL3Dv3j0sXry4yLx79+5Vm6br5+bZs2cwNzfMP9eGmboCunfvjqZNmwIAxowZg6pVq+LLL7/Ezp07MWTIkGJ/JiMjA7a2trqM+VLlyWRubg4fHx/V915eXtqKpXX/+c9/cPfuXRw7dgytWrVSuy0tLQ2WlpY6zZOXlwelUqnx5ZqZmcHMzEyj90lF2dra4l//+pfatJ9++gmPHz8uMl0fKBQKqSNUmOF9pNWQ0NBQAEBMTAyA/22fj46ORo8ePWBvb4/w8HAABX/Y3333XXh7e8PKygp16tTB559/jhcvYC2TyTBhwgRs2LABderUgUKhQEhICP78888iyz9//jy6d+8OBwcH2NnZoVOnTjh58qTaPIWb+g4fPoy33noLbm5uqF69uur233//He3bt4e9vT0cHBzQrFkzbNy4UXX7oUOH0L9/f9SoUQNWVlbw9vbG5MmT8ezZsyJ5/vjjD7Rt2xa2trZwdHRE7969cfXq1TI9l/fu3UOfPn1ga2sLNzc3TJ48GdnZ2cXO+9dff6Fbt26oUqUKbGxs0L59exw7duyly4iOjoaZmRleeeWVIrc5ODgUeRNu3rwZISEhsLa2houLC/71r3/h/v37xd737du3ERYWBltbW3h5eWHOnDlqr23hppXPP/8cS5Ysgb+/P6ysrHDlyhUAwLVr19C/f384OztDoVCgadOm+Pnnn1U/f+bMGchkMqxZs6bIsvfs2QOZTIZff/0VQNF9Mq+++ipq1qxZbO6WLVuqPjgVWr9+vepxOzs7Y/DgwYiLi1Obp0OHDmjQoAGuXLmCjh07wsbGBtWqVcNnn32mmufQoUNo1qwZAGDkyJGqTUerV69WzVOW1/Lp06eYNGkSfH19YWVlBTc3N3Tp0gXnzp0r9jEV+vjjjyGTyXDr1i2MGDECjo6OqFKlCkaOHInMzEy1efPy8jB37lzV6+Lr64sPP/ywxN/Binh+n8zLnpsjR45gwIABL33fFf7NuX//Pvr06QM7Ozu4urpi6tSpyM/PV5u3uH0y9+/fx+jRo+Hl5QUrKyv4+flh3LhxyMnJ0djj1ghh5P773/8KAOL06dNq07/66isBQKxYsUIIIURERISwsrIS/v7+IiIiQqxYsUKsXbtWKJVKERoaKmQymRgzZoxYunSp6NWrlwAgJk2apHafAESDBg2Ei4uLmDNnjli4cKHw8fER1tbW4vLly6r5oqKihK2trfD09BRz584Vn376qfDz8xNWVlbi5MmTRbLXq1dPtG/fXnzzzTfi008/Vd0mk8lEgwYNxPz588W3334rxowZI4YNG6b6+XHjxokePXqIBQsWiJUrV4rRo0cLMzMz0b9/f7Xc+/btE+bm5qJ27dris88+E7NnzxYuLi7CyclJxMTElPr8ZmZmitq1awuFQiHef/99sWTJEhESEiIaNWokAIiDBw+q5j1w4ICwtLQULVu2FF988YVYvHixaNSokbC0tBR//fVXqcv55JNPBACxevXqUud7/nlr1qyZWLx4sfjggw+EtbW18PX1FY8fP1bNFxERIRQKhQgICBDDhg0TS5cuFa+++qoAIGbMmKGaLyYmRvU61KxZU3z66adi8eLF4s6dOyIqKkpUqVJF1KtXTyxcuFAsXbpUtGvXTshkMrFt2zbVfdSsWVP06NGjSNaRI0cKJycnkZOTo5a98Hlfu3atACBOnTql9nOxsbECgFi0aJFq2rx584RMJhODBg0Sy5YtU72OLz7u9u3bCy8vL+Ht7S3eeecdsWzZMhEaGioAiN9++00IIcTDhw/FnDlzBADxxhtviHXr1ol169aJ6OhoIUTZX8uhQ4cKS0tLMWXKFPHDDz+IhQsXil69eon169eX+hrOmjVLABCNGzcWffv2FcuWLRNjxowRAMT777+vNm9ERIQAIPr37y++/fZbMXz4cAFA9OnTp9RlvKhnz57Cx8en2Nvat28v2rdvX6bnZuLEiaJHjx7ik08+KfV9V/j7V79+fTFq1CixfPly0a9fPwFALFu2TG1eAGLWrFmq7+/fvy+8vLyEjY2NmDRpklixYoWYMWOGqFu3rtprrQ9MpmT2798vEhMTRVxcnPjpp59E1apVhbW1tbh3754Q4n+/qB988IHaz+/YsUMAEPPmzVOb3r9/fyGTycStW7dU0wAIAOLMmTOqaXfu3BEKhUK8/vrrqml9+vQRlpaWql9KIYSIj48X9vb2ol27dkWyt2nTRuTl5ammp6amCnt7e9GiRQvx7NkztVxKpVL1dUZGRpHnY8GCBUImk4k7d+6opgUHBws3NzeRnJysmnbx4kUhl8vF8OHDi9zH85YsWSIAiE2bNqktt1atWmolo1QqRUBAgAgLC1PLmJmZKfz8/ESXLl1KXc7Dhw+Fq6urACACAwPFm2++KTZu3ChSU1PV5svJyRFubm6iQYMGas/Nr7/+KgCImTNnqqYVvuYTJ05UTVMqlaJnz57C0tJSJCYmCiH+VzIODg7i0aNHasvr1KmTaNiwocjKylK7j1atWomAgADVtOnTpwsLCwuRkpKimpadnS0cHR3FqFGjVNNeLJknT54IKysr8e6776ot97PPPlN7HWNjY4WZmZmYP3++2nyXL18W5ubmatPbt28vAIi1a9eqZfHw8BD9+vVTTTt9+rQAIP773/+q3Wd5XssqVaqI8ePHi/IqLJnnnxshhHj99ddF1apVVd9fuHBBABBjxoxRm2/q1KkCgPjjjz/KvMyylowQJT83QhQ8Dy8q7n1X+Ps3Z84ctXkbN24sQkJC1Ka9WDLDhw8Xcrm8yIdnIdT/BugDk9lc1rlzZ7i6usLb2xuDBw+GnZ0dtm/fjmrVqqnNN27cOLXvf/vtN5iZmeHtt99Wm/7uu+9CCIHff/9dbXrLli0REhKi+r5GjRro3bs39uzZg/z8fOTn52Pv3r3o06eP2mYQT09PDB06FEePHkVaWprafY4dO1ZtO/2+ffvw9OlTfPDBB0U2E8lkMtXXzx/QkJGRgaSkJLRq1QpCCJw/fx4A8ODBA1y4cAEjRoyAs7Ozav5GjRqhS5cu+O2334p5NtWfH09PT/Tv319tuW+88YbafBcuXMDNmzcxdOhQJCcnIykpCUlJScjIyECnTp3w559/QqlUlrgcd3d3XLx4EW+++SYeP36MFStWYOjQoXBzc8PcuXNVm7fOnDmDR48e4a233lJ7bnr27InAwEDs2rWryH1PmDBB7fmbMGECcnJysH//frX5+vXrB1dXV9X3KSkp+OOPPzBw4EA8ffpU9ZiSk5MRFhaGmzdvqjbRDRo0CLm5udi2bZvq5/fu3YvU1FQMGjSoxMft4OCA7t27Y9OmTWqb8CIjI/HKK6+gRo0aAIBt27ZBqVRi4MCBqhxJSUnw8PBAQEAADh48qHa/dnZ2avseLC0t0bx5c9y+fbvELIXK81o6Ojrir7/+Qnx8/Evvtzhvvvmm2vdt27ZFcnKy6j1S+Ps5ZcoUtfneffddACj29dY2a2tr1dclve+eV9xjLO11UCqV2LFjB3r16lVkcymg/jdAH5jMjv9vv/0WtWvXhrm5Odzd3VGnTp0iR1mZm5ur7fMAgDt37sDLywv29vZq0+vWrau6/XkBAQFFll27dm1kZmYiMTERAJCZmYk6deoUma9u3bpQKpWIi4tD/fr1VdP9/PzU5ouOjgYANGjQoNTHfPfuXcycORM///wzHj9+rHbbkydP1PKXlGfPnj2lHmxw584d1KpVq8gv9ov3d/PmTQBAREREiXmfPHkCJyenEm/39PTE8uXLsWzZMty8eRN79uzBwoULMXPmTHh6emLMmDGlPp7AwEAcPXpUbZpcLi+yz6N27doAUOTQ1Rdfh1u3bkEIgRkzZmDGjBnFZn706BGqVauGoKAgBAYGIjIyEqNHjwZQUBQuLi6q/YMlGTRoEHbs2IETJ06gVatWiI6OxtmzZ7FkyRLVPDdv3oQQotjfPwCwsLBQ+7569epFXjMnJydcunSp1CyFywLK9lp+9tlniIiIgLe3N0JCQtCjRw8MHz68xP1MLyos0eczAsDjx4/h4OCAO3fuQC6Xo1atWmrzeXh4wNHRscj7UxfK8r4rpFAo1D64AAWP8cWfe15iYiLS0tJe+v7XFyZTMs2bNy+29Z9nZWWll4f3Pv/JqKzy8/PRpUsXpKSkYNq0aQgMDIStrS3u37+PESNGlLrWoA2Fy1u0aFGJh3yW9RBkmUyG2rVro3bt2ujZsycCAgKwYcMGjBkzRlNxi/Xi61D4mKZOnYqwsLBif+b5P36DBg3C/PnzkZSUBHt7e/z8888YMmTISw9N7dWrF2xsbLBp0ya0atUKmzZtglwux4ABA9SyyGQy/P7778Uenfbic1vSEWyiDKOxl+e1HDhwINq2bYvt27dj7969WLRoERYuXIht27ahe/fuL11WWXPqy6f38r7vTOFIQpMpmYry8fHB/v378fTpU7W1mWvXrqluf17hp7zn3bhxAzY2NqpPLDY2Nrh+/XqR+a5duwa5XA5vb+9SM/n7+wMAoqKiinyCK3T58mXcuHEDa9aswfDhw1XT9+3bV+TxASgxj4uLS6mHTPv4+CAqKgpCCLU3+ov3V5jZwcEBnTt3Lu3hlUvNmjXh5OSEBw8eqPIULv/FNYTr168Xeb2USiVu376tWnsBCl4vAPD19X3psoGCtYSyPKZBgwZh9uzZ2Lp1K9zd3ZGWlobBgwe/9OdsbW3x6quvYvPmzfjyyy8RGRmJtm3bqh2S7u/vDyEE/Pz81B5LZZT0h7u8r6WnpyfeeustvPXWW3j06BGaNGmC+fPnl6lkXsbHxwdKpRI3b95UbV0AgISEBKSmphZ5vTWlpOemrO+7ynB1dYWDgwOioqI0dp/apH8f2/VMjx49kJ+fj6VLl6pNX7x4MWQyWZE3yokTJ9QOz4yLi8POnTvRtWtX1TkQXbt2xc6dO9U2xyQkJGDjxo1o06YNHBwcSs3UtWtX2NvbY8GCBcjKylK7rfATXuEnpOc/8Qkh8NVXX6nN7+npieDgYKxZswapqamq6VFRUdi7dy969OhRapYePXogPj4eW7ZsUU3LzMzEd999pzZfSEgI/P398fnnnxd7dn7hpsSS/PXXX8jIyCgy/dSpU0hOTlZtHmvatCnc3NywYsUKtUNYf//9d1y9ehU9e/Ysch/Pv7ZCCCxduhQWFhbo1KlTqZnc3NzQoUMHrFy5UlVypT2munXromHDhoiMjERkZCQ8PT3Rrl27UpdRaNCgQYiPj8cPP/yAixcvFtmP07dvX5iZmWH27NlFPuULIZCcnFym5Tyv8MPF878XQNlfy/z8/CKbh9zc3ODl5aWxw4sLfz+f33QIAF9++SUAFPt6a0JJz01Z33eVIZfL0adPH/zyyy84c+ZMkdvLsjaqS1yTeYlevXqhY8eO+OijjxAbG4ugoCDs3bsXO3fuxKRJk1Sf6go1aNAAYWFhePvtt2FlZYVly5YBAGbPnq2aZ968edi3bx/atGmDt956C+bm5li5ciWys7PVzlUoiYODAxYvXowxY8agWbNmGDp0KJycnHDx4kVkZmZizZo1CAwMhL+/P6ZOnYr79+/DwcEBW7duLXZb76JFi9C9e3e0bNkSo0ePxrNnz/DNN9+gSpUqL71e0tixY7F06VIMHz4cZ8+ehaenJ9atW1fkKgpyuRw//PADunfvjvr162PkyJGoVq0a7t+/j4MHD8LBwQG//PJLictZt24dNmzYgNdffx0hISGwtLTE1atXsWrVKigUCnz44YcACtYqFi5ciJEjR6J9+/YYMmQIEhIS8NVXX8HX1xeTJ09Wu1+FQoHdu3cjIiICLVq0wO+//45du3bhww8/LLKtvDjffvst2rRpg4YNG2Ls2LGoWbMmEhIScOLECdy7dw8XL15Um3/QoEGYOXMmFAoFRo8eXebNs4Xnbk2dOhVmZmbo16+f2u3+/v6YN28epk+fjtjYWPTp0wf29vaIiYnB9u3b8cYbb2Dq1KllWtbz9+no6IgVK1bA3t4etra2aNGiBfz8/Mr0Wj59+hTVq1dH//79ERQUBDs7O+zfvx+nT5/GF198Ua4sJQkKCkJERAS+++47pKamon379jh16hTWrFmDPn36oGPHjhpZzotKem7K876rjE8++QR79+5F+/bt8cYbb6Bu3bp48OABNm/ejKNHj8LR0VGjy6sU3R7MpnslnSfzooiICGFra1vsbU+fPhWTJ08WXl5ewsLCQgQEBIhFixYVOVQQgBg/frxYv369CAgIEFZWVqJx48Zq54oUOnfunAgLCxN2dnbCxsZGdOzYURw/frxc2X/++WfRqlUr1aHTzZs3Fz/++KPq9itXrojOnTsLOzs74eLiIsaOHSsuXrxY7KGX+/fvF61btxbW1tbCwcFB9OrVS1y5cqXU56zQnTt3xGuvvSZsbGyEi4uLeOedd8Tu3buLnCcjhBDnz58Xffv2FVWrVhVWVlbCx8dHDBw4UBw4cKDUZVy6dEm89957okmTJsLZ2VmYm5sLT09PMWDAAHHu3Lki80dGRorGjRsLKysr4ezsLMLDw1WHqxcqfM2jo6NF165dhY2NjXB3dxezZs0S+fn5qvkKD2F+/pyU50VHR4vhw4cLDw8PYWFhIapVqyZeffVVsWXLliLz3rx5U/V6HT16tMjtLx7C/Lzw8HABQHTu3LnE52nr1q2iTZs2wtbWVtja2orAwEAxfvx4cf36ddU87du3F/Xr1y/ysxEREUUO4d25c6eoV6+eMDc3L/J787LXMjs7W7z33nsiKChI2NvbC1tbWxEUFFTkHJDiFB7CXHgYeWnPT25urpg9e7bw8/MTFhYWwtvbW0yfPl3tsPKyKM8hzEKU/NyU9X1X0t+cwsf+PLxwCLMQBe+74cOHC1dXV2FlZSVq1qwpxo8fL7Kzs8v1uLVNJoSerVsZMJlMhvHjxxfZtKZtT58+RYMGDXD27Fm4uLjodNlERKXhPhkjYG9vjyZNmqhdyoSISB9wn4yB+/zzz2Fvb4+TJ09qbfszEVFFsWQM3K+//ooTJ06gcePGGDp0qNRxiIjUcJ8MERFpDffJEBGR1rBkiIhIa1gyRESkNSwZIiLSGpYMERFpDUuGiIi0hiVDRERaw5IhIiKtYckQEZHWsGSIiEhrWDJERKQ1LBkiItIalgwREWkNS4aIiLSGJUNERFrDkiEiIq1hyRARkdawZIiISGtYMkREpDUsGSIi0hqWDBERaQ1LhoiItIYlQ0REWsOSISIirWHJEBGR1rBkiIhIa1gyRESkNSwZIiLSGpYMERFpDUuGiIi0hiVDWvHtt9/C19cXCoUCLVq0wKlTp6SOREQSYMmQxkVGRmLKlCmYNWsWzp07h6CgIISFheHRo0dSRyMiHZMJIYTUIci4tGjRAs2aNcPSpUsBAEqlEt7e3pg4cSI++OADidMRkS5xTYY0KicnB2fPnkXnzp1V0+RyOTp37owTJ05ImIyIpMCSIY1KSkpCfn4+3N3d1aa7u7vj4cOHEqUiIqmwZIiISGtYMqRRLi4uMDMzQ0JCgtr0hIQEeHh4SJSKiKTCkiGNsrS0REhICA4cOKCaplQqceDAAbRs2VLCZEQkBXOpA5DxmTJlCiIiItC0aVM0b94cS5YsQUZGBkaOHCl1NCLSMZYMadygQYOQmJiImTNn4uHDhwgODsbu3buLHAxgCHLylEjNzEFaVi6ePMtDWlYu0p7lIi0r75//c5GelYd8ZcGZAIUnBAiI574G5DLA1soc9goLOCjMYa8o+Pr5/6tYW6CqrSVkMpk0D5ZIC3ieDJm0rNx83HucibjHz3D/8TPce/wM9x5n4n5qwddJ6dnQ5TvE0kwOV3sreFZRwNPRGtUcreHtbA1vJxt4O9ugupM1LMy4lZsMB0uGTIJSKRCTnIGrD9JwJT4NVx+k4eqDp3iYliV1tHIxl8vg72qHQE971PV0KPjnYQ83B4XU0YiKxZIho6NUClx5kIYLcam48k+pXH/4FM9y86WOpjVVbS0LisfDAQ2rV0ELv6rwqMLiIemxZMjgKZUCf8en4a+YZJy8nYxTMSlIy8qTOpbkfKraoLmvM1rUrIoWfs7wdraROhKZIJYMGRwhCkrleHQS/rqdglOxKXjKUnmpao7WaO7njBZ+zmhfxxWeVayljkQmgCVDBiE3X4mTt5Ox5++H2H/lkcHtS9E3MhnQsFoVdKnrji713RHo4SB1JDJSLBnSW5k5eTh0PRF7/n6Ig9cecROYFtVwtkGXeu7oWs8dTX2dYSbnYdSkGSwZ0iuZOXnYHfUQuy49wNFbScjOU0odyeQ421qiS1139AupjuZ+zlLHIQPHkiHJCSFwIjoZW87dw+6oh8jMMd6jwAyNb1Ub9GtSHf1CqsPLkftwqPxYMiSZB0+eYdPpe9h0Jg73U59JHYdKIZcBrWu5oH9IdYTV94DCwkzqSGQgWDKkU0qlwB/XHmHjqbs4fCNRdTkWMhz2CnP0CvLCiFa+qO1uL3Uc0nMsGdKJrNx8bD57D6uOxiAmKUPqOKQh7Wu7YmzbmmgT4CJ1FNJTLBnSquT0bKw5cQfrT95BSkaO1HFIS+p6OmB0Gz+8FuQFS3NeW43+hyVDWnE7MR3fH4nBtnP3eISYCXF3sMLwlr74VwsfVLGxkDoO6QGWDGnUlfg0LNl/A/uuJuj06sWkX2wszTC8pS/Gtfdn2Zg4lgxpRGxSBr7YdwO/XopnuZCKvcIcb7StiVFt/GBrxeGrTBFLhiolIS0LXx24iU2n45DHI8WoBFVtLTGugz+GtfSBlTkPfzYlLBmqkNTMHCw/HI01x2ORlct9LlQ2XlUUmNgpAANCqsOcg6+ZBJYMlUt2Xj5+OBKDFYejeeVjqjA/F1vMeLUuQgMNb0huKh+WDJXZnzcSMXNnFGKTM6WOQkaic113zOpVj2PdGDGWDL3UwydZmPPr3/jt8kOpo5ARUljIMb5DLbzRvib31xghlgyVKC9fif8ei8WS/TeQwYtWkpb5udji49fqo31tV6mjkAaxZKhYp2NT8H/bo3A94anUUcjEhNV3x8xe9VGNV302CiwZUpORnYd5u67ip9N3eb4LScbOyhzTewQivIWP1FGoklgypHL2TgqmbLqIO9yxT3qibYALPuvfCJ5VuFZjqFgyhNx8JZbsv4EVh2/z0vukd+wV5pjVqz76h1SXOgpVAEvGxN1MeIrJmy4g6n6a1FGIStWzoSfmv94AjjaWUkehcmDJmCghBFYdi8Vnu6/xKslkMDwcFPh8QBDHrzEgLBkTlJKRg3d+Oo8jN5OkjkJUbjIZMDE0AJM6BUAul0kdh16CJWNiLt1Lxbj153A/9ZnUUYgqpX1tV3w1OJibz/QcS8aERJ6+ixk7/0YON4+RkfB2tsby8BA0qFZF6ihUApaMCcjJU2LWz1H48VSc1FGINM7KXI55fRpgQFNvqaNQMVgyRu7Bk2d4c/05XIxLlToKkVYNaV4Ds1+rD0tzDiGgT1gyRuxEdDIm/ngOSek5Ukch0okgb0d8PywEbg4KqaPQP1gyRmr7+Xt4f8sl5Obz5SXTUs3RGmtGNUctNzupoxBYMkZp2aFbWLTnOq89RibL0cYC3w9vima+zlJHMXksGSOiVArM/uVvrDlxR+ooRJKzMpdjyaBgdG/oKXUUk8aSMRJZufmY9NMF7P6bA4sRFZLLgP/rWQ+j2vhJHcVksWSMwJPMXIxecxpn7jyWOgqRXhrTxg8f9awLmYxXCNA1loyBi099huGrTuHWo3SpoxDptdeCvPDlwCCYm/EQZ11iyRiw+6nPMPi7E4hL4SViiMqiZyNPfDUomEWjQ3ymDVQ8C4ao3HZdeoB3Ii8gL5+XVtIVlowBKiiYkywYogrYdekB3vmJRaMrLBkD8+DJMwz5/iTupnCIZKKK2nWZRaMrLBkD8vBJFgZ/dxJ3klkwRJXFotENloyBKCiYEywYIg3adfkB3v7pPPKVPP5JW1gyBuBxRg6G/nASsSwYIo377fJD/N+OKKljGC2WjJ57lpOPUWtO43ZihtRRiIzWj6fu4usDN6WOYZRYMnosXykwYeM5nL+bKnUUIqP35b4b2HSGA/tpGktGj320/TIOXHskdQwik/Hhtss4dJ3vOU1iyeipbw/ewk+n+amKSJfylALjN5zD5XtPpI5iNFgyeujni/H4fO91qWMQmaSMnHyMXH0acTwXTSNYMnrmTGwKpm6+yAHHiCSUlJ6NiFWnkJaVK3UUg8eS0SMJaVl4c/055OTx5DAiqd1OysCUyAvgNYQrhyWjJ3LzlXhrwzkkpWdLHYWI/rH/6iMs/eOW1DEMGktGT8zfdRVnOegYkd5ZvP8GjzirBJaMHth54T5WH4+VOgYRFUMpgEmRF3ggQAWxZCR2I+Eppm+7LHUMIipFamYu3lx/Flm5+VJHMTgsGQk9zcrFm+vOIjOHv7hE+u7v+DR8tJ3XOCsvloyE3tt8CbeTeE0yIkOx9dw9bPzrrtQxDApLRiLrTt7B7r8fSh2DiMpp3q4riOWHwzJjyUjgTnIGFvx2VeoYRFQBmTn5mLzpAsegKSOWjI4plQJTNl3kfhgiA3b+biqWH+L5M2XBktGxlX/e5vkwREbgqwM3EXWfF9J8GZaMDl17mIbF+25IHYOINCA3X2By5AUe1vwSLBkdyclTYnLkReTk87pkRMbi5qN0LNrDK6aXhiWjI0v238DVB2lSxyAiDVt1LAbHo5OkjqG3WDI6cPneE6z887bUMYhIC4QAPtoehew8bjYrDktGy4QQ+L+dUTzckciIxSRl4LvD/CBZHJaMlv10Og4X41KljkFEWvbtoVu8iGYxWDJalJqZg892X5M6BhHpQFauErN/+VvqGHqHJaNFi/Zcx+NMDt9KZCr2X32E/VcSpI6hV1gyWnL53hP8eIoX0iMyNR//8jfPnXkOS0YLhBCYsTMK3NdPZHruPX6Gbw/ykjOFWDJasOlMHC5wZz+RyVp5+DbuJPNKzQBLRuOe5eRj0R5eOobIlOXkK3klgH+wZDTsv8djkJSeLXUMIpLYrssPcPkeL6DJktGgtKxcrOQJWUSEgisBfLqb40axZDTo+z9v48kzHrJMRAWO3UrG0ZumfV0zloyGJKdnY9XRGKljEJGe+Xyvae+bYcloyPJD0cjgaJdE9IILcan445rpnqDJktGAh0+ysO7kHaljEJGe+nLfDQhhmifOsWQ04Os/biI7j4OREVHxou6nYZ+JXm6GJVNJj55mYcuZe1LHICI9952JjinFkqmktcfvcEhlInqpM3ce4/zdx1LH0DmWTCU8y8nHhr+4L4aIyuaHI6Z3BCpLphK2nLvHS/kTUZnt/vuhyQ1sxpKpICEE/svzYoioHPKVAv8xsb8bLJkKOnD1EW4n8SqrRFQ+m8/EmdSVQVgyFfT9EdM8UoSIKifDxPblsmQqIOr+E/wVkyJ1DCIyUGuOxyLPRI5KZclUwHqe3U9ElZCQlo1D1xOljqETLJlyepaTj12XHkgdg4gM3OazcVJH0AmWTDnt/vsBnmbnSR2DiAzcH9ceIdkEBjhkyZTTlrO8hAwRVV5uvsCOC/FSx9A6lkw53E99hhPRyVLHICIjsfmM8W8yY8mUw7az96A0zat1E5EWXHv4FFH3n0gdQ6tYMuWw5Rw3lRGRZhn72gxLpoxOxaTgTrJpXXOIiLRv58V4ZOcZ76i6LJky2n7+vtQRiMgIpWbm4ujNJKljaA1LpgyUSmGyo9oRkfbt/dt4/76wZMrgfFwqkkzgeHYiksaBawlQGulRRSyZMth/1Xg/ZRCR9JLSc3DWSEfNZMmUATeVEZG27f37odQRtIIl8xIxSRm49Shd6hhEZOSM9cMsS+Yl9l0xzk8XRKRfYpMzcSPhqdQxNI4l8xLG+umCiPSPMW4yY8mUIiUjB2fvGOfOOCLSP/uvPpI6gsaxZEpx5GYir1VGRDpz+f4TpBvZUCIsmVKcvM0rLhOR7uQrBc7EGtfQ7iyZUvCy/kSka3/FsGRMwsMnWYjlBTGJSMf+MrItKCyZEvwVY1wvNBEZhsv3nyAzx3j2y7BkSnDKyFZZicgw5OYLozqqlSVTAmN6kYnIsPx123g+5LJkivHkWa5RnnlLRIbBmDbXs2SKcf7uY54fQ0SSuXjvCfLylVLH0AiWTDH+jk+TOgIRmbCcPCVuJ2VIHUMjWDLFuPqAJUNE0jKWv0MsmWJce8j9MUQkrSssGeOUnZePWCNZTSUiw3X1gXF82GXJvOBmQjryuNefiCTGzWVGipvKiEgfJD7NRlJ6ttQxKo0l84JrRvLpgYgMnzGszbBkXsA1GSLSFywZI8Qz/YlIX8QkGf6V4Fkyz8nKzUeiEWwDJSLjcD/1mdQRKo0l85wHT7IgeGAZEemJe4+5JmNU4o3gUwMRGQ9j+JvEknmOMayaEpHxyMpVGvxhzCyZ5xjDpwYiMi73Hxv236UKlUxoaChSU1OLTE9LS0NoaGhlM0mGJUNE+sbQt7BUqGQOHTqEnJycItOzsrJw5MiRSoeSSnxqltQRiIjUGPqajHl5Zr506ZLq6ytXruDhw4eq7/Pz87F7925Uq1ZNc+l0jGsyRKRvDH1NplwlExwcDJlMBplMVuxmMWtra3zzzTcaC6drD9O4JkNE+iUlo+hWI0NSrpKJiYmBEAI1a9bEqVOn4OrqqrrN0tISbm5uMDMz03hIXcjLVyIzJ1/qGEREap5m5UodoVLKVTI+Pj4AAKXSOMaeft7TrDypIxARFZFm4H+bylUyz7t58yYOHjyIR48eFSmdmTNnVjqYrqVnG/YLSUTGKe2ZCa3JFPr+++8xbtw4uLi4wMPDAzKZTHWbTCYzyJJJM/BVUiIyToa+laVCJTNv3jzMnz8f06ZN03QeyaQb+AtJRMbJ0D8AV+g8mcePH2PAgAGaziIpQ/+0QETGKTMnH3n5hrsfvEIlM2DAAOzdu1fTWSTFfTJEpK8M+UNwhTaX1apVCzNmzMDJkyfRsGFDWFhYqN3+9ttvayScLhn6YYJEZLyeZuXBydZS6hgVIhOi/COo+Pn5lXyHMhlu375dqVBS+O7PaHzy2zWpYxARFXHg3fbwd7WTOkaFVGhNJiYmRtM5iIioBEql4Y6myEv9/0MG2ctnIiKSQL4BD9lboTWZUaNGlXr7qlWrKhRGSjJ2DBHpKUO+yEqFSubx48dq3+fm5iIqKgqpqakGPZ4MkSa0dHqClfarYJmXLnUUMhIy+WoADlLHqJAKlcz27duLTFMqlRg3bhz8/f0rHUoKMq7KkAb0dX+Ez3PnQf4oSeooZExkhnvxXo3tk5HL5ZgyZQoWL16sqbvUKVYMVdYE71h8kfkR5JksGNIwmWFe3R6oxAUyixMdHY28PMM8aYgrMlQZC2pexuCHiyBTGubvP+k5uUb/VOtUhZJPmTJF7XshBB48eIBdu3YhIiJCI8F0jR1DFbU24AjaxS2XOgYZM7nhHghcoZI5f/682vdyuRyurq744osvXnrkmb6yMDfcF5GkYSZTYletXxAYFyl1FDJ2pra57ODBg5rOITkHhcXLZyL6h715Hvb5rIdHnHFdw4/0lMIwjywDKrlPJjExEdevXwcA1KlTR204ZkPjYM2SobKppsjG727L4HD/tNRRyBTIzACFo9QpKqxC24gyMjIwatQoeHp6ol27dmjXrh28vLwwevRoZGZmajqjTlRhyVAZNHJIxx9On8LhEQuGdMTayaCPTKpQyUyZMgWHDx/GL7/8gtTUVKSmpmLnzp04fPgw3n33XU1n1AkHheEevUG60cUlBdstP4bV4+tSRyFTYuMsdYJKqdBVmF1cXLBlyxZ06NBBbfrBgwcxcOBAJCYmaiqfziSnZyNk3n6pY5CeivC6j48z5kGW/UTqKGRqvF8BRu+ROkWFVejje2ZmJtzd3YtMd3NzM9jNZdwnQyX5yPc6xiR+Cll+ttRRyBTZVJU6QaVUaHNZy5YtMWvWLGRlZammPXv2DLNnz0bLli01Fk6XLMzksLE03MMESTu+rXUaYxLmsmBIOjZOUieolAqtySxZsgTdunVD9erVERQUBAC4ePEirKysDHpYZgeFBTJzDPcaQaRZ22rvRZO7q6WOQabOwNdkKlQyDRs2xM2bN7FhwwZcu1YwmuSQIUMQHh4Oa2trjQbUJRd7SzxMy3r5jGTUrORK7K25CT53f5Y6ChFgbdg7/itUMgsWLIC7uzvGjh2rNn3VqlVITEzEtGnTNBJO16o5WiPqfprUMUhCrpa52FPtBzjfOyJ1FKICBr4mU6F9MitXrkRgYGCR6fXr18eKFSsqHUoq1Z1spI5AEgqwfYbDbl/A+QELhvSIgR/CXKE1mYcPH8LT07PIdFdXVzx48KDSoaTi7WS4m/qoclo6PcFay4WwSIqVOgqRuireUieolAqtyXh7e+PYsWNFph87dgxeXl6VDiUVrsmYpn7uCdggmwGLJ7FSRyF6gQyoWkvqEJVSoTWZsWPHYtKkScjNzVUNt3zgwAG8//77BnvGPwBUd+aajKmZ4B2Ld1PnQ5abIXUUoqIcqgGWhv3ht0Il89577yE5ORlvvfUWcnJyAAAKhQLTpk3D9OnTNRpQl7gmY1o40BjpPRfDXosBKnhZmULp6em4evUqrK2tERAQACsrK01mk0TwnL1IzcyVOgZpGQcaI4PQbCzQ83OpU1RKpa4KaWdnh2bNmmkqi16o7mTNkjFiHGiMDIpLgNQJKo3DQb6glqud1BFIS+zN83Cs5loWDBkOA9/pD7Bkiqjrabgj0FHJqimycczrG3jcN9zLHpEJMoI1GQ6i8oJ6XiwZYxPskI5I2y9g9YjjwJABMbc2+HNkAJZMEfW4JmNUurqkYDk+gdnjeKmjEJVPVX+DHhGzEDeXvaCqnRXcHQz/KDkqGGhsZe5HMEtnwZABMoL9MQBLplhcmzF8H/lex8dP/o8jWZLh8gySOoFGsGSKwf0yho0DjZFRqPGK1Ak0gvtkilHPs4rUEaiCONAYGQUzS8CridQpNIIlU4z6XJMxOBxojIyKZxBgoZA6hUZwc1kxfF1sUdXWUuoYVEaulrk44bMSPvdYMGQkvFtInUBjWDIlaOrrJHUEKoOCgcY+50BjZFyMZH8MwJIpUTNfwx6NzhS0dnqC3+zmwibpstRRiDTLmyVj9Fr4Gfa42saun3sC1oEDjZERcq4J2LlKnUJjWDIlqOflAHsFj4vQRxO8Y/F55v9B/ixJ6ihEmmdEazEAS6ZEZnIZ12b00IKal/Fu8kyOZEnGq4bx7PQHWDKlal2LJaNP1gYcwZD4BRzJkoybka3JcHtQKVrXcpE6AoEDjZEJqVIDcAuUOoVGcU2mFLXd7XmxTIkVDDS2hgVDpiGwh9QJNI4l8xKd67pLHcFkVVdk47jX1/C4v0/qKES6EdhT6gQax5J5ibD6HlJHMEnBDuk44LQA9o/OSB2FSDesnYAaraROoXEsmZdo6V8VDjyUWae6uqRgq+XHsHp8Q+ooRLoTEAaYGd/fGpbMS1iYyREa6CZ1DJPBgcbIZBnhpjKAJVMm3GSmGxxojEyWuQKo1UnqFFphfOtmWtC+jiuszOXIzlNKHcVofVvrNHrc/woyweeYTFDNDoClrdQptIJrMmVgY2mOtgHGcy0hfSKTCWwL2Iue9xazYMh0GemmMoAlU2Zh9Xkos6ZZm+XjkH8kmsStljoKkXRkcqB2d6lTaA1Lpoy61veAwoJPl6a4WubiWI3vONAYUY1WRnXV5Rfxr2YZVbG24AEAGsKBxoie02S41Am0iiVTDoOaeksdweBxoDGi5ygcgXq9pU6hVSyZcmjpXxXeztZSxzBYHGiM6AVBgwELhdQptIolUw4ymQwDQrg2UxETa8RwoDGiFzWJkDqB1rFkyql/SHXIZVKnMCyf1ryMKUmzONAY0fOqNwPc60mdQutYMuXk5WjNcWbKYV3AnxjMgcaIigoZIXUCnWDJVMCgZtxk9jJmMiX2BOxE27gVUkch0j9WDkD9vlKn0AmWTAV0recBFztLqWPorcKBxupwoDGi4jXsD1jaSJ1CJ1gyFWBpLsfwlr5Sx9BLHGiMqAxMZFMZwJKpsGGv+MDawkzqGHqFA40RlYFXY8AzSOoUOsOSqSAnW0sMaFpd6hh6gwONEZVR63ekTqBTLJlKGNOmJsx4PDNGeN3jQGNEZeFSB6hr3Gf4v4glUwk1qtqgm4lfz+wj3+uY9WQGBxojKou2UwC5af3ZNa1HqwVj29WUOoJkltU6jTEJcyHLz5Y6CpH+c/IDGg6QOoXOsWQqKdjbEc39nKWOoVOFA4314EBjRGXXZjIgN72DhVgyGjCuvb/UEXSGA40RVYBDdSB4qNQpJMGS0YCOgW5o6uMkdQyt40BjRBXU+h3AzELqFJJgyWjItO6BUkfQKg40RlRBdu5GPzBZaVgyGtLM1xkd6xjnEKqtnZ7gN9s5HGiMqCJaTTT6MWNKw5LRoPfCAiEzstNmVAONpd2ROgqR4bFxAZqOkjqFpFgyGlTPywG9GnlJHUNjONAYUSWFfgRY2kqdQlIsGQ17t2ttWJgZ/uoMBxojqiSPhkCTEVKnkBxLRsN8qtoa/HgzHGiMSAO6f2ZyZ/cXh8+AFrzdKQD2VuZSxyg3DjRGpCH1+wI+raROoRdYMlrgZq/ApC61pY5RLhxojEhDLGyArnOlTqE3WDJaMqKVL+p5Okgdo0w40BiRBrWeBFThMCCFWDJaYiaXYd7rDfT+kGYONEakQVVqAK3fljqFXmHJaFGTGk4Y1FR/DwIIc0nGVstZHGiMSFO6zgUsrKVOoVdYMlr2QfdAONtaSh2jiBFe97Ai9yOYpT+QOgqRcfBtC9TvI3UKvcOS0TJHG0t80E2/rmv2v4HG0qSOQmQczCwLDlmmIlgyOjCgaXW9uUozBxoj0oJ27wPu9aROoZdYMjogk8nwab9GUFhI93RzoDEiLfEMLhiQjIrFktGRWm52km0240BjRFpiZgm8vgIwM7yTr3WFJaNDEa180TbARafLdLXMxTHvlRxojEgbOnwAuNWVOoVeY8nokEwmw+cDguBoo5sR8moXDjT28KhOlkdkUrxbFJx4SaViyeiYu4MC8/s01PpyWjs9wS4ONEakHZb2QN/vALmZ1En0HktGAj0beaJv42pau38ONEakZT0+A5x8pU5hEFgyEpnduz6qOWr+zGAONEakZfX6AMFDpU5hMFgyErFXWGDJ4GCYyzV3cTMONEakZVW8gV5LpE5hUFgyEmrm64zpPTRzZAoHGiPSMnNrYNB6wFo/Tqw2FCwZiY1u44c+wV4V/vmCgcZ2cKAxIm177WvAK1jqFAaHJaMHFvRthLoVGHvG3jwPx/zWoE7cJi2kIiKVlhOARgOlTmGQWDJ6wNrSDCv/FYIq1mU/f0Y10Fg8Bxoj0qqaHYEuc6ROYbBYMnqiRlUbfDU4GGU5DoADjRHpiJMv0H8Vz4epBJaMHulQxw2TO9cudR4ONEakIxa2wOAfARtnqZMYNJaMnpkQWgs9GnoUexsHGiPSFRnw+nJevl8DWDJ6RiaT4cuBwQh5YfyZ/+NAY0S60/ZdoF5vqVMYBZkQQkgdgop6nJGDvsuPIyYpA8trnUK3+19zHBgiXajXG+i/GpDzM7gmsGT02N3kTDz6bT6aRi+VOgqRaajVuWA/jLml1EmMBktG38VfAFa/CuQ8lToJkXGr0RL41zbA0kbqJEaF64P6zisYGLIRMLOSOgmR8fJoBAyNZMFoAUvGEPi1A/r9AMh4rD6RxrnUBoZtBxRVpE5ilFgyhqLea8Cri6VOQWRcqtQAhu0AbHU7LLopYckYkpCIf4pGc8MDEJksO3dg+A6givYGECSWjOFpOgros5ybzogqQ+FYsImsqr/USYweS8YQBQ8B+v8HkJf9gppE9A9rp4KjyNzrS53EJPAQZkN2/XdgUwSQny11EiLDYO9VsAbjFih1EpPBkjF00X8AP4UDuZlSJyHSb1UDCgrG0VvqJCaFJWMMYo8BGwcCOelSJyHST15NgPAtgG1VqZOYHJaMsbh3BljfF8h6InUSIv1SswMwaANgZSd1EpPEkjEmDy4C6/sDGY+kTkKkH+r1Afp+z2uRSYglY2ye3AN+HAI8vCR1EiJpNR0N9PicV1OWGEvGGOVkAjveBK7slDoJkTTafwB0nC51CgJLxngJARxeCBz6FABfYjIRFrbAa18DDftLnYT+wZIxdld2Atvf5CHOZPycaxbs4OeQyXqFJWMKHlwCfhoKPImTOgmRdtTuBvT9jldS1kMsGVORnghEhgNxf0mdhEhzZHKgw3Sg3XuAjBeO1UcsGVOSlwPsmgKcXyd1EqLKUzgWjLMU0EXqJFQKlowpitoK/DoFyEqVOglRxbg3BAatA5z9pE5CL8GSMVVP7gPb/w3EHpE6CVH5NBoM9FoCWFhLnYTKgCVjyoQAjn8D/DEXyM+ROg1R6WxcgJ5fAPX7SJ2EyoElQwVHn20bCyRekzoJUfHq9QZ6fslhkg0QS4YK5D4D9s0ETn0ndRKi/7F2Bnos4smVBowlQ+pu7gd2vgWkJ0idhExd4KvAq4sBOzepk1AlsGSoqMwUYP/HBYc6C6XUacjUKByB7p8BQYOkTkIawJKhkt0/C+x6F4g/L3USMhW1uwG9vgLsPaROQhrCkqHSKZXAuTXAgTnAsxSp05CxcvYHus4FAntKnYQ0jCVDZZOZAhyYDZxby01opDmKKkD7aUDzNwAzC6nTkBawZKh87p8DfptasCmNqKLk5kDISKDjh4CNs9RpSItYMlR+QhSs0RyYA2QmSZ2GDE2tzkDYJ4BrHamTkA6wZKjicjIKzqs5/g2QmSx1GtJ3roFA1/lAQGepk5AOsWSo8rLTC8rmxFKWDRVVpQbQZhLQJAIwM5c6DekYS4Y0p7Bsjn/DI9GoYM2lzWSgQX+WiwljyZDmZacDp1YCx5eybExRtaZA2ylAnR4cSIxYMqRFhWVzYhkPEDAF/qEFay5+7aROQnqEJUPal5cDXNkJnFkF3D0udRrSJJkcqNuroFy8GkudhvQQS4Z0K+FKQdlcigSy06ROQxVlUxUIGgI0HQVU9Zc6DekxlgxJIzsduLwZOPMf4OFlqdNQmcgAv7ZAyAggsBdgbil1IDIALBmSXtzpgrL5ezuQlyV1GnpRlRoFV0QOGsK1Fio3lgzpj6wnwPXdwNWfgVsHgLxnUicyXZb2BaNRBg8BfFrzKDGqMJYM6aecDODmXuDKzwX/56RLncj42bgAAV2BOt0K/rewljoRGQGWDOm/3Cwg+o+CNZzrvxWs8ZBmuDcEaocVjONSLQSQy6VOREaGJUOGJT8XiDkM3NgDxBwBEq9KnciwmCsKzmMpLJYq1aVOREaOJUOGLf0REHsEiPmzoHRSoqVOpF/MrQHPIKB6U8C3DeDXHrC0kToVmRCWDBmX9EQg7q///Yu/AORnS51KR2QFR39Va1pQKtWbFmwO43XDSEIsGTJuednAo6tA4nUg8VrB/0nXgZQYQORLna7iZHLAoTrgWvufUmkGVGvCAcBI77BkyDTlZQPJt/5XPIX/p94FcjOlTldAbgE41gCca/7zz+9/Xzv68GRIMggsGaIX5WQAGYkFm94ySvqXBGQ/BZT5BWtEqv+VL3z/z/9yc8DKoWBMe0UVwNrxf18rqgAKx//9b+tSUChVvAG5mcRPRtn8+eefWLRoEc6ePYsHDx5g+/bt6NOnj9SxSA9wYy3RiyxtC/45+UqdxGBkZGQgKCgIo0aNQt++faWOQ3qEJUNElda9e3d0795d6hikh3jmFRERaQ1LhoiItIYlQ0REWsOSISIirWHJEBGR1vDoMiKqtPT0dNy6dUv1fUxMDC5cuABnZ2fUqFFDwmQkNZ6MSUSVdujQIXTs2LHI9IiICKxevVr3gUhvsGSIiEhruE+GiIi0hiVDRERaw5IhIiKtYckQEZHWsGSIiEhrWDJERKQ1LBkiItIalgwREWkNS4aIiLSGJUNERFrDC2RSqZRKJXJycqSOQSbCwsICZmZmUscgDWLJUIlycnIQExMDpVIpdRQyIY6OjvDw8IBMJpM6CmkAS4aKJYTAgwcPYGZmBm9vb8jl3LJK2iWEQGZmJh49egQA8PT0lDgRaQJLhoqVl5eHzMxMeHl5wcbGRuo4ZCKsra0BAI8ePYKbmxs3nRkBfjylYuXn5wMALC0tJU5CpqbwQ01ubq7ESUgTWDJUKm4XJ13j75xxYckQEZHWsGTIZG3btg2Ojo6YMWMG9u3bh/Hjx0sdCQAwYsQI9OnTR5Jlf/zxxwgODpZk2WScuOOfysX3g106XV7spz3LNf+IESOwZs0aLFiwAB988IFq+o4dO/D666/j+dHGt23bhnXr1mHHjh0YN24cNm7cWOm8MTEx+Oijj3Do0CGkpKTAxcUFISEhWLhwIQIDAyt9/9o2depUTJw4UeoYZERYMmR0FAoFFi5ciH//+99wcnIqcb7169cDAHr16qWR5ebm5qJLly6oU6cOtm3bBk9PT9y7dw+///47UlNTNbKMkuTk5GjkIA07OzvY2dlpIBFRAW4uI6PTuXNneHh4YMGCBSXOk5ycjCFDhqBatWqwsbFBw4YN8eOPP6rNk52djbfffhtubm5QKBRo06YNTp8+XeJ9/v3334iOjsayZcvwyiuvwMfHB61bt8a8efPwyiuvqOa7fPkyQkNDYW1tjapVq+KNN95Aenp6kfubPXs2XF1d4eDggDfffFPtygsdOnTAhAkTMGnSJLi4uCAsLAwAEBUVhe7du8POzg7u7u4YNmwYkpKSAADfffcdvLy8ipxc27t3b4waNQqA+uayvXv3QqFQFCnId955B6Ghoarvjx49irZt28La2hre3t54++23kZGRobpdJpNhx44davfh6OiI1atXl/hckvFgyZDRMTMzwyeffIJvvvkG9+7dK3aerKwshISEYNeuXYiKisIbb7yBYcOG4dSpU6p53n//fWzduhVr1qzBuXPnUKtWLYSFhSElJaXY+3R1dYVcLseWLVtUh4C/KCMjA2FhYXBycsLp06exefNm7N+/HxMmTFCb78CBA7h69SoOHTqEH3/8Edu2bcPs2bPV5lmzZg0sLS1x7NgxrFixAqmpqQgNDUXjxo1x5swZ7N69GwkJCRg4cCAAYMCAAUhOTsbBgwdV95GSkoLdu3cjPDy8SNZOnTrB0dERW7duVU3Lz89HZGSkav7o6Gh069YN/fr1w6VLlxAZGYmjR48WeTxkulgyZJRef/11BAcHY9asWcXeXq1aNUydOhXBwcGoWbMmJk6ciG7dumHTpk0ACspg+fLlWLRoEbp374569erh+++/h7W1Nf7zn/+UeJ9ff/01Zs6cCScnJ4SGhmLu3Lm4ffu2ap6NGzciKysLa9euRYMGDRAaGoqlS5di3bp1SEhIUM1naWmJVatWoX79+ujZsyfmzJmDr7/+Wm0tJCAgAJ999hnq1KmDOnXqYOnSpWjcuDE++eQTBAYGonHjxli1ahUOHjyIGzduwMnJCd27d1fb97Rlyxa4uLigY8eORR6PmZkZBg8erDb/gQMHkJqain79+gEAFixYgPDwcEyaNAkBAQFo1aoVvv76a6xduxZZWVlleanIyLFkyGgtXLgQa9aswdWrV4vclp+fj7lz56Jhw4ZwdnaGnZ0d9uzZg7t37wIo+ISem5uL1q1bq37GwsICzZs3L/b+Co0fPx4PHz7Ehg0b0LJlS2zevBn169fHvn37AABXr15FUFAQbG1tVT/TunVrKJVKXL9+XTUtKChI7UoLLVu2RHp6OuLi4lTTQkJC1JZ98eJFHDx4ULVfxc7OTnWwQXR0NAAgPDwcW7duRXZ2NgBgw4YNGDx4cImXDQoPD8ehQ4cQHx+vmr9nz55wdHRULXP16tVqywwLC4NSqURMTEyJzxOZDpYMGa127dohLCwM06dPL3LbokWL8NVXX2HatGk4ePAgLly4gLCwMI1ccdre3h69evXC/PnzcfHiRbRt2xbz5s2r9P2+6PmiAoD09HT06tULFy5cUPt38+ZNtGvXDkDBQQ5CCOzatQtxcXE4cuRIsZvKCjVr1gz+/v746aef8OzZM2zfvl1t/vT0dPz73/9WW97Fixdx8+ZN+Pv7AyjYJ/P8UX0Az+Y3JTy6jIzap59+iuDgYNSpU0dt+rFjx9C7d2/861//AlAwpMGNGzdQr149AIC/v79qf4ePjw+Agj+Mp0+fxqRJk8q8fJlMhsDAQBw/fhwAULduXaxevRoZGRmqkjh27BjkcrlaxosXL+LZs2eqa3mdPHkSdnZ28Pb2LnFZTZo0wdatW+Hr6wtz8+Lf2gqFAn379sWGDRtw69Yt1KlTB02aNCn1MYSHh2PDhg2oXr065HI5evb832HlTZo0wZUrV1CrVq0Sf97V1RUPHjxQfX/z5k1kZmaWukwyHlyTIaPWsGFDhIeH4+uvv1abHhAQgH379uH48eO4evUq/v3vf6vtE7G1tcW4cePw3nvvYffu3bhy5QrGjh2LzMxMjB49uthlXbhwAb1798aWLVtw5coV3Lp1C//5z3+watUq9O7dG0DBH2yFQoGIiAhERUXh4MGDmDhxIoYNGwZ3d3fVfeXk5GD06NG4cuUKfvvtN8yaNQsTJkwo9WrY48ePR0pKCoYMGYLTp08jOjoae/bswciRI9UORAgPD8euXbuwatWqUtdinp//3LlzmD9/Pvr37w8rKyvVbdOmTcPx48cxYcIE1VrTzp071Xb8F+53On/+PM6cOYM333wTFhYWL10uGQeuyZDRmzNnDiIjI9Wm/d///R9u376NsLAw2NjY4I033kCfPn3w5MkT1TyffvoplEolhg0bhqdPn6Jp06bYs2dPiefeVK9eHb6+vpg9ezZiY2Mhk8lU30+ePBlAwcUf9+zZg3feeQfNmjWDjY0N+vXrhy+//FLtvjp16oSAgAC0a9cO2dnZGDJkCD7++ONSH6eXlxeOHTuGadOmoWvXrsjOzoaPjw+6deumVk6hoaFwdnbG9evXMXTo0Jc+f7Vq1ULz5s1x6tQpLFmyRO22Ro0a4fDhw/joo4/Qtm1bCCHg7++PQYMGqeb54osvMHLkSLRt2xZeXl746quvcPbs2Zcul4yDTLy4sZQIBYf4xsTEwM/PDwqFQuo4ZEL4u2dcuLmMiIi0hiVDRERaw5IhIiKtYckQEZHWsGSIiEhrWDJERKQ1LBkiItIalgwREWkNS4aIiLSGJUP0gudHh9S11atXqy6jT2QMeO0yKp+Pq+h4eU9ePs8LEhMTMXPmTOzatQsJCQlwcnJCUFAQZs6cqTY+jD4aNGgQevToIXUMIo1hyZDR6devH3JycrBmzRrUrFkTCQkJOHDgAJKTk7W2zJycHFhaWlb6fqytrVWX9ycyBtxcRkYlNTUVR44cwcKFC9GxY0f4+PigefPmmD59Ol577TUAwN27d9G7d2/Y2dnBwcEBAwcOVLvMf6GVK1fC29sbNjY2GDhwoNoVmkeMGIE+ffpg/vz58PLyUo0FExcXh4EDB8LR0RHOzs7o3bs3YmNjAQB79+6FQqFAamqq2nLeeecdhIaGAlDfXHbjxg3IZDJcu3ZNbf7FixerBgQDgKioKHTv3h12dnZwd3fHsGHDkJSUpLrd19e3yNWTg4ODX3pVZyJNYMmQUSkcAnjHjh2qIYafp1Qq0bt3b6SkpODw4cPYt28fbt++rXZpegC4desWNm3ahF9++QW7d+/G+fPn8dZbb6nNc+DAAVy/fh379u3Dr7/+itzcXISFhcHe3h5HjhzBsWPHYGdnh27duiEnJwedOnWCo6Mjtm7dqrqP/Px8REZGFjuuS+3atdG0aVNs2LBBbfqGDRtUl+hPTU1FaGgoGjdujDNnzmD37t1ISEjAwIEDK/wcEmkSS4aMirm5OVavXo01a9bA0dERrVu3xocffohLly4BKCiGy5cvY+PGjQgJCUGLFi2wdu1aHD58GKdPn1bdT1ZWFtauXYvg4GC0a9cO33zzDX766Sc8fPhQNY+trS1++OEH1K9fH/Xr10dkZCSUSiV++OEHNGzYEHXr1sV///tf3L17F4cOHYKZmRkGDx6MjRs3qu7jwIEDSE1NRb9+/Yp9POHh4fjxxx9V39+4cQNnz55VldLSpUvRuHFjfPLJJwgMDETjxo2xatUqHDx4EDdu3NDoc0tUESwZMjr9+vVDfHw8fv75Z3Tr1g2HDh1CkyZNsHr1aly9ehXe3t5qwxjXq1cPjo6OuHr1qmpajRo1UK1aNdX3LVu2hFKpxPXr11XTGjZsqLYf5uLFi7h16xbs7e1Va1TOzs7IyspCdHQ0gILSOHToEOLj4wEUrJX07NmzxCPKBg8ejNjYWJw8eVI1f5MmTRAYGKha5sGDB1XLs7OzU91WuEwiKXHHPxklhUKBLl26oEuXLpgxYwbGjBmDWbNm4d1339XYMmxtbdW+T09PR0hISJHNW0DBOPcA0KxZM/j7++Onn37CuHHjsH37dqxevbrEZXh4eCA0NBQbN27EK6+8go0bN2LcuHFqy+zVqxcWLlxY5Gc9PT0BAHK5HC+OTZibm1vmx0lUGSwZMgn16tXDjh07ULduXcTFxSEuLk61NnPlyhWkpqaiXr16qvnv3r2L+Ph4eHl5AQBOnjwJuVyu2sFfnCZNmiAyMhJubm5wcHAocb7w8HBs2LAB1atXh1wuR8+ePUvNHh4ejvfffx9DhgzB7du3MXjwYLVlbt26Fb6+vjA3L/7t7OrqigcPHqi+T0tLQ0xMTKnLJNIUbi4jo5KcnIzQ0FCsX78ely5dQkxMDDZv3ozPPvsMvXv3RufOndGwYUOEh4fj3LlzOHXqFIYPH4727dujadOmqvtRKBSIiIjAxYsXceTIEbz99tsYOHAgPDw8Slx2eHg4XFxc0Lt3bxw5cgQxMTE4dOgQ3n77bdy7d09tvnPnzmH+/Pno378/rKysSn1Mffv2xdOnTzFu3Dh07NhRVXwAMH78eKSkpGDIkCE4ffo0oqOjsWfPHowcORL5+fkAgNDQUKxbtw5HjhzB5cuXERERATMzs4o+xUTlwjUZKp8KnBypS3Z2dmjRogUWL16M6Oho5ObmwtvbG2PHjsWHH34ImUyGnTt3YuLEiWjXrh3kcjm6deuGb775Ru1+atWqhb59+6JHjx5ISUnBq6++imXLlpW6bBsbG/z555+YNm2aqhiqVauGTp06qa3Z1KpVC82bN8epU6eKHFpcHHt7e/Tq1QubNm3CqlWr1G7z8vLCsWPHMG3aNHTt2hXZ2dnw8fFBt27dIJcXfIacPn06YmJi8Oqrr6JKlSqYO3cu12RIZ2TixY21RCg4uiomJgZ+fn5QKBRSxyETwt8948LNZUREpDUsGSIi0hqWDBERaQ1LhoiItIYlQ6XicSGka/ydMy4sGSpW4XkUOTk5EichU5OZmQkAsLCwkDgJaQLPk6FimZubw8bGBomJibCwsFCdc0GkLUIIZGZm4tGjR3B0dOQJo0aC58lQiXJychATEwOlUil1FDIhjo6O8PDwgEwmkzoKaQBLhkqlVCq5yYx0xsLCgmswRoYlQ0REWsMN7UREpDUsGSIi0hqWDBERaQ1LhoiItIYlQ0REWsOSISIirWHJEBGR1vw/GolL4oztyf8AAAAASUVORK5CYII=",
      "text/plain": [
       "<Figure size 640x480 with 1 Axes>"
      ]
     },
     "metadata": {},
     "output_type": "display_data"
    }
   ],
   "source": [
    "contagem_passageiros = df['Sobreviveu'].value_counts()\n",
    "contagem_passageiros.plot(kind='pie')\n",
    "\n",
    "plt.title('Proporção de Sobreviventes no Titanic')\n",
    "plt.legend(labels=labels, loc='lower center', bbox_to_anchor=(0.5, -0.10));\n"
=======
      "text/html": [
       "<div>\n",
       "<style scoped>\n",
       "    .dataframe tbody tr th:only-of-type {\n",
       "        vertical-align: middle;\n",
       "    }\n",
       "\n",
       "    .dataframe tbody tr th {\n",
       "        vertical-align: top;\n",
       "    }\n",
       "\n",
       "    .dataframe thead tr th {\n",
       "        text-align: left;\n",
       "    }\n",
       "</style>\n",
       "<table border=\"1\" class=\"dataframe\">\n",
       "  <thead>\n",
       "    <tr>\n",
       "      <th></th>\n",
       "      <th>Classe</th>\n",
       "      <th>Sexo</th>\n",
       "      <th>Sobreviveu</th>\n",
       "    </tr>\n",
       "    <tr>\n",
       "      <th></th>\n",
       "      <th></th>\n",
       "      <th></th>\n",
       "      <th>count</th>\n",
       "    </tr>\n",
       "  </thead>\n",
       "  <tbody>\n",
       "    <tr>\n",
       "      <th>0</th>\n",
       "      <td>1</td>\n",
       "      <td>female</td>\n",
       "      <td>94</td>\n",
       "    </tr>\n",
       "  </tbody>\n",
       "</table>\n",
       "</div>"
      ],
      "text/plain": [
       "  Classe    Sexo Sobreviveu\n",
       "                      count\n",
       "0      1  female         94"
      ]
     },
     "execution_count": 90,
     "metadata": {},
     "output_type": "execute_result"
    }
   ],
   "source": [
    "agg_classe[(agg_classe[(    'Classe',      '')] == 1) & (agg_classe[(    'Sexo',      '')] == 'female')]"
   ]
  },
  {
   "cell_type": "code",
   "execution_count": 88,
   "metadata": {},
   "outputs": [
    {
     "data": {
      "text/plain": [
       "MultiIndex([(    'Classe',      ''),\n",
       "            (      'Sexo',      ''),\n",
       "            ('Sobreviveu', 'count')],\n",
       "           )"
      ]
     },
     "execution_count": 88,
     "metadata": {},
     "output_type": "execute_result"
    }
   ],
   "source": [
    "agg_classe.columns"
   ]
  },
  {
   "cell_type": "code",
   "execution_count": 91,
   "metadata": {},
   "outputs": [
    {
     "data": {
      "text/plain": [
       "Index(['IdPassageiro', 'Sobreviveu', 'Classe', 'Nome', 'Sexo', 'Idade',\n",
       "       'NumeroIrmaos', 'NumeroPais', 'NumeroTicket', 'PrecoTicket',\n",
       "       'NumeroCabine', 'PortoEmbarcacao'],\n",
       "      dtype='object')"
      ]
     },
     "execution_count": 91,
     "metadata": {},
     "output_type": "execute_result"
    }
   ],
   "source": [
    "df[df['PortoEmbarcacao']]"
>>>>>>> d0272b0e971aa8c3e9bbbff7edc83af7e132fef5
   ]
  },
  {
   "cell_type": "markdown",
   "metadata": {
    "id": "kdYYrD87S_nK"
   },
   "source": [
    "## Pandas: Gerando Gráficos\n",
    "\n",
    "### Pandas: Pandas + Numpy (funções básicas do numpy)\n",
    "\n",
    "[Numpy for absolute beginners](https://numpy.org/doc/stable/user/absolute_beginners.html)"
   ]
  },
  {
   "cell_type": "markdown",
   "metadata": {
    "id": "96dXic7LS_nL"
   },
   "source": [
    "#### Biblioteca Numpy\n",
    "\n",
    "A biblioteca Numpy é uma biblioteca de computação científica cuja principal estrutura de dados são os arrays (similares a listas, porém de mais rápido processamento) e que oferece funções para cálculos com matrizes e álgebra linear, sendo uma das bibliotecas mais importantes para cientistas de dados.\n",
    "\n",
    "O foco dessa aula não é o Numpy, mas existem exemplos na parte de Pandas que contam com a biblioteca - apenas apresentar o conceito, mas dizer que assunto será retomado na aula seguinte."
   ]
  },
  {
   "cell_type": "code",
<<<<<<< HEAD
   "execution_count": 2,
=======
   "execution_count": 92,
>>>>>>> d0272b0e971aa8c3e9bbbff7edc83af7e132fef5
   "metadata": {
    "id": "6qrRb5EIS_nL"
   },
   "outputs": [],
   "source": [
    "import pandas as pd\n",
    "import numpy as np"
   ]
  },
  {
   "cell_type": "markdown",
   "metadata": {
    "id": "FCrGZFGoS_nL"
   },
   "source": [
    "Numpy arrays permitem a utilização de diferentes operações,tornando-os uma estrutura de dados útil em manipulação de dados:\n",
    " - Seleção de elementos de array\n",
    " - Slicing de arrays\n",
    " - Divisão de arrays\n",
    " - Reshaping de arrays\n",
    " - Combinação de arrays\n",
    " - Operações Numéricas (min, max, media, etc)\n",
    "\n",
    "Numpy e Pandas são comumente utilizados para análise e manipulação de dados."
   ]
  },
  {
   "cell_type": "code",
<<<<<<< HEAD
   "execution_count": 6,
=======
   "execution_count": 93,
>>>>>>> d0272b0e971aa8c3e9bbbff7edc83af7e132fef5
   "metadata": {
    "id": "suI74yqZS_nL",
    "outputId": "eb87a166-4d92-4068-e5ad-e7ce283ed244"
   },
   "outputs": [
    {
     "name": "stdout",
     "output_type": "stream",
     "text": [
      "[1, 2, 3, 4, 5]\n",
      "[1 2 3 4 5]\n"
     ]
    }
   ],
   "source": [
    "# Conversão de lista (estrutura de dados Python) para um array unidimensional com  uma linha e quatro colunas:\n",
    "lista_1 = [1, 2, 3, 4, 5]\n",
    "array_1 = np.array(lista_1)\n",
    "\n",
    "print(lista_1)\n",
    "print(array_1)"
   ]
  },
  {
   "cell_type": "code",
<<<<<<< HEAD
   "execution_count": 3,
=======
   "execution_count": 98,
>>>>>>> d0272b0e971aa8c3e9bbbff7edc83af7e132fef5
   "metadata": {
    "id": "DxCmoOkhS_nM",
    "outputId": "2c7699a1-519f-4b81-d4e1-836895767375"
   },
   "outputs": [
    {
     "name": "stdout",
     "output_type": "stream",
     "text": [
<<<<<<< HEAD
      "[[1, 2, 3], [4, 5, 6]]\n",
=======
      "Uma lista de listas\n",
      "[[1, 2, 3], [4, 5, 6]]\n",
      "Array bidimensional\n",
>>>>>>> d0272b0e971aa8c3e9bbbff7edc83af7e132fef5
      "[[1 2 3]\n",
      " [4 5 6]]\n"
     ]
    }
   ],
   "source": [
    "# Array bidimensional de uma lista Python (uma lista contendo listas)\n",
    "lista_2 = [[1,2,3],[4,5,6]]\n",
    "array_2 = np.array(lista_2)\n",
    "\n",
    "print('Uma lista de listas')\n",
    "print(lista_2)\n",
    "print('Array bidimensional')\n",
    "print(array_2)"
   ]
  },
  {
   "cell_type": "code",
<<<<<<< HEAD
   "execution_count": 4,
   "metadata": {
    "id": "KZ-JzM6US_nM",
    "outputId": "9c7580bf-627b-4926-ed86-8441bb436861"
   },
   "outputs": [
    {
     "name": "stdout",
     "output_type": "stream",
     "text": [
      "[10 20 30 40 50]\n"
     ]
=======
   "execution_count": 121,
   "metadata": {},
   "outputs": [
    {
     "data": {
      "text/plain": [
       "[1, 2, 3]"
      ]
     },
     "execution_count": 121,
     "metadata": {},
     "output_type": "execute_result"
>>>>>>> d0272b0e971aa8c3e9bbbff7edc83af7e132fef5
    }
   ],
   "source": [
    "lista_2[0]"
   ]
  },
  {
   "cell_type": "code",
<<<<<<< HEAD
   "execution_count": 8,
=======
   "execution_count": 122,
   "metadata": {},
   "outputs": [
    {
     "data": {
      "text/plain": [
       "array([1, 2, 3])"
      ]
     },
     "execution_count": 122,
     "metadata": {},
     "output_type": "execute_result"
    }
   ],
   "source": [
    "array_2[0]"
   ]
  },
  {
   "cell_type": "code",
   "execution_count": 99,
   "metadata": {
    "id": "KZ-JzM6US_nM",
    "outputId": "9c7580bf-627b-4926-ed86-8441bb436861"
   },
   "outputs": [
    {
     "data": {
      "text/plain": [
       "array([10, 20, 30, 40, 50])"
      ]
     },
     "execution_count": 99,
     "metadata": {},
     "output_type": "execute_result"
    }
   ],
   "source": [
    "# operações matemáticas podem ser realizadas em todos os valores de um array Numpy de uma vez (impossível em listas python sem loops)\n",
    "\n",
    "# loja com preços\n",
    "array_precos = np.array([12, 22, 32, 42, 52])\n",
    "\n",
    "# queremos entrar em liquidação diminuindo 2 reais no preço de cada item\n",
    "array_promocional = array_precos - 2\n",
    "array_promocional\n"
   ]
  },
  {
   "cell_type": "code",
   "execution_count": 100,
>>>>>>> d0272b0e971aa8c3e9bbbff7edc83af7e132fef5
   "metadata": {
    "id": "SWy82LKAS_nM",
    "outputId": "ee7e4c2e-5553-405f-cbdf-878534650298"
   },
   "outputs": [
    {
     "ename": "TypeError",
     "evalue": "unsupported operand type(s) for -: 'list' and 'int'",
     "output_type": "error",
     "traceback": [
      "\u001b[1;31m---------------------------------------------------------------------------\u001b[0m",
      "\u001b[1;31mTypeError\u001b[0m                                 Traceback (most recent call last)",
<<<<<<< HEAD
      "\u001b[1;32mc:\\Users\\Djleo\\OneDrive\\Área de Trabalho\\aline_reprograma_python\\S12\\on26-python-s12-pandas-numpy-II\\material\\aula_s12.ipynb Cell 67\u001b[0m line \u001b[0;36m4\n\u001b[0;32m      <a href='vscode-notebook-cell:/c%3A/Users/Djleo/OneDrive/%C3%81rea%20de%20Trabalho/aline_reprograma_python/S12/on26-python-s12-pandas-numpy-II/material/aula_s12.ipynb#Y123sZmlsZQ%3D%3D?line=0'>1</a>\u001b[0m \u001b[39m# se fosse uma lista Python, seria impossível pois retornaria um TypeError\u001b[39;00m\n\u001b[0;32m      <a href='vscode-notebook-cell:/c%3A/Users/Djleo/OneDrive/%C3%81rea%20de%20Trabalho/aline_reprograma_python/S12/on26-python-s12-pandas-numpy-II/material/aula_s12.ipynb#Y123sZmlsZQ%3D%3D?line=1'>2</a>\u001b[0m lista_precos \u001b[39m=\u001b[39m [\u001b[39m12\u001b[39m,\u001b[39m22\u001b[39m,\u001b[39m32\u001b[39m,\u001b[39m42\u001b[39m,\u001b[39m52\u001b[39m]\n\u001b[1;32m----> <a href='vscode-notebook-cell:/c%3A/Users/Djleo/OneDrive/%C3%81rea%20de%20Trabalho/aline_reprograma_python/S12/on26-python-s12-pandas-numpy-II/material/aula_s12.ipynb#Y123sZmlsZQ%3D%3D?line=3'>4</a>\u001b[0m lista_promocial \u001b[39m=\u001b[39m lista_precos \u001b[39m-\u001b[39;49m \u001b[39m2\u001b[39;49m\n",
=======
      "\u001b[1;32mc:\\Users\\Debora\\Documents\\GitHub\\on26-python-s12-pandas-numpy-II\\material\\aula_s12.ipynb Cell 70\u001b[0m line \u001b[0;36m3\n\u001b[0;32m      <a href='vscode-notebook-cell:/c%3A/Users/Debora/Documents/GitHub/on26-python-s12-pandas-numpy-II/material/aula_s12.ipynb#Y106sZmlsZQ%3D%3D?line=0'>1</a>\u001b[0m \u001b[39m# se fosse uma lista Python, seria impossível pois retornaria um TypeError\u001b[39;00m\n\u001b[0;32m      <a href='vscode-notebook-cell:/c%3A/Users/Debora/Documents/GitHub/on26-python-s12-pandas-numpy-II/material/aula_s12.ipynb#Y106sZmlsZQ%3D%3D?line=1'>2</a>\u001b[0m lista_precos \u001b[39m=\u001b[39m [\u001b[39m12\u001b[39m,\u001b[39m22\u001b[39m,\u001b[39m32\u001b[39m,\u001b[39m42\u001b[39m,\u001b[39m52\u001b[39m]\n\u001b[1;32m----> <a href='vscode-notebook-cell:/c%3A/Users/Debora/Documents/GitHub/on26-python-s12-pandas-numpy-II/material/aula_s12.ipynb#Y106sZmlsZQ%3D%3D?line=2'>3</a>\u001b[0m lista_promocial \u001b[39m=\u001b[39m lista_precos \u001b[39m-\u001b[39;49m \u001b[39m2\u001b[39;49m\n",
>>>>>>> d0272b0e971aa8c3e9bbbff7edc83af7e132fef5
      "\u001b[1;31mTypeError\u001b[0m: unsupported operand type(s) for -: 'list' and 'int'"
     ]
    }
   ],
   "source": [
    "# se fosse uma lista Python, seria impossível pois retornaria um TypeError\n",
    "lista_precos = [12,22,32,42,52]\n",
    "lista_promocial = lista_precos - 2"
   ]
  },
  {
   "cell_type": "markdown",
   "metadata": {
    "id": "v6P70zdwS_nM"
   },
   "source": [
    "Séries são similares aos arrays NumPy, mas possuem mais funcionalidades que permitem que seus valores possam ser indexados e rotulados. Esses rótulos são úteis quando estamos utilizando porções de dados que possuem outros dados associados a eles.\n"
   ]
  },
  {
   "cell_type": "code",
<<<<<<< HEAD
   "execution_count": 9,
=======
   "execution_count": 101,
>>>>>>> d0272b0e971aa8c3e9bbbff7edc83af7e132fef5
   "metadata": {
    "id": "LljyqgRgS_nM",
    "outputId": "17c514e4-0fa0-4d36-c6f8-46293589ce4b"
   },
   "outputs": [
    {
     "data": {
      "text/plain": [
<<<<<<< HEAD
       "0    100\n",
       "1    200\n",
       "2    300\n",
       "dtype: int32"
      ]
     },
     "execution_count": 9,
=======
       "array([100, 200, 300])"
      ]
     },
     "execution_count": 101,
>>>>>>> d0272b0e971aa8c3e9bbbff7edc83af7e132fef5
     "metadata": {},
     "output_type": "execute_result"
    }
   ],
   "source": [
    "# Criando Séries em Pandas usando um array numpy:\n",
    "precos = np.array([100,200,300])\n",
    "precos"
   ]
  },
  {
   "cell_type": "code",
   "execution_count": 102,
   "metadata": {},
   "outputs": [
    {
     "data": {
      "text/plain": [
       "0    100\n",
       "1    200\n",
       "2    300\n",
       "dtype: int32"
      ]
     },
     "execution_count": 102,
     "metadata": {},
     "output_type": "execute_result"
    }
   ],
   "source": [
    "serie_precos = pd.Series(precos)\n",
    "serie_precos"
   ]
  },
  {
   "cell_type": "code",
<<<<<<< HEAD
   "execution_count": 10,
=======
   "execution_count": 103,
>>>>>>> d0272b0e971aa8c3e9bbbff7edc83af7e132fef5
   "metadata": {
    "id": "4m4a1TDIS_nN",
    "outputId": "d60ac614-bd45-430f-d375-bafdf4252478"
   },
   "outputs": [
    {
     "data": {
      "text/plain": [
       "Bala         100\n",
       "Chocolate    200\n",
       "Bolo         300\n",
       "dtype: int32"
      ]
     },
<<<<<<< HEAD
     "execution_count": 10,
=======
     "execution_count": 103,
>>>>>>> d0272b0e971aa8c3e9bbbff7edc83af7e132fef5
     "metadata": {},
     "output_type": "execute_result"
    }
   ],
   "source": [
    "# criando série e customizando índices da série\n",
    "serie_precos_produtos = pd.Series(precos, index=['Bala', 'Chocolate', 'Bolo'])\n",
    "serie_precos_produtos"
   ]
  },
  {
   "cell_type": "code",
<<<<<<< HEAD
   "execution_count": 11,
=======
   "execution_count": 104,
>>>>>>> d0272b0e971aa8c3e9bbbff7edc83af7e132fef5
   "metadata": {
    "id": "ZxBABq3pS_nN",
    "outputId": "d11786b2-ac75-43da-9ce9-5e3c8d3869d4"
   },
   "outputs": [
    {
     "data": {
      "text/html": [
       "<div>\n",
       "<style scoped>\n",
       "    .dataframe tbody tr th:only-of-type {\n",
       "        vertical-align: middle;\n",
       "    }\n",
       "\n",
       "    .dataframe tbody tr th {\n",
       "        vertical-align: top;\n",
       "    }\n",
       "\n",
       "    .dataframe thead th {\n",
       "        text-align: right;\n",
       "    }\n",
       "</style>\n",
       "<table border=\"1\" class=\"dataframe\">\n",
       "  <thead>\n",
       "    <tr style=\"text-align: right;\">\n",
       "      <th></th>\n",
       "      <th>A</th>\n",
       "      <th>B</th>\n",
       "      <th>C</th>\n",
       "    </tr>\n",
       "  </thead>\n",
       "  <tbody>\n",
       "    <tr>\n",
       "      <th>0</th>\n",
       "      <td>1</td>\n",
       "      <td>2</td>\n",
       "      <td>3</td>\n",
       "    </tr>\n",
       "    <tr>\n",
       "      <th>1</th>\n",
       "      <td>4</td>\n",
       "      <td>5</td>\n",
       "      <td>6</td>\n",
       "    </tr>\n",
       "  </tbody>\n",
       "</table>\n",
       "</div>"
      ],
      "text/plain": [
       "   A  B  C\n",
       "0  1  2  3\n",
       "1  4  5  6"
      ]
     },
<<<<<<< HEAD
     "execution_count": 11,
=======
     "execution_count": 104,
>>>>>>> d0272b0e971aa8c3e9bbbff7edc83af7e132fef5
     "metadata": {},
     "output_type": "execute_result"
    }
   ],
   "source": [
    "# Criando DataFrames Pandas com arrays Numpy:\n",
    "lista_2 = [[1,2,3],[4,5,6]]\n",
    "array_2 = np.array(lista_2)\n",
    "df = pd.DataFrame(array_2, columns=['A', 'B', 'C'])\n",
    "df"
   ]
  },
  {
   "cell_type": "code",
<<<<<<< HEAD
   "execution_count": 12,
=======
   "execution_count": 106,
   "metadata": {},
   "outputs": [
    {
     "data": {
      "text/html": [
       "<div>\n",
       "<style scoped>\n",
       "    .dataframe tbody tr th:only-of-type {\n",
       "        vertical-align: middle;\n",
       "    }\n",
       "\n",
       "    .dataframe tbody tr th {\n",
       "        vertical-align: top;\n",
       "    }\n",
       "\n",
       "    .dataframe thead th {\n",
       "        text-align: right;\n",
       "    }\n",
       "</style>\n",
       "<table border=\"1\" class=\"dataframe\">\n",
       "  <thead>\n",
       "    <tr style=\"text-align: right;\">\n",
       "      <th></th>\n",
       "      <th>A</th>\n",
       "      <th>B</th>\n",
       "      <th>C</th>\n",
       "      <th>D</th>\n",
       "    </tr>\n",
       "  </thead>\n",
       "  <tbody>\n",
       "    <tr>\n",
       "      <th>0</th>\n",
       "      <td>1</td>\n",
       "      <td>2</td>\n",
       "      <td>3</td>\n",
       "      <td>1</td>\n",
       "    </tr>\n",
       "    <tr>\n",
       "      <th>1</th>\n",
       "      <td>4</td>\n",
       "      <td>5</td>\n",
       "      <td>6</td>\n",
       "      <td>5</td>\n",
       "    </tr>\n",
       "  </tbody>\n",
       "</table>\n",
       "</div>"
      ],
      "text/plain": [
       "   A  B  C  D\n",
       "0  1  2  3  1\n",
       "1  4  5  6  5"
      ]
     },
     "execution_count": 106,
     "metadata": {},
     "output_type": "execute_result"
    }
   ],
   "source": [
    "df['D'] = [1,5]\n",
    "df"
   ]
  },
  {
   "cell_type": "code",
   "execution_count": 107,
>>>>>>> d0272b0e971aa8c3e9bbbff7edc83af7e132fef5
   "metadata": {
    "id": "LHfl6fALS_nN",
    "outputId": "5805c47a-4db3-4a7f-8790-dad45dc7ff76"
   },
   "outputs": [
    {
     "data": {
      "text/plain": [
       "0     1\n",
       "1     4\n",
       "2     9\n",
       "3    16\n",
       "4    25\n",
       "dtype: int32"
      ]
     },
<<<<<<< HEAD
     "execution_count": 12,
=======
     "execution_count": 107,
>>>>>>> d0272b0e971aa8c3e9bbbff7edc83af7e132fef5
     "metadata": {},
     "output_type": "execute_result"
    }
   ],
   "source": [
    "# Operações matemáticas podem ser realizadas em séries e Dataframes Pandas usando funções do numpy\n",
    "\n",
    "# criando um array (numpay)\n",
    "lista_1 = [1, 2, 3, 4, 5]\n",
    "array_1 = np.array(lista_1)\n",
    "\n",
    "# criando uma series (pandas)\n",
    "serie_precos = pd.Series(array_1)\n",
    "\n",
    "# calculo matematico\n",
    "serie_precos_ao_quadrado = np.square(serie_precos)\n",
    "serie_precos_ao_quadrado"
   ]
  },
  {
   "cell_type": "markdown",
   "metadata": {},
   "source": [
    "### Exercício 06\n",
    "\n",
    "- Gerar arrays de números aleatórios de com tamanho de 5, 50 e 500 elementos\n",
    "- Criar um DF Pandas a partir de um array numpy criado de uma lista Python\n",
    "- Utilize métodos do Numpy e séries de Pandas para dobrar os números da lista"
   ]
  },
  {
   "cell_type": "code",
   "execution_count": 119,
   "metadata": {},
   "outputs": [
    {
     "data": {
      "text/plain": [
       "array([10, 23, 13, 32, 25, 11, 20, 49, 26,  6, 40, 14, 42, 17, 11,  6, 43,\n",
       "       15, 19, 12, 29, 47,  5, 12, 42, 47, 40, 15,  7, 22,  8, 41, 35, 25,\n",
       "       14,  5, 31, 13, 42, 49, 49, 47, 41, 37,  5, 22, 34, 21, 14, 10, 13,\n",
       "       10, 37, 27, 24, 31, 34, 31, 23, 32, 23, 47, 22, 30, 14, 40, 31, 42,\n",
       "       35, 21, 40, 42, 36, 37, 11,  8, 14, 46, 11, 28, 39, 35, 29,  5, 46,\n",
       "       18, 24, 17, 29, 48, 35, 14, 38, 30, 11, 10, 47, 48, 38,  5, 37,  5,\n",
       "       26, 10, 10, 29,  6, 49, 15, 48, 13, 30, 24, 19, 15, 40, 43,  5, 35,\n",
       "       46, 45, 44, 28,  7, 13, 44,  5, 47, 14, 13, 17, 43, 33, 46, 32, 16,\n",
       "       39, 46, 23, 38, 21, 46, 18, 31,  7, 43,  8, 31, 11, 18, 37, 40, 48,\n",
       "       41, 13,  6, 33, 13, 11,  6, 15, 23, 30, 16, 31, 34, 16,  6, 14,  5,\n",
       "       34, 27, 34, 45, 45,  6, 28, 15,  8, 27, 25, 22, 46, 32, 23, 49, 45,\n",
       "       35, 30, 34, 45, 27, 27,  7, 16, 18,  7, 34, 47, 45, 30, 30, 46, 47,\n",
       "       29, 29, 45, 16, 47, 22, 35,  9, 31, 49, 36,  9,  8, 21, 37, 47, 49,\n",
       "       48, 38, 11, 11, 12, 11, 25, 31, 47, 13, 41, 33, 14,  6, 41, 24, 15,\n",
       "       44, 33, 37, 28, 43, 33, 45,  9, 33, 29, 33, 40, 21, 33, 15, 47, 41,\n",
       "       47, 22, 46, 27, 12, 10, 43, 40, 39, 19, 30, 17, 49, 44, 26,  8, 44,\n",
       "       27, 42, 37, 48, 13, 12, 36, 15, 41,  6, 40, 19, 17, 14, 27, 39, 24,\n",
       "       17, 29, 14, 24, 27, 21, 12, 44, 12, 39, 18,  7, 34, 20, 17, 19, 27,\n",
       "       31, 19, 18, 13, 47, 38, 47, 14, 39, 26, 30,  6, 18, 37, 44, 42, 21,\n",
       "       20,  6, 48,  6, 29,  7, 35, 47, 17, 22, 42, 32, 24, 48, 22, 28, 27,\n",
       "       34, 21, 48,  7, 39, 26,  8, 43,  7, 19, 22, 49, 29,  6, 22, 30, 32,\n",
       "       49, 35,  9, 40, 21, 18, 21, 33,  6, 14, 47,  6, 10, 46, 10, 24, 24,\n",
       "       27, 18, 40, 34, 28, 45, 16, 38, 38, 45, 23, 37, 25, 46, 25, 37, 22,\n",
       "       38, 30, 18, 44, 11, 39, 32, 26, 12,  7,  8,  7, 18, 23, 41, 37, 39,\n",
       "       40, 45, 38, 43, 48, 19, 13, 25, 11, 37,  9, 11, 42, 18, 49, 24, 40,\n",
       "       40, 17,  7, 31, 21, 37, 18, 15, 35, 49, 19, 41, 13, 42,  8, 30, 10,\n",
       "       35, 12, 25, 40, 16, 42, 40, 42, 15, 25, 33, 30, 40, 30, 20, 22,  7,\n",
       "       16,  8, 34,  8, 38,  8, 31,  9, 28, 23, 36,  8, 13, 38, 31, 29, 18,\n",
       "       42, 45, 34, 41, 37, 28, 24, 36, 45, 49, 45, 23, 14, 25, 30, 27, 44,\n",
       "       45, 19, 18, 24, 35, 34, 42])"
      ]
     },
     "execution_count": 119,
     "metadata": {},
     "output_type": "execute_result"
    }
   ],
   "source": [
    "np.random.randint(5, 50, 500)"
   ]
  },
  {
   "cell_type": "markdown",
   "metadata": {},
   "source": [
    "# Links Bibliotecas:\n",
    "\n",
    "https://pandas.pydata.org/\n",
    "\n",
    "https://numpy.org/pt/\n",
    "\n",
    "https://matplotlib.org/"
   ]
  },
  {
   "cell_type": "code",
   "execution_count": 17,
   "metadata": {},
   "outputs": [
    {
     "data": {
      "text/plain": [
       "array([39, 47, 22, 28, 28, 15,  5,  5, 43, 28, 48, 32, 44, 12, 22, 18, 42,\n",
       "       33,  8, 34, 28, 34, 13, 10, 37, 49, 26, 16, 44, 25, 30, 25, 18, 10,\n",
       "       33,  9, 13, 15, 41, 16, 32, 31, 14, 20, 28, 18, 35, 15, 33, 47, 27,\n",
       "        5,  6, 15,  7, 44, 10, 34, 19, 21, 21, 39, 31, 40, 35, 47, 46, 20,\n",
       "       17, 40, 44, 43, 24, 20, 23, 27, 14, 48,  8, 10, 37, 46, 17, 12,  9,\n",
       "       41, 17, 31, 18, 25, 25, 41, 49, 12, 45, 24, 26,  5, 36, 17, 49, 22,\n",
       "       37, 34, 23,  6, 29, 37, 38, 38, 34, 27, 28, 45, 21, 35, 46, 20, 34,\n",
       "        7, 34, 21, 27, 37,  8, 11, 28, 34, 16, 12, 24, 32, 13, 14, 18, 30,\n",
       "       37, 13, 23, 40, 11, 24, 23, 27, 29, 43,  7, 18, 39, 16, 41, 23, 49,\n",
       "        5, 41, 23, 47, 37, 47,  6, 25, 16,  8, 42, 29, 34, 13, 39,  7, 39,\n",
       "       28, 18,  6, 30, 22, 34, 25, 49, 42, 35,  5, 12,  6, 25, 21, 47, 30,\n",
       "       39, 29, 38, 21, 10, 23, 44,  7, 20, 49, 17, 21, 23, 36, 19,  6, 35,\n",
       "       44, 23, 38,  8, 45, 27, 39, 33, 28, 34, 24, 20, 47, 47, 48, 39, 49,\n",
       "       34,  5, 15, 11,  9, 15, 39, 44, 43, 27,  6, 38, 15, 20, 22, 20, 31,\n",
       "       45, 41,  6, 32, 43, 24, 36, 15, 27, 29, 43, 10, 49, 16, 14, 26, 45,\n",
       "       36, 45, 43, 39, 46, 47, 32, 41, 28,  5, 45, 19, 36, 15, 22, 49, 20,\n",
       "       46, 17, 46, 47,  9, 22, 34, 32, 45, 23, 31, 41, 42, 42, 17, 35, 16,\n",
       "       37, 39,  7, 10, 20, 40, 36,  9, 40, 47, 47, 32, 47, 34,  8, 47, 18,\n",
       "       29, 17, 10, 37,  9, 11, 28, 24, 28, 45, 12,  9,  5, 32, 14,  6, 20,\n",
       "       25, 42, 45, 47, 40, 47, 17, 15, 15, 36,  5, 18, 39, 45,  7, 30, 42,\n",
       "        5, 20, 21, 33, 38, 32, 12,  7,  9, 11,  6, 39, 46,  5, 45, 22, 24,\n",
       "        6,  8, 24, 16, 30, 27, 19, 41, 33,  8, 33, 36, 38, 21, 45, 35, 29,\n",
       "        8, 37,  5, 48, 29, 47,  8, 24, 22, 49, 24,  8,  7, 16, 48, 12, 48,\n",
       "       46, 11,  7, 21, 19, 22, 39, 40, 48, 35, 22,  5, 32, 38, 31,  5, 17,\n",
       "       30, 23, 12, 31, 45, 19, 18, 48, 40, 24, 30, 34, 31, 39, 23, 43, 27,\n",
       "       14, 19, 12, 13, 29, 28, 29, 44, 36, 22, 24, 26, 22, 41, 40, 35, 19,\n",
       "       49, 31, 39,  6, 37, 42, 27, 14, 37, 21, 26, 47, 12, 37, 30, 23, 44,\n",
       "        5, 27, 15, 20, 29, 16, 44, 45, 25, 17, 34, 24, 15, 33, 34, 28, 47,\n",
       "       44, 49, 45, 14, 37, 49, 44, 29, 32, 34, 20, 31, 18, 37, 29, 44, 44,\n",
       "       29,  6,  8, 35, 30, 34, 29])"
      ]
     },
     "execution_count": 17,
     "metadata": {},
     "output_type": "execute_result"
    }
   ],
   "source": [
    "np.random.randint(5, 50, 500)\n"
   ]
  },
  {
   "cell_type": "code",
   "execution_count": null,
   "metadata": {},
   "outputs": [],
   "source": []
  }
 ],
 "metadata": {
  "colab": {
   "provenance": []
  },
  "kernelspec": {
   "display_name": "Python 3 (ipykernel)",
   "language": "python",
   "name": "python3"
  },
  "language_info": {
   "codemirror_mode": {
    "name": "ipython",
    "version": 3
   },
   "file_extension": ".py",
   "mimetype": "text/x-python",
   "name": "python",
   "nbconvert_exporter": "python",
   "pygments_lexer": "ipython3",
   "version": "3.10.11"
  }
 },
 "nbformat": 4,
 "nbformat_minor": 4
}
